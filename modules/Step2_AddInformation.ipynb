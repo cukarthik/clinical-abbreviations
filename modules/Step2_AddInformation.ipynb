{
 "cells": [
  {
   "cell_type": "markdown",
   "metadata": {
    "colab_type": "text",
    "id": "BYPGoc7Tlwzm"
   },
   "source": [
    "# Step 2: Add Information"
   ]
  },
  {
   "cell_type": "markdown",
   "metadata": {
    "colab_type": "text",
    "id": "P6lbb23ll0Wo"
   },
   "source": [
    "## Setup"
   ]
  },
  {
   "cell_type": "code",
   "execution_count": 1,
   "metadata": {
    "colab": {},
    "colab_type": "code",
    "id": "K8tdxx-wlvdq"
   },
   "outputs": [],
   "source": [
    "import pandas as pd\n",
    "from master_functions import *\n",
    "import os"
   ]
  },
  {
   "cell_type": "markdown",
   "metadata": {
    "colab_type": "text",
    "id": "zf0QkPjxmVIt"
   },
   "source": [
    "#### Load Preprocessed Dataset"
   ]
  },
  {
   "cell_type": "code",
   "execution_count": 2,
   "metadata": {
    "colab": {},
    "colab_type": "code",
    "id": "TEVfLZQ9mXqX"
   },
   "outputs": [],
   "source": [
    "df = pd.read_csv('https://raw.githubusercontent.com/lisavirginia/clinical-abbreviations/master/modules/Step1Output_Clinical_Abbreviation_Acronym_Crosswalk.csv',\n",
    "                 sep='|',\n",
    "                 header=0,\n",
    "                 index_col=False,\n",
    "                 na_filter=False,\n",
    "                 dtype=object)"
   ]
  },
  {
   "cell_type": "code",
   "execution_count": 3,
   "metadata": {
    "colab": {
     "base_uri": "https://localhost:8080/",
     "height": 136
    },
    "colab_type": "code",
    "id": "6hl3PW8v_7V5",
    "outputId": "f9e6fcb2-3a99-4509-ebb0-290999e1fd26"
   },
   "outputs": [
    {
     "data": {
      "text/html": [
       "<div>\n",
       "<style scoped>\n",
       "    .dataframe tbody tr th:only-of-type {\n",
       "        vertical-align: middle;\n",
       "    }\n",
       "\n",
       "    .dataframe tbody tr th {\n",
       "        vertical-align: top;\n",
       "    }\n",
       "\n",
       "    .dataframe thead th {\n",
       "        text-align: right;\n",
       "    }\n",
       "</style>\n",
       "<table border=\"1\" class=\"dataframe\">\n",
       "  <thead>\n",
       "    <tr style=\"text-align: right;\">\n",
       "      <th></th>\n",
       "      <th>GroupID</th>\n",
       "      <th>EntryID</th>\n",
       "      <th>SF</th>\n",
       "      <th>SFUI</th>\n",
       "      <th>NormSF</th>\n",
       "      <th>PrefSF</th>\n",
       "      <th>LF</th>\n",
       "      <th>LFUI</th>\n",
       "      <th>NormLF</th>\n",
       "      <th>PrefLF</th>\n",
       "      <th>Source</th>\n",
       "      <th>SFEUI</th>\n",
       "      <th>LFEUI</th>\n",
       "      <th>Type</th>\n",
       "      <th>Score</th>\n",
       "      <th>Count</th>\n",
       "      <th>Frequency</th>\n",
       "      <th>UMLS.CUI</th>\n",
       "    </tr>\n",
       "  </thead>\n",
       "  <tbody>\n",
       "    <tr>\n",
       "      <th>33582</th>\n",
       "      <td></td>\n",
       "      <td></td>\n",
       "      <td>α-GPDH</td>\n",
       "      <td></td>\n",
       "      <td></td>\n",
       "      <td></td>\n",
       "      <td>alpha-glycerophosphate dehydrogenase</td>\n",
       "      <td></td>\n",
       "      <td></td>\n",
       "      <td></td>\n",
       "      <td>UMLS</td>\n",
       "      <td>E0412935</td>\n",
       "      <td>E0769306</td>\n",
       "      <td>acronym</td>\n",
       "      <td></td>\n",
       "      <td></td>\n",
       "      <td></td>\n",
       "      <td></td>\n",
       "    </tr>\n",
       "    <tr>\n",
       "      <th>70982</th>\n",
       "      <td></td>\n",
       "      <td></td>\n",
       "      <td>PRPPs</td>\n",
       "      <td></td>\n",
       "      <td></td>\n",
       "      <td></td>\n",
       "      <td>phosphoribosyl pyrophosphate synthetase</td>\n",
       "      <td></td>\n",
       "      <td></td>\n",
       "      <td></td>\n",
       "      <td>UMLS</td>\n",
       "      <td>E0571504</td>\n",
       "      <td>E0047486</td>\n",
       "      <td>acronym</td>\n",
       "      <td></td>\n",
       "      <td></td>\n",
       "      <td></td>\n",
       "      <td></td>\n",
       "    </tr>\n",
       "    <tr>\n",
       "      <th>192802</th>\n",
       "      <td></td>\n",
       "      <td></td>\n",
       "      <td>IPH</td>\n",
       "      <td></td>\n",
       "      <td></td>\n",
       "      <td></td>\n",
       "      <td>intra-peritoneal haemorrhage</td>\n",
       "      <td></td>\n",
       "      <td></td>\n",
       "      <td></td>\n",
       "      <td>UMLS</td>\n",
       "      <td>E0703883</td>\n",
       "      <td>E0703882</td>\n",
       "      <td>acronym</td>\n",
       "      <td></td>\n",
       "      <td></td>\n",
       "      <td></td>\n",
       "      <td></td>\n",
       "    </tr>\n",
       "  </tbody>\n",
       "</table>\n",
       "</div>"
      ],
      "text/plain": [
       "       GroupID EntryID      SF SFUI NormSF PrefSF  \\\n",
       "33582                   α-GPDH                      \n",
       "70982                    PRPPs                      \n",
       "192802                     IPH                      \n",
       "\n",
       "                                             LF LFUI NormLF PrefLF Source  \\\n",
       "33582      alpha-glycerophosphate dehydrogenase                      UMLS   \n",
       "70982   phosphoribosyl pyrophosphate synthetase                      UMLS   \n",
       "192802             intra-peritoneal haemorrhage                      UMLS   \n",
       "\n",
       "           SFEUI     LFEUI     Type Score Count Frequency UMLS.CUI  \n",
       "33582   E0412935  E0769306  acronym                                 \n",
       "70982   E0571504  E0047486  acronym                                 \n",
       "192802  E0703883  E0703882  acronym                                 "
      ]
     },
     "execution_count": 3,
     "metadata": {},
     "output_type": "execute_result"
    }
   ],
   "source": [
    "df.sample(3, random_state=0)"
   ]
  },
  {
   "cell_type": "markdown",
   "metadata": {},
   "source": [
    "## Add Entry Identifier"
   ]
  },
  {
   "cell_type": "markdown",
   "metadata": {},
   "source": [
    "#### Assign Entry Identifier"
   ]
  },
  {
   "cell_type": "code",
   "execution_count": 4,
   "metadata": {},
   "outputs": [],
   "source": [
    "assignment = 1\n",
    "for index, row in df.iterrows():\n",
    "    df['EntryID'].iat[index] = assignment\n",
    "    assignment += 1"
   ]
  },
  {
   "cell_type": "markdown",
   "metadata": {},
   "source": [
    "#### Format Entry Identifier"
   ]
  },
  {
   "cell_type": "code",
   "execution_count": 5,
   "metadata": {},
   "outputs": [
    {
     "data": {
      "text/html": [
       "<div>\n",
       "<style scoped>\n",
       "    .dataframe tbody tr th:only-of-type {\n",
       "        vertical-align: middle;\n",
       "    }\n",
       "\n",
       "    .dataframe tbody tr th {\n",
       "        vertical-align: top;\n",
       "    }\n",
       "\n",
       "    .dataframe thead th {\n",
       "        text-align: right;\n",
       "    }\n",
       "</style>\n",
       "<table border=\"1\" class=\"dataframe\">\n",
       "  <thead>\n",
       "    <tr style=\"text-align: right;\">\n",
       "      <th></th>\n",
       "      <th>GroupID</th>\n",
       "      <th>EntryID</th>\n",
       "      <th>SF</th>\n",
       "      <th>SFUI</th>\n",
       "      <th>NormSF</th>\n",
       "      <th>PrefSF</th>\n",
       "      <th>LF</th>\n",
       "      <th>LFUI</th>\n",
       "      <th>NormLF</th>\n",
       "      <th>PrefLF</th>\n",
       "      <th>Source</th>\n",
       "      <th>SFEUI</th>\n",
       "      <th>LFEUI</th>\n",
       "      <th>Type</th>\n",
       "      <th>Score</th>\n",
       "      <th>Count</th>\n",
       "      <th>Frequency</th>\n",
       "      <th>UMLS.CUI</th>\n",
       "    </tr>\n",
       "  </thead>\n",
       "  <tbody>\n",
       "    <tr>\n",
       "      <th>33582</th>\n",
       "      <td></td>\n",
       "      <td>E033583</td>\n",
       "      <td>α-GPDH</td>\n",
       "      <td></td>\n",
       "      <td></td>\n",
       "      <td></td>\n",
       "      <td>alpha-glycerophosphate dehydrogenase</td>\n",
       "      <td></td>\n",
       "      <td></td>\n",
       "      <td></td>\n",
       "      <td>UMLS</td>\n",
       "      <td>E0412935</td>\n",
       "      <td>E0769306</td>\n",
       "      <td>acronym</td>\n",
       "      <td></td>\n",
       "      <td></td>\n",
       "      <td></td>\n",
       "      <td></td>\n",
       "    </tr>\n",
       "    <tr>\n",
       "      <th>70982</th>\n",
       "      <td></td>\n",
       "      <td>E070983</td>\n",
       "      <td>PRPPs</td>\n",
       "      <td></td>\n",
       "      <td></td>\n",
       "      <td></td>\n",
       "      <td>phosphoribosyl pyrophosphate synthetase</td>\n",
       "      <td></td>\n",
       "      <td></td>\n",
       "      <td></td>\n",
       "      <td>UMLS</td>\n",
       "      <td>E0571504</td>\n",
       "      <td>E0047486</td>\n",
       "      <td>acronym</td>\n",
       "      <td></td>\n",
       "      <td></td>\n",
       "      <td></td>\n",
       "      <td></td>\n",
       "    </tr>\n",
       "    <tr>\n",
       "      <th>192802</th>\n",
       "      <td></td>\n",
       "      <td>E192803</td>\n",
       "      <td>IPH</td>\n",
       "      <td></td>\n",
       "      <td></td>\n",
       "      <td></td>\n",
       "      <td>intra-peritoneal haemorrhage</td>\n",
       "      <td></td>\n",
       "      <td></td>\n",
       "      <td></td>\n",
       "      <td>UMLS</td>\n",
       "      <td>E0703883</td>\n",
       "      <td>E0703882</td>\n",
       "      <td>acronym</td>\n",
       "      <td></td>\n",
       "      <td></td>\n",
       "      <td></td>\n",
       "      <td></td>\n",
       "    </tr>\n",
       "  </tbody>\n",
       "</table>\n",
       "</div>"
      ],
      "text/plain": [
       "       GroupID  EntryID      SF SFUI NormSF PrefSF  \\\n",
       "33582           E033583  α-GPDH                      \n",
       "70982           E070983   PRPPs                      \n",
       "192802          E192803     IPH                      \n",
       "\n",
       "                                             LF LFUI NormLF PrefLF Source  \\\n",
       "33582      alpha-glycerophosphate dehydrogenase                      UMLS   \n",
       "70982   phosphoribosyl pyrophosphate synthetase                      UMLS   \n",
       "192802             intra-peritoneal haemorrhage                      UMLS   \n",
       "\n",
       "           SFEUI     LFEUI     Type Score Count Frequency UMLS.CUI  \n",
       "33582   E0412935  E0769306  acronym                                 \n",
       "70982   E0571504  E0047486  acronym                                 \n",
       "192802  E0703883  E0703882  acronym                                 "
      ]
     },
     "execution_count": 5,
     "metadata": {},
     "output_type": "execute_result"
    }
   ],
   "source": [
    "df[\"EntryID\"] = \"E\" + (df.EntryID.map(\"{:06}\".format))\n",
    "df.sample(3, random_state=0)"
   ]
  },
  {
   "cell_type": "markdown",
   "metadata": {
    "colab_type": "text",
    "id": "JS1aewrFmAjM"
   },
   "source": [
    "## Add Normalized Short Forms"
   ]
  },
  {
   "cell_type": "markdown",
   "metadata": {
    "colab_type": "text",
    "id": "MrMEO2ASmYd_"
   },
   "source": [
    "The normalized short form is created by:\n",
    "1. converting all text to lowercase; \n",
    "2. stripping leading and trailing whitespace;\n",
    "3. standardizing punctuation to an underscore."
   ]
  },
  {
   "cell_type": "code",
   "execution_count": 6,
   "metadata": {
    "colab": {},
    "colab_type": "code",
    "id": "U-4LszvTmD8t"
   },
   "outputs": [],
   "source": [
    "df['NormSF'] = df['SF'].apply(normalized_short_form)"
   ]
  },
  {
   "cell_type": "code",
   "execution_count": 7,
   "metadata": {
    "colab": {
     "base_uri": "https://localhost:8080/",
     "height": 136
    },
    "colab_type": "code",
    "id": "_sNISmlGK02c",
    "outputId": "2ae61aa7-b439-413e-b8f4-0c6ebecad724"
   },
   "outputs": [
    {
     "data": {
      "text/html": [
       "<div>\n",
       "<style scoped>\n",
       "    .dataframe tbody tr th:only-of-type {\n",
       "        vertical-align: middle;\n",
       "    }\n",
       "\n",
       "    .dataframe tbody tr th {\n",
       "        vertical-align: top;\n",
       "    }\n",
       "\n",
       "    .dataframe thead th {\n",
       "        text-align: right;\n",
       "    }\n",
       "</style>\n",
       "<table border=\"1\" class=\"dataframe\">\n",
       "  <thead>\n",
       "    <tr style=\"text-align: right;\">\n",
       "      <th></th>\n",
       "      <th>GroupID</th>\n",
       "      <th>EntryID</th>\n",
       "      <th>SF</th>\n",
       "      <th>SFUI</th>\n",
       "      <th>NormSF</th>\n",
       "      <th>PrefSF</th>\n",
       "      <th>LF</th>\n",
       "      <th>LFUI</th>\n",
       "      <th>NormLF</th>\n",
       "      <th>PrefLF</th>\n",
       "      <th>Source</th>\n",
       "      <th>SFEUI</th>\n",
       "      <th>LFEUI</th>\n",
       "      <th>Type</th>\n",
       "      <th>Score</th>\n",
       "      <th>Count</th>\n",
       "      <th>Frequency</th>\n",
       "      <th>UMLS.CUI</th>\n",
       "    </tr>\n",
       "  </thead>\n",
       "  <tbody>\n",
       "    <tr>\n",
       "      <th>33582</th>\n",
       "      <td></td>\n",
       "      <td>E033583</td>\n",
       "      <td>α-GPDH</td>\n",
       "      <td></td>\n",
       "      <td>α_gpdh</td>\n",
       "      <td></td>\n",
       "      <td>alpha-glycerophosphate dehydrogenase</td>\n",
       "      <td></td>\n",
       "      <td></td>\n",
       "      <td></td>\n",
       "      <td>UMLS</td>\n",
       "      <td>E0412935</td>\n",
       "      <td>E0769306</td>\n",
       "      <td>acronym</td>\n",
       "      <td></td>\n",
       "      <td></td>\n",
       "      <td></td>\n",
       "      <td></td>\n",
       "    </tr>\n",
       "    <tr>\n",
       "      <th>70982</th>\n",
       "      <td></td>\n",
       "      <td>E070983</td>\n",
       "      <td>PRPPs</td>\n",
       "      <td></td>\n",
       "      <td>prpps</td>\n",
       "      <td></td>\n",
       "      <td>phosphoribosyl pyrophosphate synthetase</td>\n",
       "      <td></td>\n",
       "      <td></td>\n",
       "      <td></td>\n",
       "      <td>UMLS</td>\n",
       "      <td>E0571504</td>\n",
       "      <td>E0047486</td>\n",
       "      <td>acronym</td>\n",
       "      <td></td>\n",
       "      <td></td>\n",
       "      <td></td>\n",
       "      <td></td>\n",
       "    </tr>\n",
       "    <tr>\n",
       "      <th>192802</th>\n",
       "      <td></td>\n",
       "      <td>E192803</td>\n",
       "      <td>IPH</td>\n",
       "      <td></td>\n",
       "      <td>iph</td>\n",
       "      <td></td>\n",
       "      <td>intra-peritoneal haemorrhage</td>\n",
       "      <td></td>\n",
       "      <td></td>\n",
       "      <td></td>\n",
       "      <td>UMLS</td>\n",
       "      <td>E0703883</td>\n",
       "      <td>E0703882</td>\n",
       "      <td>acronym</td>\n",
       "      <td></td>\n",
       "      <td></td>\n",
       "      <td></td>\n",
       "      <td></td>\n",
       "    </tr>\n",
       "  </tbody>\n",
       "</table>\n",
       "</div>"
      ],
      "text/plain": [
       "       GroupID  EntryID      SF SFUI  NormSF PrefSF  \\\n",
       "33582           E033583  α-GPDH       α_gpdh          \n",
       "70982           E070983   PRPPs        prpps          \n",
       "192802          E192803     IPH          iph          \n",
       "\n",
       "                                             LF LFUI NormLF PrefLF Source  \\\n",
       "33582      alpha-glycerophosphate dehydrogenase                      UMLS   \n",
       "70982   phosphoribosyl pyrophosphate synthetase                      UMLS   \n",
       "192802             intra-peritoneal haemorrhage                      UMLS   \n",
       "\n",
       "           SFEUI     LFEUI     Type Score Count Frequency UMLS.CUI  \n",
       "33582   E0412935  E0769306  acronym                                 \n",
       "70982   E0571504  E0047486  acronym                                 \n",
       "192802  E0703883  E0703882  acronym                                 "
      ]
     },
     "execution_count": 7,
     "metadata": {},
     "output_type": "execute_result"
    }
   ],
   "source": [
    "df.sample(3, random_state=0)"
   ]
  },
  {
   "cell_type": "markdown",
   "metadata": {
    "colab_type": "text",
    "id": "-Ux5eO3YA8LI"
   },
   "source": [
    "## Add Normalized Long Forms"
   ]
  },
  {
   "cell_type": "markdown",
   "metadata": {
    "colab_type": "text",
    "id": "OLGwgUr2XhWW"
   },
   "source": [
    "Requires local installation of UMLS Lexical Variant Generation program, downloadable [here](https://www.nlm.nih.gov/research/umls/licensedcontent/umlsknowledgesources.html).\n",
    "\n",
    "Additional documentation available [here](https://www.ncbi.nlm.nih.gov/books/NBK9680/). Installation instructions available [here](https://lexsrv2.nlm.nih.gov/LexSysGroup/Projects/lvg/current/docs/userDoc/install/install.html).\n",
    "\n",
    "Here, we used version lvg2019 AB."
   ]
  },
  {
   "cell_type": "code",
   "execution_count": 8,
   "metadata": {
    "colab": {},
    "colab_type": "code",
    "id": "MroScxPBVVzQ"
   },
   "outputs": [],
   "source": [
    "lvg_path = 'C:/Users/lvg2104/Documents/clinical-abbreviations/modules/lvg2019/bin/lvg.bat'"
   ]
  },
  {
   "cell_type": "markdown",
   "metadata": {
    "colab_type": "text",
    "id": "VggAIVl7LtwT"
   },
   "source": [
    "#### Remove Non-ASCII Characters"
   ]
  },
  {
   "cell_type": "code",
   "execution_count": 9,
   "metadata": {
    "colab": {},
    "colab_type": "code",
    "id": "_bwIQjYmLz2W"
   },
   "outputs": [],
   "source": [
    "df['LF'] = df.LF.str.replace('[^\\x00-\\x7F]','')"
   ]
  },
  {
   "cell_type": "markdown",
   "metadata": {
    "colab_type": "text",
    "id": "ouIQOZgxL-IN"
   },
   "source": [
    "#### Extract Unique LFs"
   ]
  },
  {
   "cell_type": "code",
   "execution_count": 10,
   "metadata": {},
   "outputs": [],
   "source": [
    "uniq_LFs = pd.Series(df['LF'].unique())"
   ]
  },
  {
   "cell_type": "code",
   "execution_count": 11,
   "metadata": {
    "colab": {},
    "colab_type": "code",
    "id": "ouv6aqTFNHQj"
   },
   "outputs": [],
   "source": [
    "uniq_LFs.to_csv('uniq_LFs.temp',\n",
    "                index=False,\n",
    "                header=False,\n",
    "                encoding='ascii')"
   ]
  },
  {
   "cell_type": "markdown",
   "metadata": {
    "colab_type": "text",
    "id": "KlOaz4fOMJF4"
   },
   "source": [
    "#### Call Lexical Variant Generation"
   ]
  },
  {
   "cell_type": "code",
   "execution_count": 12,
   "metadata": {
    "colab": {},
    "colab_type": "code",
    "id": "vGRLsgvqNjeW"
   },
   "outputs": [],
   "source": [
    "lvg_output = lvg(input_file='uniq_LFs.temp',\n",
    "                 flow='q0:g:rs:o:t:l:B:Ct:q7:q8',\n",
    "                 output_file='norm_LFs.temp',\n",
    "                 lvg_path=lvg_path)"
   ]
  },
  {
   "cell_type": "markdown",
   "metadata": {
    "colab_type": "text",
    "id": "iiJOQ6DIQl1e"
   },
   "source": [
    "#### Extract Normalized LFs"
   ]
  },
  {
   "cell_type": "code",
   "execution_count": 13,
   "metadata": {
    "colab": {},
    "colab_type": "code",
    "id": "3SLLyNBuRBjP"
   },
   "outputs": [],
   "source": [
    "norm_LFs = pd.read_csv('norm_LFs.temp',\n",
    "                       sep='|',\n",
    "                       header = None,\n",
    "                       usecols = [1])"
   ]
  },
  {
   "cell_type": "markdown",
   "metadata": {
    "colab_type": "text",
    "id": "yCSBZ1eUSNMt"
   },
   "source": [
    "#### Match Unique & Normalized LFs"
   ]
  },
  {
   "cell_type": "code",
   "execution_count": 14,
   "metadata": {},
   "outputs": [],
   "source": [
    "normed_df = pd.DataFrame()\n",
    "normed_df['LF'] = uniq_LFs\n",
    "normed_df['NormLF_temp'] = norm_LFs"
   ]
  },
  {
   "cell_type": "markdown",
   "metadata": {
    "colab_type": "text",
    "id": "hXnvoiKPRPUC"
   },
   "source": [
    "#### Populate Database"
   ]
  },
  {
   "cell_type": "code",
   "execution_count": 15,
   "metadata": {
    "scrolled": true
   },
   "outputs": [
    {
     "data": {
      "text/html": [
       "<div>\n",
       "<style scoped>\n",
       "    .dataframe tbody tr th:only-of-type {\n",
       "        vertical-align: middle;\n",
       "    }\n",
       "\n",
       "    .dataframe tbody tr th {\n",
       "        vertical-align: top;\n",
       "    }\n",
       "\n",
       "    .dataframe thead th {\n",
       "        text-align: right;\n",
       "    }\n",
       "</style>\n",
       "<table border=\"1\" class=\"dataframe\">\n",
       "  <thead>\n",
       "    <tr style=\"text-align: right;\">\n",
       "      <th></th>\n",
       "      <th>GroupID</th>\n",
       "      <th>EntryID</th>\n",
       "      <th>SF</th>\n",
       "      <th>SFUI</th>\n",
       "      <th>NormSF</th>\n",
       "      <th>PrefSF</th>\n",
       "      <th>LF</th>\n",
       "      <th>LFUI</th>\n",
       "      <th>NormLF</th>\n",
       "      <th>PrefLF</th>\n",
       "      <th>Source</th>\n",
       "      <th>SFEUI</th>\n",
       "      <th>LFEUI</th>\n",
       "      <th>Type</th>\n",
       "      <th>Score</th>\n",
       "      <th>Count</th>\n",
       "      <th>Frequency</th>\n",
       "      <th>UMLS.CUI</th>\n",
       "    </tr>\n",
       "  </thead>\n",
       "  <tbody>\n",
       "    <tr>\n",
       "      <th>33582</th>\n",
       "      <td></td>\n",
       "      <td>E033583</td>\n",
       "      <td>α-GPDH</td>\n",
       "      <td></td>\n",
       "      <td>α_gpdh</td>\n",
       "      <td></td>\n",
       "      <td>alpha-glycerophosphate dehydrogenase</td>\n",
       "      <td></td>\n",
       "      <td>alpha glycerophosphate dehydrogenase</td>\n",
       "      <td></td>\n",
       "      <td>UMLS</td>\n",
       "      <td>E0412935</td>\n",
       "      <td>E0769306</td>\n",
       "      <td>acronym</td>\n",
       "      <td></td>\n",
       "      <td></td>\n",
       "      <td></td>\n",
       "      <td></td>\n",
       "    </tr>\n",
       "    <tr>\n",
       "      <th>70982</th>\n",
       "      <td></td>\n",
       "      <td>E070983</td>\n",
       "      <td>PRPPs</td>\n",
       "      <td></td>\n",
       "      <td>prpps</td>\n",
       "      <td></td>\n",
       "      <td>phosphoribosyl pyrophosphate synthetase</td>\n",
       "      <td></td>\n",
       "      <td>phosphoribosylpyrophosphate synthetase</td>\n",
       "      <td></td>\n",
       "      <td>UMLS</td>\n",
       "      <td>E0571504</td>\n",
       "      <td>E0047486</td>\n",
       "      <td>acronym</td>\n",
       "      <td></td>\n",
       "      <td></td>\n",
       "      <td></td>\n",
       "      <td></td>\n",
       "    </tr>\n",
       "    <tr>\n",
       "      <th>192802</th>\n",
       "      <td></td>\n",
       "      <td>E192803</td>\n",
       "      <td>IPH</td>\n",
       "      <td></td>\n",
       "      <td>iph</td>\n",
       "      <td></td>\n",
       "      <td>intra-peritoneal haemorrhage</td>\n",
       "      <td></td>\n",
       "      <td>-No Output-</td>\n",
       "      <td></td>\n",
       "      <td>UMLS</td>\n",
       "      <td>E0703883</td>\n",
       "      <td>E0703882</td>\n",
       "      <td>acronym</td>\n",
       "      <td></td>\n",
       "      <td></td>\n",
       "      <td></td>\n",
       "      <td></td>\n",
       "    </tr>\n",
       "  </tbody>\n",
       "</table>\n",
       "</div>"
      ],
      "text/plain": [
       "       GroupID  EntryID      SF SFUI  NormSF PrefSF  \\\n",
       "33582           E033583  α-GPDH       α_gpdh          \n",
       "70982           E070983   PRPPs        prpps          \n",
       "192802          E192803     IPH          iph          \n",
       "\n",
       "                                             LF LFUI  \\\n",
       "33582      alpha-glycerophosphate dehydrogenase        \n",
       "70982   phosphoribosyl pyrophosphate synthetase        \n",
       "192802             intra-peritoneal haemorrhage        \n",
       "\n",
       "                                        NormLF PrefLF Source     SFEUI  \\\n",
       "33582     alpha glycerophosphate dehydrogenase          UMLS  E0412935   \n",
       "70982   phosphoribosylpyrophosphate synthetase          UMLS  E0571504   \n",
       "192802                             -No Output-          UMLS  E0703883   \n",
       "\n",
       "           LFEUI     Type Score Count Frequency UMLS.CUI  \n",
       "33582   E0769306  acronym                                 \n",
       "70982   E0047486  acronym                                 \n",
       "192802  E0703882  acronym                                 "
      ]
     },
     "execution_count": 15,
     "metadata": {},
     "output_type": "execute_result"
    }
   ],
   "source": [
    "df = pd.merge(df, normed_df, how='left', on='LF')\n",
    "df['NormLF'] = df['NormLF_temp']\n",
    "df = df.drop(columns=['NormLF_temp'])\n",
    "df.sample(3, random_state=0)"
   ]
  },
  {
   "cell_type": "markdown",
   "metadata": {},
   "source": [
    "#### Clean Environment"
   ]
  },
  {
   "cell_type": "code",
   "execution_count": 16,
   "metadata": {},
   "outputs": [
    {
     "data": {
      "text/html": [
       "<div>\n",
       "<style scoped>\n",
       "    .dataframe tbody tr th:only-of-type {\n",
       "        vertical-align: middle;\n",
       "    }\n",
       "\n",
       "    .dataframe tbody tr th {\n",
       "        vertical-align: top;\n",
       "    }\n",
       "\n",
       "    .dataframe thead th {\n",
       "        text-align: right;\n",
       "    }\n",
       "</style>\n",
       "<table border=\"1\" class=\"dataframe\">\n",
       "  <thead>\n",
       "    <tr style=\"text-align: right;\">\n",
       "      <th></th>\n",
       "      <th>GroupID</th>\n",
       "      <th>EntryID</th>\n",
       "      <th>SF</th>\n",
       "      <th>SFUI</th>\n",
       "      <th>NormSF</th>\n",
       "      <th>PrefSF</th>\n",
       "      <th>LF</th>\n",
       "      <th>LFUI</th>\n",
       "      <th>NormLF</th>\n",
       "      <th>PrefLF</th>\n",
       "      <th>Source</th>\n",
       "      <th>SFEUI</th>\n",
       "      <th>LFEUI</th>\n",
       "      <th>Type</th>\n",
       "      <th>Score</th>\n",
       "      <th>Count</th>\n",
       "      <th>Frequency</th>\n",
       "      <th>UMLS.CUI</th>\n",
       "    </tr>\n",
       "  </thead>\n",
       "  <tbody>\n",
       "    <tr>\n",
       "      <th>33582</th>\n",
       "      <td></td>\n",
       "      <td>E033583</td>\n",
       "      <td>α-GPDH</td>\n",
       "      <td></td>\n",
       "      <td>α_gpdh</td>\n",
       "      <td></td>\n",
       "      <td>alpha-glycerophosphate dehydrogenase</td>\n",
       "      <td></td>\n",
       "      <td>alpha glycerophosphate dehydrogenase</td>\n",
       "      <td></td>\n",
       "      <td>UMLS</td>\n",
       "      <td>E0412935</td>\n",
       "      <td>E0769306</td>\n",
       "      <td>acronym</td>\n",
       "      <td></td>\n",
       "      <td></td>\n",
       "      <td></td>\n",
       "      <td></td>\n",
       "    </tr>\n",
       "    <tr>\n",
       "      <th>70982</th>\n",
       "      <td></td>\n",
       "      <td>E070983</td>\n",
       "      <td>PRPPs</td>\n",
       "      <td></td>\n",
       "      <td>prpps</td>\n",
       "      <td></td>\n",
       "      <td>phosphoribosyl pyrophosphate synthetase</td>\n",
       "      <td></td>\n",
       "      <td>phosphoribosylpyrophosphate synthetase</td>\n",
       "      <td></td>\n",
       "      <td>UMLS</td>\n",
       "      <td>E0571504</td>\n",
       "      <td>E0047486</td>\n",
       "      <td>acronym</td>\n",
       "      <td></td>\n",
       "      <td></td>\n",
       "      <td></td>\n",
       "      <td></td>\n",
       "    </tr>\n",
       "    <tr>\n",
       "      <th>192802</th>\n",
       "      <td></td>\n",
       "      <td>E192803</td>\n",
       "      <td>IPH</td>\n",
       "      <td></td>\n",
       "      <td>iph</td>\n",
       "      <td></td>\n",
       "      <td>intra-peritoneal haemorrhage</td>\n",
       "      <td></td>\n",
       "      <td></td>\n",
       "      <td></td>\n",
       "      <td>UMLS</td>\n",
       "      <td>E0703883</td>\n",
       "      <td>E0703882</td>\n",
       "      <td>acronym</td>\n",
       "      <td></td>\n",
       "      <td></td>\n",
       "      <td></td>\n",
       "      <td></td>\n",
       "    </tr>\n",
       "  </tbody>\n",
       "</table>\n",
       "</div>"
      ],
      "text/plain": [
       "       GroupID  EntryID      SF SFUI  NormSF PrefSF  \\\n",
       "33582           E033583  α-GPDH       α_gpdh          \n",
       "70982           E070983   PRPPs        prpps          \n",
       "192802          E192803     IPH          iph          \n",
       "\n",
       "                                             LF LFUI  \\\n",
       "33582      alpha-glycerophosphate dehydrogenase        \n",
       "70982   phosphoribosyl pyrophosphate synthetase        \n",
       "192802             intra-peritoneal haemorrhage        \n",
       "\n",
       "                                        NormLF PrefLF Source     SFEUI  \\\n",
       "33582     alpha glycerophosphate dehydrogenase          UMLS  E0412935   \n",
       "70982   phosphoribosylpyrophosphate synthetase          UMLS  E0571504   \n",
       "192802                                                  UMLS  E0703883   \n",
       "\n",
       "           LFEUI     Type Score Count Frequency UMLS.CUI  \n",
       "33582   E0769306  acronym                                 \n",
       "70982   E0047486  acronym                                 \n",
       "192802  E0703882  acronym                                 "
      ]
     },
     "execution_count": 16,
     "metadata": {},
     "output_type": "execute_result"
    }
   ],
   "source": [
    "df = df.replace('-No Output-', '')\n",
    "df.sample(3, random_state=0)"
   ]
  },
  {
   "cell_type": "code",
   "execution_count": 17,
   "metadata": {},
   "outputs": [],
   "source": [
    "os.remove('uniq_LFs.temp')\n",
    "os.remove('norm_LFs.temp')"
   ]
  },
  {
   "cell_type": "markdown",
   "metadata": {
    "colab_type": "text",
    "id": "ZvRH3GMY-dWb"
   },
   "source": [
    "## Add Short Form Unique Identifier"
   ]
  },
  {
   "cell_type": "markdown",
   "metadata": {
    "colab_type": "text",
    "id": "XXsqapZI-kUW"
   },
   "source": [
    "#### Sort by SF"
   ]
  },
  {
   "cell_type": "code",
   "execution_count": 18,
   "metadata": {
    "colab": {},
    "colab_type": "code",
    "id": "2-s1VEXj-mrZ"
   },
   "outputs": [],
   "source": [
    "df = df.sort_values(by=['SF'])"
   ]
  },
  {
   "cell_type": "markdown",
   "metadata": {
    "colab_type": "text",
    "id": "PdwOr71P-nIV"
   },
   "source": [
    "#### Assign SFUI"
   ]
  },
  {
   "cell_type": "code",
   "execution_count": 19,
   "metadata": {
    "colab": {},
    "colab_type": "code",
    "id": "1EIwrnJh-o2A"
   },
   "outputs": [],
   "source": [
    "assignment = 1\n",
    "for index, row in df.iterrows():\n",
    "    if index == 0:\n",
    "        df['SFUI'].iat[index] = assignment\n",
    "    elif df['SF'].at[index] == df['SF'].at[index-1]:\n",
    "        df['SFUI'].iat[index] = assignment\n",
    "    else:\n",
    "        assignment += 1\n",
    "        df['SFUI'].iat[index] = assignment"
   ]
  },
  {
   "cell_type": "markdown",
   "metadata": {
    "colab_type": "text",
    "id": "PUFnSIsU-pRx"
   },
   "source": [
    "#### Format SFUI"
   ]
  },
  {
   "cell_type": "code",
   "execution_count": 20,
   "metadata": {
    "colab": {},
    "colab_type": "code",
    "id": "hTavkERx-rfu"
   },
   "outputs": [
    {
     "data": {
      "text/html": [
       "<div>\n",
       "<style scoped>\n",
       "    .dataframe tbody tr th:only-of-type {\n",
       "        vertical-align: middle;\n",
       "    }\n",
       "\n",
       "    .dataframe tbody tr th {\n",
       "        vertical-align: top;\n",
       "    }\n",
       "\n",
       "    .dataframe thead th {\n",
       "        text-align: right;\n",
       "    }\n",
       "</style>\n",
       "<table border=\"1\" class=\"dataframe\">\n",
       "  <thead>\n",
       "    <tr style=\"text-align: right;\">\n",
       "      <th></th>\n",
       "      <th>GroupID</th>\n",
       "      <th>EntryID</th>\n",
       "      <th>SF</th>\n",
       "      <th>SFUI</th>\n",
       "      <th>NormSF</th>\n",
       "      <th>PrefSF</th>\n",
       "      <th>LF</th>\n",
       "      <th>LFUI</th>\n",
       "      <th>NormLF</th>\n",
       "      <th>PrefLF</th>\n",
       "      <th>Source</th>\n",
       "      <th>SFEUI</th>\n",
       "      <th>LFEUI</th>\n",
       "      <th>Type</th>\n",
       "      <th>Score</th>\n",
       "      <th>Count</th>\n",
       "      <th>Frequency</th>\n",
       "      <th>UMLS.CUI</th>\n",
       "    </tr>\n",
       "  </thead>\n",
       "  <tbody>\n",
       "    <tr>\n",
       "      <th>294484</th>\n",
       "      <td></td>\n",
       "      <td>E294485</td>\n",
       "      <td>$Can</td>\n",
       "      <td>S003807</td>\n",
       "      <td>_can</td>\n",
       "      <td></td>\n",
       "      <td>Canadian dollars</td>\n",
       "      <td></td>\n",
       "      <td></td>\n",
       "      <td></td>\n",
       "      <td>ADAM</td>\n",
       "      <td></td>\n",
       "      <td></td>\n",
       "      <td></td>\n",
       "      <td>0.8365</td>\n",
       "      <td>18</td>\n",
       "      <td></td>\n",
       "      <td></td>\n",
       "    </tr>\n",
       "    <tr>\n",
       "      <th>389141</th>\n",
       "      <td></td>\n",
       "      <td>E389142</td>\n",
       "      <td>%</td>\n",
       "      <td>S003807</td>\n",
       "      <td>_</td>\n",
       "      <td></td>\n",
       "      <td>percent</td>\n",
       "      <td></td>\n",
       "      <td>percent</td>\n",
       "      <td></td>\n",
       "      <td>Berman</td>\n",
       "      <td></td>\n",
       "      <td></td>\n",
       "      <td></td>\n",
       "      <td></td>\n",
       "      <td></td>\n",
       "      <td></td>\n",
       "      <td></td>\n",
       "    </tr>\n",
       "    <tr>\n",
       "      <th>126778</th>\n",
       "      <td></td>\n",
       "      <td>E126779</td>\n",
       "      <td>%LN</td>\n",
       "      <td>S003807</td>\n",
       "      <td>_ln</td>\n",
       "      <td></td>\n",
       "      <td>per cent luminal narrowing</td>\n",
       "      <td></td>\n",
       "      <td>percent lumenal narrowing</td>\n",
       "      <td></td>\n",
       "      <td>UMLS</td>\n",
       "      <td>E0665149</td>\n",
       "      <td>E0665148</td>\n",
       "      <td>abbreviation</td>\n",
       "      <td></td>\n",
       "      <td></td>\n",
       "      <td></td>\n",
       "      <td></td>\n",
       "    </tr>\n",
       "    <tr>\n",
       "      <th>126775</th>\n",
       "      <td></td>\n",
       "      <td>E126776</td>\n",
       "      <td>%LN</td>\n",
       "      <td>S003807</td>\n",
       "      <td>_ln</td>\n",
       "      <td></td>\n",
       "      <td>percent lumenal narrowing</td>\n",
       "      <td></td>\n",
       "      <td>percent lumenal narrowing</td>\n",
       "      <td></td>\n",
       "      <td>UMLS</td>\n",
       "      <td>E0665149</td>\n",
       "      <td>E0665148</td>\n",
       "      <td>abbreviation</td>\n",
       "      <td></td>\n",
       "      <td></td>\n",
       "      <td></td>\n",
       "      <td></td>\n",
       "    </tr>\n",
       "    <tr>\n",
       "      <th>126777</th>\n",
       "      <td></td>\n",
       "      <td>E126778</td>\n",
       "      <td>%LN</td>\n",
       "      <td>S003807</td>\n",
       "      <td>_ln</td>\n",
       "      <td></td>\n",
       "      <td>per cent lumenal narrowing</td>\n",
       "      <td></td>\n",
       "      <td>percent lumenal narrowing</td>\n",
       "      <td></td>\n",
       "      <td>UMLS</td>\n",
       "      <td>E0665149</td>\n",
       "      <td>E0665148</td>\n",
       "      <td>abbreviation</td>\n",
       "      <td></td>\n",
       "      <td></td>\n",
       "      <td></td>\n",
       "      <td></td>\n",
       "    </tr>\n",
       "  </tbody>\n",
       "</table>\n",
       "</div>"
      ],
      "text/plain": [
       "       GroupID  EntryID    SF     SFUI NormSF PrefSF  \\\n",
       "294484          E294485  $Can  S003807   _can          \n",
       "389141          E389142     %  S003807      _          \n",
       "126778          E126779   %LN  S003807    _ln          \n",
       "126775          E126776   %LN  S003807    _ln          \n",
       "126777          E126778   %LN  S003807    _ln          \n",
       "\n",
       "                                LF LFUI                     NormLF PrefLF  \\\n",
       "294484            Canadian dollars                                          \n",
       "389141                     percent                         percent          \n",
       "126778  per cent luminal narrowing       percent lumenal narrowing          \n",
       "126775   percent lumenal narrowing       percent lumenal narrowing          \n",
       "126777  per cent lumenal narrowing       percent lumenal narrowing          \n",
       "\n",
       "        Source     SFEUI     LFEUI          Type   Score Count Frequency  \\\n",
       "294484    ADAM                                    0.8365    18             \n",
       "389141  Berman                                                             \n",
       "126778    UMLS  E0665149  E0665148  abbreviation                           \n",
       "126775    UMLS  E0665149  E0665148  abbreviation                           \n",
       "126777    UMLS  E0665149  E0665148  abbreviation                           \n",
       "\n",
       "       UMLS.CUI  \n",
       "294484           \n",
       "389141           \n",
       "126778           \n",
       "126775           \n",
       "126777           "
      ]
     },
     "execution_count": 20,
     "metadata": {},
     "output_type": "execute_result"
    }
   ],
   "source": [
    "df[\"SFUI\"] = \"S\" + (df.SFUI.map(\"{:06}\".format))\n",
    "df.head(5)"
   ]
  },
  {
   "cell_type": "markdown",
   "metadata": {
    "colab_type": "text",
    "id": "kinCh32p-sPg"
   },
   "source": [
    "## Add Long Form Unique Identifier"
   ]
  },
  {
   "cell_type": "markdown",
   "metadata": {
    "colab_type": "text",
    "id": "nv_D2L4P-wjF"
   },
   "source": [
    "#### Sort by LF"
   ]
  },
  {
   "cell_type": "code",
   "execution_count": 21,
   "metadata": {
    "colab": {},
    "colab_type": "code",
    "id": "NB3dqtKG-xwm"
   },
   "outputs": [],
   "source": [
    "df = df.sort_values(by=['LF'])"
   ]
  },
  {
   "cell_type": "markdown",
   "metadata": {
    "colab_type": "text",
    "id": "aKVXx2ZC-yGI"
   },
   "source": [
    "#### Assign LFUI"
   ]
  },
  {
   "cell_type": "code",
   "execution_count": 22,
   "metadata": {
    "colab": {},
    "colab_type": "code",
    "id": "FzPpQpPa-2Px"
   },
   "outputs": [],
   "source": [
    "assignment = 1\n",
    "for index, row in df.iterrows():\n",
    "    if index == 0:\n",
    "        df['LFUI'].iat[index] = assignment\n",
    "    elif df['LF'].at[index] == df['LF'].at[index-1]:\n",
    "        df['LFUI'].iat[index] = assignment\n",
    "    else:\n",
    "        assignment += 1\n",
    "        df['LFUI'].iat[index] = assignment"
   ]
  },
  {
   "cell_type": "markdown",
   "metadata": {
    "colab_type": "text",
    "id": "6G48APvr-zWL"
   },
   "source": [
    "#### Format LFUI"
   ]
  },
  {
   "cell_type": "code",
   "execution_count": 23,
   "metadata": {
    "colab": {},
    "colab_type": "code",
    "id": "AsPHjBeT-1yB"
   },
   "outputs": [
    {
     "data": {
      "text/html": [
       "<div>\n",
       "<style scoped>\n",
       "    .dataframe tbody tr th:only-of-type {\n",
       "        vertical-align: middle;\n",
       "    }\n",
       "\n",
       "    .dataframe tbody tr th {\n",
       "        vertical-align: top;\n",
       "    }\n",
       "\n",
       "    .dataframe thead th {\n",
       "        text-align: right;\n",
       "    }\n",
       "</style>\n",
       "<table border=\"1\" class=\"dataframe\">\n",
       "  <thead>\n",
       "    <tr style=\"text-align: right;\">\n",
       "      <th></th>\n",
       "      <th>GroupID</th>\n",
       "      <th>EntryID</th>\n",
       "      <th>SF</th>\n",
       "      <th>SFUI</th>\n",
       "      <th>NormSF</th>\n",
       "      <th>PrefSF</th>\n",
       "      <th>LF</th>\n",
       "      <th>LFUI</th>\n",
       "      <th>NormLF</th>\n",
       "      <th>PrefLF</th>\n",
       "      <th>Source</th>\n",
       "      <th>SFEUI</th>\n",
       "      <th>LFEUI</th>\n",
       "      <th>Type</th>\n",
       "      <th>Score</th>\n",
       "      <th>Count</th>\n",
       "      <th>Frequency</th>\n",
       "      <th>UMLS.CUI</th>\n",
       "    </tr>\n",
       "  </thead>\n",
       "  <tbody>\n",
       "    <tr>\n",
       "      <th>394902</th>\n",
       "      <td></td>\n",
       "      <td>E394903</td>\n",
       "      <td>///////////////\\\\\\\\\\\\\\\\\\\\\\\\\\\\\\\\\\\\\\\\</td>\n",
       "      <td>S007414</td>\n",
       "      <td>___________________________________</td>\n",
       "      <td></td>\n",
       "      <td></td>\n",
       "      <td>L076880</td>\n",
       "      <td></td>\n",
       "      <td></td>\n",
       "      <td>Berman</td>\n",
       "      <td></td>\n",
       "      <td></td>\n",
       "      <td></td>\n",
       "      <td></td>\n",
       "      <td></td>\n",
       "      <td></td>\n",
       "      <td></td>\n",
       "    </tr>\n",
       "    <tr>\n",
       "      <th>269418</th>\n",
       "      <td></td>\n",
       "      <td>E269419</td>\n",
       "      <td>LMS method</td>\n",
       "      <td>S105838</td>\n",
       "      <td>lms method</td>\n",
       "      <td></td>\n",
       "      <td>method</td>\n",
       "      <td>L012299</td>\n",
       "      <td>method</td>\n",
       "      <td></td>\n",
       "      <td>UMLS</td>\n",
       "      <td>E0751974</td>\n",
       "      <td>E0751973</td>\n",
       "      <td>acronym</td>\n",
       "      <td></td>\n",
       "      <td></td>\n",
       "      <td></td>\n",
       "      <td></td>\n",
       "    </tr>\n",
       "    <tr>\n",
       "      <th>159755</th>\n",
       "      <td></td>\n",
       "      <td>E159756</td>\n",
       "      <td>beta 2M</td>\n",
       "      <td>S067964</td>\n",
       "      <td>beta 2m</td>\n",
       "      <td></td>\n",
       "      <td>(2) microglobulin</td>\n",
       "      <td>L081808</td>\n",
       "      <td></td>\n",
       "      <td></td>\n",
       "      <td>UMLS</td>\n",
       "      <td>E0693511</td>\n",
       "      <td>E0213510</td>\n",
       "      <td>abbreviation</td>\n",
       "      <td></td>\n",
       "      <td></td>\n",
       "      <td></td>\n",
       "      <td></td>\n",
       "    </tr>\n",
       "    <tr>\n",
       "      <th>40506</th>\n",
       "      <td></td>\n",
       "      <td>E040507</td>\n",
       "      <td>B2-m</td>\n",
       "      <td>S066380</td>\n",
       "      <td>b2_m</td>\n",
       "      <td></td>\n",
       "      <td>(2) microglobulin</td>\n",
       "      <td>L081904</td>\n",
       "      <td></td>\n",
       "      <td></td>\n",
       "      <td>UMLS</td>\n",
       "      <td>E0429602</td>\n",
       "      <td>E0213510</td>\n",
       "      <td>acronym</td>\n",
       "      <td></td>\n",
       "      <td></td>\n",
       "      <td></td>\n",
       "      <td></td>\n",
       "    </tr>\n",
       "    <tr>\n",
       "      <th>159779</th>\n",
       "      <td></td>\n",
       "      <td>E159780</td>\n",
       "      <td>beta 2m</td>\n",
       "      <td>S137766</td>\n",
       "      <td>beta 2m</td>\n",
       "      <td></td>\n",
       "      <td>(2) microglobulin</td>\n",
       "      <td>L100277</td>\n",
       "      <td></td>\n",
       "      <td></td>\n",
       "      <td>UMLS</td>\n",
       "      <td>E0693511</td>\n",
       "      <td>E0213510</td>\n",
       "      <td>abbreviation</td>\n",
       "      <td></td>\n",
       "      <td></td>\n",
       "      <td></td>\n",
       "      <td></td>\n",
       "    </tr>\n",
       "  </tbody>\n",
       "</table>\n",
       "</div>"
      ],
      "text/plain": [
       "       GroupID  EntryID                                   SF     SFUI  \\\n",
       "394902          E394903  ///////////////\\\\\\\\\\\\\\\\\\\\\\\\\\\\\\\\\\\\\\\\  S007414   \n",
       "269418          E269419                           LMS method  S105838   \n",
       "159755          E159756                              beta 2M  S067964   \n",
       "40506           E040507                                 B2-m  S066380   \n",
       "159779          E159780                              beta 2m  S137766   \n",
       "\n",
       "                                     NormSF PrefSF                  LF  \\\n",
       "394902  ___________________________________                              \n",
       "269418                           lms method                     method   \n",
       "159755                              beta 2m          (2) microglobulin   \n",
       "40506                                  b2_m          (2) microglobulin   \n",
       "159779                              beta 2m          (2) microglobulin   \n",
       "\n",
       "           LFUI  NormLF PrefLF  Source     SFEUI     LFEUI          Type  \\\n",
       "394902  L076880                 Berman                                     \n",
       "269418  L012299  method           UMLS  E0751974  E0751973       acronym   \n",
       "159755  L081808                   UMLS  E0693511  E0213510  abbreviation   \n",
       "40506   L081904                   UMLS  E0429602  E0213510       acronym   \n",
       "159779  L100277                   UMLS  E0693511  E0213510  abbreviation   \n",
       "\n",
       "       Score Count Frequency UMLS.CUI  \n",
       "394902                                 \n",
       "269418                                 \n",
       "159755                                 \n",
       "40506                                  \n",
       "159779                                 "
      ]
     },
     "execution_count": 23,
     "metadata": {},
     "output_type": "execute_result"
    }
   ],
   "source": [
    "df[\"LFUI\"] = \"L\" + (df.LFUI.map(\"{:06}\".format))\n",
    "df.head(5)"
   ]
  },
  {
   "cell_type": "markdown",
   "metadata": {
    "colab_type": "text",
    "id": "8T4J_b9rBKBq"
   },
   "source": [
    "## Export"
   ]
  },
  {
   "cell_type": "code",
   "execution_count": 24,
   "metadata": {
    "colab": {},
    "colab_type": "code",
    "id": "q5Gt-aCcP8bt"
   },
   "outputs": [],
   "source": [
    "df.to_csv('Step2Output_Clinical_Abbreviation_Acronym_Crosswalk.csv',\n",
    "          index=False,\n",
    "          header=True,\n",
    "          sep='|')"
   ]
  }
 ],
 "metadata": {
  "colab": {
   "collapsed_sections": [],
   "name": "Step2_Add_Information.ipynb",
   "provenance": []
  },
  "kernelspec": {
   "display_name": "Python 3",
   "language": "python",
   "name": "python3"
  },
  "language_info": {
   "codemirror_mode": {
    "name": "ipython",
    "version": 3
   },
   "file_extension": ".py",
   "mimetype": "text/x-python",
   "name": "python",
   "nbconvert_exporter": "python",
   "pygments_lexer": "ipython3",
   "version": "3.7.4"
  }
 },
 "nbformat": 4,
 "nbformat_minor": 1
}
