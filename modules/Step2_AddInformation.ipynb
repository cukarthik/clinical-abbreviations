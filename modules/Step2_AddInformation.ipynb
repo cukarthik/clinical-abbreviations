{
 "cells": [
  {
   "cell_type": "markdown",
   "metadata": {
    "colab_type": "text",
    "id": "BYPGoc7Tlwzm"
   },
   "source": [
    "# Step 2: Add Information"
   ]
  },
  {
   "cell_type": "markdown",
   "metadata": {
    "colab_type": "text",
    "id": "P6lbb23ll0Wo"
   },
   "source": [
    "## Setup"
   ]
  },
  {
   "cell_type": "code",
   "execution_count": 1,
   "metadata": {
    "colab": {},
    "colab_type": "code",
    "id": "K8tdxx-wlvdq"
   },
   "outputs": [],
   "source": [
    "import pandas as pd\n",
    "from master_functions import *\n",
    "import os"
   ]
  },
  {
   "cell_type": "markdown",
   "metadata": {
    "colab_type": "text",
    "id": "zf0QkPjxmVIt"
   },
   "source": [
    "#### Load Dataset"
   ]
  },
  {
   "cell_type": "code",
   "execution_count": 2,
   "metadata": {
    "colab": {},
    "colab_type": "code",
    "id": "TEVfLZQ9mXqX"
   },
   "outputs": [],
   "source": [
    "df = pd.read_csv('https://raw.githubusercontent.com/lisavirginia/clinical-abbreviations/master/modules/Step1Output_Clinical_Abbreviation_Acronym_Crosswalk.csv',\n",
    "                 sep='|',\n",
    "                 header=0,\n",
    "                 index_col=False,\n",
    "                 na_filter=False,\n",
    "                 dtype=object)"
   ]
  },
  {
   "cell_type": "code",
   "execution_count": 3,
   "metadata": {
    "colab": {
     "base_uri": "https://localhost:8080/",
     "height": 136
    },
    "colab_type": "code",
    "id": "6hl3PW8v_7V5",
    "outputId": "f9e6fcb2-3a99-4509-ebb0-290999e1fd26"
   },
   "outputs": [
    {
     "data": {
      "text/html": [
       "<div>\n",
       "<style scoped>\n",
       "    .dataframe tbody tr th:only-of-type {\n",
       "        vertical-align: middle;\n",
       "    }\n",
       "\n",
       "    .dataframe tbody tr th {\n",
       "        vertical-align: top;\n",
       "    }\n",
       "\n",
       "    .dataframe thead th {\n",
       "        text-align: right;\n",
       "    }\n",
       "</style>\n",
       "<table border=\"1\" class=\"dataframe\">\n",
       "  <thead>\n",
       "    <tr style=\"text-align: right;\">\n",
       "      <th></th>\n",
       "      <th>GroupID</th>\n",
       "      <th>EntryID</th>\n",
       "      <th>SF</th>\n",
       "      <th>SFUI</th>\n",
       "      <th>NormSF</th>\n",
       "      <th>NSFUI</th>\n",
       "      <th>PrefSF</th>\n",
       "      <th>LF</th>\n",
       "      <th>LFUI</th>\n",
       "      <th>NormLF</th>\n",
       "      <th>PrefLF</th>\n",
       "      <th>Source</th>\n",
       "      <th>SFEUI</th>\n",
       "      <th>LFEUI</th>\n",
       "      <th>Type</th>\n",
       "      <th>Score</th>\n",
       "      <th>Count</th>\n",
       "      <th>Frequency</th>\n",
       "      <th>UMLS.CUI</th>\n",
       "    </tr>\n",
       "  </thead>\n",
       "  <tbody>\n",
       "    <tr>\n",
       "      <th>368728</th>\n",
       "      <td></td>\n",
       "      <td></td>\n",
       "      <td>T-ALL</td>\n",
       "      <td></td>\n",
       "      <td></td>\n",
       "      <td></td>\n",
       "      <td></td>\n",
       "      <td>T cell acute lymphoblastic leukemias</td>\n",
       "      <td></td>\n",
       "      <td></td>\n",
       "      <td></td>\n",
       "      <td>ADAM</td>\n",
       "      <td></td>\n",
       "      <td></td>\n",
       "      <td></td>\n",
       "      <td>0.7357</td>\n",
       "      <td>193</td>\n",
       "      <td></td>\n",
       "      <td></td>\n",
       "    </tr>\n",
       "    <tr>\n",
       "      <th>320521</th>\n",
       "      <td></td>\n",
       "      <td></td>\n",
       "      <td>Emax</td>\n",
       "      <td></td>\n",
       "      <td></td>\n",
       "      <td></td>\n",
       "      <td></td>\n",
       "      <td>maximal responses</td>\n",
       "      <td></td>\n",
       "      <td></td>\n",
       "      <td></td>\n",
       "      <td>ADAM</td>\n",
       "      <td></td>\n",
       "      <td></td>\n",
       "      <td></td>\n",
       "      <td>0.2113</td>\n",
       "      <td>24</td>\n",
       "      <td></td>\n",
       "      <td></td>\n",
       "    </tr>\n",
       "    <tr>\n",
       "      <th>311671</th>\n",
       "      <td></td>\n",
       "      <td></td>\n",
       "      <td>CTG</td>\n",
       "      <td></td>\n",
       "      <td></td>\n",
       "      <td></td>\n",
       "      <td></td>\n",
       "      <td>connective tissue graft</td>\n",
       "      <td></td>\n",
       "      <td></td>\n",
       "      <td></td>\n",
       "      <td>ADAM</td>\n",
       "      <td></td>\n",
       "      <td></td>\n",
       "      <td></td>\n",
       "      <td>0.7103</td>\n",
       "      <td>10</td>\n",
       "      <td></td>\n",
       "      <td></td>\n",
       "    </tr>\n",
       "  </tbody>\n",
       "</table>\n",
       "</div>"
      ],
      "text/plain": [
       "       GroupID EntryID     SF SFUI NormSF NSFUI PrefSF  \\\n",
       "368728                  T-ALL                            \n",
       "320521                   Emax                            \n",
       "311671                    CTG                            \n",
       "\n",
       "                                          LF LFUI NormLF PrefLF Source SFEUI  \\\n",
       "368728  T cell acute lymphoblastic leukemias                      ADAM         \n",
       "320521                     maximal responses                      ADAM         \n",
       "311671               connective tissue graft                      ADAM         \n",
       "\n",
       "       LFEUI Type   Score Count Frequency UMLS.CUI  \n",
       "368728             0.7357   193                     \n",
       "320521             0.2113    24                     \n",
       "311671             0.7103    10                     "
      ]
     },
     "execution_count": 3,
     "metadata": {},
     "output_type": "execute_result"
    }
   ],
   "source": [
    "df.sample(3, random_state=0)"
   ]
  },
  {
   "cell_type": "markdown",
   "metadata": {},
   "source": [
    "## Add Entry Identifier"
   ]
  },
  {
   "cell_type": "markdown",
   "metadata": {},
   "source": [
    "#### Assign Entry Identifier"
   ]
  },
  {
   "cell_type": "code",
   "execution_count": 4,
   "metadata": {},
   "outputs": [],
   "source": [
    "assignment = 1\n",
    "for index, row in df.iterrows():\n",
    "    df['EntryID'].iat[index] = assignment\n",
    "    assignment += 1"
   ]
  },
  {
   "cell_type": "markdown",
   "metadata": {},
   "source": [
    "#### Format Entry Identifier"
   ]
  },
  {
   "cell_type": "code",
   "execution_count": 5,
   "metadata": {},
   "outputs": [
    {
     "data": {
      "text/html": [
       "<div>\n",
       "<style scoped>\n",
       "    .dataframe tbody tr th:only-of-type {\n",
       "        vertical-align: middle;\n",
       "    }\n",
       "\n",
       "    .dataframe tbody tr th {\n",
       "        vertical-align: top;\n",
       "    }\n",
       "\n",
       "    .dataframe thead th {\n",
       "        text-align: right;\n",
       "    }\n",
       "</style>\n",
       "<table border=\"1\" class=\"dataframe\">\n",
       "  <thead>\n",
       "    <tr style=\"text-align: right;\">\n",
       "      <th></th>\n",
       "      <th>GroupID</th>\n",
       "      <th>EntryID</th>\n",
       "      <th>SF</th>\n",
       "      <th>SFUI</th>\n",
       "      <th>NormSF</th>\n",
       "      <th>NSFUI</th>\n",
       "      <th>PrefSF</th>\n",
       "      <th>LF</th>\n",
       "      <th>LFUI</th>\n",
       "      <th>NormLF</th>\n",
       "      <th>PrefLF</th>\n",
       "      <th>Source</th>\n",
       "      <th>SFEUI</th>\n",
       "      <th>LFEUI</th>\n",
       "      <th>Type</th>\n",
       "      <th>Score</th>\n",
       "      <th>Count</th>\n",
       "      <th>Frequency</th>\n",
       "      <th>UMLS.CUI</th>\n",
       "    </tr>\n",
       "  </thead>\n",
       "  <tbody>\n",
       "    <tr>\n",
       "      <th>0</th>\n",
       "      <td></td>\n",
       "      <td>E000001</td>\n",
       "      <td>AA</td>\n",
       "      <td></td>\n",
       "      <td></td>\n",
       "      <td></td>\n",
       "      <td></td>\n",
       "      <td>achievement age</td>\n",
       "      <td></td>\n",
       "      <td></td>\n",
       "      <td></td>\n",
       "      <td>UMLS</td>\n",
       "      <td>E0000048</td>\n",
       "      <td>E0006859</td>\n",
       "      <td>acronym</td>\n",
       "      <td></td>\n",
       "      <td></td>\n",
       "      <td></td>\n",
       "      <td></td>\n",
       "    </tr>\n",
       "    <tr>\n",
       "      <th>1</th>\n",
       "      <td></td>\n",
       "      <td>E000002</td>\n",
       "      <td>AA</td>\n",
       "      <td></td>\n",
       "      <td></td>\n",
       "      <td></td>\n",
       "      <td></td>\n",
       "      <td>Alcoholics Anonymous</td>\n",
       "      <td></td>\n",
       "      <td></td>\n",
       "      <td></td>\n",
       "      <td>UMLS</td>\n",
       "      <td>E0000048</td>\n",
       "      <td>E0000204</td>\n",
       "      <td>acronym</td>\n",
       "      <td></td>\n",
       "      <td></td>\n",
       "      <td></td>\n",
       "      <td></td>\n",
       "    </tr>\n",
       "    <tr>\n",
       "      <th>2</th>\n",
       "      <td></td>\n",
       "      <td>E000003</td>\n",
       "      <td>AA</td>\n",
       "      <td></td>\n",
       "      <td></td>\n",
       "      <td></td>\n",
       "      <td></td>\n",
       "      <td>alcohol abuse</td>\n",
       "      <td></td>\n",
       "      <td></td>\n",
       "      <td></td>\n",
       "      <td>UMLS</td>\n",
       "      <td>E0000048</td>\n",
       "      <td>E0356324</td>\n",
       "      <td>acronym</td>\n",
       "      <td></td>\n",
       "      <td></td>\n",
       "      <td></td>\n",
       "      <td></td>\n",
       "    </tr>\n",
       "  </tbody>\n",
       "</table>\n",
       "</div>"
      ],
      "text/plain": [
       "  GroupID  EntryID  SF SFUI NormSF NSFUI PrefSF                    LF LFUI  \\\n",
       "0          E000001  AA                                achievement age        \n",
       "1          E000002  AA                           Alcoholics Anonymous        \n",
       "2          E000003  AA                                  alcohol abuse        \n",
       "\n",
       "  NormLF PrefLF Source     SFEUI     LFEUI     Type Score Count Frequency  \\\n",
       "0                 UMLS  E0000048  E0006859  acronym                         \n",
       "1                 UMLS  E0000048  E0000204  acronym                         \n",
       "2                 UMLS  E0000048  E0356324  acronym                         \n",
       "\n",
       "  UMLS.CUI  \n",
       "0           \n",
       "1           \n",
       "2           "
      ]
     },
     "execution_count": 5,
     "metadata": {},
     "output_type": "execute_result"
    }
   ],
   "source": [
    "df['EntryID'] = 'E' + (df.EntryID.map('{:06}'.format))\n",
    "df.head(3)"
   ]
  },
  {
   "cell_type": "markdown",
   "metadata": {
    "colab_type": "text",
    "id": "JS1aewrFmAjM"
   },
   "source": [
    "## Add Normalized Short Forms"
   ]
  },
  {
   "cell_type": "markdown",
   "metadata": {
    "colab_type": "text",
    "id": "MrMEO2ASmYd_"
   },
   "source": [
    "The normalized short form is created by:\n",
    "1. converting all text to lowercase; \n",
    "2. stripping leading and trailing whitespace;\n",
    "3. standardizing punctuation to an underscore."
   ]
  },
  {
   "cell_type": "code",
   "execution_count": 6,
   "metadata": {
    "colab": {},
    "colab_type": "code",
    "id": "U-4LszvTmD8t"
   },
   "outputs": [],
   "source": [
    "df['NormSF'] = df['SF'].apply(normalized_short_form)"
   ]
  },
  {
   "cell_type": "code",
   "execution_count": 7,
   "metadata": {
    "colab": {
     "base_uri": "https://localhost:8080/",
     "height": 136
    },
    "colab_type": "code",
    "id": "_sNISmlGK02c",
    "outputId": "2ae61aa7-b439-413e-b8f4-0c6ebecad724"
   },
   "outputs": [
    {
     "data": {
      "text/html": [
       "<div>\n",
       "<style scoped>\n",
       "    .dataframe tbody tr th:only-of-type {\n",
       "        vertical-align: middle;\n",
       "    }\n",
       "\n",
       "    .dataframe tbody tr th {\n",
       "        vertical-align: top;\n",
       "    }\n",
       "\n",
       "    .dataframe thead th {\n",
       "        text-align: right;\n",
       "    }\n",
       "</style>\n",
       "<table border=\"1\" class=\"dataframe\">\n",
       "  <thead>\n",
       "    <tr style=\"text-align: right;\">\n",
       "      <th></th>\n",
       "      <th>GroupID</th>\n",
       "      <th>EntryID</th>\n",
       "      <th>SF</th>\n",
       "      <th>SFUI</th>\n",
       "      <th>NormSF</th>\n",
       "      <th>NSFUI</th>\n",
       "      <th>PrefSF</th>\n",
       "      <th>LF</th>\n",
       "      <th>LFUI</th>\n",
       "      <th>NormLF</th>\n",
       "      <th>PrefLF</th>\n",
       "      <th>Source</th>\n",
       "      <th>SFEUI</th>\n",
       "      <th>LFEUI</th>\n",
       "      <th>Type</th>\n",
       "      <th>Score</th>\n",
       "      <th>Count</th>\n",
       "      <th>Frequency</th>\n",
       "      <th>UMLS.CUI</th>\n",
       "    </tr>\n",
       "  </thead>\n",
       "  <tbody>\n",
       "    <tr>\n",
       "      <th>368728</th>\n",
       "      <td></td>\n",
       "      <td>E368729</td>\n",
       "      <td>T-ALL</td>\n",
       "      <td></td>\n",
       "      <td>t_all</td>\n",
       "      <td></td>\n",
       "      <td></td>\n",
       "      <td>T cell acute lymphoblastic leukemias</td>\n",
       "      <td></td>\n",
       "      <td></td>\n",
       "      <td></td>\n",
       "      <td>ADAM</td>\n",
       "      <td></td>\n",
       "      <td></td>\n",
       "      <td></td>\n",
       "      <td>0.7357</td>\n",
       "      <td>193</td>\n",
       "      <td></td>\n",
       "      <td></td>\n",
       "    </tr>\n",
       "    <tr>\n",
       "      <th>320521</th>\n",
       "      <td></td>\n",
       "      <td>E320522</td>\n",
       "      <td>Emax</td>\n",
       "      <td></td>\n",
       "      <td>emax</td>\n",
       "      <td></td>\n",
       "      <td></td>\n",
       "      <td>maximal responses</td>\n",
       "      <td></td>\n",
       "      <td></td>\n",
       "      <td></td>\n",
       "      <td>ADAM</td>\n",
       "      <td></td>\n",
       "      <td></td>\n",
       "      <td></td>\n",
       "      <td>0.2113</td>\n",
       "      <td>24</td>\n",
       "      <td></td>\n",
       "      <td></td>\n",
       "    </tr>\n",
       "    <tr>\n",
       "      <th>311671</th>\n",
       "      <td></td>\n",
       "      <td>E311672</td>\n",
       "      <td>CTG</td>\n",
       "      <td></td>\n",
       "      <td>ctg</td>\n",
       "      <td></td>\n",
       "      <td></td>\n",
       "      <td>connective tissue graft</td>\n",
       "      <td></td>\n",
       "      <td></td>\n",
       "      <td></td>\n",
       "      <td>ADAM</td>\n",
       "      <td></td>\n",
       "      <td></td>\n",
       "      <td></td>\n",
       "      <td>0.7103</td>\n",
       "      <td>10</td>\n",
       "      <td></td>\n",
       "      <td></td>\n",
       "    </tr>\n",
       "  </tbody>\n",
       "</table>\n",
       "</div>"
      ],
      "text/plain": [
       "       GroupID  EntryID     SF SFUI NormSF NSFUI PrefSF  \\\n",
       "368728          E368729  T-ALL       t_all                \n",
       "320521          E320522   Emax        emax                \n",
       "311671          E311672    CTG         ctg                \n",
       "\n",
       "                                          LF LFUI NormLF PrefLF Source SFEUI  \\\n",
       "368728  T cell acute lymphoblastic leukemias                      ADAM         \n",
       "320521                     maximal responses                      ADAM         \n",
       "311671               connective tissue graft                      ADAM         \n",
       "\n",
       "       LFEUI Type   Score Count Frequency UMLS.CUI  \n",
       "368728             0.7357   193                     \n",
       "320521             0.2113    24                     \n",
       "311671             0.7103    10                     "
      ]
     },
     "execution_count": 7,
     "metadata": {},
     "output_type": "execute_result"
    }
   ],
   "source": [
    "df.sample(3, random_state=0)"
   ]
  },
  {
   "cell_type": "markdown",
   "metadata": {
    "colab_type": "text",
    "id": "-Ux5eO3YA8LI"
   },
   "source": [
    "## Add Normalized Long Forms"
   ]
  },
  {
   "cell_type": "markdown",
   "metadata": {
    "colab_type": "text",
    "id": "OLGwgUr2XhWW"
   },
   "source": [
    "Requires local installation of UMLS Lexical Variant Generation program, downloadable [here](https://www.nlm.nih.gov/research/umls/licensedcontent/umlsknowledgesources.html).\n",
    "\n",
    "Additional documentation available [here](https://www.ncbi.nlm.nih.gov/books/NBK9680/). Installation instructions available [here](https://lexsrv2.nlm.nih.gov/LexSysGroup/Projects/lvg/current/docs/userDoc/install/install.html).\n",
    "\n",
    "Here, we used version lvg2019 AB."
   ]
  },
  {
   "cell_type": "code",
   "execution_count": 8,
   "metadata": {
    "colab": {},
    "colab_type": "code",
    "id": "MroScxPBVVzQ"
   },
   "outputs": [],
   "source": [
    "lvg_path = 'C:/Users/lvg2104/Documents/clinical-abbreviations/modules/lvg2019/bin/lvg.bat'"
   ]
  },
  {
   "cell_type": "markdown",
   "metadata": {
    "colab_type": "text",
    "id": "VggAIVl7LtwT"
   },
   "source": [
    "#### Identify Non-ASCII Characters"
   ]
  },
  {
   "cell_type": "code",
   "execution_count": 9,
   "metadata": {
    "colab": {},
    "colab_type": "code",
    "id": "_bwIQjYmLz2W"
   },
   "outputs": [],
   "source": [
    "df['ASCII'] = 'Y'\n",
    "df.loc[df.LF.str.contains('[^\\x00-\\x7F]') == True, 'ASCII'] = 'N'"
   ]
  },
  {
   "cell_type": "markdown",
   "metadata": {
    "colab_type": "text",
    "id": "ouIQOZgxL-IN"
   },
   "source": [
    "#### Extract Unique LFs"
   ]
  },
  {
   "cell_type": "code",
   "execution_count": 10,
   "metadata": {},
   "outputs": [],
   "source": [
    "uniq_LFs = pd.Series(df.loc[df['ASCII']=='Y']['LF'].unique())"
   ]
  },
  {
   "cell_type": "code",
   "execution_count": 11,
   "metadata": {
    "colab": {},
    "colab_type": "code",
    "id": "ouv6aqTFNHQj"
   },
   "outputs": [],
   "source": [
    "uniq_LFs.to_csv('uniq_LFs.temp',\n",
    "                index=False,\n",
    "                header=False,\n",
    "                encoding='ascii')"
   ]
  },
  {
   "cell_type": "markdown",
   "metadata": {
    "colab_type": "text",
    "id": "KlOaz4fOMJF4"
   },
   "source": [
    "#### Call Lexical Variant Generation"
   ]
  },
  {
   "cell_type": "code",
   "execution_count": 12,
   "metadata": {
    "colab": {},
    "colab_type": "code",
    "id": "vGRLsgvqNjeW"
   },
   "outputs": [],
   "source": [
    "lvg_output = lvg(input_file='uniq_LFs.temp',\n",
    "                 flow='q0:g:rs:o:t:l:B:Ct:q7:q8',\n",
    "                 output_file='norm_LFs.temp',\n",
    "                 lvg_path=lvg_path)"
   ]
  },
  {
   "cell_type": "markdown",
   "metadata": {
    "colab_type": "text",
    "id": "iiJOQ6DIQl1e"
   },
   "source": [
    "#### Extract Normalized LFs"
   ]
  },
  {
   "cell_type": "code",
   "execution_count": 13,
   "metadata": {
    "colab": {},
    "colab_type": "code",
    "id": "3SLLyNBuRBjP"
   },
   "outputs": [],
   "source": [
    "norm_LFs = pd.read_csv('norm_LFs.temp',\n",
    "                       sep='|',\n",
    "                       header = None,\n",
    "                       usecols = [1])"
   ]
  },
  {
   "cell_type": "markdown",
   "metadata": {
    "colab_type": "text",
    "id": "yCSBZ1eUSNMt"
   },
   "source": [
    "#### Match Unique & Normalized LFs"
   ]
  },
  {
   "cell_type": "code",
   "execution_count": 14,
   "metadata": {},
   "outputs": [],
   "source": [
    "normed_df = pd.DataFrame()\n",
    "normed_df['LF'] = uniq_LFs\n",
    "normed_df['NormLF_temp'] = norm_LFs"
   ]
  },
  {
   "cell_type": "markdown",
   "metadata": {
    "colab_type": "text",
    "id": "hXnvoiKPRPUC"
   },
   "source": [
    "#### Populate Database"
   ]
  },
  {
   "cell_type": "code",
   "execution_count": 15,
   "metadata": {
    "scrolled": true
   },
   "outputs": [],
   "source": [
    "df = pd.merge(df, normed_df, how='left', on='LF')\n",
    "df['NormLF'] = df['NormLF_temp']"
   ]
  },
  {
   "cell_type": "code",
   "execution_count": 16,
   "metadata": {},
   "outputs": [],
   "source": [
    "df = df.drop(columns=['NormLF_temp', 'ASCII'])"
   ]
  },
  {
   "cell_type": "code",
   "execution_count": 17,
   "metadata": {},
   "outputs": [
    {
     "data": {
      "text/html": [
       "<div>\n",
       "<style scoped>\n",
       "    .dataframe tbody tr th:only-of-type {\n",
       "        vertical-align: middle;\n",
       "    }\n",
       "\n",
       "    .dataframe tbody tr th {\n",
       "        vertical-align: top;\n",
       "    }\n",
       "\n",
       "    .dataframe thead th {\n",
       "        text-align: right;\n",
       "    }\n",
       "</style>\n",
       "<table border=\"1\" class=\"dataframe\">\n",
       "  <thead>\n",
       "    <tr style=\"text-align: right;\">\n",
       "      <th></th>\n",
       "      <th>GroupID</th>\n",
       "      <th>EntryID</th>\n",
       "      <th>SF</th>\n",
       "      <th>SFUI</th>\n",
       "      <th>NormSF</th>\n",
       "      <th>NSFUI</th>\n",
       "      <th>PrefSF</th>\n",
       "      <th>LF</th>\n",
       "      <th>LFUI</th>\n",
       "      <th>NormLF</th>\n",
       "      <th>PrefLF</th>\n",
       "      <th>Source</th>\n",
       "      <th>SFEUI</th>\n",
       "      <th>LFEUI</th>\n",
       "      <th>Type</th>\n",
       "      <th>Score</th>\n",
       "      <th>Count</th>\n",
       "      <th>Frequency</th>\n",
       "      <th>UMLS.CUI</th>\n",
       "    </tr>\n",
       "  </thead>\n",
       "  <tbody>\n",
       "    <tr>\n",
       "      <th>368728</th>\n",
       "      <td></td>\n",
       "      <td>E368729</td>\n",
       "      <td>T-ALL</td>\n",
       "      <td></td>\n",
       "      <td>t_all</td>\n",
       "      <td></td>\n",
       "      <td></td>\n",
       "      <td>T cell acute lymphoblastic leukemias</td>\n",
       "      <td></td>\n",
       "      <td>T cell acute lymphoblastic leukemia</td>\n",
       "      <td></td>\n",
       "      <td>ADAM</td>\n",
       "      <td></td>\n",
       "      <td></td>\n",
       "      <td></td>\n",
       "      <td>0.7357</td>\n",
       "      <td>193</td>\n",
       "      <td></td>\n",
       "      <td></td>\n",
       "    </tr>\n",
       "    <tr>\n",
       "      <th>320521</th>\n",
       "      <td></td>\n",
       "      <td>E320522</td>\n",
       "      <td>Emax</td>\n",
       "      <td></td>\n",
       "      <td>emax</td>\n",
       "      <td></td>\n",
       "      <td></td>\n",
       "      <td>maximal responses</td>\n",
       "      <td></td>\n",
       "      <td>-No Output-</td>\n",
       "      <td></td>\n",
       "      <td>ADAM</td>\n",
       "      <td></td>\n",
       "      <td></td>\n",
       "      <td></td>\n",
       "      <td>0.2113</td>\n",
       "      <td>24</td>\n",
       "      <td></td>\n",
       "      <td></td>\n",
       "    </tr>\n",
       "    <tr>\n",
       "      <th>311671</th>\n",
       "      <td></td>\n",
       "      <td>E311672</td>\n",
       "      <td>CTG</td>\n",
       "      <td></td>\n",
       "      <td>ctg</td>\n",
       "      <td></td>\n",
       "      <td></td>\n",
       "      <td>connective tissue graft</td>\n",
       "      <td></td>\n",
       "      <td>connective tissue graft</td>\n",
       "      <td></td>\n",
       "      <td>ADAM</td>\n",
       "      <td></td>\n",
       "      <td></td>\n",
       "      <td></td>\n",
       "      <td>0.7103</td>\n",
       "      <td>10</td>\n",
       "      <td></td>\n",
       "      <td></td>\n",
       "    </tr>\n",
       "  </tbody>\n",
       "</table>\n",
       "</div>"
      ],
      "text/plain": [
       "       GroupID  EntryID     SF SFUI NormSF NSFUI PrefSF  \\\n",
       "368728          E368729  T-ALL       t_all                \n",
       "320521          E320522   Emax        emax                \n",
       "311671          E311672    CTG         ctg                \n",
       "\n",
       "                                          LF LFUI  \\\n",
       "368728  T cell acute lymphoblastic leukemias        \n",
       "320521                     maximal responses        \n",
       "311671               connective tissue graft        \n",
       "\n",
       "                                     NormLF PrefLF Source SFEUI LFEUI Type  \\\n",
       "368728  T cell acute lymphoblastic leukemia          ADAM                    \n",
       "320521                          -No Output-          ADAM                    \n",
       "311671              connective tissue graft          ADAM                    \n",
       "\n",
       "         Score Count Frequency UMLS.CUI  \n",
       "368728  0.7357   193                     \n",
       "320521  0.2113    24                     \n",
       "311671  0.7103    10                     "
      ]
     },
     "execution_count": 17,
     "metadata": {},
     "output_type": "execute_result"
    }
   ],
   "source": [
    "df.sample(3, random_state=0)"
   ]
  },
  {
   "cell_type": "markdown",
   "metadata": {},
   "source": [
    "#### Clean Environment"
   ]
  },
  {
   "cell_type": "code",
   "execution_count": 18,
   "metadata": {},
   "outputs": [
    {
     "data": {
      "text/html": [
       "<div>\n",
       "<style scoped>\n",
       "    .dataframe tbody tr th:only-of-type {\n",
       "        vertical-align: middle;\n",
       "    }\n",
       "\n",
       "    .dataframe tbody tr th {\n",
       "        vertical-align: top;\n",
       "    }\n",
       "\n",
       "    .dataframe thead th {\n",
       "        text-align: right;\n",
       "    }\n",
       "</style>\n",
       "<table border=\"1\" class=\"dataframe\">\n",
       "  <thead>\n",
       "    <tr style=\"text-align: right;\">\n",
       "      <th></th>\n",
       "      <th>GroupID</th>\n",
       "      <th>EntryID</th>\n",
       "      <th>SF</th>\n",
       "      <th>SFUI</th>\n",
       "      <th>NormSF</th>\n",
       "      <th>NSFUI</th>\n",
       "      <th>PrefSF</th>\n",
       "      <th>LF</th>\n",
       "      <th>LFUI</th>\n",
       "      <th>NormLF</th>\n",
       "      <th>PrefLF</th>\n",
       "      <th>Source</th>\n",
       "      <th>SFEUI</th>\n",
       "      <th>LFEUI</th>\n",
       "      <th>Type</th>\n",
       "      <th>Score</th>\n",
       "      <th>Count</th>\n",
       "      <th>Frequency</th>\n",
       "      <th>UMLS.CUI</th>\n",
       "    </tr>\n",
       "  </thead>\n",
       "  <tbody>\n",
       "    <tr>\n",
       "      <th>368728</th>\n",
       "      <td></td>\n",
       "      <td>E368729</td>\n",
       "      <td>T-ALL</td>\n",
       "      <td></td>\n",
       "      <td>t_all</td>\n",
       "      <td></td>\n",
       "      <td></td>\n",
       "      <td>T cell acute lymphoblastic leukemias</td>\n",
       "      <td></td>\n",
       "      <td>T cell acute lymphoblastic leukemia</td>\n",
       "      <td></td>\n",
       "      <td>ADAM</td>\n",
       "      <td></td>\n",
       "      <td></td>\n",
       "      <td></td>\n",
       "      <td>0.7357</td>\n",
       "      <td>193</td>\n",
       "      <td></td>\n",
       "      <td></td>\n",
       "    </tr>\n",
       "    <tr>\n",
       "      <th>320521</th>\n",
       "      <td></td>\n",
       "      <td>E320522</td>\n",
       "      <td>Emax</td>\n",
       "      <td></td>\n",
       "      <td>emax</td>\n",
       "      <td></td>\n",
       "      <td></td>\n",
       "      <td>maximal responses</td>\n",
       "      <td></td>\n",
       "      <td></td>\n",
       "      <td></td>\n",
       "      <td>ADAM</td>\n",
       "      <td></td>\n",
       "      <td></td>\n",
       "      <td></td>\n",
       "      <td>0.2113</td>\n",
       "      <td>24</td>\n",
       "      <td></td>\n",
       "      <td></td>\n",
       "    </tr>\n",
       "    <tr>\n",
       "      <th>311671</th>\n",
       "      <td></td>\n",
       "      <td>E311672</td>\n",
       "      <td>CTG</td>\n",
       "      <td></td>\n",
       "      <td>ctg</td>\n",
       "      <td></td>\n",
       "      <td></td>\n",
       "      <td>connective tissue graft</td>\n",
       "      <td></td>\n",
       "      <td>connective tissue graft</td>\n",
       "      <td></td>\n",
       "      <td>ADAM</td>\n",
       "      <td></td>\n",
       "      <td></td>\n",
       "      <td></td>\n",
       "      <td>0.7103</td>\n",
       "      <td>10</td>\n",
       "      <td></td>\n",
       "      <td></td>\n",
       "    </tr>\n",
       "  </tbody>\n",
       "</table>\n",
       "</div>"
      ],
      "text/plain": [
       "       GroupID  EntryID     SF SFUI NormSF NSFUI PrefSF  \\\n",
       "368728          E368729  T-ALL       t_all                \n",
       "320521          E320522   Emax        emax                \n",
       "311671          E311672    CTG         ctg                \n",
       "\n",
       "                                          LF LFUI  \\\n",
       "368728  T cell acute lymphoblastic leukemias        \n",
       "320521                     maximal responses        \n",
       "311671               connective tissue graft        \n",
       "\n",
       "                                     NormLF PrefLF Source SFEUI LFEUI Type  \\\n",
       "368728  T cell acute lymphoblastic leukemia          ADAM                    \n",
       "320521                                               ADAM                    \n",
       "311671              connective tissue graft          ADAM                    \n",
       "\n",
       "         Score Count Frequency UMLS.CUI  \n",
       "368728  0.7357   193                     \n",
       "320521  0.2113    24                     \n",
       "311671  0.7103    10                     "
      ]
     },
     "execution_count": 18,
     "metadata": {},
     "output_type": "execute_result"
    }
   ],
   "source": [
    "df = df.replace('-No Output-', '')\n",
    "df.sample(3, random_state=0)"
   ]
  },
  {
   "cell_type": "code",
   "execution_count": 19,
   "metadata": {},
   "outputs": [],
   "source": [
    "os.remove('uniq_LFs.temp')\n",
    "os.remove('norm_LFs.temp')"
   ]
  },
  {
   "cell_type": "markdown",
   "metadata": {
    "colab_type": "text",
    "id": "ZvRH3GMY-dWb"
   },
   "source": [
    "## Add Short Form Unique Identifier"
   ]
  },
  {
   "cell_type": "markdown",
   "metadata": {
    "colab_type": "text",
    "id": "XXsqapZI-kUW"
   },
   "source": [
    "#### Sort by SF"
   ]
  },
  {
   "cell_type": "code",
   "execution_count": 20,
   "metadata": {
    "colab": {},
    "colab_type": "code",
    "id": "2-s1VEXj-mrZ"
   },
   "outputs": [],
   "source": [
    "df = df.sort_values(by=['SF'])\n",
    "df = df.reset_index(drop=True)"
   ]
  },
  {
   "cell_type": "markdown",
   "metadata": {
    "colab_type": "text",
    "id": "PdwOr71P-nIV"
   },
   "source": [
    "#### Assign SFUI"
   ]
  },
  {
   "cell_type": "code",
   "execution_count": 21,
   "metadata": {
    "colab": {},
    "colab_type": "code",
    "id": "1EIwrnJh-o2A"
   },
   "outputs": [],
   "source": [
    "assignment = 1\n",
    "for index, row in df.iterrows():\n",
    "    if index == 0:\n",
    "        df['SFUI'].iat[index] = assignment\n",
    "    elif df['SF'].at[index] == df['SF'].at[index-1]:\n",
    "        df['SFUI'].iat[index] = assignment\n",
    "    else:\n",
    "        assignment += 1\n",
    "        df['SFUI'].iat[index] = assignment"
   ]
  },
  {
   "cell_type": "markdown",
   "metadata": {
    "colab_type": "text",
    "id": "PUFnSIsU-pRx"
   },
   "source": [
    "#### Format SFUI"
   ]
  },
  {
   "cell_type": "code",
   "execution_count": 22,
   "metadata": {
    "colab": {},
    "colab_type": "code",
    "id": "hTavkERx-rfu"
   },
   "outputs": [
    {
     "data": {
      "text/html": [
       "<div>\n",
       "<style scoped>\n",
       "    .dataframe tbody tr th:only-of-type {\n",
       "        vertical-align: middle;\n",
       "    }\n",
       "\n",
       "    .dataframe tbody tr th {\n",
       "        vertical-align: top;\n",
       "    }\n",
       "\n",
       "    .dataframe thead th {\n",
       "        text-align: right;\n",
       "    }\n",
       "</style>\n",
       "<table border=\"1\" class=\"dataframe\">\n",
       "  <thead>\n",
       "    <tr style=\"text-align: right;\">\n",
       "      <th></th>\n",
       "      <th>GroupID</th>\n",
       "      <th>EntryID</th>\n",
       "      <th>SF</th>\n",
       "      <th>SFUI</th>\n",
       "      <th>NormSF</th>\n",
       "      <th>NSFUI</th>\n",
       "      <th>PrefSF</th>\n",
       "      <th>LF</th>\n",
       "      <th>LFUI</th>\n",
       "      <th>NormLF</th>\n",
       "      <th>PrefLF</th>\n",
       "      <th>Source</th>\n",
       "      <th>SFEUI</th>\n",
       "      <th>LFEUI</th>\n",
       "      <th>Type</th>\n",
       "      <th>Score</th>\n",
       "      <th>Count</th>\n",
       "      <th>Frequency</th>\n",
       "      <th>UMLS.CUI</th>\n",
       "    </tr>\n",
       "  </thead>\n",
       "  <tbody>\n",
       "    <tr>\n",
       "      <th>0</th>\n",
       "      <td></td>\n",
       "      <td>E294485</td>\n",
       "      <td>$Can</td>\n",
       "      <td>S000001</td>\n",
       "      <td>_can</td>\n",
       "      <td></td>\n",
       "      <td></td>\n",
       "      <td>Canadian dollars</td>\n",
       "      <td></td>\n",
       "      <td></td>\n",
       "      <td></td>\n",
       "      <td>ADAM</td>\n",
       "      <td></td>\n",
       "      <td></td>\n",
       "      <td></td>\n",
       "      <td>0.8365</td>\n",
       "      <td>18</td>\n",
       "      <td></td>\n",
       "      <td></td>\n",
       "    </tr>\n",
       "    <tr>\n",
       "      <th>1</th>\n",
       "      <td></td>\n",
       "      <td>E389142</td>\n",
       "      <td>%</td>\n",
       "      <td>S000002</td>\n",
       "      <td>_</td>\n",
       "      <td></td>\n",
       "      <td></td>\n",
       "      <td>percent</td>\n",
       "      <td></td>\n",
       "      <td>percent</td>\n",
       "      <td></td>\n",
       "      <td>Berman</td>\n",
       "      <td></td>\n",
       "      <td></td>\n",
       "      <td></td>\n",
       "      <td></td>\n",
       "      <td></td>\n",
       "      <td></td>\n",
       "      <td></td>\n",
       "    </tr>\n",
       "    <tr>\n",
       "      <th>2</th>\n",
       "      <td></td>\n",
       "      <td>E126776</td>\n",
       "      <td>%LN</td>\n",
       "      <td>S000003</td>\n",
       "      <td>_ln</td>\n",
       "      <td></td>\n",
       "      <td></td>\n",
       "      <td>percent lumenal narrowing</td>\n",
       "      <td></td>\n",
       "      <td>percent lumenal narrowing</td>\n",
       "      <td></td>\n",
       "      <td>UMLS</td>\n",
       "      <td>E0665149</td>\n",
       "      <td>E0665148</td>\n",
       "      <td>abbreviation</td>\n",
       "      <td></td>\n",
       "      <td></td>\n",
       "      <td></td>\n",
       "      <td></td>\n",
       "    </tr>\n",
       "    <tr>\n",
       "      <th>3</th>\n",
       "      <td></td>\n",
       "      <td>E126777</td>\n",
       "      <td>%LN</td>\n",
       "      <td>S000003</td>\n",
       "      <td>_ln</td>\n",
       "      <td></td>\n",
       "      <td></td>\n",
       "      <td>percent luminal narrowing</td>\n",
       "      <td></td>\n",
       "      <td>percent lumenal narrowing</td>\n",
       "      <td></td>\n",
       "      <td>UMLS</td>\n",
       "      <td>E0665149</td>\n",
       "      <td>E0665148</td>\n",
       "      <td>abbreviation</td>\n",
       "      <td></td>\n",
       "      <td></td>\n",
       "      <td></td>\n",
       "      <td></td>\n",
       "    </tr>\n",
       "    <tr>\n",
       "      <th>4</th>\n",
       "      <td></td>\n",
       "      <td>E126778</td>\n",
       "      <td>%LN</td>\n",
       "      <td>S000003</td>\n",
       "      <td>_ln</td>\n",
       "      <td></td>\n",
       "      <td></td>\n",
       "      <td>per cent lumenal narrowing</td>\n",
       "      <td></td>\n",
       "      <td>percent lumenal narrowing</td>\n",
       "      <td></td>\n",
       "      <td>UMLS</td>\n",
       "      <td>E0665149</td>\n",
       "      <td>E0665148</td>\n",
       "      <td>abbreviation</td>\n",
       "      <td></td>\n",
       "      <td></td>\n",
       "      <td></td>\n",
       "      <td></td>\n",
       "    </tr>\n",
       "  </tbody>\n",
       "</table>\n",
       "</div>"
      ],
      "text/plain": [
       "  GroupID  EntryID    SF     SFUI NormSF NSFUI PrefSF  \\\n",
       "0          E294485  $Can  S000001   _can                \n",
       "1          E389142     %  S000002      _                \n",
       "2          E126776   %LN  S000003    _ln                \n",
       "3          E126777   %LN  S000003    _ln                \n",
       "4          E126778   %LN  S000003    _ln                \n",
       "\n",
       "                           LF LFUI                     NormLF PrefLF  Source  \\\n",
       "0            Canadian dollars                                           ADAM   \n",
       "1                     percent                         percent         Berman   \n",
       "2   percent lumenal narrowing       percent lumenal narrowing           UMLS   \n",
       "3   percent luminal narrowing       percent lumenal narrowing           UMLS   \n",
       "4  per cent lumenal narrowing       percent lumenal narrowing           UMLS   \n",
       "\n",
       "      SFEUI     LFEUI          Type   Score Count Frequency UMLS.CUI  \n",
       "0                                    0.8365    18                     \n",
       "1                                                                     \n",
       "2  E0665149  E0665148  abbreviation                                   \n",
       "3  E0665149  E0665148  abbreviation                                   \n",
       "4  E0665149  E0665148  abbreviation                                   "
      ]
     },
     "execution_count": 22,
     "metadata": {},
     "output_type": "execute_result"
    }
   ],
   "source": [
    "df['SFUI'] = 'S' + (df.SFUI.map('{:06}'.format))\n",
    "df.head(5)"
   ]
  },
  {
   "cell_type": "markdown",
   "metadata": {
    "colab_type": "text",
    "id": "kinCh32p-sPg"
   },
   "source": [
    "## Add Long Form Unique Identifier"
   ]
  },
  {
   "cell_type": "markdown",
   "metadata": {
    "colab_type": "text",
    "id": "nv_D2L4P-wjF"
   },
   "source": [
    "#### Sort by LF"
   ]
  },
  {
   "cell_type": "code",
   "execution_count": 23,
   "metadata": {
    "colab": {},
    "colab_type": "code",
    "id": "NB3dqtKG-xwm"
   },
   "outputs": [],
   "source": [
    "df = df.sort_values(by=['LF'])\n",
    "df = df.reset_index(drop=True)"
   ]
  },
  {
   "cell_type": "markdown",
   "metadata": {
    "colab_type": "text",
    "id": "aKVXx2ZC-yGI"
   },
   "source": [
    "#### Assign LFUI"
   ]
  },
  {
   "cell_type": "code",
   "execution_count": 24,
   "metadata": {
    "colab": {},
    "colab_type": "code",
    "id": "FzPpQpPa-2Px"
   },
   "outputs": [],
   "source": [
    "assignment = 1\n",
    "for index, row in df.iterrows():\n",
    "    if index == 0:\n",
    "        df['LFUI'].iat[index] = assignment\n",
    "    elif df['LF'].at[index] == df['LF'].at[index-1]:\n",
    "        df['LFUI'].iat[index] = assignment\n",
    "    else:\n",
    "        assignment += 1\n",
    "        df['LFUI'].iat[index] = assignment"
   ]
  },
  {
   "cell_type": "markdown",
   "metadata": {
    "colab_type": "text",
    "id": "6G48APvr-zWL"
   },
   "source": [
    "#### Format LFUI"
   ]
  },
  {
   "cell_type": "code",
   "execution_count": 25,
   "metadata": {
    "colab": {},
    "colab_type": "code",
    "id": "AsPHjBeT-1yB"
   },
   "outputs": [
    {
     "data": {
      "text/html": [
       "<div>\n",
       "<style scoped>\n",
       "    .dataframe tbody tr th:only-of-type {\n",
       "        vertical-align: middle;\n",
       "    }\n",
       "\n",
       "    .dataframe tbody tr th {\n",
       "        vertical-align: top;\n",
       "    }\n",
       "\n",
       "    .dataframe thead th {\n",
       "        text-align: right;\n",
       "    }\n",
       "</style>\n",
       "<table border=\"1\" class=\"dataframe\">\n",
       "  <thead>\n",
       "    <tr style=\"text-align: right;\">\n",
       "      <th></th>\n",
       "      <th>GroupID</th>\n",
       "      <th>EntryID</th>\n",
       "      <th>SF</th>\n",
       "      <th>SFUI</th>\n",
       "      <th>NormSF</th>\n",
       "      <th>NSFUI</th>\n",
       "      <th>PrefSF</th>\n",
       "      <th>LF</th>\n",
       "      <th>LFUI</th>\n",
       "      <th>NormLF</th>\n",
       "      <th>PrefLF</th>\n",
       "      <th>Source</th>\n",
       "      <th>SFEUI</th>\n",
       "      <th>LFEUI</th>\n",
       "      <th>Type</th>\n",
       "      <th>Score</th>\n",
       "      <th>Count</th>\n",
       "      <th>Frequency</th>\n",
       "      <th>UMLS.CUI</th>\n",
       "    </tr>\n",
       "  </thead>\n",
       "  <tbody>\n",
       "    <tr>\n",
       "      <th>0</th>\n",
       "      <td></td>\n",
       "      <td>E315532</td>\n",
       "      <td>DNIC</td>\n",
       "      <td>S019528</td>\n",
       "      <td>dnic</td>\n",
       "      <td></td>\n",
       "      <td></td>\n",
       "      <td>'diffuse noxious inhibitory controls'</td>\n",
       "      <td>L000001</td>\n",
       "      <td>diffuse noxious inhibitory control</td>\n",
       "      <td></td>\n",
       "      <td>ADAM</td>\n",
       "      <td></td>\n",
       "      <td></td>\n",
       "      <td></td>\n",
       "      <td>0.7571</td>\n",
       "      <td>95</td>\n",
       "      <td></td>\n",
       "      <td></td>\n",
       "    </tr>\n",
       "    <tr>\n",
       "      <th>1</th>\n",
       "      <td></td>\n",
       "      <td>E315587</td>\n",
       "      <td>DNR</td>\n",
       "      <td>S019572</td>\n",
       "      <td>dnr</td>\n",
       "      <td></td>\n",
       "      <td></td>\n",
       "      <td>'do not resuscitate'</td>\n",
       "      <td>L000002</td>\n",
       "      <td>do not resuscitate</td>\n",
       "      <td></td>\n",
       "      <td>ADAM</td>\n",
       "      <td></td>\n",
       "      <td></td>\n",
       "      <td></td>\n",
       "      <td>0.5856</td>\n",
       "      <td>196</td>\n",
       "      <td></td>\n",
       "      <td></td>\n",
       "    </tr>\n",
       "    <tr>\n",
       "      <th>2</th>\n",
       "      <td></td>\n",
       "      <td>E135924</td>\n",
       "      <td>PHNO</td>\n",
       "      <td>S054986</td>\n",
       "      <td>phno</td>\n",
       "      <td></td>\n",
       "      <td></td>\n",
       "      <td>(+)-4-propyl-9-hydroxynaphthoxazine</td>\n",
       "      <td>L000003</td>\n",
       "      <td></td>\n",
       "      <td></td>\n",
       "      <td>UMLS</td>\n",
       "      <td>E0672582</td>\n",
       "      <td></td>\n",
       "      <td>acronym</td>\n",
       "      <td></td>\n",
       "      <td></td>\n",
       "      <td></td>\n",
       "      <td></td>\n",
       "    </tr>\n",
       "    <tr>\n",
       "      <th>3</th>\n",
       "      <td></td>\n",
       "      <td>E354603</td>\n",
       "      <td>PHNO</td>\n",
       "      <td>S054986</td>\n",
       "      <td>phno</td>\n",
       "      <td></td>\n",
       "      <td></td>\n",
       "      <td>(+)-4-propyl-9-hydroxynaphthoxazine</td>\n",
       "      <td>L000003</td>\n",
       "      <td></td>\n",
       "      <td></td>\n",
       "      <td>ADAM</td>\n",
       "      <td></td>\n",
       "      <td></td>\n",
       "      <td></td>\n",
       "      <td>0.5417</td>\n",
       "      <td>14</td>\n",
       "      <td></td>\n",
       "      <td></td>\n",
       "    </tr>\n",
       "    <tr>\n",
       "      <th>4</th>\n",
       "      <td></td>\n",
       "      <td>E342751</td>\n",
       "      <td>MK-801</td>\n",
       "      <td>S044573</td>\n",
       "      <td>mk_801</td>\n",
       "      <td></td>\n",
       "      <td></td>\n",
       "      <td>(+)-5-methyl-10,11-dihydro-5H-dibenzo[a,d]cycl...</td>\n",
       "      <td>L000004</td>\n",
       "      <td></td>\n",
       "      <td></td>\n",
       "      <td>ADAM</td>\n",
       "      <td></td>\n",
       "      <td></td>\n",
       "      <td></td>\n",
       "      <td>0.0146</td>\n",
       "      <td>15</td>\n",
       "      <td></td>\n",
       "      <td></td>\n",
       "    </tr>\n",
       "  </tbody>\n",
       "</table>\n",
       "</div>"
      ],
      "text/plain": [
       "  GroupID  EntryID      SF     SFUI  NormSF NSFUI PrefSF  \\\n",
       "0          E315532    DNIC  S019528    dnic                \n",
       "1          E315587     DNR  S019572     dnr                \n",
       "2          E135924    PHNO  S054986    phno                \n",
       "3          E354603    PHNO  S054986    phno                \n",
       "4          E342751  MK-801  S044573  mk_801                \n",
       "\n",
       "                                                  LF     LFUI  \\\n",
       "0              'diffuse noxious inhibitory controls'  L000001   \n",
       "1                               'do not resuscitate'  L000002   \n",
       "2                (+)-4-propyl-9-hydroxynaphthoxazine  L000003   \n",
       "3                (+)-4-propyl-9-hydroxynaphthoxazine  L000003   \n",
       "4  (+)-5-methyl-10,11-dihydro-5H-dibenzo[a,d]cycl...  L000004   \n",
       "\n",
       "                               NormLF PrefLF Source     SFEUI LFEUI     Type  \\\n",
       "0  diffuse noxious inhibitory control          ADAM                            \n",
       "1                  do not resuscitate          ADAM                            \n",
       "2                                              UMLS  E0672582        acronym   \n",
       "3                                              ADAM                            \n",
       "4                                              ADAM                            \n",
       "\n",
       "    Score Count Frequency UMLS.CUI  \n",
       "0  0.7571    95                     \n",
       "1  0.5856   196                     \n",
       "2                                   \n",
       "3  0.5417    14                     \n",
       "4  0.0146    15                     "
      ]
     },
     "execution_count": 25,
     "metadata": {},
     "output_type": "execute_result"
    }
   ],
   "source": [
    "df['LFUI'] = 'L' + (df.LFUI.map('{:06}'.format))\n",
    "df.head(5)"
   ]
  },
  {
   "cell_type": "markdown",
   "metadata": {},
   "source": [
    "## Add Normalized Short Form Unique Identifier"
   ]
  },
  {
   "cell_type": "markdown",
   "metadata": {},
   "source": [
    "#### Sort by NormSF"
   ]
  },
  {
   "cell_type": "code",
   "execution_count": 26,
   "metadata": {},
   "outputs": [],
   "source": [
    "df = df.sort_values(by=['NormSF'])\n",
    "df = df.reset_index(drop=True)"
   ]
  },
  {
   "cell_type": "markdown",
   "metadata": {},
   "source": [
    "#### Add NSFUI"
   ]
  },
  {
   "cell_type": "code",
   "execution_count": 27,
   "metadata": {},
   "outputs": [],
   "source": [
    "assignment = 1\n",
    "for index, row in df.iterrows():\n",
    "    if index == 0:\n",
    "        df['NSFUI'].iat[index] = assignment\n",
    "    elif df['NormSF'].at[index] == df['NormSF'].at[index-1]:\n",
    "        df['NSFUI'].iat[index] = assignment\n",
    "    else:\n",
    "        assignment += 1\n",
    "        df['NSFUI'].iat[index] = assignment"
   ]
  },
  {
   "cell_type": "markdown",
   "metadata": {},
   "source": [
    "#### Format NSFUI"
   ]
  },
  {
   "cell_type": "code",
   "execution_count": 28,
   "metadata": {},
   "outputs": [
    {
     "data": {
      "text/html": [
       "<div>\n",
       "<style scoped>\n",
       "    .dataframe tbody tr th:only-of-type {\n",
       "        vertical-align: middle;\n",
       "    }\n",
       "\n",
       "    .dataframe tbody tr th {\n",
       "        vertical-align: top;\n",
       "    }\n",
       "\n",
       "    .dataframe thead th {\n",
       "        text-align: right;\n",
       "    }\n",
       "</style>\n",
       "<table border=\"1\" class=\"dataframe\">\n",
       "  <thead>\n",
       "    <tr style=\"text-align: right;\">\n",
       "      <th></th>\n",
       "      <th>GroupID</th>\n",
       "      <th>EntryID</th>\n",
       "      <th>SF</th>\n",
       "      <th>SFUI</th>\n",
       "      <th>NormSF</th>\n",
       "      <th>NSFUI</th>\n",
       "      <th>PrefSF</th>\n",
       "      <th>LF</th>\n",
       "      <th>LFUI</th>\n",
       "      <th>NormLF</th>\n",
       "      <th>PrefLF</th>\n",
       "      <th>Source</th>\n",
       "      <th>SFEUI</th>\n",
       "      <th>LFEUI</th>\n",
       "      <th>Type</th>\n",
       "      <th>Score</th>\n",
       "      <th>Count</th>\n",
       "      <th>Frequency</th>\n",
       "      <th>UMLS.CUI</th>\n",
       "    </tr>\n",
       "  </thead>\n",
       "  <tbody>\n",
       "    <tr>\n",
       "      <th>0</th>\n",
       "      <td></td>\n",
       "      <td>E287800</td>\n",
       "      <td>10 m walk test</td>\n",
       "      <td>S000333</td>\n",
       "      <td>10 m walk test</td>\n",
       "      <td>N000001</td>\n",
       "      <td></td>\n",
       "      <td>ten-metre walk test</td>\n",
       "      <td>L155194</td>\n",
       "      <td>10 Meter Walk Test</td>\n",
       "      <td></td>\n",
       "      <td>UMLS</td>\n",
       "      <td>E0765285</td>\n",
       "      <td>E0765283</td>\n",
       "      <td>abbreviation</td>\n",
       "      <td></td>\n",
       "      <td></td>\n",
       "      <td></td>\n",
       "      <td></td>\n",
       "    </tr>\n",
       "    <tr>\n",
       "      <th>1</th>\n",
       "      <td></td>\n",
       "      <td>E287796</td>\n",
       "      <td>10 m walk test</td>\n",
       "      <td>S000333</td>\n",
       "      <td>10 m walk test</td>\n",
       "      <td>N000001</td>\n",
       "      <td></td>\n",
       "      <td>10-metre walk test</td>\n",
       "      <td>L000561</td>\n",
       "      <td>10 Meter Walk Test</td>\n",
       "      <td></td>\n",
       "      <td>UMLS</td>\n",
       "      <td>E0765285</td>\n",
       "      <td>E0765283</td>\n",
       "      <td>abbreviation</td>\n",
       "      <td></td>\n",
       "      <td></td>\n",
       "      <td></td>\n",
       "      <td></td>\n",
       "    </tr>\n",
       "    <tr>\n",
       "      <th>2</th>\n",
       "      <td></td>\n",
       "      <td>E287799</td>\n",
       "      <td>10 m walk test</td>\n",
       "      <td>S000333</td>\n",
       "      <td>10 m walk test</td>\n",
       "      <td>N000001</td>\n",
       "      <td></td>\n",
       "      <td>ten-meter walk test</td>\n",
       "      <td>L155193</td>\n",
       "      <td>10 Meter Walk Test</td>\n",
       "      <td></td>\n",
       "      <td>UMLS</td>\n",
       "      <td>E0765285</td>\n",
       "      <td>E0765283</td>\n",
       "      <td>abbreviation</td>\n",
       "      <td></td>\n",
       "      <td></td>\n",
       "      <td></td>\n",
       "      <td></td>\n",
       "    </tr>\n",
       "    <tr>\n",
       "      <th>3</th>\n",
       "      <td></td>\n",
       "      <td>E287795</td>\n",
       "      <td>10 m walk test</td>\n",
       "      <td>S000333</td>\n",
       "      <td>10 m walk test</td>\n",
       "      <td>N000001</td>\n",
       "      <td></td>\n",
       "      <td>10-meter walk test</td>\n",
       "      <td>L000560</td>\n",
       "      <td>10 Meter Walk Test</td>\n",
       "      <td></td>\n",
       "      <td>UMLS</td>\n",
       "      <td>E0765285</td>\n",
       "      <td>E0765283</td>\n",
       "      <td>abbreviation</td>\n",
       "      <td></td>\n",
       "      <td></td>\n",
       "      <td></td>\n",
       "      <td></td>\n",
       "    </tr>\n",
       "    <tr>\n",
       "      <th>4</th>\n",
       "      <td></td>\n",
       "      <td>E287792</td>\n",
       "      <td>10 m walk test</td>\n",
       "      <td>S000333</td>\n",
       "      <td>10 m walk test</td>\n",
       "      <td>N000001</td>\n",
       "      <td></td>\n",
       "      <td>ten metre walk test</td>\n",
       "      <td>L155188</td>\n",
       "      <td>10 Meter Walk Test</td>\n",
       "      <td></td>\n",
       "      <td>UMLS</td>\n",
       "      <td>E0765285</td>\n",
       "      <td>E0765283</td>\n",
       "      <td>abbreviation</td>\n",
       "      <td></td>\n",
       "      <td></td>\n",
       "      <td></td>\n",
       "      <td></td>\n",
       "    </tr>\n",
       "  </tbody>\n",
       "</table>\n",
       "</div>"
      ],
      "text/plain": [
       "  GroupID  EntryID              SF     SFUI          NormSF    NSFUI PrefSF  \\\n",
       "0          E287800  10 m walk test  S000333  10 m walk test  N000001          \n",
       "1          E287796  10 m walk test  S000333  10 m walk test  N000001          \n",
       "2          E287799  10 m walk test  S000333  10 m walk test  N000001          \n",
       "3          E287795  10 m walk test  S000333  10 m walk test  N000001          \n",
       "4          E287792  10 m walk test  S000333  10 m walk test  N000001          \n",
       "\n",
       "                    LF     LFUI              NormLF PrefLF Source     SFEUI  \\\n",
       "0  ten-metre walk test  L155194  10 Meter Walk Test          UMLS  E0765285   \n",
       "1   10-metre walk test  L000561  10 Meter Walk Test          UMLS  E0765285   \n",
       "2  ten-meter walk test  L155193  10 Meter Walk Test          UMLS  E0765285   \n",
       "3   10-meter walk test  L000560  10 Meter Walk Test          UMLS  E0765285   \n",
       "4  ten metre walk test  L155188  10 Meter Walk Test          UMLS  E0765285   \n",
       "\n",
       "      LFEUI          Type Score Count Frequency UMLS.CUI  \n",
       "0  E0765283  abbreviation                                 \n",
       "1  E0765283  abbreviation                                 \n",
       "2  E0765283  abbreviation                                 \n",
       "3  E0765283  abbreviation                                 \n",
       "4  E0765283  abbreviation                                 "
      ]
     },
     "execution_count": 28,
     "metadata": {},
     "output_type": "execute_result"
    }
   ],
   "source": [
    "df['NSFUI'] = 'N' + (df.NSFUI.map('{:06}'.format))\n",
    "df.head(5)"
   ]
  },
  {
   "cell_type": "markdown",
   "metadata": {
    "colab_type": "text",
    "id": "8T4J_b9rBKBq"
   },
   "source": [
    "## Export"
   ]
  },
  {
   "cell_type": "code",
   "execution_count": 29,
   "metadata": {},
   "outputs": [],
   "source": [
    "df = df.sort_values(by=['EntryID'])\n",
    "df = df.reset_index(drop=True)"
   ]
  },
  {
   "cell_type": "code",
   "execution_count": 30,
   "metadata": {
    "colab": {},
    "colab_type": "code",
    "id": "q5Gt-aCcP8bt"
   },
   "outputs": [],
   "source": [
    "df.to_csv('Step2Output_Clinical_Abbreviation_Acronym_Crosswalk.csv',\n",
    "          index=False,\n",
    "          header=True,\n",
    "          sep='|')"
   ]
  }
 ],
 "metadata": {
  "colab": {
   "collapsed_sections": [],
   "name": "Step2_Add_Information.ipynb",
   "provenance": []
  },
  "kernelspec": {
   "display_name": "Python 3",
   "language": "python",
   "name": "python3"
  },
  "language_info": {
   "codemirror_mode": {
    "name": "ipython",
    "version": 3
   },
   "file_extension": ".py",
   "mimetype": "text/x-python",
   "name": "python",
   "nbconvert_exporter": "python",
   "pygments_lexer": "ipython3",
   "version": "3.6.8"
  }
 },
 "nbformat": 4,
 "nbformat_minor": 1
}
