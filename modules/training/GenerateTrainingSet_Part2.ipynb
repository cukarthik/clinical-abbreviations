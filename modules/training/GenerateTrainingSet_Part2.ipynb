{
 "cells": [
  {
   "cell_type": "markdown",
   "metadata": {},
   "source": [
    "# Generate Training Set (Part 2)"
   ]
  },
  {
   "cell_type": "markdown",
   "metadata": {},
   "source": [
    "These training sets compare long forms within each NSF."
   ]
  },
  {
   "cell_type": "markdown",
   "metadata": {},
   "source": [
    "## Setup"
   ]
  },
  {
   "cell_type": "code",
   "execution_count": 1,
   "metadata": {},
   "outputs": [],
   "source": [
    "import pandas as pd\n",
    "import numpy as np\n",
    "import itertools\n",
    "from fuzzywuzzy import fuzz"
   ]
  },
  {
   "cell_type": "markdown",
   "metadata": {},
   "source": [
    "#### Load Dataset"
   ]
  },
  {
   "cell_type": "code",
   "execution_count": 2,
   "metadata": {},
   "outputs": [],
   "source": [
    "df = pd.read_csv('https://raw.githubusercontent.com/lisavirginia/clinical-abbreviations/master/modules/Step2Output_Clinical_Abbreviation_Acronym_Crosswalk.csv',\n",
    "                 sep='|',\n",
    "                 header=0,\n",
    "                 index_col=False,\n",
    "                 na_filter=False,\n",
    "                 dtype=object)"
   ]
  },
  {
   "cell_type": "code",
   "execution_count": 3,
   "metadata": {},
   "outputs": [
    {
     "data": {
      "text/html": [
       "<div>\n",
       "<style scoped>\n",
       "    .dataframe tbody tr th:only-of-type {\n",
       "        vertical-align: middle;\n",
       "    }\n",
       "\n",
       "    .dataframe tbody tr th {\n",
       "        vertical-align: top;\n",
       "    }\n",
       "\n",
       "    .dataframe thead th {\n",
       "        text-align: right;\n",
       "    }\n",
       "</style>\n",
       "<table border=\"1\" class=\"dataframe\">\n",
       "  <thead>\n",
       "    <tr style=\"text-align: right;\">\n",
       "      <th></th>\n",
       "      <th>GroupID</th>\n",
       "      <th>EntryID</th>\n",
       "      <th>SF</th>\n",
       "      <th>SFUI</th>\n",
       "      <th>NormSF</th>\n",
       "      <th>NSFUI</th>\n",
       "      <th>PrefSF</th>\n",
       "      <th>LF</th>\n",
       "      <th>LFUI</th>\n",
       "      <th>NormLF</th>\n",
       "      <th>PrefLF</th>\n",
       "      <th>Source</th>\n",
       "      <th>SFEUI</th>\n",
       "      <th>LFEUI</th>\n",
       "      <th>Type</th>\n",
       "      <th>Score</th>\n",
       "      <th>Count</th>\n",
       "      <th>Frequency</th>\n",
       "      <th>UMLS.CUI</th>\n",
       "    </tr>\n",
       "  </thead>\n",
       "  <tbody>\n",
       "    <tr>\n",
       "      <th>33582</th>\n",
       "      <td></td>\n",
       "      <td>E033583</td>\n",
       "      <td>α-GPDH</td>\n",
       "      <td>S103760</td>\n",
       "      <td>α_gpdh</td>\n",
       "      <td>N077282</td>\n",
       "      <td></td>\n",
       "      <td>alpha-glycerophosphate dehydrogenase</td>\n",
       "      <td>L041419</td>\n",
       "      <td>alpha glycerophosphate dehydrogenase</td>\n",
       "      <td></td>\n",
       "      <td>UMLS</td>\n",
       "      <td>E0412935</td>\n",
       "      <td>E0769306</td>\n",
       "      <td>acronym</td>\n",
       "      <td></td>\n",
       "      <td></td>\n",
       "      <td></td>\n",
       "      <td></td>\n",
       "    </tr>\n",
       "    <tr>\n",
       "      <th>70982</th>\n",
       "      <td></td>\n",
       "      <td>E070983</td>\n",
       "      <td>PRPPs</td>\n",
       "      <td>S056625</td>\n",
       "      <td>prpps</td>\n",
       "      <td>N057988</td>\n",
       "      <td></td>\n",
       "      <td>phosphoribosyl pyrophosphate synthetase</td>\n",
       "      <td>L128319</td>\n",
       "      <td>phosphoribosylpyrophosphate synthetase</td>\n",
       "      <td></td>\n",
       "      <td>UMLS</td>\n",
       "      <td>E0571504</td>\n",
       "      <td>E0047486</td>\n",
       "      <td>acronym</td>\n",
       "      <td></td>\n",
       "      <td></td>\n",
       "      <td></td>\n",
       "      <td></td>\n",
       "    </tr>\n",
       "    <tr>\n",
       "      <th>192802</th>\n",
       "      <td></td>\n",
       "      <td>E192803</td>\n",
       "      <td>IPH</td>\n",
       "      <td>S036667</td>\n",
       "      <td>iph</td>\n",
       "      <td>N037427</td>\n",
       "      <td></td>\n",
       "      <td>intra-peritoneal haemorrhage</td>\n",
       "      <td>L097757</td>\n",
       "      <td></td>\n",
       "      <td></td>\n",
       "      <td>UMLS</td>\n",
       "      <td>E0703883</td>\n",
       "      <td>E0703882</td>\n",
       "      <td>acronym</td>\n",
       "      <td></td>\n",
       "      <td></td>\n",
       "      <td></td>\n",
       "      <td></td>\n",
       "    </tr>\n",
       "  </tbody>\n",
       "</table>\n",
       "</div>"
      ],
      "text/plain": [
       "       GroupID  EntryID      SF     SFUI  NormSF    NSFUI PrefSF  \\\n",
       "33582           E033583  α-GPDH  S103760  α_gpdh  N077282          \n",
       "70982           E070983   PRPPs  S056625   prpps  N057988          \n",
       "192802          E192803     IPH  S036667     iph  N037427          \n",
       "\n",
       "                                             LF     LFUI  \\\n",
       "33582      alpha-glycerophosphate dehydrogenase  L041419   \n",
       "70982   phosphoribosyl pyrophosphate synthetase  L128319   \n",
       "192802             intra-peritoneal haemorrhage  L097757   \n",
       "\n",
       "                                        NormLF PrefLF Source     SFEUI  \\\n",
       "33582     alpha glycerophosphate dehydrogenase          UMLS  E0412935   \n",
       "70982   phosphoribosylpyrophosphate synthetase          UMLS  E0571504   \n",
       "192802                                                  UMLS  E0703883   \n",
       "\n",
       "           LFEUI     Type Score Count Frequency UMLS.CUI  \n",
       "33582   E0769306  acronym                                 \n",
       "70982   E0047486  acronym                                 \n",
       "192802  E0703882  acronym                                 "
      ]
     },
     "execution_count": 3,
     "metadata": {},
     "output_type": "execute_result"
    }
   ],
   "source": [
    "df.sample(3, random_state=0)"
   ]
  },
  {
   "cell_type": "markdown",
   "metadata": {},
   "source": [
    "## Initial Filtering"
   ]
  },
  {
   "cell_type": "markdown",
   "metadata": {},
   "source": [
    "Identifies **most similar string** that is **not equivalent** within each **NSF**.\n",
    "\n",
    "We used the standard Levenshtein distance similarity ratio available [here](https://github.com/seatgeek/fuzzywuzzy)."
   ]
  },
  {
   "cell_type": "markdown",
   "metadata": {},
   "source": [
    "#### Use Normalized Long Form Where Possible"
   ]
  },
  {
   "cell_type": "code",
   "execution_count": 4,
   "metadata": {},
   "outputs": [],
   "source": [
    "df['TrainLF'] = np.where(df['NormLF']=='', df['LF'], df['NormLF'])"
   ]
  },
  {
   "cell_type": "code",
   "execution_count": 5,
   "metadata": {},
   "outputs": [
    {
     "data": {
      "text/html": [
       "<div>\n",
       "<style scoped>\n",
       "    .dataframe tbody tr th:only-of-type {\n",
       "        vertical-align: middle;\n",
       "    }\n",
       "\n",
       "    .dataframe tbody tr th {\n",
       "        vertical-align: top;\n",
       "    }\n",
       "\n",
       "    .dataframe thead th {\n",
       "        text-align: right;\n",
       "    }\n",
       "</style>\n",
       "<table border=\"1\" class=\"dataframe\">\n",
       "  <thead>\n",
       "    <tr style=\"text-align: right;\">\n",
       "      <th></th>\n",
       "      <th>GroupID</th>\n",
       "      <th>EntryID</th>\n",
       "      <th>SF</th>\n",
       "      <th>SFUI</th>\n",
       "      <th>NormSF</th>\n",
       "      <th>NSFUI</th>\n",
       "      <th>PrefSF</th>\n",
       "      <th>LF</th>\n",
       "      <th>LFUI</th>\n",
       "      <th>NormLF</th>\n",
       "      <th>PrefLF</th>\n",
       "      <th>Source</th>\n",
       "      <th>SFEUI</th>\n",
       "      <th>LFEUI</th>\n",
       "      <th>Type</th>\n",
       "      <th>Score</th>\n",
       "      <th>Count</th>\n",
       "      <th>Frequency</th>\n",
       "      <th>UMLS.CUI</th>\n",
       "      <th>TrainLF</th>\n",
       "    </tr>\n",
       "  </thead>\n",
       "  <tbody>\n",
       "    <tr>\n",
       "      <th>33582</th>\n",
       "      <td></td>\n",
       "      <td>E033583</td>\n",
       "      <td>α-GPDH</td>\n",
       "      <td>S103760</td>\n",
       "      <td>α_gpdh</td>\n",
       "      <td>N077282</td>\n",
       "      <td></td>\n",
       "      <td>alpha-glycerophosphate dehydrogenase</td>\n",
       "      <td>L041419</td>\n",
       "      <td>alpha glycerophosphate dehydrogenase</td>\n",
       "      <td></td>\n",
       "      <td>UMLS</td>\n",
       "      <td>E0412935</td>\n",
       "      <td>E0769306</td>\n",
       "      <td>acronym</td>\n",
       "      <td></td>\n",
       "      <td></td>\n",
       "      <td></td>\n",
       "      <td></td>\n",
       "      <td>alpha glycerophosphate dehydrogenase</td>\n",
       "    </tr>\n",
       "    <tr>\n",
       "      <th>70982</th>\n",
       "      <td></td>\n",
       "      <td>E070983</td>\n",
       "      <td>PRPPs</td>\n",
       "      <td>S056625</td>\n",
       "      <td>prpps</td>\n",
       "      <td>N057988</td>\n",
       "      <td></td>\n",
       "      <td>phosphoribosyl pyrophosphate synthetase</td>\n",
       "      <td>L128319</td>\n",
       "      <td>phosphoribosylpyrophosphate synthetase</td>\n",
       "      <td></td>\n",
       "      <td>UMLS</td>\n",
       "      <td>E0571504</td>\n",
       "      <td>E0047486</td>\n",
       "      <td>acronym</td>\n",
       "      <td></td>\n",
       "      <td></td>\n",
       "      <td></td>\n",
       "      <td></td>\n",
       "      <td>phosphoribosylpyrophosphate synthetase</td>\n",
       "    </tr>\n",
       "    <tr>\n",
       "      <th>192802</th>\n",
       "      <td></td>\n",
       "      <td>E192803</td>\n",
       "      <td>IPH</td>\n",
       "      <td>S036667</td>\n",
       "      <td>iph</td>\n",
       "      <td>N037427</td>\n",
       "      <td></td>\n",
       "      <td>intra-peritoneal haemorrhage</td>\n",
       "      <td>L097757</td>\n",
       "      <td></td>\n",
       "      <td></td>\n",
       "      <td>UMLS</td>\n",
       "      <td>E0703883</td>\n",
       "      <td>E0703882</td>\n",
       "      <td>acronym</td>\n",
       "      <td></td>\n",
       "      <td></td>\n",
       "      <td></td>\n",
       "      <td></td>\n",
       "      <td>intra-peritoneal haemorrhage</td>\n",
       "    </tr>\n",
       "  </tbody>\n",
       "</table>\n",
       "</div>"
      ],
      "text/plain": [
       "       GroupID  EntryID      SF     SFUI  NormSF    NSFUI PrefSF  \\\n",
       "33582           E033583  α-GPDH  S103760  α_gpdh  N077282          \n",
       "70982           E070983   PRPPs  S056625   prpps  N057988          \n",
       "192802          E192803     IPH  S036667     iph  N037427          \n",
       "\n",
       "                                             LF     LFUI  \\\n",
       "33582      alpha-glycerophosphate dehydrogenase  L041419   \n",
       "70982   phosphoribosyl pyrophosphate synthetase  L128319   \n",
       "192802             intra-peritoneal haemorrhage  L097757   \n",
       "\n",
       "                                        NormLF PrefLF Source     SFEUI  \\\n",
       "33582     alpha glycerophosphate dehydrogenase          UMLS  E0412935   \n",
       "70982   phosphoribosylpyrophosphate synthetase          UMLS  E0571504   \n",
       "192802                                                  UMLS  E0703883   \n",
       "\n",
       "           LFEUI     Type Score Count Frequency UMLS.CUI  \\\n",
       "33582   E0769306  acronym                                  \n",
       "70982   E0047486  acronym                                  \n",
       "192802  E0703882  acronym                                  \n",
       "\n",
       "                                       TrainLF  \n",
       "33582     alpha glycerophosphate dehydrogenase  \n",
       "70982   phosphoribosylpyrophosphate synthetase  \n",
       "192802            intra-peritoneal haemorrhage  "
      ]
     },
     "execution_count": 5,
     "metadata": {},
     "output_type": "execute_result"
    }
   ],
   "source": [
    "df.sample(3, random_state=0)"
   ]
  },
  {
   "cell_type": "code",
   "execution_count": 6,
   "metadata": {},
   "outputs": [
    {
     "data": {
      "text/plain": [
       "(1000, 20)"
      ]
     },
     "execution_count": 6,
     "metadata": {},
     "output_type": "execute_result"
    }
   ],
   "source": [
    "df=df.head(1000)\n",
    "df.shape"
   ]
  },
  {
   "cell_type": "markdown",
   "metadata": {},
   "source": [
    "#### Compute Similarities"
   ]
  },
  {
   "cell_type": "code",
   "execution_count": 8,
   "metadata": {},
   "outputs": [
    {
     "data": {
      "text/html": [
       "<div>\n",
       "<style scoped>\n",
       "    .dataframe tbody tr th:only-of-type {\n",
       "        vertical-align: middle;\n",
       "    }\n",
       "\n",
       "    .dataframe tbody tr th {\n",
       "        vertical-align: top;\n",
       "    }\n",
       "\n",
       "    .dataframe thead th {\n",
       "        text-align: right;\n",
       "    }\n",
       "</style>\n",
       "<table border=\"1\" class=\"dataframe\">\n",
       "  <thead>\n",
       "    <tr style=\"text-align: right;\">\n",
       "      <th></th>\n",
       "      <th>GroupID</th>\n",
       "      <th>EntryID</th>\n",
       "      <th>SF</th>\n",
       "      <th>SFUI</th>\n",
       "      <th>NormSF</th>\n",
       "      <th>NSFUI</th>\n",
       "      <th>PrefSF</th>\n",
       "      <th>LF</th>\n",
       "      <th>LFUI</th>\n",
       "      <th>NormLF</th>\n",
       "      <th>PrefLF</th>\n",
       "      <th>Source</th>\n",
       "      <th>SFEUI</th>\n",
       "      <th>LFEUI</th>\n",
       "      <th>Type</th>\n",
       "      <th>Score</th>\n",
       "      <th>Count</th>\n",
       "      <th>Frequency</th>\n",
       "      <th>UMLS.CUI</th>\n",
       "      <th>TrainLF</th>\n",
       "    </tr>\n",
       "  </thead>\n",
       "  <tbody>\n",
       "    <tr>\n",
       "      <th>67</th>\n",
       "      <td></td>\n",
       "      <td>E000068</td>\n",
       "      <td>A.A.M.D.</td>\n",
       "      <td>S002919</td>\n",
       "      <td>a_a_m_d_</td>\n",
       "      <td>N002781</td>\n",
       "      <td></td>\n",
       "      <td>American Association on Mental Deficiency</td>\n",
       "      <td>L004532</td>\n",
       "      <td></td>\n",
       "      <td></td>\n",
       "      <td>UMLS</td>\n",
       "      <td>E0000050</td>\n",
       "      <td>E0000277</td>\n",
       "      <td>acronym</td>\n",
       "      <td></td>\n",
       "      <td></td>\n",
       "      <td></td>\n",
       "      <td></td>\n",
       "      <td>American Association on Mental Deficiency</td>\n",
       "    </tr>\n",
       "    <tr>\n",
       "      <th>1</th>\n",
       "      <td></td>\n",
       "      <td>E000002</td>\n",
       "      <td>AA</td>\n",
       "      <td>S003081</td>\n",
       "      <td>aa</td>\n",
       "      <td>N003003</td>\n",
       "      <td></td>\n",
       "      <td>Alcoholics Anonymous</td>\n",
       "      <td>L004250</td>\n",
       "      <td></td>\n",
       "      <td></td>\n",
       "      <td>UMLS</td>\n",
       "      <td>E0000048</td>\n",
       "      <td>E0000204</td>\n",
       "      <td>acronym</td>\n",
       "      <td></td>\n",
       "      <td></td>\n",
       "      <td></td>\n",
       "      <td></td>\n",
       "      <td>Alcoholics Anonymous</td>\n",
       "    </tr>\n",
       "    <tr>\n",
       "      <th>2</th>\n",
       "      <td></td>\n",
       "      <td>E000003</td>\n",
       "      <td>AA</td>\n",
       "      <td>S003081</td>\n",
       "      <td>aa</td>\n",
       "      <td>N003003</td>\n",
       "      <td></td>\n",
       "      <td>alcohol abuse</td>\n",
       "      <td>L040702</td>\n",
       "      <td>alcohol abuse</td>\n",
       "      <td></td>\n",
       "      <td>UMLS</td>\n",
       "      <td>E0000048</td>\n",
       "      <td>E0356324</td>\n",
       "      <td>acronym</td>\n",
       "      <td></td>\n",
       "      <td></td>\n",
       "      <td></td>\n",
       "      <td></td>\n",
       "      <td>alcohol abuse</td>\n",
       "    </tr>\n",
       "    <tr>\n",
       "      <th>3</th>\n",
       "      <td></td>\n",
       "      <td>E000004</td>\n",
       "      <td>AA</td>\n",
       "      <td>S003081</td>\n",
       "      <td>aa</td>\n",
       "      <td>N003003</td>\n",
       "      <td></td>\n",
       "      <td>alcohol-abuse</td>\n",
       "      <td>L040752</td>\n",
       "      <td>alcohol abuse</td>\n",
       "      <td></td>\n",
       "      <td>UMLS</td>\n",
       "      <td>E0000048</td>\n",
       "      <td>E0356324</td>\n",
       "      <td>acronym</td>\n",
       "      <td></td>\n",
       "      <td></td>\n",
       "      <td></td>\n",
       "      <td></td>\n",
       "      <td>alcohol abuse</td>\n",
       "    </tr>\n",
       "    <tr>\n",
       "      <th>4</th>\n",
       "      <td></td>\n",
       "      <td>E000005</td>\n",
       "      <td>AA</td>\n",
       "      <td>S003081</td>\n",
       "      <td>aa</td>\n",
       "      <td>N003003</td>\n",
       "      <td></td>\n",
       "      <td>aortic aneurysm</td>\n",
       "      <td>L045559</td>\n",
       "      <td>aortic aneurysm</td>\n",
       "      <td></td>\n",
       "      <td>UMLS</td>\n",
       "      <td>E0000048</td>\n",
       "      <td>E0009858</td>\n",
       "      <td>acronym</td>\n",
       "      <td></td>\n",
       "      <td></td>\n",
       "      <td></td>\n",
       "      <td></td>\n",
       "      <td>aortic aneurysm</td>\n",
       "    </tr>\n",
       "  </tbody>\n",
       "</table>\n",
       "</div>"
      ],
      "text/plain": [
       "   GroupID  EntryID        SF     SFUI    NormSF    NSFUI PrefSF  \\\n",
       "67          E000068  A.A.M.D.  S002919  a_a_m_d_  N002781          \n",
       "1           E000002        AA  S003081        aa  N003003          \n",
       "2           E000003        AA  S003081        aa  N003003          \n",
       "3           E000004        AA  S003081        aa  N003003          \n",
       "4           E000005        AA  S003081        aa  N003003          \n",
       "\n",
       "                                           LF     LFUI           NormLF  \\\n",
       "67  American Association on Mental Deficiency  L004532                    \n",
       "1                        Alcoholics Anonymous  L004250                    \n",
       "2                               alcohol abuse  L040702    alcohol abuse   \n",
       "3                               alcohol-abuse  L040752    alcohol abuse   \n",
       "4                             aortic aneurysm  L045559  aortic aneurysm   \n",
       "\n",
       "   PrefLF Source     SFEUI     LFEUI     Type Score Count Frequency UMLS.CUI  \\\n",
       "67          UMLS  E0000050  E0000277  acronym                                  \n",
       "1           UMLS  E0000048  E0000204  acronym                                  \n",
       "2           UMLS  E0000048  E0356324  acronym                                  \n",
       "3           UMLS  E0000048  E0356324  acronym                                  \n",
       "4           UMLS  E0000048  E0009858  acronym                                  \n",
       "\n",
       "                                      TrainLF  \n",
       "67  American Association on Mental Deficiency  \n",
       "1                        Alcoholics Anonymous  \n",
       "2                               alcohol abuse  \n",
       "3                               alcohol abuse  \n",
       "4                             aortic aneurysm  "
      ]
     },
     "execution_count": 8,
     "metadata": {},
     "output_type": "execute_result"
    }
   ],
   "source": [
    "df = df.sort_values(by=['NSFUI'])\n",
    "df.head(5)"
   ]
  },
  {
   "cell_type": "code",
   "execution_count": null,
   "metadata": {},
   "outputs": [],
   "source": [
    "train = []"
   ]
  },
  {
   "cell_type": "code",
   "execution_count": null,
   "metadata": {},
   "outputs": [],
   "source": [
    "for NSFUI in df.NSFUI.unique():\n",
    "    uniq_LFs = set(df.at[df['NSFUI'] == NSFUI]['TrainLF'].values)\n",
    "    for pair in itertools.combinations(uniq_LFs, 2):\n",
    "        distance = fuzz.ratio(pair[0], pair[1])\n",
    "        if distance > 60:\n",
    "            pair_dictionary = {'LF1':pair[0], 'LF2':pair[1], 'distance':distance} \n",
    "            train.append(pair_dictionary)"
   ]
  },
  {
   "cell_type": "code",
   "execution_count": null,
   "metadata": {},
   "outputs": [],
   "source": [
    "train = pd.DataFrame(train)  "
   ]
  },
  {
   "cell_type": "code",
   "execution_count": null,
   "metadata": {},
   "outputs": [],
   "source": [
    "train.sample(3, random_state=0)"
   ]
  },
  {
   "cell_type": "markdown",
   "metadata": {},
   "source": [
    "## Random Subset"
   ]
  },
  {
   "cell_type": "markdown",
   "metadata": {},
   "source": [
    "Select random subset of highly and moderately similar long forms for manual annotation."
   ]
  },
  {
   "cell_type": "code",
   "execution_count": null,
   "metadata": {},
   "outputs": [],
   "source": [
    "TrainSet3 = train[train.distance < 98]\n",
    "TrainSet3 = TrainSet3.sample(frac=0.10)\n",
    "TrainSet3 = TrainSet3.drop(columns=['distance'])\n",
    "TrainSet3['Synonym'] = ''"
   ]
  },
  {
   "cell_type": "code",
   "execution_count": null,
   "metadata": {},
   "outputs": [],
   "source": [
    "TrainSet1.sample(3, random_state=0)"
   ]
  },
  {
   "cell_type": "markdown",
   "metadata": {},
   "source": [
    "#### Export"
   ]
  },
  {
   "cell_type": "code",
   "execution_count": null,
   "metadata": {},
   "outputs": [],
   "source": [
    "TrainSet3.to_csv('TrainingSet3.csv',\n",
    "                 index=False,\n",
    "                 header=True,\n",
    "                 sep='|')"
   ]
  }
 ],
 "metadata": {
  "kernelspec": {
   "display_name": "Python 3",
   "language": "python",
   "name": "python3"
  },
  "language_info": {
   "codemirror_mode": {
    "name": "ipython",
    "version": 3
   },
   "file_extension": ".py",
   "mimetype": "text/x-python",
   "name": "python",
   "nbconvert_exporter": "python",
   "pygments_lexer": "ipython3",
   "version": "3.6.8"
  }
 },
 "nbformat": 4,
 "nbformat_minor": 2
}
