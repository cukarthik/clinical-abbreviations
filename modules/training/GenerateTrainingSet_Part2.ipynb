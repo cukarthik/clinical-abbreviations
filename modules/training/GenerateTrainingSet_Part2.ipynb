{
 "cells": [
  {
   "cell_type": "markdown",
   "metadata": {},
   "source": [
    "# Generate Training Set (Part 2)"
   ]
  },
  {
   "cell_type": "markdown",
   "metadata": {},
   "source": [
    "These training sets compare long forms within each NSF."
   ]
  },
  {
   "cell_type": "markdown",
   "metadata": {},
   "source": [
    "## Setup"
   ]
  },
  {
   "cell_type": "code",
   "execution_count": 2,
   "metadata": {},
   "outputs": [],
   "source": [
    "import pandas as pd\n",
    "import numpy as np\n",
    "import itertools\n",
    "from fuzzywuzzy import fuzz"
   ]
  },
  {
   "cell_type": "markdown",
   "metadata": {},
   "source": [
    "#### Load Dataset"
   ]
  },
  {
   "cell_type": "code",
   "execution_count": 3,
   "metadata": {},
   "outputs": [],
   "source": [
    "df = pd.read_csv('https://raw.githubusercontent.com/lisavirginia/clinical-abbreviations/master/modules/Step2Output_Clinical_Abbreviation_Acronym_Crosswalk.csv',\n",
    "                 sep='|',\n",
    "                 header=0,\n",
    "                 index_col=False,\n",
    "                 na_filter=False,\n",
    "                 dtype=object)"
   ]
  },
  {
   "cell_type": "code",
   "execution_count": 4,
   "metadata": {},
   "outputs": [
    {
     "data": {
      "text/html": [
       "<div>\n",
       "<style scoped>\n",
       "    .dataframe tbody tr th:only-of-type {\n",
       "        vertical-align: middle;\n",
       "    }\n",
       "\n",
       "    .dataframe tbody tr th {\n",
       "        vertical-align: top;\n",
       "    }\n",
       "\n",
       "    .dataframe thead th {\n",
       "        text-align: right;\n",
       "    }\n",
       "</style>\n",
       "<table border=\"1\" class=\"dataframe\">\n",
       "  <thead>\n",
       "    <tr style=\"text-align: right;\">\n",
       "      <th></th>\n",
       "      <th>GroupID</th>\n",
       "      <th>EntryID</th>\n",
       "      <th>SF</th>\n",
       "      <th>SFUI</th>\n",
       "      <th>NormSF</th>\n",
       "      <th>NSFUI</th>\n",
       "      <th>PrefSF</th>\n",
       "      <th>LF</th>\n",
       "      <th>LFUI</th>\n",
       "      <th>NormLF</th>\n",
       "      <th>PrefLF</th>\n",
       "      <th>Source</th>\n",
       "      <th>SFEUI</th>\n",
       "      <th>LFEUI</th>\n",
       "      <th>Type</th>\n",
       "      <th>Score</th>\n",
       "      <th>Count</th>\n",
       "      <th>Frequency</th>\n",
       "      <th>UMLS.CUI</th>\n",
       "    </tr>\n",
       "  </thead>\n",
       "  <tbody>\n",
       "    <tr>\n",
       "      <th>33582</th>\n",
       "      <td></td>\n",
       "      <td>E033583</td>\n",
       "      <td>α-GPDH</td>\n",
       "      <td>S103760</td>\n",
       "      <td>α_gpdh</td>\n",
       "      <td>N072157</td>\n",
       "      <td></td>\n",
       "      <td>alpha-glycerophosphate dehydrogenase</td>\n",
       "      <td>L041419</td>\n",
       "      <td>alpha glycerophosphate dehydrogenase</td>\n",
       "      <td></td>\n",
       "      <td>UMLS</td>\n",
       "      <td>E0412935</td>\n",
       "      <td>E0769306</td>\n",
       "      <td>acronym</td>\n",
       "      <td></td>\n",
       "      <td></td>\n",
       "      <td></td>\n",
       "      <td></td>\n",
       "    </tr>\n",
       "    <tr>\n",
       "      <th>70982</th>\n",
       "      <td></td>\n",
       "      <td>E070983</td>\n",
       "      <td>PRPPs</td>\n",
       "      <td>S056625</td>\n",
       "      <td>prpps</td>\n",
       "      <td>N248835</td>\n",
       "      <td></td>\n",
       "      <td>phosphoribosyl pyrophosphate synthetase</td>\n",
       "      <td>L128319</td>\n",
       "      <td>phosphoribosylpyrophosphate synthetase</td>\n",
       "      <td></td>\n",
       "      <td>UMLS</td>\n",
       "      <td>E0571504</td>\n",
       "      <td>E0047486</td>\n",
       "      <td>acronym</td>\n",
       "      <td></td>\n",
       "      <td></td>\n",
       "      <td></td>\n",
       "      <td></td>\n",
       "    </tr>\n",
       "    <tr>\n",
       "      <th>192802</th>\n",
       "      <td></td>\n",
       "      <td>E192803</td>\n",
       "      <td>IPH</td>\n",
       "      <td>S036667</td>\n",
       "      <td>iph</td>\n",
       "      <td>N193753</td>\n",
       "      <td></td>\n",
       "      <td>intra-peritoneal haemorrhage</td>\n",
       "      <td>L097757</td>\n",
       "      <td></td>\n",
       "      <td></td>\n",
       "      <td>UMLS</td>\n",
       "      <td>E0703883</td>\n",
       "      <td>E0703882</td>\n",
       "      <td>acronym</td>\n",
       "      <td></td>\n",
       "      <td></td>\n",
       "      <td></td>\n",
       "      <td></td>\n",
       "    </tr>\n",
       "  </tbody>\n",
       "</table>\n",
       "</div>"
      ],
      "text/plain": [
       "       GroupID  EntryID      SF     SFUI  NormSF    NSFUI PrefSF  \\\n",
       "33582           E033583  α-GPDH  S103760  α_gpdh  N072157          \n",
       "70982           E070983   PRPPs  S056625   prpps  N248835          \n",
       "192802          E192803     IPH  S036667     iph  N193753          \n",
       "\n",
       "                                             LF     LFUI  \\\n",
       "33582      alpha-glycerophosphate dehydrogenase  L041419   \n",
       "70982   phosphoribosyl pyrophosphate synthetase  L128319   \n",
       "192802             intra-peritoneal haemorrhage  L097757   \n",
       "\n",
       "                                        NormLF PrefLF Source     SFEUI  \\\n",
       "33582     alpha glycerophosphate dehydrogenase          UMLS  E0412935   \n",
       "70982   phosphoribosylpyrophosphate synthetase          UMLS  E0571504   \n",
       "192802                                                  UMLS  E0703883   \n",
       "\n",
       "           LFEUI     Type Score Count Frequency UMLS.CUI  \n",
       "33582   E0769306  acronym                                 \n",
       "70982   E0047486  acronym                                 \n",
       "192802  E0703882  acronym                                 "
      ]
     },
     "execution_count": 4,
     "metadata": {},
     "output_type": "execute_result"
    }
   ],
   "source": [
    "df.sample(3, random_state=0)"
   ]
  },
  {
   "cell_type": "markdown",
   "metadata": {},
   "source": [
    "## Initial Filtering"
   ]
  },
  {
   "cell_type": "markdown",
   "metadata": {},
   "source": [
    "Identifies **most similar string** that is **not equivalent** within each **NSF**.\n",
    "\n",
    "We used the standard Levenshtein distance similarity ratio available [here](https://github.com/seatgeek/fuzzywuzzy)."
   ]
  },
  {
   "cell_type": "markdown",
   "metadata": {},
   "source": [
    "#### Use Normalized Long Form Where Possible"
   ]
  },
  {
   "cell_type": "code",
   "execution_count": 5,
   "metadata": {},
   "outputs": [],
   "source": [
    "df['TrainLF'] = np.where(df['NormLF']=='', df['LF'], df['NormLF'])"
   ]
  },
  {
   "cell_type": "code",
   "execution_count": 6,
   "metadata": {},
   "outputs": [
    {
     "data": {
      "text/html": [
       "<div>\n",
       "<style scoped>\n",
       "    .dataframe tbody tr th:only-of-type {\n",
       "        vertical-align: middle;\n",
       "    }\n",
       "\n",
       "    .dataframe tbody tr th {\n",
       "        vertical-align: top;\n",
       "    }\n",
       "\n",
       "    .dataframe thead th {\n",
       "        text-align: right;\n",
       "    }\n",
       "</style>\n",
       "<table border=\"1\" class=\"dataframe\">\n",
       "  <thead>\n",
       "    <tr style=\"text-align: right;\">\n",
       "      <th></th>\n",
       "      <th>GroupID</th>\n",
       "      <th>EntryID</th>\n",
       "      <th>SF</th>\n",
       "      <th>SFUI</th>\n",
       "      <th>NormSF</th>\n",
       "      <th>NSFUI</th>\n",
       "      <th>PrefSF</th>\n",
       "      <th>LF</th>\n",
       "      <th>LFUI</th>\n",
       "      <th>NormLF</th>\n",
       "      <th>PrefLF</th>\n",
       "      <th>Source</th>\n",
       "      <th>SFEUI</th>\n",
       "      <th>LFEUI</th>\n",
       "      <th>Type</th>\n",
       "      <th>Score</th>\n",
       "      <th>Count</th>\n",
       "      <th>Frequency</th>\n",
       "      <th>UMLS.CUI</th>\n",
       "      <th>TrainLF</th>\n",
       "    </tr>\n",
       "  </thead>\n",
       "  <tbody>\n",
       "    <tr>\n",
       "      <th>33582</th>\n",
       "      <td></td>\n",
       "      <td>E033583</td>\n",
       "      <td>α-GPDH</td>\n",
       "      <td>S103760</td>\n",
       "      <td>α_gpdh</td>\n",
       "      <td>N072157</td>\n",
       "      <td></td>\n",
       "      <td>alpha-glycerophosphate dehydrogenase</td>\n",
       "      <td>L041419</td>\n",
       "      <td>alpha glycerophosphate dehydrogenase</td>\n",
       "      <td></td>\n",
       "      <td>UMLS</td>\n",
       "      <td>E0412935</td>\n",
       "      <td>E0769306</td>\n",
       "      <td>acronym</td>\n",
       "      <td></td>\n",
       "      <td></td>\n",
       "      <td></td>\n",
       "      <td></td>\n",
       "      <td>alpha glycerophosphate dehydrogenase</td>\n",
       "    </tr>\n",
       "    <tr>\n",
       "      <th>70982</th>\n",
       "      <td></td>\n",
       "      <td>E070983</td>\n",
       "      <td>PRPPs</td>\n",
       "      <td>S056625</td>\n",
       "      <td>prpps</td>\n",
       "      <td>N248835</td>\n",
       "      <td></td>\n",
       "      <td>phosphoribosyl pyrophosphate synthetase</td>\n",
       "      <td>L128319</td>\n",
       "      <td>phosphoribosylpyrophosphate synthetase</td>\n",
       "      <td></td>\n",
       "      <td>UMLS</td>\n",
       "      <td>E0571504</td>\n",
       "      <td>E0047486</td>\n",
       "      <td>acronym</td>\n",
       "      <td></td>\n",
       "      <td></td>\n",
       "      <td></td>\n",
       "      <td></td>\n",
       "      <td>phosphoribosylpyrophosphate synthetase</td>\n",
       "    </tr>\n",
       "    <tr>\n",
       "      <th>192802</th>\n",
       "      <td></td>\n",
       "      <td>E192803</td>\n",
       "      <td>IPH</td>\n",
       "      <td>S036667</td>\n",
       "      <td>iph</td>\n",
       "      <td>N193753</td>\n",
       "      <td></td>\n",
       "      <td>intra-peritoneal haemorrhage</td>\n",
       "      <td>L097757</td>\n",
       "      <td></td>\n",
       "      <td></td>\n",
       "      <td>UMLS</td>\n",
       "      <td>E0703883</td>\n",
       "      <td>E0703882</td>\n",
       "      <td>acronym</td>\n",
       "      <td></td>\n",
       "      <td></td>\n",
       "      <td></td>\n",
       "      <td></td>\n",
       "      <td>intra-peritoneal haemorrhage</td>\n",
       "    </tr>\n",
       "  </tbody>\n",
       "</table>\n",
       "</div>"
      ],
      "text/plain": [
       "       GroupID  EntryID      SF     SFUI  NormSF    NSFUI PrefSF  \\\n",
       "33582           E033583  α-GPDH  S103760  α_gpdh  N072157          \n",
       "70982           E070983   PRPPs  S056625   prpps  N248835          \n",
       "192802          E192803     IPH  S036667     iph  N193753          \n",
       "\n",
       "                                             LF     LFUI  \\\n",
       "33582      alpha-glycerophosphate dehydrogenase  L041419   \n",
       "70982   phosphoribosyl pyrophosphate synthetase  L128319   \n",
       "192802             intra-peritoneal haemorrhage  L097757   \n",
       "\n",
       "                                        NormLF PrefLF Source     SFEUI  \\\n",
       "33582     alpha glycerophosphate dehydrogenase          UMLS  E0412935   \n",
       "70982   phosphoribosylpyrophosphate synthetase          UMLS  E0571504   \n",
       "192802                                                  UMLS  E0703883   \n",
       "\n",
       "           LFEUI     Type Score Count Frequency UMLS.CUI  \\\n",
       "33582   E0769306  acronym                                  \n",
       "70982   E0047486  acronym                                  \n",
       "192802  E0703882  acronym                                  \n",
       "\n",
       "                                       TrainLF  \n",
       "33582     alpha glycerophosphate dehydrogenase  \n",
       "70982   phosphoribosylpyrophosphate synthetase  \n",
       "192802            intra-peritoneal haemorrhage  "
      ]
     },
     "execution_count": 6,
     "metadata": {},
     "output_type": "execute_result"
    }
   ],
   "source": [
    "df.sample(3, random_state=0)"
   ]
  },
  {
   "cell_type": "code",
   "execution_count": 7,
   "metadata": {},
   "outputs": [
    {
     "data": {
      "text/plain": [
       "(100, 20)"
      ]
     },
     "execution_count": 7,
     "metadata": {},
     "output_type": "execute_result"
    }
   ],
   "source": [
    "df=df.head(100)\n",
    "df.shape"
   ]
  },
  {
   "cell_type": "markdown",
   "metadata": {},
   "source": [
    "#### Compute Similarities"
   ]
  },
  {
   "cell_type": "code",
   "execution_count": null,
   "metadata": {},
   "outputs": [],
   "source": [
    "df = df.sort_values(by=['NSFUI'])"
   ]
  },
  {
   "cell_type": "code",
   "execution_count": null,
   "metadata": {},
   "outputs": [],
   "source": []
  },
  {
   "cell_type": "code",
   "execution_count": null,
   "metadata": {},
   "outputs": [],
   "source": []
  }
 ],
 "metadata": {
  "kernelspec": {
   "display_name": "Python 3",
   "language": "python",
   "name": "python3"
  },
  "language_info": {
   "codemirror_mode": {
    "name": "ipython",
    "version": 3
   },
   "file_extension": ".py",
   "mimetype": "text/x-python",
   "name": "python",
   "nbconvert_exporter": "python",
   "pygments_lexer": "ipython3",
   "version": "3.6.8"
  }
 },
 "nbformat": 4,
 "nbformat_minor": 2
}
