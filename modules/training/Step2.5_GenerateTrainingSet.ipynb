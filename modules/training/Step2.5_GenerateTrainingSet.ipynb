{
 "cells": [
  {
   "cell_type": "markdown",
   "metadata": {},
   "source": [
    "# Step 2.5: Generate Training Set"
   ]
  },
  {
   "cell_type": "markdown",
   "metadata": {},
   "source": [
    "## Setup"
   ]
  },
  {
   "cell_type": "code",
   "execution_count": 1,
   "metadata": {},
   "outputs": [],
   "source": [
    "import pandas as pd\n",
    "import numpy as np\n",
    "import itertools\n",
    "from fuzzywuzzy import fuzz"
   ]
  },
  {
   "cell_type": "markdown",
   "metadata": {},
   "source": [
    "#### Load Dataset"
   ]
  },
  {
   "cell_type": "code",
   "execution_count": 2,
   "metadata": {},
   "outputs": [],
   "source": [
    "df = pd.read_csv('https://raw.githubusercontent.com/lisavirginia/clinical-abbreviations/master/modules/Step2Output_Clinical_Abbreviation_Acronym_Crosswalk.csv',\n",
    "                 sep='|',\n",
    "                 header=0,\n",
    "                 index_col=False,\n",
    "                 na_filter=False,\n",
    "                 dtype=object)"
   ]
  },
  {
   "cell_type": "code",
   "execution_count": 3,
   "metadata": {},
   "outputs": [
    {
     "data": {
      "text/html": [
       "<div>\n",
       "<style scoped>\n",
       "    .dataframe tbody tr th:only-of-type {\n",
       "        vertical-align: middle;\n",
       "    }\n",
       "\n",
       "    .dataframe tbody tr th {\n",
       "        vertical-align: top;\n",
       "    }\n",
       "\n",
       "    .dataframe thead th {\n",
       "        text-align: right;\n",
       "    }\n",
       "</style>\n",
       "<table border=\"1\" class=\"dataframe\">\n",
       "  <thead>\n",
       "    <tr style=\"text-align: right;\">\n",
       "      <th></th>\n",
       "      <th>GroupID</th>\n",
       "      <th>EntryID</th>\n",
       "      <th>SF</th>\n",
       "      <th>SFUI</th>\n",
       "      <th>NormSF</th>\n",
       "      <th>PrefSF</th>\n",
       "      <th>LF</th>\n",
       "      <th>LFUI</th>\n",
       "      <th>NormLF</th>\n",
       "      <th>PrefLF</th>\n",
       "      <th>Source</th>\n",
       "      <th>SFEUI</th>\n",
       "      <th>LFEUI</th>\n",
       "      <th>Type</th>\n",
       "      <th>Score</th>\n",
       "      <th>Count</th>\n",
       "      <th>Frequency</th>\n",
       "      <th>UMLS.CUI</th>\n",
       "    </tr>\n",
       "  </thead>\n",
       "  <tbody>\n",
       "    <tr>\n",
       "      <th>33582</th>\n",
       "      <td></td>\n",
       "      <td>E033583</td>\n",
       "      <td>α-GPDH</td>\n",
       "      <td>S103760</td>\n",
       "      <td>α_gpdh</td>\n",
       "      <td></td>\n",
       "      <td>alpha-glycerophosphate dehydrogenase</td>\n",
       "      <td>L041419</td>\n",
       "      <td>alpha glycerophosphate dehydrogenase</td>\n",
       "      <td></td>\n",
       "      <td>UMLS</td>\n",
       "      <td>E0412935</td>\n",
       "      <td>E0769306</td>\n",
       "      <td>acronym</td>\n",
       "      <td></td>\n",
       "      <td></td>\n",
       "      <td></td>\n",
       "      <td></td>\n",
       "    </tr>\n",
       "    <tr>\n",
       "      <th>70982</th>\n",
       "      <td></td>\n",
       "      <td>E070983</td>\n",
       "      <td>PRPPs</td>\n",
       "      <td>S056625</td>\n",
       "      <td>prpps</td>\n",
       "      <td></td>\n",
       "      <td>phosphoribosyl pyrophosphate synthetase</td>\n",
       "      <td>L128319</td>\n",
       "      <td>phosphoribosylpyrophosphate synthetase</td>\n",
       "      <td></td>\n",
       "      <td>UMLS</td>\n",
       "      <td>E0571504</td>\n",
       "      <td>E0047486</td>\n",
       "      <td>acronym</td>\n",
       "      <td></td>\n",
       "      <td></td>\n",
       "      <td></td>\n",
       "      <td></td>\n",
       "    </tr>\n",
       "    <tr>\n",
       "      <th>192802</th>\n",
       "      <td></td>\n",
       "      <td>E192803</td>\n",
       "      <td>IPH</td>\n",
       "      <td>S036667</td>\n",
       "      <td>iph</td>\n",
       "      <td></td>\n",
       "      <td>intra-peritoneal haemorrhage</td>\n",
       "      <td>L097757</td>\n",
       "      <td></td>\n",
       "      <td></td>\n",
       "      <td>UMLS</td>\n",
       "      <td>E0703883</td>\n",
       "      <td>E0703882</td>\n",
       "      <td>acronym</td>\n",
       "      <td></td>\n",
       "      <td></td>\n",
       "      <td></td>\n",
       "      <td></td>\n",
       "    </tr>\n",
       "  </tbody>\n",
       "</table>\n",
       "</div>"
      ],
      "text/plain": [
       "       GroupID  EntryID      SF     SFUI  NormSF PrefSF  \\\n",
       "33582           E033583  α-GPDH  S103760  α_gpdh          \n",
       "70982           E070983   PRPPs  S056625   prpps          \n",
       "192802          E192803     IPH  S036667     iph          \n",
       "\n",
       "                                             LF     LFUI  \\\n",
       "33582      alpha-glycerophosphate dehydrogenase  L041419   \n",
       "70982   phosphoribosyl pyrophosphate synthetase  L128319   \n",
       "192802             intra-peritoneal haemorrhage  L097757   \n",
       "\n",
       "                                        NormLF PrefLF Source     SFEUI  \\\n",
       "33582     alpha glycerophosphate dehydrogenase          UMLS  E0412935   \n",
       "70982   phosphoribosylpyrophosphate synthetase          UMLS  E0571504   \n",
       "192802                                                  UMLS  E0703883   \n",
       "\n",
       "           LFEUI     Type Score Count Frequency UMLS.CUI  \n",
       "33582   E0769306  acronym                                 \n",
       "70982   E0047486  acronym                                 \n",
       "192802  E0703882  acronym                                 "
      ]
     },
     "execution_count": 3,
     "metadata": {},
     "output_type": "execute_result"
    }
   ],
   "source": [
    "df.sample(3, random_state=0)"
   ]
  },
  {
   "cell_type": "markdown",
   "metadata": {},
   "source": [
    "## Initial Filtering"
   ]
  },
  {
   "cell_type": "markdown",
   "metadata": {},
   "source": [
    "Identifies **most similar string** that is **not equivalent**.\n",
    "\n",
    "We used the standard Levenshtein distance similarity ratio available [here](https://github.com/seatgeek/fuzzywuzzy)."
   ]
  },
  {
   "cell_type": "markdown",
   "metadata": {},
   "source": [
    "#### Use Normalized Long Form Where Possible"
   ]
  },
  {
   "cell_type": "code",
   "execution_count": 4,
   "metadata": {},
   "outputs": [],
   "source": [
    "df['TrainLF'] = np.where(df['NormLF']=='', df['LF'], df['NormLF'])"
   ]
  },
  {
   "cell_type": "code",
   "execution_count": 5,
   "metadata": {},
   "outputs": [
    {
     "data": {
      "text/html": [
       "<div>\n",
       "<style scoped>\n",
       "    .dataframe tbody tr th:only-of-type {\n",
       "        vertical-align: middle;\n",
       "    }\n",
       "\n",
       "    .dataframe tbody tr th {\n",
       "        vertical-align: top;\n",
       "    }\n",
       "\n",
       "    .dataframe thead th {\n",
       "        text-align: right;\n",
       "    }\n",
       "</style>\n",
       "<table border=\"1\" class=\"dataframe\">\n",
       "  <thead>\n",
       "    <tr style=\"text-align: right;\">\n",
       "      <th></th>\n",
       "      <th>GroupID</th>\n",
       "      <th>EntryID</th>\n",
       "      <th>SF</th>\n",
       "      <th>SFUI</th>\n",
       "      <th>NormSF</th>\n",
       "      <th>PrefSF</th>\n",
       "      <th>LF</th>\n",
       "      <th>LFUI</th>\n",
       "      <th>NormLF</th>\n",
       "      <th>PrefLF</th>\n",
       "      <th>Source</th>\n",
       "      <th>SFEUI</th>\n",
       "      <th>LFEUI</th>\n",
       "      <th>Type</th>\n",
       "      <th>Score</th>\n",
       "      <th>Count</th>\n",
       "      <th>Frequency</th>\n",
       "      <th>UMLS.CUI</th>\n",
       "      <th>TrainLF</th>\n",
       "    </tr>\n",
       "  </thead>\n",
       "  <tbody>\n",
       "    <tr>\n",
       "      <th>33582</th>\n",
       "      <td></td>\n",
       "      <td>E033583</td>\n",
       "      <td>α-GPDH</td>\n",
       "      <td>S103760</td>\n",
       "      <td>α_gpdh</td>\n",
       "      <td></td>\n",
       "      <td>alpha-glycerophosphate dehydrogenase</td>\n",
       "      <td>L041419</td>\n",
       "      <td>alpha glycerophosphate dehydrogenase</td>\n",
       "      <td></td>\n",
       "      <td>UMLS</td>\n",
       "      <td>E0412935</td>\n",
       "      <td>E0769306</td>\n",
       "      <td>acronym</td>\n",
       "      <td></td>\n",
       "      <td></td>\n",
       "      <td></td>\n",
       "      <td></td>\n",
       "      <td>alpha glycerophosphate dehydrogenase</td>\n",
       "    </tr>\n",
       "    <tr>\n",
       "      <th>70982</th>\n",
       "      <td></td>\n",
       "      <td>E070983</td>\n",
       "      <td>PRPPs</td>\n",
       "      <td>S056625</td>\n",
       "      <td>prpps</td>\n",
       "      <td></td>\n",
       "      <td>phosphoribosyl pyrophosphate synthetase</td>\n",
       "      <td>L128319</td>\n",
       "      <td>phosphoribosylpyrophosphate synthetase</td>\n",
       "      <td></td>\n",
       "      <td>UMLS</td>\n",
       "      <td>E0571504</td>\n",
       "      <td>E0047486</td>\n",
       "      <td>acronym</td>\n",
       "      <td></td>\n",
       "      <td></td>\n",
       "      <td></td>\n",
       "      <td></td>\n",
       "      <td>phosphoribosylpyrophosphate synthetase</td>\n",
       "    </tr>\n",
       "    <tr>\n",
       "      <th>192802</th>\n",
       "      <td></td>\n",
       "      <td>E192803</td>\n",
       "      <td>IPH</td>\n",
       "      <td>S036667</td>\n",
       "      <td>iph</td>\n",
       "      <td></td>\n",
       "      <td>intra-peritoneal haemorrhage</td>\n",
       "      <td>L097757</td>\n",
       "      <td></td>\n",
       "      <td></td>\n",
       "      <td>UMLS</td>\n",
       "      <td>E0703883</td>\n",
       "      <td>E0703882</td>\n",
       "      <td>acronym</td>\n",
       "      <td></td>\n",
       "      <td></td>\n",
       "      <td></td>\n",
       "      <td></td>\n",
       "      <td>intra-peritoneal haemorrhage</td>\n",
       "    </tr>\n",
       "  </tbody>\n",
       "</table>\n",
       "</div>"
      ],
      "text/plain": [
       "       GroupID  EntryID      SF     SFUI  NormSF PrefSF  \\\n",
       "33582           E033583  α-GPDH  S103760  α_gpdh          \n",
       "70982           E070983   PRPPs  S056625   prpps          \n",
       "192802          E192803     IPH  S036667     iph          \n",
       "\n",
       "                                             LF     LFUI  \\\n",
       "33582      alpha-glycerophosphate dehydrogenase  L041419   \n",
       "70982   phosphoribosyl pyrophosphate synthetase  L128319   \n",
       "192802             intra-peritoneal haemorrhage  L097757   \n",
       "\n",
       "                                        NormLF PrefLF Source     SFEUI  \\\n",
       "33582     alpha glycerophosphate dehydrogenase          UMLS  E0412935   \n",
       "70982   phosphoribosylpyrophosphate synthetase          UMLS  E0571504   \n",
       "192802                                                  UMLS  E0703883   \n",
       "\n",
       "           LFEUI     Type Score Count Frequency UMLS.CUI  \\\n",
       "33582   E0769306  acronym                                  \n",
       "70982   E0047486  acronym                                  \n",
       "192802  E0703882  acronym                                  \n",
       "\n",
       "                                       TrainLF  \n",
       "33582     alpha glycerophosphate dehydrogenase  \n",
       "70982   phosphoribosylpyrophosphate synthetase  \n",
       "192802            intra-peritoneal haemorrhage  "
      ]
     },
     "execution_count": 5,
     "metadata": {},
     "output_type": "execute_result"
    }
   ],
   "source": [
    "df.sample(3, random_state=0)"
   ]
  },
  {
   "cell_type": "markdown",
   "metadata": {},
   "source": [
    "#### Extract Unique Long Forms"
   ]
  },
  {
   "cell_type": "code",
   "execution_count": 6,
   "metadata": {},
   "outputs": [],
   "source": [
    "uniq_LFs = set(df['TrainLF'].values)"
   ]
  },
  {
   "cell_type": "markdown",
   "metadata": {},
   "source": [
    "#### Compute Similarities"
   ]
  },
  {
   "cell_type": "code",
   "execution_count": 7,
   "metadata": {},
   "outputs": [],
   "source": [
    "train = []"
   ]
  },
  {
   "cell_type": "code",
   "execution_count": 8,
   "metadata": {},
   "outputs": [],
   "source": [
    "for pair in itertools.combinations(uniq_LFs, 2):\n",
    "    distance = fuzz.ratio(pair[0], pair[1])\n",
    "    if distance > 80:\n",
    "        pair_dictionary = {'LF1':pair[0], 'LF2':pair[1], 'distance':distance} \n",
    "        train.append(pair_dictionary)"
   ]
  },
  {
   "cell_type": "code",
   "execution_count": 9,
   "metadata": {},
   "outputs": [],
   "source": [
    "train = pd.DataFrame(train)  "
   ]
  },
  {
   "cell_type": "code",
   "execution_count": 10,
   "metadata": {},
   "outputs": [
    {
     "data": {
      "text/html": [
       "<div>\n",
       "<style scoped>\n",
       "    .dataframe tbody tr th:only-of-type {\n",
       "        vertical-align: middle;\n",
       "    }\n",
       "\n",
       "    .dataframe tbody tr th {\n",
       "        vertical-align: top;\n",
       "    }\n",
       "\n",
       "    .dataframe thead th {\n",
       "        text-align: right;\n",
       "    }\n",
       "</style>\n",
       "<table border=\"1\" class=\"dataframe\">\n",
       "  <thead>\n",
       "    <tr style=\"text-align: right;\">\n",
       "      <th></th>\n",
       "      <th>LF1</th>\n",
       "      <th>LF2</th>\n",
       "      <th>distance</th>\n",
       "    </tr>\n",
       "  </thead>\n",
       "  <tbody>\n",
       "    <tr>\n",
       "      <th>196922</th>\n",
       "      <td>β amyloid precursor protein cleaving enzyme-2</td>\n",
       "      <td>β amyloid precursor protein-cleaving enzyme 1</td>\n",
       "      <td>93</td>\n",
       "    </tr>\n",
       "    <tr>\n",
       "      <th>381491</th>\n",
       "      <td>interleukin-2 receptor α-subunit</td>\n",
       "      <td>interleukin-6 receptor α-chain</td>\n",
       "      <td>81</td>\n",
       "    </tr>\n",
       "    <tr>\n",
       "      <th>426807</th>\n",
       "      <td>GH binding protein</td>\n",
       "      <td>XPA binding protein 2</td>\n",
       "      <td>82</td>\n",
       "    </tr>\n",
       "  </tbody>\n",
       "</table>\n",
       "</div>"
      ],
      "text/plain": [
       "                                                  LF1  \\\n",
       "196922  β amyloid precursor protein cleaving enzyme-2   \n",
       "381491               interleukin-2 receptor α-subunit   \n",
       "426807                             GH binding protein   \n",
       "\n",
       "                                                  LF2  distance  \n",
       "196922  β amyloid precursor protein-cleaving enzyme 1        93  \n",
       "381491                 interleukin-6 receptor α-chain        81  \n",
       "426807                          XPA binding protein 2        82  "
      ]
     },
     "execution_count": 10,
     "metadata": {},
     "output_type": "execute_result"
    }
   ],
   "source": [
    "train.sample(3, random_state=0)"
   ]
  },
  {
   "cell_type": "markdown",
   "metadata": {},
   "source": [
    "## Highly Similar"
   ]
  },
  {
   "cell_type": "markdown",
   "metadata": {},
   "source": [
    "Assume highly similar long forms are synonymous (~1 character difference)."
   ]
  },
  {
   "cell_type": "code",
   "execution_count": 11,
   "metadata": {},
   "outputs": [],
   "source": [
    "TrainSet2 = train[train.distance >= 98]\n",
    "TrainSet2 = TrainSet2.drop(columns=['distance'])\n",
    "TrainSet2['Synonym'] = 'Y'"
   ]
  },
  {
   "cell_type": "code",
   "execution_count": 12,
   "metadata": {},
   "outputs": [
    {
     "data": {
      "text/html": [
       "<div>\n",
       "<style scoped>\n",
       "    .dataframe tbody tr th:only-of-type {\n",
       "        vertical-align: middle;\n",
       "    }\n",
       "\n",
       "    .dataframe tbody tr th {\n",
       "        vertical-align: top;\n",
       "    }\n",
       "\n",
       "    .dataframe thead th {\n",
       "        text-align: right;\n",
       "    }\n",
       "</style>\n",
       "<table border=\"1\" class=\"dataframe\">\n",
       "  <thead>\n",
       "    <tr style=\"text-align: right;\">\n",
       "      <th></th>\n",
       "      <th>LF1</th>\n",
       "      <th>LF2</th>\n",
       "      <th>Synonym</th>\n",
       "    </tr>\n",
       "  </thead>\n",
       "  <tbody>\n",
       "    <tr>\n",
       "      <th>95314</th>\n",
       "      <td>peroxisome proliferator-activated receptor-gam...</td>\n",
       "      <td>peroxisome proliferator-activated receptor gam...</td>\n",
       "      <td>Y</td>\n",
       "    </tr>\n",
       "    <tr>\n",
       "      <th>119423</th>\n",
       "      <td>receptor-like protein tyrosine phosphatase-eta</td>\n",
       "      <td>receptor-like protein tyrosine phosphatase-delta</td>\n",
       "      <td>Y</td>\n",
       "    </tr>\n",
       "    <tr>\n",
       "      <th>401419</th>\n",
       "      <td>post-menopausal estrogen-progestin intervention</td>\n",
       "      <td>post-menopausal oestrogen-progestin intervention</td>\n",
       "      <td>Y</td>\n",
       "    </tr>\n",
       "  </tbody>\n",
       "</table>\n",
       "</div>"
      ],
      "text/plain": [
       "                                                      LF1  \\\n",
       "95314   peroxisome proliferator-activated receptor-gam...   \n",
       "119423     receptor-like protein tyrosine phosphatase-eta   \n",
       "401419    post-menopausal estrogen-progestin intervention   \n",
       "\n",
       "                                                      LF2 Synonym  \n",
       "95314   peroxisome proliferator-activated receptor gam...       Y  \n",
       "119423   receptor-like protein tyrosine phosphatase-delta       Y  \n",
       "401419   post-menopausal oestrogen-progestin intervention       Y  "
      ]
     },
     "execution_count": 12,
     "metadata": {},
     "output_type": "execute_result"
    }
   ],
   "source": [
    "TrainSet2.sample(3, random_state=0)"
   ]
  },
  {
   "cell_type": "markdown",
   "metadata": {},
   "source": [
    "#### Export"
   ]
  },
  {
   "cell_type": "code",
   "execution_count": 13,
   "metadata": {},
   "outputs": [],
   "source": [
    "TrainSet2.to_csv('TrainingSet2_Annotated.csv',\n",
    "                 index=False,\n",
    "                 header=True,\n",
    "                 sep='|')"
   ]
  },
  {
   "cell_type": "markdown",
   "metadata": {},
   "source": [
    "## Random Subset"
   ]
  },
  {
   "cell_type": "markdown",
   "metadata": {},
   "source": [
    "Select random subset of moderately similar long forms for manual annotation."
   ]
  },
  {
   "cell_type": "code",
   "execution_count": 14,
   "metadata": {},
   "outputs": [],
   "source": [
    "TrainSet1 = train[train.distance < 98]\n",
    "TrainSet1 = TrainSet1.sample(frac=0.10)\n",
    "TrainSet1 = TrainSet1.drop(columns=['distance'])\n",
    "TrainSet1['Synonym'] = ''"
   ]
  },
  {
   "cell_type": "code",
   "execution_count": 15,
   "metadata": {},
   "outputs": [
    {
     "data": {
      "text/html": [
       "<div>\n",
       "<style scoped>\n",
       "    .dataframe tbody tr th:only-of-type {\n",
       "        vertical-align: middle;\n",
       "    }\n",
       "\n",
       "    .dataframe tbody tr th {\n",
       "        vertical-align: top;\n",
       "    }\n",
       "\n",
       "    .dataframe thead th {\n",
       "        text-align: right;\n",
       "    }\n",
       "</style>\n",
       "<table border=\"1\" class=\"dataframe\">\n",
       "  <thead>\n",
       "    <tr style=\"text-align: right;\">\n",
       "      <th></th>\n",
       "      <th>LF1</th>\n",
       "      <th>LF2</th>\n",
       "      <th>Synonym</th>\n",
       "    </tr>\n",
       "  </thead>\n",
       "  <tbody>\n",
       "    <tr>\n",
       "      <th>226968</th>\n",
       "      <td>stress-activated protein kinase-4</td>\n",
       "      <td>Mitogen- and stress-activated protein kinase-1</td>\n",
       "      <td></td>\n",
       "    </tr>\n",
       "    <tr>\n",
       "      <th>205483</th>\n",
       "      <td>dioleoylphosphatidylcholine</td>\n",
       "      <td>diphytanoylphosphatidylcholine</td>\n",
       "      <td></td>\n",
       "    </tr>\n",
       "    <tr>\n",
       "      <th>56127</th>\n",
       "      <td>A disintegrin and metalloproteinase-3</td>\n",
       "      <td>a disintegrin and metalloprotease-6</td>\n",
       "      <td></td>\n",
       "    </tr>\n",
       "  </tbody>\n",
       "</table>\n",
       "</div>"
      ],
      "text/plain": [
       "                                          LF1  \\\n",
       "226968      stress-activated protein kinase-4   \n",
       "205483            dioleoylphosphatidylcholine   \n",
       "56127   A disintegrin and metalloproteinase-3   \n",
       "\n",
       "                                                   LF2 Synonym  \n",
       "226968  Mitogen- and stress-activated protein kinase-1          \n",
       "205483                  diphytanoylphosphatidylcholine          \n",
       "56127              a disintegrin and metalloprotease-6          "
      ]
     },
     "execution_count": 15,
     "metadata": {},
     "output_type": "execute_result"
    }
   ],
   "source": [
    "TrainSet1.sample(3, random_state=0)"
   ]
  },
  {
   "cell_type": "markdown",
   "metadata": {},
   "source": [
    "#### Export"
   ]
  },
  {
   "cell_type": "code",
   "execution_count": 16,
   "metadata": {},
   "outputs": [],
   "source": [
    "TrainSet1.to_csv('TrainingSet1.csv',\n",
    "                 index=False,\n",
    "                 header=True,\n",
    "                 sep='|')"
   ]
  }
 ],
 "metadata": {
  "kernelspec": {
   "display_name": "Python 3",
   "language": "python",
   "name": "python3"
  },
  "language_info": {
   "codemirror_mode": {
    "name": "ipython",
    "version": 3
   },
   "file_extension": ".py",
   "mimetype": "text/x-python",
   "name": "python",
   "nbconvert_exporter": "python",
   "pygments_lexer": "ipython3",
   "version": "3.7.4"
  }
 },
 "nbformat": 4,
 "nbformat_minor": 2
}
