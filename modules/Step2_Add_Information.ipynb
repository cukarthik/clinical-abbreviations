{
 "cells": [
  {
   "cell_type": "markdown",
   "metadata": {
    "colab_type": "text",
    "id": "BYPGoc7Tlwzm"
   },
   "source": [
    "# Step 2: Add Information"
   ]
  },
  {
   "cell_type": "markdown",
   "metadata": {
    "colab_type": "text",
    "id": "P6lbb23ll0Wo"
   },
   "source": [
    "## Setup"
   ]
  },
  {
   "cell_type": "code",
   "execution_count": 1,
   "metadata": {
    "colab": {},
    "colab_type": "code",
    "id": "K8tdxx-wlvdq"
   },
   "outputs": [],
   "source": [
    "import pandas as pd\n",
    "from master_functions import *\n",
    "import os"
   ]
  },
  {
   "cell_type": "markdown",
   "metadata": {
    "colab_type": "text",
    "id": "zf0QkPjxmVIt"
   },
   "source": [
    "#### Load Preprocessed Dataset"
   ]
  },
  {
   "cell_type": "code",
   "execution_count": 2,
   "metadata": {
    "colab": {},
    "colab_type": "code",
    "id": "TEVfLZQ9mXqX"
   },
   "outputs": [],
   "source": [
    "df = pd.read_csv('https://raw.githubusercontent.com/lisavirginia/clinical-abbreviations/master/modules/Step1Output_Clinical_Abbreviation_Acronym_Crosswalk.csv',\n",
    "                 sep='|',\n",
    "                 header=0,\n",
    "                 index_col=False,\n",
    "                 na_filter=False,\n",
    "                 dtype=object)"
   ]
  },
  {
   "cell_type": "code",
   "execution_count": 3,
   "metadata": {
    "colab": {
     "base_uri": "https://localhost:8080/",
     "height": 136
    },
    "colab_type": "code",
    "id": "6hl3PW8v_7V5",
    "outputId": "f9e6fcb2-3a99-4509-ebb0-290999e1fd26"
   },
   "outputs": [
    {
     "data": {
      "text/html": [
       "<div>\n",
       "<style scoped>\n",
       "    .dataframe tbody tr th:only-of-type {\n",
       "        vertical-align: middle;\n",
       "    }\n",
       "\n",
       "    .dataframe tbody tr th {\n",
       "        vertical-align: top;\n",
       "    }\n",
       "\n",
       "    .dataframe thead th {\n",
       "        text-align: right;\n",
       "    }\n",
       "</style>\n",
       "<table border=\"1\" class=\"dataframe\">\n",
       "  <thead>\n",
       "    <tr style=\"text-align: right;\">\n",
       "      <th></th>\n",
       "      <th>GroupID</th>\n",
       "      <th>SF</th>\n",
       "      <th>SFUI</th>\n",
       "      <th>NormSF</th>\n",
       "      <th>PrefSF</th>\n",
       "      <th>LF</th>\n",
       "      <th>LFUI</th>\n",
       "      <th>NormLF</th>\n",
       "      <th>PrefLF</th>\n",
       "      <th>Source</th>\n",
       "      <th>SFEUI</th>\n",
       "      <th>LFEUI</th>\n",
       "      <th>Type</th>\n",
       "      <th>Score</th>\n",
       "      <th>Count</th>\n",
       "      <th>Frequency</th>\n",
       "      <th>UMLS.CUI</th>\n",
       "      <th>MetaMap.CUI</th>\n",
       "    </tr>\n",
       "  </thead>\n",
       "  <tbody>\n",
       "    <tr>\n",
       "      <th>69748</th>\n",
       "      <td></td>\n",
       "      <td>ER-α</td>\n",
       "      <td></td>\n",
       "      <td></td>\n",
       "      <td></td>\n",
       "      <td>oestrogen receptor alpha</td>\n",
       "      <td></td>\n",
       "      <td></td>\n",
       "      <td></td>\n",
       "      <td>UMLS</td>\n",
       "      <td>E0579571</td>\n",
       "      <td>E0579570</td>\n",
       "      <td>acronym</td>\n",
       "      <td></td>\n",
       "      <td></td>\n",
       "      <td></td>\n",
       "      <td></td>\n",
       "      <td></td>\n",
       "    </tr>\n",
       "    <tr>\n",
       "      <th>287684</th>\n",
       "      <td></td>\n",
       "      <td>F9</td>\n",
       "      <td></td>\n",
       "      <td></td>\n",
       "      <td></td>\n",
       "      <td>mouse embryonal carcinoma</td>\n",
       "      <td></td>\n",
       "      <td></td>\n",
       "      <td></td>\n",
       "      <td>ADAM</td>\n",
       "      <td></td>\n",
       "      <td></td>\n",
       "      <td></td>\n",
       "      <td>0.4232</td>\n",
       "      <td>11</td>\n",
       "      <td></td>\n",
       "      <td></td>\n",
       "      <td></td>\n",
       "    </tr>\n",
       "    <tr>\n",
       "      <th>349332</th>\n",
       "      <td></td>\n",
       "      <td>NPr-A</td>\n",
       "      <td></td>\n",
       "      <td></td>\n",
       "      <td></td>\n",
       "      <td>natriuretic peptide receptor</td>\n",
       "      <td></td>\n",
       "      <td></td>\n",
       "      <td></td>\n",
       "      <td>ADAM</td>\n",
       "      <td></td>\n",
       "      <td></td>\n",
       "      <td></td>\n",
       "      <td>0.8165</td>\n",
       "      <td>1</td>\n",
       "      <td></td>\n",
       "      <td></td>\n",
       "      <td></td>\n",
       "    </tr>\n",
       "  </tbody>\n",
       "</table>\n",
       "</div>"
      ],
      "text/plain": [
       "       GroupID     SF SFUI NormSF PrefSF                            LF LFUI  \\\n",
       "69748            ER-α                         oestrogen receptor alpha        \n",
       "287684             F9                        mouse embryonal carcinoma        \n",
       "349332          NPr-A                     natriuretic peptide receptor        \n",
       "\n",
       "       NormLF PrefLF Source     SFEUI     LFEUI     Type   Score Count  \\\n",
       "69748                  UMLS  E0579571  E0579570  acronym                 \n",
       "287684                 ADAM                               0.4232    11   \n",
       "349332                 ADAM                               0.8165     1   \n",
       "\n",
       "       Frequency UMLS.CUI MetaMap.CUI  \n",
       "69748                                  \n",
       "287684                                 \n",
       "349332                                 "
      ]
     },
     "execution_count": 3,
     "metadata": {},
     "output_type": "execute_result"
    }
   ],
   "source": [
    "df.sample(3, random_state=0)"
   ]
  },
  {
   "cell_type": "markdown",
   "metadata": {
    "colab_type": "text",
    "id": "JS1aewrFmAjM"
   },
   "source": [
    "## Add Normalized Forms"
   ]
  },
  {
   "cell_type": "markdown",
   "metadata": {
    "colab_type": "text",
    "id": "5u5Xl9WlCcB9"
   },
   "source": [
    "#### Normalized Short Form"
   ]
  },
  {
   "cell_type": "markdown",
   "metadata": {
    "colab_type": "text",
    "id": "MrMEO2ASmYd_"
   },
   "source": [
    "The normalized short form is created by:\n",
    "1. converting all text to lowercase; \n",
    "2. stripping leading and trailing whitespace;\n",
    "3. standardizing punctuation to an underscore."
   ]
  },
  {
   "cell_type": "code",
   "execution_count": 4,
   "metadata": {
    "colab": {},
    "colab_type": "code",
    "id": "U-4LszvTmD8t"
   },
   "outputs": [],
   "source": [
    "df['NormSF'] = df['SF'].apply(normalized_short_form)"
   ]
  },
  {
   "cell_type": "code",
   "execution_count": 5,
   "metadata": {
    "colab": {
     "base_uri": "https://localhost:8080/",
     "height": 136
    },
    "colab_type": "code",
    "id": "_sNISmlGK02c",
    "outputId": "2ae61aa7-b439-413e-b8f4-0c6ebecad724"
   },
   "outputs": [
    {
     "data": {
      "text/html": [
       "<div>\n",
       "<style scoped>\n",
       "    .dataframe tbody tr th:only-of-type {\n",
       "        vertical-align: middle;\n",
       "    }\n",
       "\n",
       "    .dataframe tbody tr th {\n",
       "        vertical-align: top;\n",
       "    }\n",
       "\n",
       "    .dataframe thead th {\n",
       "        text-align: right;\n",
       "    }\n",
       "</style>\n",
       "<table border=\"1\" class=\"dataframe\">\n",
       "  <thead>\n",
       "    <tr style=\"text-align: right;\">\n",
       "      <th></th>\n",
       "      <th>GroupID</th>\n",
       "      <th>SF</th>\n",
       "      <th>SFUI</th>\n",
       "      <th>NormSF</th>\n",
       "      <th>PrefSF</th>\n",
       "      <th>LF</th>\n",
       "      <th>LFUI</th>\n",
       "      <th>NormLF</th>\n",
       "      <th>PrefLF</th>\n",
       "      <th>Source</th>\n",
       "      <th>SFEUI</th>\n",
       "      <th>LFEUI</th>\n",
       "      <th>Type</th>\n",
       "      <th>Score</th>\n",
       "      <th>Count</th>\n",
       "      <th>Frequency</th>\n",
       "      <th>UMLS.CUI</th>\n",
       "      <th>MetaMap.CUI</th>\n",
       "    </tr>\n",
       "  </thead>\n",
       "  <tbody>\n",
       "    <tr>\n",
       "      <th>69748</th>\n",
       "      <td></td>\n",
       "      <td>ER-α</td>\n",
       "      <td></td>\n",
       "      <td>er_α</td>\n",
       "      <td></td>\n",
       "      <td>oestrogen receptor alpha</td>\n",
       "      <td></td>\n",
       "      <td></td>\n",
       "      <td></td>\n",
       "      <td>UMLS</td>\n",
       "      <td>E0579571</td>\n",
       "      <td>E0579570</td>\n",
       "      <td>acronym</td>\n",
       "      <td></td>\n",
       "      <td></td>\n",
       "      <td></td>\n",
       "      <td></td>\n",
       "      <td></td>\n",
       "    </tr>\n",
       "    <tr>\n",
       "      <th>287684</th>\n",
       "      <td></td>\n",
       "      <td>F9</td>\n",
       "      <td></td>\n",
       "      <td>f9</td>\n",
       "      <td></td>\n",
       "      <td>mouse embryonal carcinoma</td>\n",
       "      <td></td>\n",
       "      <td></td>\n",
       "      <td></td>\n",
       "      <td>ADAM</td>\n",
       "      <td></td>\n",
       "      <td></td>\n",
       "      <td></td>\n",
       "      <td>0.4232</td>\n",
       "      <td>11</td>\n",
       "      <td></td>\n",
       "      <td></td>\n",
       "      <td></td>\n",
       "    </tr>\n",
       "    <tr>\n",
       "      <th>349332</th>\n",
       "      <td></td>\n",
       "      <td>NPr-A</td>\n",
       "      <td></td>\n",
       "      <td>npr_a</td>\n",
       "      <td></td>\n",
       "      <td>natriuretic peptide receptor</td>\n",
       "      <td></td>\n",
       "      <td></td>\n",
       "      <td></td>\n",
       "      <td>ADAM</td>\n",
       "      <td></td>\n",
       "      <td></td>\n",
       "      <td></td>\n",
       "      <td>0.8165</td>\n",
       "      <td>1</td>\n",
       "      <td></td>\n",
       "      <td></td>\n",
       "      <td></td>\n",
       "    </tr>\n",
       "  </tbody>\n",
       "</table>\n",
       "</div>"
      ],
      "text/plain": [
       "       GroupID     SF SFUI NormSF PrefSF                            LF LFUI  \\\n",
       "69748            ER-α        er_α             oestrogen receptor alpha        \n",
       "287684             F9          f9            mouse embryonal carcinoma        \n",
       "349332          NPr-A       npr_a         natriuretic peptide receptor        \n",
       "\n",
       "       NormLF PrefLF Source     SFEUI     LFEUI     Type   Score Count  \\\n",
       "69748                  UMLS  E0579571  E0579570  acronym                 \n",
       "287684                 ADAM                               0.4232    11   \n",
       "349332                 ADAM                               0.8165     1   \n",
       "\n",
       "       Frequency UMLS.CUI MetaMap.CUI  \n",
       "69748                                  \n",
       "287684                                 \n",
       "349332                                 "
      ]
     },
     "execution_count": 5,
     "metadata": {},
     "output_type": "execute_result"
    }
   ],
   "source": [
    "df.sample(3, random_state=0)"
   ]
  },
  {
   "cell_type": "markdown",
   "metadata": {
    "colab_type": "text",
    "id": "-Ux5eO3YA8LI"
   },
   "source": [
    "#### Normalized Long Form"
   ]
  },
  {
   "cell_type": "markdown",
   "metadata": {
    "colab_type": "text",
    "id": "OLGwgUr2XhWW"
   },
   "source": [
    "**NOTE:** Requires local installation of UMLS Lexical Variant Generation program, downloadable [here](https://www.nlm.nih.gov/research/umls/licensedcontent/umlsknowledgesources.html).\n",
    "\n",
    "Additional documentation available [here](https://www.ncbi.nlm.nih.gov/books/NBK9680/). Installation instructions available [here](https://lexsrv2.nlm.nih.gov/LexSysGroup/Projects/lvg/current/docs/userDoc/install/install.html)."
   ]
  },
  {
   "cell_type": "code",
   "execution_count": null,
   "metadata": {
    "colab": {},
    "colab_type": "code",
    "id": "MroScxPBVVzQ"
   },
   "outputs": [],
   "source": [
    "lvg_path = os.path.expanduser('~/lvg2019')"
   ]
  },
  {
   "cell_type": "markdown",
   "metadata": {
    "colab_type": "text",
    "id": "VggAIVl7LtwT"
   },
   "source": [
    "Remove non-ASCII characters"
   ]
  },
  {
   "cell_type": "code",
   "execution_count": null,
   "metadata": {
    "colab": {},
    "colab_type": "code",
    "id": "_bwIQjYmLz2W"
   },
   "outputs": [],
   "source": [
    "df['LF'] = df.LF.str.replace('[^\\x00-\\x7F]','')"
   ]
  },
  {
   "cell_type": "markdown",
   "metadata": {
    "colab_type": "text",
    "id": "ouIQOZgxL-IN"
   },
   "source": [
    "Isolate unique long forms"
   ]
  },
  {
   "cell_type": "code",
   "execution_count": null,
   "metadata": {
    "colab": {},
    "colab_type": "code",
    "id": "2-kVS8O3Mmvl"
   },
   "outputs": [],
   "source": [
    "uniq_long_forms = pd.Series(df['LF'].unique())"
   ]
  },
  {
   "cell_type": "code",
   "execution_count": null,
   "metadata": {
    "colab": {},
    "colab_type": "code",
    "id": "ouv6aqTFNHQj"
   },
   "outputs": [],
   "source": [
    "uniq_long_forms.to_csv('uniq_long_forms.temp',\n",
    "                       index=False,\n",
    "                       header=False,\n",
    "                       encoding='ascii')"
   ]
  },
  {
   "cell_type": "markdown",
   "metadata": {
    "colab_type": "text",
    "id": "KlOaz4fOMJF4"
   },
   "source": [
    "Call lexical variant generation"
   ]
  },
  {
   "cell_type": "code",
   "execution_count": null,
   "metadata": {
    "colab": {},
    "colab_type": "code",
    "id": "vGRLsgvqNjeW"
   },
   "outputs": [],
   "source": [
    "lvg_output = lvg('uniq_long_forms.temp',\n",
    "                 flow='q0:g:rs:o:t:l:B:Ct:q7:q8',\n",
    "                 output_file='uniq_long_forms.temp',\n",
    "                 restrict=True,\n",
    "                 print_no_output=True,\n",
    "                 lvg_path=lvg_path)"
   ]
  },
  {
   "cell_type": "markdown",
   "metadata": {
    "colab_type": "text",
    "id": "iiJOQ6DIQl1e"
   },
   "source": [
    "Extract normalized long forms"
   ]
  },
  {
   "cell_type": "code",
   "execution_count": null,
   "metadata": {
    "colab": {},
    "colab_type": "code",
    "id": "3SLLyNBuRBjP"
   },
   "outputs": [],
   "source": [
    "norm_long_forms = pd.read_csv('uniq_long_forms.temp',\n",
    "                              sep='|',\n",
    "                              header = None,\n",
    "                              usecols = [1])"
   ]
  },
  {
   "cell_type": "markdown",
   "metadata": {
    "colab_type": "text",
    "id": "yCSBZ1eUSNMt"
   },
   "source": [
    "Match with corresponding long forms"
   ]
  },
  {
   "cell_type": "markdown",
   "metadata": {
    "colab_type": "text",
    "id": "hXnvoiKPRPUC"
   },
   "source": [
    "Populate Database"
   ]
  },
  {
   "cell_type": "code",
   "execution_count": null,
   "metadata": {
    "colab": {
     "base_uri": "https://localhost:8080/",
     "height": 122
    },
    "colab_type": "code",
    "id": "1zXn_l5yL7w8",
    "outputId": "c5dfa37d-729a-4d70-d50a-8fe0707c046a"
   },
   "outputs": [],
   "source": [
    "uniq_long_forms.head(5)"
   ]
  },
  {
   "cell_type": "markdown",
   "metadata": {
    "colab_type": "text",
    "id": "iznt2Vc3mEX8"
   },
   "source": [
    "## Add Identifiers"
   ]
  },
  {
   "cell_type": "markdown",
   "metadata": {
    "colab_type": "text",
    "id": "ZvRH3GMY-dWb"
   },
   "source": [
    "#### Short Form Unique Identifier"
   ]
  },
  {
   "cell_type": "markdown",
   "metadata": {
    "colab_type": "text",
    "id": "XXsqapZI-kUW"
   },
   "source": [
    "Sort by SF"
   ]
  },
  {
   "cell_type": "code",
   "execution_count": null,
   "metadata": {
    "colab": {},
    "colab_type": "code",
    "id": "2-s1VEXj-mrZ"
   },
   "outputs": [],
   "source": [
    "df = df.sort_values(by=['SF'])\n",
    "df = df.reset_index()"
   ]
  },
  {
   "cell_type": "markdown",
   "metadata": {
    "colab_type": "text",
    "id": "PdwOr71P-nIV"
   },
   "source": [
    "Assign SFUI"
   ]
  },
  {
   "cell_type": "code",
   "execution_count": null,
   "metadata": {
    "colab": {},
    "colab_type": "code",
    "id": "1EIwrnJh-o2A"
   },
   "outputs": [],
   "source": [
    "assignment = 1\n",
    "for index, row in df.iterrows():\n",
    "    if index == 0:\n",
    "        df['SFUI'].iat[index] = assignment\n",
    "    elif df['SF'].at[index] == df['SF'].at[index-1]:\n",
    "        df['SFUI'].iat[index] = assignment\n",
    "    else:\n",
    "        assignment += 1\n",
    "        df['SFUI'].iat[index] = assignment"
   ]
  },
  {
   "cell_type": "markdown",
   "metadata": {
    "colab_type": "text",
    "id": "PUFnSIsU-pRx"
   },
   "source": [
    "Format SFUI"
   ]
  },
  {
   "cell_type": "code",
   "execution_count": null,
   "metadata": {
    "colab": {},
    "colab_type": "code",
    "id": "hTavkERx-rfu"
   },
   "outputs": [],
   "source": [
    "df[\"SFUI\"] = \"S\" + (df.SFUI.map(\"{:06}\".format))\n",
    "df.head(5)"
   ]
  },
  {
   "cell_type": "markdown",
   "metadata": {
    "colab_type": "text",
    "id": "kinCh32p-sPg"
   },
   "source": [
    "#### Long Form Unique Identifier"
   ]
  },
  {
   "cell_type": "markdown",
   "metadata": {
    "colab_type": "text",
    "id": "nv_D2L4P-wjF"
   },
   "source": [
    "Sort by LF"
   ]
  },
  {
   "cell_type": "code",
   "execution_count": null,
   "metadata": {
    "colab": {},
    "colab_type": "code",
    "id": "NB3dqtKG-xwm"
   },
   "outputs": [],
   "source": [
    "df = df.sort_values(by=['LF'])\n",
    "df = df.reset_index()"
   ]
  },
  {
   "cell_type": "markdown",
   "metadata": {
    "colab_type": "text",
    "id": "aKVXx2ZC-yGI"
   },
   "source": [
    "Assign LFUI"
   ]
  },
  {
   "cell_type": "code",
   "execution_count": null,
   "metadata": {
    "colab": {},
    "colab_type": "code",
    "id": "FzPpQpPa-2Px"
   },
   "outputs": [],
   "source": [
    "assignment = 1\n",
    "for index, row in df.iterrows():\n",
    "    if index == 0:\n",
    "        df['LFUI'].iat[index] = assignment\n",
    "    elif df['LF'].at[index] == df['LF'].at[index-1]:\n",
    "        df['LFUI'].iat[index] = assignment\n",
    "    else:\n",
    "        assignment += 1\n",
    "        df['LFUI'].iat[index] = assignment"
   ]
  },
  {
   "cell_type": "markdown",
   "metadata": {
    "colab_type": "text",
    "id": "6G48APvr-zWL"
   },
   "source": [
    "Format LFUI"
   ]
  },
  {
   "cell_type": "code",
   "execution_count": null,
   "metadata": {
    "colab": {},
    "colab_type": "code",
    "id": "AsPHjBeT-1yB"
   },
   "outputs": [],
   "source": [
    "df[\"LFUI\"] = \"L\" + (df.LFUI.map(\"{:06}\".format))\n",
    "df.head(5)"
   ]
  },
  {
   "cell_type": "markdown",
   "metadata": {
    "colab_type": "text",
    "id": "yWr05XYZA_A6"
   },
   "source": [
    "## MetaMap CUIs"
   ]
  },
  {
   "cell_type": "markdown",
   "metadata": {
    "colab_type": "text",
    "id": "I3TkGlTIBBEc"
   },
   "source": [
    "## Standardize CUIs"
   ]
  },
  {
   "cell_type": "markdown",
   "metadata": {
    "colab_type": "text",
    "id": "8T4J_b9rBKBq"
   },
   "source": [
    "## Export"
   ]
  },
  {
   "cell_type": "code",
   "execution_count": null,
   "metadata": {
    "colab": {},
    "colab_type": "code",
    "id": "q5Gt-aCcP8bt"
   },
   "outputs": [],
   "source": [
    "df.to_csv('Step2Output_Clinical_Abbreviation_Acronym_Crosswalk.csv',\n",
    "          index=False,\n",
    "          header=True,\n",
    "          sep='|')"
   ]
  }
 ],
 "metadata": {
  "colab": {
   "collapsed_sections": [],
   "name": "Step2_Add_Information.ipynb",
   "provenance": []
  },
  "kernelspec": {
   "display_name": "Python 3",
   "language": "python",
   "name": "python3"
  },
  "language_info": {
   "codemirror_mode": {
    "name": "ipython",
    "version": 3
   },
   "file_extension": ".py",
   "mimetype": "text/x-python",
   "name": "python",
   "nbconvert_exporter": "python",
   "pygments_lexer": "ipython3",
   "version": "3.7.4"
  }
 },
 "nbformat": 4,
 "nbformat_minor": 1
}
