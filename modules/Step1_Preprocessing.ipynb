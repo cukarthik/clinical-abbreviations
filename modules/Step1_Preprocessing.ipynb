{
 "cells": [
  {
   "cell_type": "markdown",
   "metadata": {
    "colab_type": "text",
    "id": "3hFkPIiTNygE"
   },
   "source": [
    "# Step 1: Preprocessing"
   ]
  },
  {
   "cell_type": "markdown",
   "metadata": {
    "colab_type": "text",
    "id": "Lr5P3lz5N2my"
   },
   "source": [
    "## Setup"
   ]
  },
  {
   "cell_type": "code",
   "execution_count": 1,
   "metadata": {
    "colab": {},
    "colab_type": "code",
    "id": "E9-w0vjtOQQ2"
   },
   "outputs": [],
   "source": [
    "import pandas as pd\n",
    "from master_functions import *"
   ]
  },
  {
   "cell_type": "markdown",
   "metadata": {
    "colab_type": "text",
    "id": "4cV7r8vf8dE4"
   },
   "source": [
    "#### Instantiate Output Frame"
   ]
  },
  {
   "cell_type": "markdown",
   "metadata": {
    "colab_type": "text",
    "id": "pZAc7XurEDRZ"
   },
   "source": [
    "This is the common data model for formatting all sources."
   ]
  },
  {
   "cell_type": "code",
   "execution_count": 2,
   "metadata": {
    "colab": {},
    "colab_type": "code",
    "id": "bX1OMt7g8fuF"
   },
   "outputs": [],
   "source": [
    "out_db = pd.DataFrame(columns=['GroupID', 'EntryID', 'SF', 'SFUI', 'NormSF', \n",
    "                               'PrefSF', 'LF', 'LFUI', 'NormLF', 'PrefLF', \n",
    "                               'Source', 'SFEUI', 'LFEUI', 'Type', 'Score', \n",
    "                               'Count', 'Frequency', 'UMLS.CUI'])"
   ]
  },
  {
   "cell_type": "markdown",
   "metadata": {
    "colab_type": "text",
    "id": "_rtFrFiHvsD7"
   },
   "source": [
    "## Source #1: UMLS"
   ]
  },
  {
   "cell_type": "markdown",
   "metadata": {
    "colab_type": "text",
    "id": "6uBJpCLv0dOj"
   },
   "source": [
    "#### Load UMLS"
   ]
  },
  {
   "cell_type": "code",
   "execution_count": 3,
   "metadata": {
    "colab": {},
    "colab_type": "code",
    "id": "eMGtZ2Z80bpa"
   },
   "outputs": [],
   "source": [
    "umls_db = pd.read_csv('https://raw.githubusercontent.com/lisavirginia/clinical-abbreviations/master/sources/1-umls/LRABR',\n",
    "                      sep='|',\n",
    "                      header=None,\n",
    "                      names=['SFEUI', 'SF', 'Type', 'LFEUI', 'LF'],\n",
    "                      na_filter=False,\n",
    "                      index_col=False)"
   ]
  },
  {
   "cell_type": "code",
   "execution_count": 4,
   "metadata": {
    "colab": {
     "base_uri": "https://localhost:8080/",
     "height": 136
    },
    "colab_type": "code",
    "id": "JAHmmH_81kPl",
    "outputId": "761de89e-06f1-41c6-bb7b-62d880ee706e"
   },
   "outputs": [
    {
     "data": {
      "text/html": [
       "<div>\n",
       "<style scoped>\n",
       "    .dataframe tbody tr th:only-of-type {\n",
       "        vertical-align: middle;\n",
       "    }\n",
       "\n",
       "    .dataframe tbody tr th {\n",
       "        vertical-align: top;\n",
       "    }\n",
       "\n",
       "    .dataframe thead th {\n",
       "        text-align: right;\n",
       "    }\n",
       "</style>\n",
       "<table border=\"1\" class=\"dataframe\">\n",
       "  <thead>\n",
       "    <tr style=\"text-align: right;\">\n",
       "      <th></th>\n",
       "      <th>SFEUI</th>\n",
       "      <th>SF</th>\n",
       "      <th>Type</th>\n",
       "      <th>LFEUI</th>\n",
       "      <th>LF</th>\n",
       "    </tr>\n",
       "  </thead>\n",
       "  <tbody>\n",
       "    <tr>\n",
       "      <th>135790</th>\n",
       "      <td>E0672087</td>\n",
       "      <td>G. agilis</td>\n",
       "      <td>abbreviation</td>\n",
       "      <td>E0672086</td>\n",
       "      <td>Giardia agilis</td>\n",
       "    </tr>\n",
       "    <tr>\n",
       "      <th>58499</th>\n",
       "      <td>E0520697</td>\n",
       "      <td>ME</td>\n",
       "      <td>acronym</td>\n",
       "      <td>E0039236</td>\n",
       "      <td>median eminence</td>\n",
       "    </tr>\n",
       "    <tr>\n",
       "      <th>282286</th>\n",
       "      <td>E0761579</td>\n",
       "      <td>MYLK2</td>\n",
       "      <td>acronym</td>\n",
       "      <td>E0761578</td>\n",
       "      <td>myosin light chain kinase 2</td>\n",
       "    </tr>\n",
       "  </tbody>\n",
       "</table>\n",
       "</div>"
      ],
      "text/plain": [
       "           SFEUI         SF          Type     LFEUI  \\\n",
       "135790  E0672087  G. agilis  abbreviation  E0672086   \n",
       "58499   E0520697         ME       acronym  E0039236   \n",
       "282286  E0761579      MYLK2       acronym  E0761578   \n",
       "\n",
       "                                 LF  \n",
       "135790               Giardia agilis  \n",
       "58499               median eminence  \n",
       "282286  myosin light chain kinase 2  "
      ]
     },
     "execution_count": 4,
     "metadata": {},
     "output_type": "execute_result"
    }
   ],
   "source": [
    "clean(umls_db)\n",
    "umls_db.sample(3, random_state=0)"
   ]
  },
  {
   "cell_type": "markdown",
   "metadata": {
    "colab_type": "text",
    "id": "87j1877J1Xci"
   },
   "source": [
    "#### Populate Output Frame"
   ]
  },
  {
   "cell_type": "code",
   "execution_count": 5,
   "metadata": {
    "colab": {},
    "colab_type": "code",
    "id": "HLxoH6oi1amk"
   },
   "outputs": [],
   "source": [
    "umls_out = out_db.copy()\n",
    "umls_out['SF'] = umls_db['SF']\n",
    "umls_out['LF'] = umls_db['LF']\n",
    "umls_out['Source'] = 'UMLS'\n",
    "umls_out['SFEUI'] = umls_db['SFEUI']\n",
    "umls_out['LFEUI'] = umls_db['LFEUI']\n",
    "umls_out['Type'] = umls_db['Type']"
   ]
  },
  {
   "cell_type": "code",
   "execution_count": 6,
   "metadata": {
    "colab": {
     "base_uri": "https://localhost:8080/",
     "height": 186
    },
    "colab_type": "code",
    "id": "blYWwfF-2fNZ",
    "outputId": "0c0900ac-34f5-4978-cbc0-c57936030f9a"
   },
   "outputs": [
    {
     "data": {
      "text/html": [
       "<div>\n",
       "<style scoped>\n",
       "    .dataframe tbody tr th:only-of-type {\n",
       "        vertical-align: middle;\n",
       "    }\n",
       "\n",
       "    .dataframe tbody tr th {\n",
       "        vertical-align: top;\n",
       "    }\n",
       "\n",
       "    .dataframe thead th {\n",
       "        text-align: right;\n",
       "    }\n",
       "</style>\n",
       "<table border=\"1\" class=\"dataframe\">\n",
       "  <thead>\n",
       "    <tr style=\"text-align: right;\">\n",
       "      <th></th>\n",
       "      <th>GroupID</th>\n",
       "      <th>EntryID</th>\n",
       "      <th>SF</th>\n",
       "      <th>SFUI</th>\n",
       "      <th>NormSF</th>\n",
       "      <th>PrefSF</th>\n",
       "      <th>LF</th>\n",
       "      <th>LFUI</th>\n",
       "      <th>NormLF</th>\n",
       "      <th>PrefLF</th>\n",
       "      <th>Source</th>\n",
       "      <th>SFEUI</th>\n",
       "      <th>LFEUI</th>\n",
       "      <th>Type</th>\n",
       "      <th>Score</th>\n",
       "      <th>Count</th>\n",
       "      <th>Frequency</th>\n",
       "      <th>UMLS.CUI</th>\n",
       "    </tr>\n",
       "  </thead>\n",
       "  <tbody>\n",
       "    <tr>\n",
       "      <th>135790</th>\n",
       "      <td>NaN</td>\n",
       "      <td>NaN</td>\n",
       "      <td>G. agilis</td>\n",
       "      <td>NaN</td>\n",
       "      <td>NaN</td>\n",
       "      <td>NaN</td>\n",
       "      <td>Giardia agilis</td>\n",
       "      <td>NaN</td>\n",
       "      <td>NaN</td>\n",
       "      <td>NaN</td>\n",
       "      <td>UMLS</td>\n",
       "      <td>E0672087</td>\n",
       "      <td>E0672086</td>\n",
       "      <td>abbreviation</td>\n",
       "      <td>NaN</td>\n",
       "      <td>NaN</td>\n",
       "      <td>NaN</td>\n",
       "      <td>NaN</td>\n",
       "    </tr>\n",
       "    <tr>\n",
       "      <th>58499</th>\n",
       "      <td>NaN</td>\n",
       "      <td>NaN</td>\n",
       "      <td>ME</td>\n",
       "      <td>NaN</td>\n",
       "      <td>NaN</td>\n",
       "      <td>NaN</td>\n",
       "      <td>median eminence</td>\n",
       "      <td>NaN</td>\n",
       "      <td>NaN</td>\n",
       "      <td>NaN</td>\n",
       "      <td>UMLS</td>\n",
       "      <td>E0520697</td>\n",
       "      <td>E0039236</td>\n",
       "      <td>acronym</td>\n",
       "      <td>NaN</td>\n",
       "      <td>NaN</td>\n",
       "      <td>NaN</td>\n",
       "      <td>NaN</td>\n",
       "    </tr>\n",
       "    <tr>\n",
       "      <th>282286</th>\n",
       "      <td>NaN</td>\n",
       "      <td>NaN</td>\n",
       "      <td>MYLK2</td>\n",
       "      <td>NaN</td>\n",
       "      <td>NaN</td>\n",
       "      <td>NaN</td>\n",
       "      <td>myosin light chain kinase 2</td>\n",
       "      <td>NaN</td>\n",
       "      <td>NaN</td>\n",
       "      <td>NaN</td>\n",
       "      <td>UMLS</td>\n",
       "      <td>E0761579</td>\n",
       "      <td>E0761578</td>\n",
       "      <td>acronym</td>\n",
       "      <td>NaN</td>\n",
       "      <td>NaN</td>\n",
       "      <td>NaN</td>\n",
       "      <td>NaN</td>\n",
       "    </tr>\n",
       "  </tbody>\n",
       "</table>\n",
       "</div>"
      ],
      "text/plain": [
       "       GroupID EntryID         SF SFUI NormSF PrefSF  \\\n",
       "135790     NaN     NaN  G. agilis  NaN    NaN    NaN   \n",
       "58499      NaN     NaN         ME  NaN    NaN    NaN   \n",
       "282286     NaN     NaN      MYLK2  NaN    NaN    NaN   \n",
       "\n",
       "                                 LF LFUI NormLF PrefLF Source     SFEUI  \\\n",
       "135790               Giardia agilis  NaN    NaN    NaN   UMLS  E0672087   \n",
       "58499               median eminence  NaN    NaN    NaN   UMLS  E0520697   \n",
       "282286  myosin light chain kinase 2  NaN    NaN    NaN   UMLS  E0761579   \n",
       "\n",
       "           LFEUI          Type Score Count Frequency UMLS.CUI  \n",
       "135790  E0672086  abbreviation   NaN   NaN       NaN      NaN  \n",
       "58499   E0039236       acronym   NaN   NaN       NaN      NaN  \n",
       "282286  E0761578       acronym   NaN   NaN       NaN      NaN  "
      ]
     },
     "execution_count": 6,
     "metadata": {},
     "output_type": "execute_result"
    }
   ],
   "source": [
    "umls_out.sample(3, random_state=0)"
   ]
  },
  {
   "cell_type": "markdown",
   "metadata": {
    "colab_type": "text",
    "id": "zZBdmCbG29sF"
   },
   "source": [
    "#### Append Output"
   ]
  },
  {
   "cell_type": "code",
   "execution_count": 7,
   "metadata": {
    "colab": {},
    "colab_type": "code",
    "id": "lYbxHN423BGM"
   },
   "outputs": [],
   "source": [
    "out_list = []\n",
    "out_list.append(umls_out)"
   ]
  },
  {
   "cell_type": "markdown",
   "metadata": {
    "colab_type": "text",
    "id": "OxyKLRisOUL4"
   },
   "source": [
    "## Source #2: ADAM"
   ]
  },
  {
   "cell_type": "markdown",
   "metadata": {
    "colab_type": "text",
    "id": "UvIsUU2rP4bM"
   },
   "source": [
    "#### Load ADAM"
   ]
  },
  {
   "cell_type": "code",
   "execution_count": 8,
   "metadata": {
    "colab": {},
    "colab_type": "code",
    "id": "AmHK7co_OZlX"
   },
   "outputs": [],
   "source": [
    "adam_db = pd.read_csv('https://raw.githubusercontent.com/lisavirginia/clinical-abbreviations/master/sources/2-adam/adam_database',\n",
    "                      sep='\\t',\n",
    "                      skiprows=38,  # skips readme portion\n",
    "                      header=None,\n",
    "                      names=['Pref_SF', 'Alt_SF', 'All_LF', 'Score', 'Count'],\n",
    "                      na_filter=False,\n",
    "                      index_col=False)"
   ]
  },
  {
   "cell_type": "code",
   "execution_count": 9,
   "metadata": {
    "colab": {
     "base_uri": "https://localhost:8080/",
     "height": 136
    },
    "colab_type": "code",
    "id": "i9BVTY15te2Y",
    "outputId": "34ab0ba0-3577-4d31-f0fd-cdfaed7059f3"
   },
   "outputs": [
    {
     "data": {
      "text/html": [
       "<div>\n",
       "<style scoped>\n",
       "    .dataframe tbody tr th:only-of-type {\n",
       "        vertical-align: middle;\n",
       "    }\n",
       "\n",
       "    .dataframe tbody tr th {\n",
       "        vertical-align: top;\n",
       "    }\n",
       "\n",
       "    .dataframe thead th {\n",
       "        text-align: right;\n",
       "    }\n",
       "</style>\n",
       "<table border=\"1\" class=\"dataframe\">\n",
       "  <thead>\n",
       "    <tr style=\"text-align: right;\">\n",
       "      <th></th>\n",
       "      <th>Pref_SF</th>\n",
       "      <th>Alt_SF</th>\n",
       "      <th>All_LF</th>\n",
       "      <th>Score</th>\n",
       "      <th>Count</th>\n",
       "    </tr>\n",
       "  </thead>\n",
       "  <tbody>\n",
       "    <tr>\n",
       "      <th>13054</th>\n",
       "      <td>DMN</td>\n",
       "      <td>DMN:15</td>\n",
       "      <td>dysplastic melanocytic nevi:15:0.8045</td>\n",
       "      <td>0.8045</td>\n",
       "      <td>15</td>\n",
       "    </tr>\n",
       "    <tr>\n",
       "      <th>5739</th>\n",
       "      <td>BM</td>\n",
       "      <td>BM:8|Bm:1</td>\n",
       "      <td>bicuculline methiodide:9:0.6794</td>\n",
       "      <td>0.6794</td>\n",
       "      <td>9</td>\n",
       "    </tr>\n",
       "    <tr>\n",
       "      <th>19192</th>\n",
       "      <td>GISSI-2</td>\n",
       "      <td>GISSI-2:10</td>\n",
       "      <td>Gruppo Italiano per lo Studio della Sopravvive...</td>\n",
       "      <td>0.5470</td>\n",
       "      <td>10</td>\n",
       "    </tr>\n",
       "  </tbody>\n",
       "</table>\n",
       "</div>"
      ],
      "text/plain": [
       "       Pref_SF      Alt_SF                                             All_LF  \\\n",
       "13054      DMN      DMN:15              dysplastic melanocytic nevi:15:0.8045   \n",
       "5739        BM   BM:8|Bm:1                    bicuculline methiodide:9:0.6794   \n",
       "19192  GISSI-2  GISSI-2:10  Gruppo Italiano per lo Studio della Sopravvive...   \n",
       "\n",
       "        Score  Count  \n",
       "13054  0.8045     15  \n",
       "5739   0.6794      9  \n",
       "19192  0.5470     10  "
      ]
     },
     "execution_count": 9,
     "metadata": {},
     "output_type": "execute_result"
    }
   ],
   "source": [
    "clean(adam_db)\n",
    "adam_db.sample(3, random_state=0)"
   ]
  },
  {
   "cell_type": "markdown",
   "metadata": {
    "colab_type": "text",
    "id": "4KC4ajlfc4s_"
   },
   "source": [
    "#### Populate Output Frame"
   ]
  },
  {
   "cell_type": "code",
   "execution_count": 10,
   "metadata": {
    "colab": {},
    "colab_type": "code",
    "id": "2iY2iB7fgxUQ"
   },
   "outputs": [],
   "source": [
    "adam_out = out_db.copy()\n",
    "adam_out['SF'] = adam_db['Alt_SF']\n",
    "adam_out['LF'] = adam_db['All_LF']\n",
    "adam_out['Source'] = 'ADAM'\n",
    "adam_out['PSF'] = adam_db['Pref_SF']"
   ]
  },
  {
   "cell_type": "code",
   "execution_count": 11,
   "metadata": {
    "colab": {
     "base_uri": "https://localhost:8080/",
     "height": 170
    },
    "colab_type": "code",
    "id": "GKNFTv-8kKd5",
    "outputId": "41ccd722-9821-4a84-ef57-5973d50c97f9"
   },
   "outputs": [
    {
     "data": {
      "text/html": [
       "<div>\n",
       "<style scoped>\n",
       "    .dataframe tbody tr th:only-of-type {\n",
       "        vertical-align: middle;\n",
       "    }\n",
       "\n",
       "    .dataframe tbody tr th {\n",
       "        vertical-align: top;\n",
       "    }\n",
       "\n",
       "    .dataframe thead th {\n",
       "        text-align: right;\n",
       "    }\n",
       "</style>\n",
       "<table border=\"1\" class=\"dataframe\">\n",
       "  <thead>\n",
       "    <tr style=\"text-align: right;\">\n",
       "      <th></th>\n",
       "      <th>GroupID</th>\n",
       "      <th>EntryID</th>\n",
       "      <th>SF</th>\n",
       "      <th>SFUI</th>\n",
       "      <th>NormSF</th>\n",
       "      <th>PrefSF</th>\n",
       "      <th>LF</th>\n",
       "      <th>LFUI</th>\n",
       "      <th>NormLF</th>\n",
       "      <th>PrefLF</th>\n",
       "      <th>Source</th>\n",
       "      <th>SFEUI</th>\n",
       "      <th>LFEUI</th>\n",
       "      <th>Type</th>\n",
       "      <th>Score</th>\n",
       "      <th>Count</th>\n",
       "      <th>Frequency</th>\n",
       "      <th>UMLS.CUI</th>\n",
       "      <th>PSF</th>\n",
       "    </tr>\n",
       "  </thead>\n",
       "  <tbody>\n",
       "    <tr>\n",
       "      <th>13054</th>\n",
       "      <td>NaN</td>\n",
       "      <td>NaN</td>\n",
       "      <td>DMN:15</td>\n",
       "      <td>NaN</td>\n",
       "      <td>NaN</td>\n",
       "      <td>NaN</td>\n",
       "      <td>dysplastic melanocytic nevi:15:0.8045</td>\n",
       "      <td>NaN</td>\n",
       "      <td>NaN</td>\n",
       "      <td>NaN</td>\n",
       "      <td>ADAM</td>\n",
       "      <td>NaN</td>\n",
       "      <td>NaN</td>\n",
       "      <td>NaN</td>\n",
       "      <td>NaN</td>\n",
       "      <td>NaN</td>\n",
       "      <td>NaN</td>\n",
       "      <td>NaN</td>\n",
       "      <td>DMN</td>\n",
       "    </tr>\n",
       "    <tr>\n",
       "      <th>5739</th>\n",
       "      <td>NaN</td>\n",
       "      <td>NaN</td>\n",
       "      <td>BM:8|Bm:1</td>\n",
       "      <td>NaN</td>\n",
       "      <td>NaN</td>\n",
       "      <td>NaN</td>\n",
       "      <td>bicuculline methiodide:9:0.6794</td>\n",
       "      <td>NaN</td>\n",
       "      <td>NaN</td>\n",
       "      <td>NaN</td>\n",
       "      <td>ADAM</td>\n",
       "      <td>NaN</td>\n",
       "      <td>NaN</td>\n",
       "      <td>NaN</td>\n",
       "      <td>NaN</td>\n",
       "      <td>NaN</td>\n",
       "      <td>NaN</td>\n",
       "      <td>NaN</td>\n",
       "      <td>BM</td>\n",
       "    </tr>\n",
       "    <tr>\n",
       "      <th>19192</th>\n",
       "      <td>NaN</td>\n",
       "      <td>NaN</td>\n",
       "      <td>GISSI-2:10</td>\n",
       "      <td>NaN</td>\n",
       "      <td>NaN</td>\n",
       "      <td>NaN</td>\n",
       "      <td>Gruppo Italiano per lo Studio della Sopravvive...</td>\n",
       "      <td>NaN</td>\n",
       "      <td>NaN</td>\n",
       "      <td>NaN</td>\n",
       "      <td>ADAM</td>\n",
       "      <td>NaN</td>\n",
       "      <td>NaN</td>\n",
       "      <td>NaN</td>\n",
       "      <td>NaN</td>\n",
       "      <td>NaN</td>\n",
       "      <td>NaN</td>\n",
       "      <td>NaN</td>\n",
       "      <td>GISSI-2</td>\n",
       "    </tr>\n",
       "  </tbody>\n",
       "</table>\n",
       "</div>"
      ],
      "text/plain": [
       "      GroupID EntryID          SF SFUI NormSF PrefSF  \\\n",
       "13054     NaN     NaN      DMN:15  NaN    NaN    NaN   \n",
       "5739      NaN     NaN   BM:8|Bm:1  NaN    NaN    NaN   \n",
       "19192     NaN     NaN  GISSI-2:10  NaN    NaN    NaN   \n",
       "\n",
       "                                                      LF LFUI NormLF PrefLF  \\\n",
       "13054              dysplastic melanocytic nevi:15:0.8045  NaN    NaN    NaN   \n",
       "5739                     bicuculline methiodide:9:0.6794  NaN    NaN    NaN   \n",
       "19192  Gruppo Italiano per lo Studio della Sopravvive...  NaN    NaN    NaN   \n",
       "\n",
       "      Source SFEUI LFEUI Type Score Count Frequency UMLS.CUI      PSF  \n",
       "13054   ADAM   NaN   NaN  NaN   NaN   NaN       NaN      NaN      DMN  \n",
       "5739    ADAM   NaN   NaN  NaN   NaN   NaN       NaN      NaN       BM  \n",
       "19192   ADAM   NaN   NaN  NaN   NaN   NaN       NaN      NaN  GISSI-2  "
      ]
     },
     "execution_count": 11,
     "metadata": {},
     "output_type": "execute_result"
    }
   ],
   "source": [
    "adam_out.sample(3, random_state=0)"
   ]
  },
  {
   "cell_type": "markdown",
   "metadata": {
    "colab_type": "text",
    "id": "j4_QqzmItTZi"
   },
   "source": [
    "#### Unnest SF & LF Columns"
   ]
  },
  {
   "cell_type": "code",
   "execution_count": 12,
   "metadata": {
    "colab": {},
    "colab_type": "code",
    "id": "dqIXaAq6tag-"
   },
   "outputs": [],
   "source": [
    "adam_out = expand_col(adam_out, 'SF')\n",
    "adam_out = expand_col(adam_out, 'LF')\n",
    "adam_out.drop_duplicates(inplace=True)"
   ]
  },
  {
   "cell_type": "code",
   "execution_count": 13,
   "metadata": {
    "colab": {
     "base_uri": "https://localhost:8080/",
     "height": 136
    },
    "colab_type": "code",
    "id": "hK82T3ZSne1j",
    "outputId": "dcd16028-100a-47d1-cd4b-1904aae131ed"
   },
   "outputs": [
    {
     "data": {
      "text/html": [
       "<div>\n",
       "<style scoped>\n",
       "    .dataframe tbody tr th:only-of-type {\n",
       "        vertical-align: middle;\n",
       "    }\n",
       "\n",
       "    .dataframe tbody tr th {\n",
       "        vertical-align: top;\n",
       "    }\n",
       "\n",
       "    .dataframe thead th {\n",
       "        text-align: right;\n",
       "    }\n",
       "</style>\n",
       "<table border=\"1\" class=\"dataframe\">\n",
       "  <thead>\n",
       "    <tr style=\"text-align: right;\">\n",
       "      <th></th>\n",
       "      <th>GroupID</th>\n",
       "      <th>EntryID</th>\n",
       "      <th>SFUI</th>\n",
       "      <th>NormSF</th>\n",
       "      <th>PrefSF</th>\n",
       "      <th>LFUI</th>\n",
       "      <th>NormLF</th>\n",
       "      <th>PrefLF</th>\n",
       "      <th>Source</th>\n",
       "      <th>SFEUI</th>\n",
       "      <th>LFEUI</th>\n",
       "      <th>Type</th>\n",
       "      <th>Score</th>\n",
       "      <th>Count</th>\n",
       "      <th>Frequency</th>\n",
       "      <th>UMLS.CUI</th>\n",
       "      <th>PSF</th>\n",
       "      <th>SF</th>\n",
       "      <th>LF</th>\n",
       "    </tr>\n",
       "  </thead>\n",
       "  <tbody>\n",
       "    <tr>\n",
       "      <th>2789</th>\n",
       "      <td>NaN</td>\n",
       "      <td>NaN</td>\n",
       "      <td>NaN</td>\n",
       "      <td>NaN</td>\n",
       "      <td>NaN</td>\n",
       "      <td>NaN</td>\n",
       "      <td>NaN</td>\n",
       "      <td>NaN</td>\n",
       "      <td>ADAM</td>\n",
       "      <td>NaN</td>\n",
       "      <td>NaN</td>\n",
       "      <td>NaN</td>\n",
       "      <td>NaN</td>\n",
       "      <td>NaN</td>\n",
       "      <td>NaN</td>\n",
       "      <td>NaN</td>\n",
       "      <td>ANF</td>\n",
       "      <td>ANF:19</td>\n",
       "      <td>atrial natriuretic peptide:19:0.7658</td>\n",
       "    </tr>\n",
       "    <tr>\n",
       "      <th>12925</th>\n",
       "      <td>NaN</td>\n",
       "      <td>NaN</td>\n",
       "      <td>NaN</td>\n",
       "      <td>NaN</td>\n",
       "      <td>NaN</td>\n",
       "      <td>NaN</td>\n",
       "      <td>NaN</td>\n",
       "      <td>NaN</td>\n",
       "      <td>ADAM</td>\n",
       "      <td>NaN</td>\n",
       "      <td>NaN</td>\n",
       "      <td>NaN</td>\n",
       "      <td>NaN</td>\n",
       "      <td>NaN</td>\n",
       "      <td>NaN</td>\n",
       "      <td>NaN</td>\n",
       "      <td>DLS</td>\n",
       "      <td>DLS:159</td>\n",
       "      <td>dynamic light scattering:150:0.9220</td>\n",
       "    </tr>\n",
       "    <tr>\n",
       "      <th>23483</th>\n",
       "      <td>NaN</td>\n",
       "      <td>NaN</td>\n",
       "      <td>NaN</td>\n",
       "      <td>NaN</td>\n",
       "      <td>NaN</td>\n",
       "      <td>NaN</td>\n",
       "      <td>NaN</td>\n",
       "      <td>NaN</td>\n",
       "      <td>ADAM</td>\n",
       "      <td>NaN</td>\n",
       "      <td>NaN</td>\n",
       "      <td>NaN</td>\n",
       "      <td>NaN</td>\n",
       "      <td>NaN</td>\n",
       "      <td>NaN</td>\n",
       "      <td>NaN</td>\n",
       "      <td>Ids</td>\n",
       "      <td>ids:1</td>\n",
       "      <td>idiotypes:14:0.0378</td>\n",
       "    </tr>\n",
       "  </tbody>\n",
       "</table>\n",
       "</div>"
      ],
      "text/plain": [
       "      GroupID EntryID SFUI NormSF PrefSF LFUI NormLF PrefLF Source SFEUI  \\\n",
       "2789      NaN     NaN  NaN    NaN    NaN  NaN    NaN    NaN   ADAM   NaN   \n",
       "12925     NaN     NaN  NaN    NaN    NaN  NaN    NaN    NaN   ADAM   NaN   \n",
       "23483     NaN     NaN  NaN    NaN    NaN  NaN    NaN    NaN   ADAM   NaN   \n",
       "\n",
       "      LFEUI Type Score Count Frequency UMLS.CUI  PSF       SF  \\\n",
       "2789    NaN  NaN   NaN   NaN       NaN      NaN  ANF   ANF:19   \n",
       "12925   NaN  NaN   NaN   NaN       NaN      NaN  DLS  DLS:159   \n",
       "23483   NaN  NaN   NaN   NaN       NaN      NaN  Ids    ids:1   \n",
       "\n",
       "                                         LF  \n",
       "2789   atrial natriuretic peptide:19:0.7658  \n",
       "12925   dynamic light scattering:150:0.9220  \n",
       "23483                   idiotypes:14:0.0378  "
      ]
     },
     "execution_count": 13,
     "metadata": {},
     "output_type": "execute_result"
    }
   ],
   "source": [
    "adam_out.sample(3, random_state=0)"
   ]
  },
  {
   "cell_type": "markdown",
   "metadata": {
    "colab_type": "text",
    "id": "17DOPMQOupY2"
   },
   "source": [
    "#### Assign Count Information"
   ]
  },
  {
   "cell_type": "code",
   "execution_count": 14,
   "metadata": {
    "colab": {},
    "colab_type": "code",
    "id": "mmeqc09Ru5XE"
   },
   "outputs": [],
   "source": [
    "temp = adam_out[\"SF\"].str.split(\":\", expand=True)\n",
    "adam_out[\"SF\"] = temp[0]\n",
    "adam_out[\"Count\"] = temp[1] "
   ]
  },
  {
   "cell_type": "markdown",
   "metadata": {
    "colab_type": "text",
    "id": "h5twPB9oqIde"
   },
   "source": [
    "#### Assign Score Information"
   ]
  },
  {
   "cell_type": "code",
   "execution_count": 15,
   "metadata": {
    "colab": {},
    "colab_type": "code",
    "id": "43agTw0zqKyF"
   },
   "outputs": [],
   "source": [
    "temp = adam_out[\"LF\"].str.split(\":\", expand=True)\n",
    "adam_out[\"LF\"] = temp[0]\n",
    "adam_out[\"Score\"] = temp[2]"
   ]
  },
  {
   "cell_type": "markdown",
   "metadata": {
    "colab_type": "text",
    "id": "QAynxjNeqhuy"
   },
   "source": [
    "#### Reorder Columns"
   ]
  },
  {
   "cell_type": "code",
   "execution_count": 16,
   "metadata": {
    "colab": {
     "base_uri": "https://localhost:8080/",
     "height": 136
    },
    "colab_type": "code",
    "id": "B7OL_Jceqjph",
    "outputId": "572509ae-e466-492f-8731-feeb69022aa3"
   },
   "outputs": [
    {
     "data": {
      "text/html": [
       "<div>\n",
       "<style scoped>\n",
       "    .dataframe tbody tr th:only-of-type {\n",
       "        vertical-align: middle;\n",
       "    }\n",
       "\n",
       "    .dataframe tbody tr th {\n",
       "        vertical-align: top;\n",
       "    }\n",
       "\n",
       "    .dataframe thead th {\n",
       "        text-align: right;\n",
       "    }\n",
       "</style>\n",
       "<table border=\"1\" class=\"dataframe\">\n",
       "  <thead>\n",
       "    <tr style=\"text-align: right;\">\n",
       "      <th></th>\n",
       "      <th>GroupID</th>\n",
       "      <th>EntryID</th>\n",
       "      <th>SF</th>\n",
       "      <th>SFUI</th>\n",
       "      <th>NormSF</th>\n",
       "      <th>PrefSF</th>\n",
       "      <th>LF</th>\n",
       "      <th>LFUI</th>\n",
       "      <th>NormLF</th>\n",
       "      <th>PrefLF</th>\n",
       "      <th>Source</th>\n",
       "      <th>SFEUI</th>\n",
       "      <th>LFEUI</th>\n",
       "      <th>Type</th>\n",
       "      <th>Score</th>\n",
       "      <th>Count</th>\n",
       "      <th>Frequency</th>\n",
       "      <th>UMLS.CUI</th>\n",
       "    </tr>\n",
       "  </thead>\n",
       "  <tbody>\n",
       "    <tr>\n",
       "      <th>2789</th>\n",
       "      <td>NaN</td>\n",
       "      <td>NaN</td>\n",
       "      <td>ANF</td>\n",
       "      <td>NaN</td>\n",
       "      <td>NaN</td>\n",
       "      <td>NaN</td>\n",
       "      <td>atrial natriuretic peptide</td>\n",
       "      <td>NaN</td>\n",
       "      <td>NaN</td>\n",
       "      <td>NaN</td>\n",
       "      <td>ADAM</td>\n",
       "      <td>NaN</td>\n",
       "      <td>NaN</td>\n",
       "      <td>NaN</td>\n",
       "      <td>0.7658</td>\n",
       "      <td>19</td>\n",
       "      <td>NaN</td>\n",
       "      <td>NaN</td>\n",
       "    </tr>\n",
       "    <tr>\n",
       "      <th>12925</th>\n",
       "      <td>NaN</td>\n",
       "      <td>NaN</td>\n",
       "      <td>DLS</td>\n",
       "      <td>NaN</td>\n",
       "      <td>NaN</td>\n",
       "      <td>NaN</td>\n",
       "      <td>dynamic light scattering</td>\n",
       "      <td>NaN</td>\n",
       "      <td>NaN</td>\n",
       "      <td>NaN</td>\n",
       "      <td>ADAM</td>\n",
       "      <td>NaN</td>\n",
       "      <td>NaN</td>\n",
       "      <td>NaN</td>\n",
       "      <td>0.9220</td>\n",
       "      <td>159</td>\n",
       "      <td>NaN</td>\n",
       "      <td>NaN</td>\n",
       "    </tr>\n",
       "    <tr>\n",
       "      <th>23483</th>\n",
       "      <td>NaN</td>\n",
       "      <td>NaN</td>\n",
       "      <td>ids</td>\n",
       "      <td>NaN</td>\n",
       "      <td>NaN</td>\n",
       "      <td>NaN</td>\n",
       "      <td>idiotypes</td>\n",
       "      <td>NaN</td>\n",
       "      <td>NaN</td>\n",
       "      <td>NaN</td>\n",
       "      <td>ADAM</td>\n",
       "      <td>NaN</td>\n",
       "      <td>NaN</td>\n",
       "      <td>NaN</td>\n",
       "      <td>0.0378</td>\n",
       "      <td>1</td>\n",
       "      <td>NaN</td>\n",
       "      <td>NaN</td>\n",
       "    </tr>\n",
       "  </tbody>\n",
       "</table>\n",
       "</div>"
      ],
      "text/plain": [
       "      GroupID EntryID   SF SFUI NormSF PrefSF                          LF  \\\n",
       "2789      NaN     NaN  ANF  NaN    NaN    NaN  atrial natriuretic peptide   \n",
       "12925     NaN     NaN  DLS  NaN    NaN    NaN    dynamic light scattering   \n",
       "23483     NaN     NaN  ids  NaN    NaN    NaN                   idiotypes   \n",
       "\n",
       "      LFUI NormLF PrefLF Source SFEUI LFEUI Type   Score Count Frequency  \\\n",
       "2789   NaN    NaN    NaN   ADAM   NaN   NaN  NaN  0.7658    19       NaN   \n",
       "12925  NaN    NaN    NaN   ADAM   NaN   NaN  NaN  0.9220   159       NaN   \n",
       "23483  NaN    NaN    NaN   ADAM   NaN   NaN  NaN  0.0378     1       NaN   \n",
       "\n",
       "      UMLS.CUI  \n",
       "2789       NaN  \n",
       "12925      NaN  \n",
       "23483      NaN  "
      ]
     },
     "execution_count": 16,
     "metadata": {},
     "output_type": "execute_result"
    }
   ],
   "source": [
    "adam_out = adam_out[out_db.columns]\n",
    "adam_out.sample(3, random_state=0)"
   ]
  },
  {
   "cell_type": "markdown",
   "metadata": {
    "colab_type": "text",
    "id": "waxo-XgavEwM"
   },
   "source": [
    "#### Append Output"
   ]
  },
  {
   "cell_type": "code",
   "execution_count": 17,
   "metadata": {
    "colab": {},
    "colab_type": "code",
    "id": "iXdOCyPyvg-U"
   },
   "outputs": [],
   "source": [
    "out_list.append(adam_out)"
   ]
  },
  {
   "cell_type": "markdown",
   "metadata": {
    "colab_type": "text",
    "id": "n4meicpUvzrC"
   },
   "source": [
    "## Source #3: Berman"
   ]
  },
  {
   "cell_type": "markdown",
   "metadata": {
    "colab_type": "text",
    "id": "rjrwiii37Xwo"
   },
   "source": [
    "#### Load Berman"
   ]
  },
  {
   "cell_type": "code",
   "execution_count": 18,
   "metadata": {
    "colab": {},
    "colab_type": "code",
    "id": "qG3hLOXu7bpy"
   },
   "outputs": [],
   "source": [
    "berm_db = pd.read_csv('https://raw.githubusercontent.com/lisavirginia/clinical-abbreviations/master/sources/3-berman/12000_pathology_abbreviations.txt',\n",
    "                      sep='=',\n",
    "                      header=None,\n",
    "                      names=['SF', 'LF'],\n",
    "                      na_filter=False,\n",
    "                      index_col=False)"
   ]
  },
  {
   "cell_type": "code",
   "execution_count": 19,
   "metadata": {
    "colab": {
     "base_uri": "https://localhost:8080/",
     "height": 136
    },
    "colab_type": "code",
    "id": "EYJl2Hwy8KZZ",
    "outputId": "819392e0-76c8-4be9-a6fe-3f72c173c6f8"
   },
   "outputs": [
    {
     "data": {
      "text/html": [
       "<div>\n",
       "<style scoped>\n",
       "    .dataframe tbody tr th:only-of-type {\n",
       "        vertical-align: middle;\n",
       "    }\n",
       "\n",
       "    .dataframe tbody tr th {\n",
       "        vertical-align: top;\n",
       "    }\n",
       "\n",
       "    .dataframe thead th {\n",
       "        text-align: right;\n",
       "    }\n",
       "</style>\n",
       "<table border=\"1\" class=\"dataframe\">\n",
       "  <thead>\n",
       "    <tr style=\"text-align: right;\">\n",
       "      <th></th>\n",
       "      <th>SF</th>\n",
       "      <th>LF</th>\n",
       "    </tr>\n",
       "  </thead>\n",
       "  <tbody>\n",
       "    <tr>\n",
       "      <th>10083</th>\n",
       "      <td>pf</td>\n",
       "      <td>push fluids</td>\n",
       "    </tr>\n",
       "    <tr>\n",
       "      <th>3706</th>\n",
       "      <td>npo</td>\n",
       "      <td>nothing by mouth</td>\n",
       "    </tr>\n",
       "    <tr>\n",
       "      <th>3234</th>\n",
       "      <td>mdm</td>\n",
       "      <td>mid diastolic murmur</td>\n",
       "    </tr>\n",
       "  </tbody>\n",
       "</table>\n",
       "</div>"
      ],
      "text/plain": [
       "        SF                    LF\n",
       "10083   pf           push fluids\n",
       "3706   npo      nothing by mouth\n",
       "3234   mdm  mid diastolic murmur"
      ]
     },
     "execution_count": 19,
     "metadata": {},
     "output_type": "execute_result"
    }
   ],
   "source": [
    "clean(berm_db)\n",
    "berm_db.sample(3, random_state=0)"
   ]
  },
  {
   "cell_type": "markdown",
   "metadata": {
    "colab_type": "text",
    "id": "cliOb0gH8Pf3"
   },
   "source": [
    "#### Populate Output Frame"
   ]
  },
  {
   "cell_type": "code",
   "execution_count": 20,
   "metadata": {
    "colab": {},
    "colab_type": "code",
    "id": "UUA1mQfr9N0c"
   },
   "outputs": [],
   "source": [
    "berm_out = out_db.copy()\n",
    "berm_out['SF'] = berm_db['SF']\n",
    "berm_out['LF'] = berm_db['LF']\n",
    "berm_out['Source'] = 'Berman'"
   ]
  },
  {
   "cell_type": "code",
   "execution_count": 21,
   "metadata": {
    "colab": {
     "base_uri": "https://localhost:8080/",
     "height": 136
    },
    "colab_type": "code",
    "id": "W7ZLxNb5YW50",
    "outputId": "7dc3e3da-3c68-402b-fd4d-ad43b5474aef"
   },
   "outputs": [
    {
     "data": {
      "text/html": [
       "<div>\n",
       "<style scoped>\n",
       "    .dataframe tbody tr th:only-of-type {\n",
       "        vertical-align: middle;\n",
       "    }\n",
       "\n",
       "    .dataframe tbody tr th {\n",
       "        vertical-align: top;\n",
       "    }\n",
       "\n",
       "    .dataframe thead th {\n",
       "        text-align: right;\n",
       "    }\n",
       "</style>\n",
       "<table border=\"1\" class=\"dataframe\">\n",
       "  <thead>\n",
       "    <tr style=\"text-align: right;\">\n",
       "      <th></th>\n",
       "      <th>GroupID</th>\n",
       "      <th>EntryID</th>\n",
       "      <th>SF</th>\n",
       "      <th>SFUI</th>\n",
       "      <th>NormSF</th>\n",
       "      <th>PrefSF</th>\n",
       "      <th>LF</th>\n",
       "      <th>LFUI</th>\n",
       "      <th>NormLF</th>\n",
       "      <th>PrefLF</th>\n",
       "      <th>Source</th>\n",
       "      <th>SFEUI</th>\n",
       "      <th>LFEUI</th>\n",
       "      <th>Type</th>\n",
       "      <th>Score</th>\n",
       "      <th>Count</th>\n",
       "      <th>Frequency</th>\n",
       "      <th>UMLS.CUI</th>\n",
       "    </tr>\n",
       "  </thead>\n",
       "  <tbody>\n",
       "    <tr>\n",
       "      <th>10083</th>\n",
       "      <td>NaN</td>\n",
       "      <td>NaN</td>\n",
       "      <td>pf</td>\n",
       "      <td>NaN</td>\n",
       "      <td>NaN</td>\n",
       "      <td>NaN</td>\n",
       "      <td>push fluids</td>\n",
       "      <td>NaN</td>\n",
       "      <td>NaN</td>\n",
       "      <td>NaN</td>\n",
       "      <td>Berman</td>\n",
       "      <td>NaN</td>\n",
       "      <td>NaN</td>\n",
       "      <td>NaN</td>\n",
       "      <td>NaN</td>\n",
       "      <td>NaN</td>\n",
       "      <td>NaN</td>\n",
       "      <td>NaN</td>\n",
       "    </tr>\n",
       "    <tr>\n",
       "      <th>3706</th>\n",
       "      <td>NaN</td>\n",
       "      <td>NaN</td>\n",
       "      <td>npo</td>\n",
       "      <td>NaN</td>\n",
       "      <td>NaN</td>\n",
       "      <td>NaN</td>\n",
       "      <td>nothing by mouth</td>\n",
       "      <td>NaN</td>\n",
       "      <td>NaN</td>\n",
       "      <td>NaN</td>\n",
       "      <td>Berman</td>\n",
       "      <td>NaN</td>\n",
       "      <td>NaN</td>\n",
       "      <td>NaN</td>\n",
       "      <td>NaN</td>\n",
       "      <td>NaN</td>\n",
       "      <td>NaN</td>\n",
       "      <td>NaN</td>\n",
       "    </tr>\n",
       "    <tr>\n",
       "      <th>3234</th>\n",
       "      <td>NaN</td>\n",
       "      <td>NaN</td>\n",
       "      <td>mdm</td>\n",
       "      <td>NaN</td>\n",
       "      <td>NaN</td>\n",
       "      <td>NaN</td>\n",
       "      <td>mid diastolic murmur</td>\n",
       "      <td>NaN</td>\n",
       "      <td>NaN</td>\n",
       "      <td>NaN</td>\n",
       "      <td>Berman</td>\n",
       "      <td>NaN</td>\n",
       "      <td>NaN</td>\n",
       "      <td>NaN</td>\n",
       "      <td>NaN</td>\n",
       "      <td>NaN</td>\n",
       "      <td>NaN</td>\n",
       "      <td>NaN</td>\n",
       "    </tr>\n",
       "  </tbody>\n",
       "</table>\n",
       "</div>"
      ],
      "text/plain": [
       "      GroupID EntryID   SF SFUI NormSF PrefSF                    LF LFUI  \\\n",
       "10083     NaN     NaN   pf  NaN    NaN    NaN           push fluids  NaN   \n",
       "3706      NaN     NaN  npo  NaN    NaN    NaN      nothing by mouth  NaN   \n",
       "3234      NaN     NaN  mdm  NaN    NaN    NaN  mid diastolic murmur  NaN   \n",
       "\n",
       "      NormLF PrefLF  Source SFEUI LFEUI Type Score Count Frequency UMLS.CUI  \n",
       "10083    NaN    NaN  Berman   NaN   NaN  NaN   NaN   NaN       NaN      NaN  \n",
       "3706     NaN    NaN  Berman   NaN   NaN  NaN   NaN   NaN       NaN      NaN  \n",
       "3234     NaN    NaN  Berman   NaN   NaN  NaN   NaN   NaN       NaN      NaN  "
      ]
     },
     "execution_count": 21,
     "metadata": {},
     "output_type": "execute_result"
    }
   ],
   "source": [
    "berm_out.sample(3, random_state=0)"
   ]
  },
  {
   "cell_type": "markdown",
   "metadata": {
    "colab_type": "text",
    "id": "rooXPiYJYYSw"
   },
   "source": [
    "#### Append Output"
   ]
  },
  {
   "cell_type": "code",
   "execution_count": 22,
   "metadata": {
    "colab": {},
    "colab_type": "code",
    "id": "FfTeNhetYXzg"
   },
   "outputs": [],
   "source": [
    "out_list.append(berm_out)"
   ]
  },
  {
   "cell_type": "markdown",
   "metadata": {
    "colab_type": "text",
    "id": "iSq-DLNrv2Zt"
   },
   "source": [
    "## Source #4: Vanderbilt"
   ]
  },
  {
   "cell_type": "markdown",
   "metadata": {
    "colab_type": "text",
    "id": "eGSMSFaPtN3I"
   },
   "source": [
    "#### Load Vanderbilt"
   ]
  },
  {
   "cell_type": "code",
   "execution_count": 23,
   "metadata": {
    "colab": {},
    "colab_type": "code",
    "id": "dYdWt-qatRX4"
   },
   "outputs": [],
   "source": [
    "vcln_db = pd.read_csv('https://raw.githubusercontent.com/lisavirginia/clinical-abbreviations/master/sources/4-vanderbilt/vanderbilt_clinic_notes.txt',\n",
    "                      sep='\\t',\n",
    "                      na_filter=False,\n",
    "                      index_col=False)"
   ]
  },
  {
   "cell_type": "code",
   "execution_count": 24,
   "metadata": {
    "colab": {
     "base_uri": "https://localhost:8080/",
     "height": 136
    },
    "colab_type": "code",
    "id": "LdpcsSz7u9FR",
    "outputId": "ee169079-af1d-47f4-a4a0-e083868c3caf"
   },
   "outputs": [
    {
     "data": {
      "text/html": [
       "<div>\n",
       "<style scoped>\n",
       "    .dataframe tbody tr th:only-of-type {\n",
       "        vertical-align: middle;\n",
       "    }\n",
       "\n",
       "    .dataframe tbody tr th {\n",
       "        vertical-align: top;\n",
       "    }\n",
       "\n",
       "    .dataframe thead th {\n",
       "        text-align: right;\n",
       "    }\n",
       "</style>\n",
       "<table border=\"1\" class=\"dataframe\">\n",
       "  <thead>\n",
       "    <tr style=\"text-align: right;\">\n",
       "      <th></th>\n",
       "      <th>abbreviation</th>\n",
       "      <th>sense</th>\n",
       "      <th>variation</th>\n",
       "      <th>CUI</th>\n",
       "      <th>frequency</th>\n",
       "    </tr>\n",
       "  </thead>\n",
       "  <tbody>\n",
       "    <tr>\n",
       "      <th>563</th>\n",
       "      <td>cmt</td>\n",
       "      <td>charcot-marie-tooth</td>\n",
       "      <td>CMT_6</td>\n",
       "      <td>c0007959</td>\n",
       "      <td>0.014</td>\n",
       "    </tr>\n",
       "    <tr>\n",
       "      <th>824</th>\n",
       "      <td>xray</td>\n",
       "      <td>energetic high-frequency electromagnetic radia...</td>\n",
       "      <td>Xray_5|xray_13|XRay_2</td>\n",
       "      <td>c0337030</td>\n",
       "      <td>1.000</td>\n",
       "    </tr>\n",
       "    <tr>\n",
       "      <th>436</th>\n",
       "      <td>gtt</td>\n",
       "      <td>glucose tolerance test</td>\n",
       "      <td>GTT_2</td>\n",
       "      <td>c0017741</td>\n",
       "      <td>0.005</td>\n",
       "    </tr>\n",
       "  </tbody>\n",
       "</table>\n",
       "</div>"
      ],
      "text/plain": [
       "    abbreviation                                              sense  \\\n",
       "563          cmt                                charcot-marie-tooth   \n",
       "824         xray  energetic high-frequency electromagnetic radia...   \n",
       "436          gtt                             glucose tolerance test   \n",
       "\n",
       "                 variation       CUI  frequency  \n",
       "563                  CMT_6  c0007959      0.014  \n",
       "824  Xray_5|xray_13|XRay_2  c0337030      1.000  \n",
       "436                  GTT_2  c0017741      0.005  "
      ]
     },
     "execution_count": 24,
     "metadata": {},
     "output_type": "execute_result"
    }
   ],
   "source": [
    "clean(vcln_db)\n",
    "vcln_db.sample(3, random_state=0)"
   ]
  },
  {
   "cell_type": "code",
   "execution_count": 25,
   "metadata": {
    "colab": {},
    "colab_type": "code",
    "id": "Vl6jBPmiu-ek"
   },
   "outputs": [],
   "source": [
    "vdis_db = pd.read_csv('https://raw.githubusercontent.com/lisavirginia/clinical-abbreviations/master/sources/4-vanderbilt/vanderbilt_discharge_sums.txt',\n",
    "                      sep='\\t',\n",
    "                      na_filter=False,\n",
    "                      index_col=False)"
   ]
  },
  {
   "cell_type": "code",
   "execution_count": 26,
   "metadata": {
    "colab": {
     "base_uri": "https://localhost:8080/",
     "height": 136
    },
    "colab_type": "code",
    "id": "clINhbk_u-LL",
    "outputId": "cd227012-1cd0-406d-a99a-2ab44c95376e"
   },
   "outputs": [
    {
     "data": {
      "text/html": [
       "<div>\n",
       "<style scoped>\n",
       "    .dataframe tbody tr th:only-of-type {\n",
       "        vertical-align: middle;\n",
       "    }\n",
       "\n",
       "    .dataframe tbody tr th {\n",
       "        vertical-align: top;\n",
       "    }\n",
       "\n",
       "    .dataframe thead th {\n",
       "        text-align: right;\n",
       "    }\n",
       "</style>\n",
       "<table border=\"1\" class=\"dataframe\">\n",
       "  <thead>\n",
       "    <tr style=\"text-align: right;\">\n",
       "      <th></th>\n",
       "      <th>abbreviation</th>\n",
       "      <th>sense</th>\n",
       "      <th>variation</th>\n",
       "      <th>CUI</th>\n",
       "      <th>frequency</th>\n",
       "    </tr>\n",
       "  </thead>\n",
       "  <tbody>\n",
       "    <tr>\n",
       "      <th>979</th>\n",
       "      <td>q</td>\n",
       "      <td>22q (chromosome)</td>\n",
       "      <td>q_1</td>\n",
       "      <td>c1521100</td>\n",
       "      <td>0.003</td>\n",
       "    </tr>\n",
       "    <tr>\n",
       "      <th>984</th>\n",
       "      <td>q2</td>\n",
       "      <td>every two hours</td>\n",
       "      <td>q2_4</td>\n",
       "      <td>c0585322</td>\n",
       "      <td>1.000</td>\n",
       "    </tr>\n",
       "    <tr>\n",
       "      <th>746</th>\n",
       "      <td>nabs</td>\n",
       "      <td>normal active bowel sounds</td>\n",
       "      <td>nabs_2|NAbs_1|NABS_16|NABS._1</td>\n",
       "      <td>c0278005</td>\n",
       "      <td>1.000</td>\n",
       "    </tr>\n",
       "  </tbody>\n",
       "</table>\n",
       "</div>"
      ],
      "text/plain": [
       "    abbreviation                       sense                      variation  \\\n",
       "979            q            22q (chromosome)                            q_1   \n",
       "984           q2             every two hours                           q2_4   \n",
       "746         nabs  normal active bowel sounds  nabs_2|NAbs_1|NABS_16|NABS._1   \n",
       "\n",
       "          CUI  frequency  \n",
       "979  c1521100      0.003  \n",
       "984  c0585322      1.000  \n",
       "746  c0278005      1.000  "
      ]
     },
     "execution_count": 26,
     "metadata": {},
     "output_type": "execute_result"
    }
   ],
   "source": [
    "clean(vdis_db)\n",
    "vdis_db.sample(3, random_state=0)"
   ]
  },
  {
   "cell_type": "markdown",
   "metadata": {
    "colab_type": "text",
    "id": "8xRF0vJ2wGOy"
   },
   "source": [
    "#### Populate Output Frames"
   ]
  },
  {
   "cell_type": "markdown",
   "metadata": {
    "colab_type": "text",
    "id": "sVrj4y0u0aTm"
   },
   "source": [
    "Please note that the 'abbreviation' column contains a normalized version of the abbreviation. \n",
    "\n",
    "We have not carried forward this column because we will conduct our own normalization."
   ]
  },
  {
   "cell_type": "code",
   "execution_count": 27,
   "metadata": {
    "colab": {},
    "colab_type": "code",
    "id": "71-mTSjzwIwP"
   },
   "outputs": [],
   "source": [
    "vcln_out = out_db.copy()\n",
    "vcln_out['SF'] = vcln_db['variation']\n",
    "vcln_out['LF'] = vcln_db['sense']\n",
    "vcln_out['Source'] = 'Vanderbilt Clinic Notes'\n",
    "vcln_out['Frequency'] = vcln_db['frequency']\n",
    "vcln_out['UMLS CUI'] = vcln_db['CUI']"
   ]
  },
  {
   "cell_type": "code",
   "execution_count": 28,
   "metadata": {
    "colab": {
     "base_uri": "https://localhost:8080/",
     "height": 254
    },
    "colab_type": "code",
    "id": "ZbiPR8h0w3b1",
    "outputId": "2242c22b-9ebe-4dea-fee3-6ad2a7c858b8"
   },
   "outputs": [
    {
     "data": {
      "text/html": [
       "<div>\n",
       "<style scoped>\n",
       "    .dataframe tbody tr th:only-of-type {\n",
       "        vertical-align: middle;\n",
       "    }\n",
       "\n",
       "    .dataframe tbody tr th {\n",
       "        vertical-align: top;\n",
       "    }\n",
       "\n",
       "    .dataframe thead th {\n",
       "        text-align: right;\n",
       "    }\n",
       "</style>\n",
       "<table border=\"1\" class=\"dataframe\">\n",
       "  <thead>\n",
       "    <tr style=\"text-align: right;\">\n",
       "      <th></th>\n",
       "      <th>GroupID</th>\n",
       "      <th>EntryID</th>\n",
       "      <th>SF</th>\n",
       "      <th>SFUI</th>\n",
       "      <th>NormSF</th>\n",
       "      <th>PrefSF</th>\n",
       "      <th>LF</th>\n",
       "      <th>LFUI</th>\n",
       "      <th>NormLF</th>\n",
       "      <th>PrefLF</th>\n",
       "      <th>Source</th>\n",
       "      <th>SFEUI</th>\n",
       "      <th>LFEUI</th>\n",
       "      <th>Type</th>\n",
       "      <th>Score</th>\n",
       "      <th>Count</th>\n",
       "      <th>Frequency</th>\n",
       "      <th>UMLS.CUI</th>\n",
       "      <th>UMLS CUI</th>\n",
       "    </tr>\n",
       "  </thead>\n",
       "  <tbody>\n",
       "    <tr>\n",
       "      <th>563</th>\n",
       "      <td>NaN</td>\n",
       "      <td>NaN</td>\n",
       "      <td>CMT_6</td>\n",
       "      <td>NaN</td>\n",
       "      <td>NaN</td>\n",
       "      <td>NaN</td>\n",
       "      <td>charcot-marie-tooth</td>\n",
       "      <td>NaN</td>\n",
       "      <td>NaN</td>\n",
       "      <td>NaN</td>\n",
       "      <td>Vanderbilt Clinic Notes</td>\n",
       "      <td>NaN</td>\n",
       "      <td>NaN</td>\n",
       "      <td>NaN</td>\n",
       "      <td>NaN</td>\n",
       "      <td>NaN</td>\n",
       "      <td>0.014</td>\n",
       "      <td>NaN</td>\n",
       "      <td>c0007959</td>\n",
       "    </tr>\n",
       "    <tr>\n",
       "      <th>824</th>\n",
       "      <td>NaN</td>\n",
       "      <td>NaN</td>\n",
       "      <td>Xray_5|xray_13|XRay_2</td>\n",
       "      <td>NaN</td>\n",
       "      <td>NaN</td>\n",
       "      <td>NaN</td>\n",
       "      <td>energetic high-frequency electromagnetic radia...</td>\n",
       "      <td>NaN</td>\n",
       "      <td>NaN</td>\n",
       "      <td>NaN</td>\n",
       "      <td>Vanderbilt Clinic Notes</td>\n",
       "      <td>NaN</td>\n",
       "      <td>NaN</td>\n",
       "      <td>NaN</td>\n",
       "      <td>NaN</td>\n",
       "      <td>NaN</td>\n",
       "      <td>1.000</td>\n",
       "      <td>NaN</td>\n",
       "      <td>c0337030</td>\n",
       "    </tr>\n",
       "    <tr>\n",
       "      <th>436</th>\n",
       "      <td>NaN</td>\n",
       "      <td>NaN</td>\n",
       "      <td>GTT_2</td>\n",
       "      <td>NaN</td>\n",
       "      <td>NaN</td>\n",
       "      <td>NaN</td>\n",
       "      <td>glucose tolerance test</td>\n",
       "      <td>NaN</td>\n",
       "      <td>NaN</td>\n",
       "      <td>NaN</td>\n",
       "      <td>Vanderbilt Clinic Notes</td>\n",
       "      <td>NaN</td>\n",
       "      <td>NaN</td>\n",
       "      <td>NaN</td>\n",
       "      <td>NaN</td>\n",
       "      <td>NaN</td>\n",
       "      <td>0.005</td>\n",
       "      <td>NaN</td>\n",
       "      <td>c0017741</td>\n",
       "    </tr>\n",
       "  </tbody>\n",
       "</table>\n",
       "</div>"
      ],
      "text/plain": [
       "    GroupID EntryID                     SF SFUI NormSF PrefSF  \\\n",
       "563     NaN     NaN                  CMT_6  NaN    NaN    NaN   \n",
       "824     NaN     NaN  Xray_5|xray_13|XRay_2  NaN    NaN    NaN   \n",
       "436     NaN     NaN                  GTT_2  NaN    NaN    NaN   \n",
       "\n",
       "                                                    LF LFUI NormLF PrefLF  \\\n",
       "563                                charcot-marie-tooth  NaN    NaN    NaN   \n",
       "824  energetic high-frequency electromagnetic radia...  NaN    NaN    NaN   \n",
       "436                             glucose tolerance test  NaN    NaN    NaN   \n",
       "\n",
       "                      Source SFEUI LFEUI Type Score Count  Frequency UMLS.CUI  \\\n",
       "563  Vanderbilt Clinic Notes   NaN   NaN  NaN   NaN   NaN      0.014      NaN   \n",
       "824  Vanderbilt Clinic Notes   NaN   NaN  NaN   NaN   NaN      1.000      NaN   \n",
       "436  Vanderbilt Clinic Notes   NaN   NaN  NaN   NaN   NaN      0.005      NaN   \n",
       "\n",
       "     UMLS CUI  \n",
       "563  c0007959  \n",
       "824  c0337030  \n",
       "436  c0017741  "
      ]
     },
     "execution_count": 28,
     "metadata": {},
     "output_type": "execute_result"
    }
   ],
   "source": [
    "vcln_out.sample(3, random_state=0)"
   ]
  },
  {
   "cell_type": "code",
   "execution_count": 29,
   "metadata": {
    "colab": {},
    "colab_type": "code",
    "id": "FrCUf6F_1lX2"
   },
   "outputs": [],
   "source": [
    "vdis_out = out_db.copy()\n",
    "vdis_out['SF'] = vdis_db['variation']\n",
    "vdis_out['LF'] = vdis_db['sense']\n",
    "vdis_out['Source'] = 'Vanderbilt Discharge Sums'\n",
    "vdis_out['Frequency'] = vdis_db['frequency']\n",
    "vdis_out['UMLS CUI'] = vdis_db['CUI']"
   ]
  },
  {
   "cell_type": "code",
   "execution_count": 30,
   "metadata": {
    "colab": {
     "base_uri": "https://localhost:8080/",
     "height": 257
    },
    "colab_type": "code",
    "id": "Isc0igmN1l5S",
    "outputId": "d4567029-a6d0-4416-bcfe-116df8981b16"
   },
   "outputs": [
    {
     "data": {
      "text/html": [
       "<div>\n",
       "<style scoped>\n",
       "    .dataframe tbody tr th:only-of-type {\n",
       "        vertical-align: middle;\n",
       "    }\n",
       "\n",
       "    .dataframe tbody tr th {\n",
       "        vertical-align: top;\n",
       "    }\n",
       "\n",
       "    .dataframe thead th {\n",
       "        text-align: right;\n",
       "    }\n",
       "</style>\n",
       "<table border=\"1\" class=\"dataframe\">\n",
       "  <thead>\n",
       "    <tr style=\"text-align: right;\">\n",
       "      <th></th>\n",
       "      <th>GroupID</th>\n",
       "      <th>EntryID</th>\n",
       "      <th>SF</th>\n",
       "      <th>SFUI</th>\n",
       "      <th>NormSF</th>\n",
       "      <th>PrefSF</th>\n",
       "      <th>LF</th>\n",
       "      <th>LFUI</th>\n",
       "      <th>NormLF</th>\n",
       "      <th>PrefLF</th>\n",
       "      <th>Source</th>\n",
       "      <th>SFEUI</th>\n",
       "      <th>LFEUI</th>\n",
       "      <th>Type</th>\n",
       "      <th>Score</th>\n",
       "      <th>Count</th>\n",
       "      <th>Frequency</th>\n",
       "      <th>UMLS.CUI</th>\n",
       "      <th>UMLS CUI</th>\n",
       "    </tr>\n",
       "  </thead>\n",
       "  <tbody>\n",
       "    <tr>\n",
       "      <th>979</th>\n",
       "      <td>NaN</td>\n",
       "      <td>NaN</td>\n",
       "      <td>q_1</td>\n",
       "      <td>NaN</td>\n",
       "      <td>NaN</td>\n",
       "      <td>NaN</td>\n",
       "      <td>22q (chromosome)</td>\n",
       "      <td>NaN</td>\n",
       "      <td>NaN</td>\n",
       "      <td>NaN</td>\n",
       "      <td>Vanderbilt Discharge Sums</td>\n",
       "      <td>NaN</td>\n",
       "      <td>NaN</td>\n",
       "      <td>NaN</td>\n",
       "      <td>NaN</td>\n",
       "      <td>NaN</td>\n",
       "      <td>0.003</td>\n",
       "      <td>NaN</td>\n",
       "      <td>c1521100</td>\n",
       "    </tr>\n",
       "    <tr>\n",
       "      <th>984</th>\n",
       "      <td>NaN</td>\n",
       "      <td>NaN</td>\n",
       "      <td>q2_4</td>\n",
       "      <td>NaN</td>\n",
       "      <td>NaN</td>\n",
       "      <td>NaN</td>\n",
       "      <td>every two hours</td>\n",
       "      <td>NaN</td>\n",
       "      <td>NaN</td>\n",
       "      <td>NaN</td>\n",
       "      <td>Vanderbilt Discharge Sums</td>\n",
       "      <td>NaN</td>\n",
       "      <td>NaN</td>\n",
       "      <td>NaN</td>\n",
       "      <td>NaN</td>\n",
       "      <td>NaN</td>\n",
       "      <td>1.000</td>\n",
       "      <td>NaN</td>\n",
       "      <td>c0585322</td>\n",
       "    </tr>\n",
       "    <tr>\n",
       "      <th>746</th>\n",
       "      <td>NaN</td>\n",
       "      <td>NaN</td>\n",
       "      <td>nabs_2|NAbs_1|NABS_16|NABS._1</td>\n",
       "      <td>NaN</td>\n",
       "      <td>NaN</td>\n",
       "      <td>NaN</td>\n",
       "      <td>normal active bowel sounds</td>\n",
       "      <td>NaN</td>\n",
       "      <td>NaN</td>\n",
       "      <td>NaN</td>\n",
       "      <td>Vanderbilt Discharge Sums</td>\n",
       "      <td>NaN</td>\n",
       "      <td>NaN</td>\n",
       "      <td>NaN</td>\n",
       "      <td>NaN</td>\n",
       "      <td>NaN</td>\n",
       "      <td>1.000</td>\n",
       "      <td>NaN</td>\n",
       "      <td>c0278005</td>\n",
       "    </tr>\n",
       "  </tbody>\n",
       "</table>\n",
       "</div>"
      ],
      "text/plain": [
       "    GroupID EntryID                             SF SFUI NormSF PrefSF  \\\n",
       "979     NaN     NaN                            q_1  NaN    NaN    NaN   \n",
       "984     NaN     NaN                           q2_4  NaN    NaN    NaN   \n",
       "746     NaN     NaN  nabs_2|NAbs_1|NABS_16|NABS._1  NaN    NaN    NaN   \n",
       "\n",
       "                             LF LFUI NormLF PrefLF                     Source  \\\n",
       "979            22q (chromosome)  NaN    NaN    NaN  Vanderbilt Discharge Sums   \n",
       "984             every two hours  NaN    NaN    NaN  Vanderbilt Discharge Sums   \n",
       "746  normal active bowel sounds  NaN    NaN    NaN  Vanderbilt Discharge Sums   \n",
       "\n",
       "    SFEUI LFEUI Type Score Count  Frequency UMLS.CUI  UMLS CUI  \n",
       "979   NaN   NaN  NaN   NaN   NaN      0.003      NaN  c1521100  \n",
       "984   NaN   NaN  NaN   NaN   NaN      1.000      NaN  c0585322  \n",
       "746   NaN   NaN  NaN   NaN   NaN      1.000      NaN  c0278005  "
      ]
     },
     "execution_count": 30,
     "metadata": {},
     "output_type": "execute_result"
    }
   ],
   "source": [
    "vdis_out.sample(3, random_state=0)"
   ]
  },
  {
   "cell_type": "markdown",
   "metadata": {
    "colab_type": "text",
    "id": "uuj0KZJaxGVz"
   },
   "source": [
    "#### Merge Frames"
   ]
  },
  {
   "cell_type": "code",
   "execution_count": 31,
   "metadata": {
    "colab": {
     "base_uri": "https://localhost:8080/",
     "height": 34
    },
    "colab_type": "code",
    "id": "rxyypj9TxFUi",
    "outputId": "8badf8be-4e00-4220-b46f-dba5db1a36c2"
   },
   "outputs": [
    {
     "data": {
      "text/plain": [
       "(2827, 19)"
      ]
     },
     "execution_count": 31,
     "metadata": {},
     "output_type": "execute_result"
    }
   ],
   "source": [
    "vand_out = vcln_out.append(vdis_out)\n",
    "vand_out.shape"
   ]
  },
  {
   "cell_type": "markdown",
   "metadata": {
    "colab_type": "text",
    "id": "0nRr0XHw2p6T"
   },
   "source": [
    "#### Unnest SF Column"
   ]
  },
  {
   "cell_type": "code",
   "execution_count": 32,
   "metadata": {
    "colab": {
     "base_uri": "https://localhost:8080/",
     "height": 186
    },
    "colab_type": "code",
    "id": "xtV0fRK-2rsi",
    "outputId": "d3f60e51-a4be-4074-d819-384e20e35110"
   },
   "outputs": [
    {
     "data": {
      "text/html": [
       "<div>\n",
       "<style scoped>\n",
       "    .dataframe tbody tr th:only-of-type {\n",
       "        vertical-align: middle;\n",
       "    }\n",
       "\n",
       "    .dataframe tbody tr th {\n",
       "        vertical-align: top;\n",
       "    }\n",
       "\n",
       "    .dataframe thead th {\n",
       "        text-align: right;\n",
       "    }\n",
       "</style>\n",
       "<table border=\"1\" class=\"dataframe\">\n",
       "  <thead>\n",
       "    <tr style=\"text-align: right;\">\n",
       "      <th></th>\n",
       "      <th>GroupID</th>\n",
       "      <th>EntryID</th>\n",
       "      <th>SFUI</th>\n",
       "      <th>NormSF</th>\n",
       "      <th>PrefSF</th>\n",
       "      <th>LF</th>\n",
       "      <th>LFUI</th>\n",
       "      <th>NormLF</th>\n",
       "      <th>PrefLF</th>\n",
       "      <th>Source</th>\n",
       "      <th>SFEUI</th>\n",
       "      <th>LFEUI</th>\n",
       "      <th>Type</th>\n",
       "      <th>Score</th>\n",
       "      <th>Count</th>\n",
       "      <th>Frequency</th>\n",
       "      <th>UMLS.CUI</th>\n",
       "      <th>UMLS CUI</th>\n",
       "      <th>SF</th>\n",
       "    </tr>\n",
       "  </thead>\n",
       "  <tbody>\n",
       "    <tr>\n",
       "      <th>1016</th>\n",
       "      <td>NaN</td>\n",
       "      <td>NaN</td>\n",
       "      <td>NaN</td>\n",
       "      <td>NaN</td>\n",
       "      <td>NaN</td>\n",
       "      <td>high-density lipoprotein</td>\n",
       "      <td>NaN</td>\n",
       "      <td>NaN</td>\n",
       "      <td>NaN</td>\n",
       "      <td>Vanderbilt Clinic Notes</td>\n",
       "      <td>NaN</td>\n",
       "      <td>NaN</td>\n",
       "      <td>NaN</td>\n",
       "      <td>NaN</td>\n",
       "      <td>NaN</td>\n",
       "      <td>1.0000</td>\n",
       "      <td>NaN</td>\n",
       "      <td>c0023821</td>\n",
       "      <td>HDL_13</td>\n",
       "    </tr>\n",
       "    <tr>\n",
       "      <th>687</th>\n",
       "      <td>NaN</td>\n",
       "      <td>NaN</td>\n",
       "      <td>NaN</td>\n",
       "      <td>NaN</td>\n",
       "      <td>NaN</td>\n",
       "      <td>medical doctor</td>\n",
       "      <td>NaN</td>\n",
       "      <td>NaN</td>\n",
       "      <td>NaN</td>\n",
       "      <td>Vanderbilt Discharge Sums</td>\n",
       "      <td>NaN</td>\n",
       "      <td>NaN</td>\n",
       "      <td>NaN</td>\n",
       "      <td>NaN</td>\n",
       "      <td>NaN</td>\n",
       "      <td>0.9620</td>\n",
       "      <td>NaN</td>\n",
       "      <td>c0031831</td>\n",
       "      <td>EMLA_8</td>\n",
       "    </tr>\n",
       "    <tr>\n",
       "      <th>261</th>\n",
       "      <td>NaN</td>\n",
       "      <td>NaN</td>\n",
       "      <td>NaN</td>\n",
       "      <td>NaN</td>\n",
       "      <td>NaN</td>\n",
       "      <td>cerebral palsy</td>\n",
       "      <td>NaN</td>\n",
       "      <td>NaN</td>\n",
       "      <td>NaN</td>\n",
       "      <td>Vanderbilt Discharge Sums</td>\n",
       "      <td>NaN</td>\n",
       "      <td>NaN</td>\n",
       "      <td>NaN</td>\n",
       "      <td>NaN</td>\n",
       "      <td>NaN</td>\n",
       "      <td>0.7986</td>\n",
       "      <td>NaN</td>\n",
       "      <td>c0007789</td>\n",
       "      <td>CP_8</td>\n",
       "    </tr>\n",
       "  </tbody>\n",
       "</table>\n",
       "</div>"
      ],
      "text/plain": [
       "     GroupID EntryID SFUI NormSF PrefSF                        LF LFUI NormLF  \\\n",
       "1016     NaN     NaN  NaN    NaN    NaN  high-density lipoprotein  NaN    NaN   \n",
       "687      NaN     NaN  NaN    NaN    NaN            medical doctor  NaN    NaN   \n",
       "261      NaN     NaN  NaN    NaN    NaN            cerebral palsy  NaN    NaN   \n",
       "\n",
       "     PrefLF                     Source SFEUI LFEUI Type Score Count  \\\n",
       "1016    NaN    Vanderbilt Clinic Notes   NaN   NaN  NaN   NaN   NaN   \n",
       "687     NaN  Vanderbilt Discharge Sums   NaN   NaN  NaN   NaN   NaN   \n",
       "261     NaN  Vanderbilt Discharge Sums   NaN   NaN  NaN   NaN   NaN   \n",
       "\n",
       "      Frequency UMLS.CUI  UMLS CUI      SF  \n",
       "1016     1.0000      NaN  c0023821  HDL_13  \n",
       "687      0.9620      NaN  c0031831  EMLA_8  \n",
       "261      0.7986      NaN  c0007789    CP_8  "
      ]
     },
     "execution_count": 32,
     "metadata": {},
     "output_type": "execute_result"
    }
   ],
   "source": [
    "vand_out = expand_col(vand_out, 'SF')\n",
    "vand_out.sample(3, random_state=0)"
   ]
  },
  {
   "cell_type": "markdown",
   "metadata": {
    "colab_type": "text",
    "id": "uIpHCsEv2wPk"
   },
   "source": [
    "#### Assign Count Information"
   ]
  },
  {
   "cell_type": "code",
   "execution_count": 33,
   "metadata": {
    "colab": {},
    "colab_type": "code",
    "id": "lDiTed46206u"
   },
   "outputs": [],
   "source": [
    "temp = vand_out[\"SF\"].str.split(\"_\", expand=True)\n",
    "vand_out[\"SF\"] = temp[0]\n",
    "vand_out[\"Count\"] = temp[1] "
   ]
  },
  {
   "cell_type": "markdown",
   "metadata": {
    "colab_type": "text",
    "id": "RO3D7GRJ3IlW"
   },
   "source": [
    "#### Reorder Columns"
   ]
  },
  {
   "cell_type": "code",
   "execution_count": 34,
   "metadata": {
    "colab": {
     "base_uri": "https://localhost:8080/",
     "height": 136
    },
    "colab_type": "code",
    "id": "ImQa58ks3KRd",
    "outputId": "cb487336-b02a-4158-c1f6-1ae3e95ef881"
   },
   "outputs": [
    {
     "data": {
      "text/html": [
       "<div>\n",
       "<style scoped>\n",
       "    .dataframe tbody tr th:only-of-type {\n",
       "        vertical-align: middle;\n",
       "    }\n",
       "\n",
       "    .dataframe tbody tr th {\n",
       "        vertical-align: top;\n",
       "    }\n",
       "\n",
       "    .dataframe thead th {\n",
       "        text-align: right;\n",
       "    }\n",
       "</style>\n",
       "<table border=\"1\" class=\"dataframe\">\n",
       "  <thead>\n",
       "    <tr style=\"text-align: right;\">\n",
       "      <th></th>\n",
       "      <th>GroupID</th>\n",
       "      <th>EntryID</th>\n",
       "      <th>SF</th>\n",
       "      <th>SFUI</th>\n",
       "      <th>NormSF</th>\n",
       "      <th>PrefSF</th>\n",
       "      <th>LF</th>\n",
       "      <th>LFUI</th>\n",
       "      <th>NormLF</th>\n",
       "      <th>PrefLF</th>\n",
       "      <th>Source</th>\n",
       "      <th>SFEUI</th>\n",
       "      <th>LFEUI</th>\n",
       "      <th>Type</th>\n",
       "      <th>Score</th>\n",
       "      <th>Count</th>\n",
       "      <th>Frequency</th>\n",
       "      <th>UMLS.CUI</th>\n",
       "    </tr>\n",
       "  </thead>\n",
       "  <tbody>\n",
       "    <tr>\n",
       "      <th>1016</th>\n",
       "      <td>NaN</td>\n",
       "      <td>NaN</td>\n",
       "      <td>HDL</td>\n",
       "      <td>NaN</td>\n",
       "      <td>NaN</td>\n",
       "      <td>NaN</td>\n",
       "      <td>high-density lipoprotein</td>\n",
       "      <td>NaN</td>\n",
       "      <td>NaN</td>\n",
       "      <td>NaN</td>\n",
       "      <td>Vanderbilt Clinic Notes</td>\n",
       "      <td>NaN</td>\n",
       "      <td>NaN</td>\n",
       "      <td>NaN</td>\n",
       "      <td>NaN</td>\n",
       "      <td>13</td>\n",
       "      <td>1.0000</td>\n",
       "      <td>NaN</td>\n",
       "    </tr>\n",
       "    <tr>\n",
       "      <th>687</th>\n",
       "      <td>NaN</td>\n",
       "      <td>NaN</td>\n",
       "      <td>EMLA</td>\n",
       "      <td>NaN</td>\n",
       "      <td>NaN</td>\n",
       "      <td>NaN</td>\n",
       "      <td>medical doctor</td>\n",
       "      <td>NaN</td>\n",
       "      <td>NaN</td>\n",
       "      <td>NaN</td>\n",
       "      <td>Vanderbilt Discharge Sums</td>\n",
       "      <td>NaN</td>\n",
       "      <td>NaN</td>\n",
       "      <td>NaN</td>\n",
       "      <td>NaN</td>\n",
       "      <td>8</td>\n",
       "      <td>0.9620</td>\n",
       "      <td>NaN</td>\n",
       "    </tr>\n",
       "    <tr>\n",
       "      <th>261</th>\n",
       "      <td>NaN</td>\n",
       "      <td>NaN</td>\n",
       "      <td>CP</td>\n",
       "      <td>NaN</td>\n",
       "      <td>NaN</td>\n",
       "      <td>NaN</td>\n",
       "      <td>cerebral palsy</td>\n",
       "      <td>NaN</td>\n",
       "      <td>NaN</td>\n",
       "      <td>NaN</td>\n",
       "      <td>Vanderbilt Discharge Sums</td>\n",
       "      <td>NaN</td>\n",
       "      <td>NaN</td>\n",
       "      <td>NaN</td>\n",
       "      <td>NaN</td>\n",
       "      <td>8</td>\n",
       "      <td>0.7986</td>\n",
       "      <td>NaN</td>\n",
       "    </tr>\n",
       "  </tbody>\n",
       "</table>\n",
       "</div>"
      ],
      "text/plain": [
       "     GroupID EntryID    SF SFUI NormSF PrefSF                        LF LFUI  \\\n",
       "1016     NaN     NaN   HDL  NaN    NaN    NaN  high-density lipoprotein  NaN   \n",
       "687      NaN     NaN  EMLA  NaN    NaN    NaN            medical doctor  NaN   \n",
       "261      NaN     NaN    CP  NaN    NaN    NaN            cerebral palsy  NaN   \n",
       "\n",
       "     NormLF PrefLF                     Source SFEUI LFEUI Type Score Count  \\\n",
       "1016    NaN    NaN    Vanderbilt Clinic Notes   NaN   NaN  NaN   NaN    13   \n",
       "687     NaN    NaN  Vanderbilt Discharge Sums   NaN   NaN  NaN   NaN     8   \n",
       "261     NaN    NaN  Vanderbilt Discharge Sums   NaN   NaN  NaN   NaN     8   \n",
       "\n",
       "      Frequency UMLS.CUI  \n",
       "1016     1.0000      NaN  \n",
       "687      0.9620      NaN  \n",
       "261      0.7986      NaN  "
      ]
     },
     "execution_count": 34,
     "metadata": {},
     "output_type": "execute_result"
    }
   ],
   "source": [
    "vand_out = vand_out[out_db.columns]\n",
    "vand_out.sample(3, random_state=0)"
   ]
  },
  {
   "cell_type": "markdown",
   "metadata": {
    "colab_type": "text",
    "id": "8qSgDDnU2tZz"
   },
   "source": [
    "#### Append Output"
   ]
  },
  {
   "cell_type": "code",
   "execution_count": 35,
   "metadata": {
    "colab": {},
    "colab_type": "code",
    "id": "q3KEz9C92vba"
   },
   "outputs": [],
   "source": [
    "out_list.append(vand_out)"
   ]
  },
  {
   "cell_type": "markdown",
   "metadata": {
    "colab_type": "text",
    "id": "Tts4uR1YzC6I"
   },
   "source": [
    "## Source #5: Wikipedia"
   ]
  },
  {
   "cell_type": "markdown",
   "metadata": {
    "colab_type": "text",
    "id": "qrZFTkz2Cgdr"
   },
   "source": [
    "#### Load Wikipedia"
   ]
  },
  {
   "cell_type": "code",
   "execution_count": 36,
   "metadata": {
    "colab": {},
    "colab_type": "code",
    "id": "LGg3QWwTCZ6M"
   },
   "outputs": [],
   "source": [
    "wabr_db = pd.read_csv('https://raw.githubusercontent.com/lisavirginia/clinical-abbreviations/master/sources/5-wikipedia/wikipedia_abbreviation_database.csv',\n",
    "                      sep=',',\n",
    "                      na_filter=False,\n",
    "                      index_col=False)"
   ]
  },
  {
   "cell_type": "code",
   "execution_count": 37,
   "metadata": {
    "colab": {
     "base_uri": "https://localhost:8080/",
     "height": 136
    },
    "colab_type": "code",
    "id": "jHJvX8fisRU6",
    "outputId": "6ab3d3ed-1381-49af-9b94-3461ebecd5e1"
   },
   "outputs": [
    {
     "data": {
      "text/html": [
       "<div>\n",
       "<style scoped>\n",
       "    .dataframe tbody tr th:only-of-type {\n",
       "        vertical-align: middle;\n",
       "    }\n",
       "\n",
       "    .dataframe tbody tr th {\n",
       "        vertical-align: top;\n",
       "    }\n",
       "\n",
       "    .dataframe thead th {\n",
       "        text-align: right;\n",
       "    }\n",
       "</style>\n",
       "<table border=\"1\" class=\"dataframe\">\n",
       "  <thead>\n",
       "    <tr style=\"text-align: right;\">\n",
       "      <th></th>\n",
       "      <th>abr</th>\n",
       "      <th>long_form</th>\n",
       "    </tr>\n",
       "  </thead>\n",
       "  <tbody>\n",
       "    <tr>\n",
       "      <th>346</th>\n",
       "      <td>BEP</td>\n",
       "      <td>bleomycin, etoposide, and cisplatin</td>\n",
       "    </tr>\n",
       "    <tr>\n",
       "      <th>1355</th>\n",
       "      <td>I&amp;O</td>\n",
       "      <td>inputs and outputs</td>\n",
       "    </tr>\n",
       "    <tr>\n",
       "      <th>1261</th>\n",
       "      <td>HSM</td>\n",
       "      <td>hepatosplenomegaly</td>\n",
       "    </tr>\n",
       "  </tbody>\n",
       "</table>\n",
       "</div>"
      ],
      "text/plain": [
       "      abr                            long_form\n",
       "346   BEP  bleomycin, etoposide, and cisplatin\n",
       "1355  I&O                   inputs and outputs\n",
       "1261  HSM                   hepatosplenomegaly"
      ]
     },
     "execution_count": 37,
     "metadata": {},
     "output_type": "execute_result"
    }
   ],
   "source": [
    "clean(wabr_db)\n",
    "wabr_db.sample(3, random_state=0)"
   ]
  },
  {
   "cell_type": "code",
   "execution_count": 38,
   "metadata": {
    "colab": {},
    "colab_type": "code",
    "id": "BYDatvIqDsk3"
   },
   "outputs": [],
   "source": [
    "wtrl_db = pd.read_csv('https://raw.githubusercontent.com/lisavirginia/clinical-abbreviations/master/sources/5-wikipedia/wikipedia_clinical_trials.txt',\n",
    "                      sep=':',\n",
    "                      header=None,\n",
    "                      names=['abr', 'long_form'],\n",
    "                      na_filter=False,\n",
    "                      index_col=False,\n",
    "                      skipinitialspace=True)"
   ]
  },
  {
   "cell_type": "code",
   "execution_count": 39,
   "metadata": {
    "colab": {
     "base_uri": "https://localhost:8080/",
     "height": 136
    },
    "colab_type": "code",
    "id": "PS-BAlIkD8Km",
    "outputId": "a4fe2a2d-3ff5-471d-bfad-66d050dbf0a0"
   },
   "outputs": [
    {
     "data": {
      "text/html": [
       "<div>\n",
       "<style scoped>\n",
       "    .dataframe tbody tr th:only-of-type {\n",
       "        vertical-align: middle;\n",
       "    }\n",
       "\n",
       "    .dataframe tbody tr th {\n",
       "        vertical-align: top;\n",
       "    }\n",
       "\n",
       "    .dataframe thead th {\n",
       "        text-align: right;\n",
       "    }\n",
       "</style>\n",
       "<table border=\"1\" class=\"dataframe\">\n",
       "  <thead>\n",
       "    <tr style=\"text-align: right;\">\n",
       "      <th></th>\n",
       "      <th>abr</th>\n",
       "      <th>long_form</th>\n",
       "    </tr>\n",
       "  </thead>\n",
       "  <tbody>\n",
       "    <tr>\n",
       "      <th>252</th>\n",
       "      <td>SURTAVI</td>\n",
       "      <td>Safety and Efficacy Study of the Medtronic Cor...</td>\n",
       "    </tr>\n",
       "    <tr>\n",
       "      <th>111</th>\n",
       "      <td>EVEREST</td>\n",
       "      <td>Efficacy of Vasopressin Antagonism in Heart Fa...</td>\n",
       "    </tr>\n",
       "    <tr>\n",
       "      <th>226</th>\n",
       "      <td>CYTO-PV</td>\n",
       "      <td>Cytoreductive Therapy in Polycythemia Vera</td>\n",
       "    </tr>\n",
       "  </tbody>\n",
       "</table>\n",
       "</div>"
      ],
      "text/plain": [
       "         abr                                          long_form\n",
       "252  SURTAVI  Safety and Efficacy Study of the Medtronic Cor...\n",
       "111  EVEREST  Efficacy of Vasopressin Antagonism in Heart Fa...\n",
       "226  CYTO-PV         Cytoreductive Therapy in Polycythemia Vera"
      ]
     },
     "execution_count": 39,
     "metadata": {},
     "output_type": "execute_result"
    }
   ],
   "source": [
    "clean(wtrl_db)\n",
    "wtrl_db.sample(3, random_state=0)"
   ]
  },
  {
   "cell_type": "markdown",
   "metadata": {
    "colab_type": "text",
    "id": "dtnOzVK-IEPp"
   },
   "source": [
    "#### Merge Frames"
   ]
  },
  {
   "cell_type": "code",
   "execution_count": 40,
   "metadata": {
    "colab": {
     "base_uri": "https://localhost:8080/",
     "height": 34
    },
    "colab_type": "code",
    "id": "Pp5q3NyFIF3A",
    "outputId": "56c838c9-9881-4da3-af67-05d553bc16b3"
   },
   "outputs": [
    {
     "data": {
      "text/plain": [
       "(2952, 2)"
      ]
     },
     "execution_count": 40,
     "metadata": {},
     "output_type": "execute_result"
    }
   ],
   "source": [
    "wiki_db = wabr_db.append(wtrl_db)\n",
    "wiki_db.shape"
   ]
  },
  {
   "cell_type": "markdown",
   "metadata": {
    "colab_type": "text",
    "id": "sDVSFpWfIchI"
   },
   "source": [
    "#### Populate Output Frame"
   ]
  },
  {
   "cell_type": "code",
   "execution_count": 41,
   "metadata": {
    "colab": {},
    "colab_type": "code",
    "id": "5R1v7W-YIeWg"
   },
   "outputs": [],
   "source": [
    "wiki_out = out_db.copy()\n",
    "wiki_out['SF'] = wiki_db['abr']\n",
    "wiki_out['LF'] = wiki_db['long_form']\n",
    "wiki_out['Source'] = 'Wikipedia'"
   ]
  },
  {
   "cell_type": "code",
   "execution_count": 42,
   "metadata": {
    "colab": {
     "base_uri": "https://localhost:8080/",
     "height": 136
    },
    "colab_type": "code",
    "id": "2j05ZfdUIpEa",
    "outputId": "bddb4dc1-7e18-4482-f1c1-ddb6a7e3bc6b"
   },
   "outputs": [
    {
     "data": {
      "text/html": [
       "<div>\n",
       "<style scoped>\n",
       "    .dataframe tbody tr th:only-of-type {\n",
       "        vertical-align: middle;\n",
       "    }\n",
       "\n",
       "    .dataframe tbody tr th {\n",
       "        vertical-align: top;\n",
       "    }\n",
       "\n",
       "    .dataframe thead th {\n",
       "        text-align: right;\n",
       "    }\n",
       "</style>\n",
       "<table border=\"1\" class=\"dataframe\">\n",
       "  <thead>\n",
       "    <tr style=\"text-align: right;\">\n",
       "      <th></th>\n",
       "      <th>GroupID</th>\n",
       "      <th>EntryID</th>\n",
       "      <th>SF</th>\n",
       "      <th>SFUI</th>\n",
       "      <th>NormSF</th>\n",
       "      <th>PrefSF</th>\n",
       "      <th>LF</th>\n",
       "      <th>LFUI</th>\n",
       "      <th>NormLF</th>\n",
       "      <th>PrefLF</th>\n",
       "      <th>Source</th>\n",
       "      <th>SFEUI</th>\n",
       "      <th>LFEUI</th>\n",
       "      <th>Type</th>\n",
       "      <th>Score</th>\n",
       "      <th>Count</th>\n",
       "      <th>Frequency</th>\n",
       "      <th>UMLS.CUI</th>\n",
       "    </tr>\n",
       "  </thead>\n",
       "  <tbody>\n",
       "    <tr>\n",
       "      <th>1301</th>\n",
       "      <td>NaN</td>\n",
       "      <td>NaN</td>\n",
       "      <td>ICCU</td>\n",
       "      <td>NaN</td>\n",
       "      <td>NaN</td>\n",
       "      <td>NaN</td>\n",
       "      <td>intensive cardiac care unit</td>\n",
       "      <td>NaN</td>\n",
       "      <td>NaN</td>\n",
       "      <td>NaN</td>\n",
       "      <td>Wikipedia</td>\n",
       "      <td>NaN</td>\n",
       "      <td>NaN</td>\n",
       "      <td>NaN</td>\n",
       "      <td>NaN</td>\n",
       "      <td>NaN</td>\n",
       "      <td>NaN</td>\n",
       "      <td>NaN</td>\n",
       "    </tr>\n",
       "    <tr>\n",
       "      <th>95</th>\n",
       "      <td>NaN</td>\n",
       "      <td>NaN</td>\n",
       "      <td>TRICC</td>\n",
       "      <td>NaN</td>\n",
       "      <td>NaN</td>\n",
       "      <td>NaN</td>\n",
       "      <td>Transfusion Requirements in Critical Care</td>\n",
       "      <td>NaN</td>\n",
       "      <td>NaN</td>\n",
       "      <td>NaN</td>\n",
       "      <td>Wikipedia</td>\n",
       "      <td>NaN</td>\n",
       "      <td>NaN</td>\n",
       "      <td>NaN</td>\n",
       "      <td>NaN</td>\n",
       "      <td>NaN</td>\n",
       "      <td>NaN</td>\n",
       "      <td>NaN</td>\n",
       "    </tr>\n",
       "    <tr>\n",
       "      <th>2286</th>\n",
       "      <td>NaN</td>\n",
       "      <td>NaN</td>\n",
       "      <td>SGB</td>\n",
       "      <td>NaN</td>\n",
       "      <td>NaN</td>\n",
       "      <td>NaN</td>\n",
       "      <td>stellate ganglion block</td>\n",
       "      <td>NaN</td>\n",
       "      <td>NaN</td>\n",
       "      <td>NaN</td>\n",
       "      <td>Wikipedia</td>\n",
       "      <td>NaN</td>\n",
       "      <td>NaN</td>\n",
       "      <td>NaN</td>\n",
       "      <td>NaN</td>\n",
       "      <td>NaN</td>\n",
       "      <td>NaN</td>\n",
       "      <td>NaN</td>\n",
       "    </tr>\n",
       "  </tbody>\n",
       "</table>\n",
       "</div>"
      ],
      "text/plain": [
       "     GroupID EntryID     SF SFUI NormSF PrefSF  \\\n",
       "1301     NaN     NaN   ICCU  NaN    NaN    NaN   \n",
       "95       NaN     NaN  TRICC  NaN    NaN    NaN   \n",
       "2286     NaN     NaN    SGB  NaN    NaN    NaN   \n",
       "\n",
       "                                             LF LFUI NormLF PrefLF     Source  \\\n",
       "1301                intensive cardiac care unit  NaN    NaN    NaN  Wikipedia   \n",
       "95    Transfusion Requirements in Critical Care  NaN    NaN    NaN  Wikipedia   \n",
       "2286                    stellate ganglion block  NaN    NaN    NaN  Wikipedia   \n",
       "\n",
       "     SFEUI LFEUI Type Score Count Frequency UMLS.CUI  \n",
       "1301   NaN   NaN  NaN   NaN   NaN       NaN      NaN  \n",
       "95     NaN   NaN  NaN   NaN   NaN       NaN      NaN  \n",
       "2286   NaN   NaN  NaN   NaN   NaN       NaN      NaN  "
      ]
     },
     "execution_count": 42,
     "metadata": {},
     "output_type": "execute_result"
    }
   ],
   "source": [
    "wiki_out.sample(3, random_state=0)"
   ]
  },
  {
   "cell_type": "markdown",
   "metadata": {
    "colab_type": "text",
    "id": "YjtXpcBBI2oZ"
   },
   "source": [
    "#### Append Output"
   ]
  },
  {
   "cell_type": "code",
   "execution_count": 43,
   "metadata": {
    "colab": {},
    "colab_type": "code",
    "id": "weFb-OCAI4WY"
   },
   "outputs": [],
   "source": [
    "out_list.append(wiki_out)"
   ]
  },
  {
   "cell_type": "markdown",
   "metadata": {
    "colab_type": "text",
    "id": "6cLdJ9ZDzeF2"
   },
   "source": [
    "## Source #6: Stetson"
   ]
  },
  {
   "cell_type": "markdown",
   "metadata": {
    "colab_type": "text",
    "id": "5UAw_wJIaI3J"
   },
   "source": [
    "#### Load Stetson"
   ]
  },
  {
   "cell_type": "code",
   "execution_count": 44,
   "metadata": {
    "colab": {},
    "colab_type": "code",
    "id": "IYaeQ3iTaKqW"
   },
   "outputs": [],
   "source": [
    "stet_db = pd.read_csv('https://raw.githubusercontent.com/lisavirginia/clinical-abbreviations/master/sources/6-stetson/sense_distribution_448.txt',\n",
    "                      sep='\\t',\n",
    "                      header=None,\n",
    "                      names=['SF', 'LF', 'Frequency'],\n",
    "                      na_filter=False,\n",
    "                      index_col=False)"
   ]
  },
  {
   "cell_type": "code",
   "execution_count": 45,
   "metadata": {
    "colab": {
     "base_uri": "https://localhost:8080/",
     "height": 136
    },
    "colab_type": "code",
    "id": "PZsUI6yIa003",
    "outputId": "68dbc66d-499e-40f4-e264-8557c5896b9e"
   },
   "outputs": [
    {
     "data": {
      "text/html": [
       "<div>\n",
       "<style scoped>\n",
       "    .dataframe tbody tr th:only-of-type {\n",
       "        vertical-align: middle;\n",
       "    }\n",
       "\n",
       "    .dataframe tbody tr th {\n",
       "        vertical-align: top;\n",
       "    }\n",
       "\n",
       "    .dataframe thead th {\n",
       "        text-align: right;\n",
       "    }\n",
       "</style>\n",
       "<table border=\"1\" class=\"dataframe\">\n",
       "  <thead>\n",
       "    <tr style=\"text-align: right;\">\n",
       "      <th></th>\n",
       "      <th>SF</th>\n",
       "      <th>LF</th>\n",
       "      <th>Frequency</th>\n",
       "    </tr>\n",
       "  </thead>\n",
       "  <tbody>\n",
       "    <tr>\n",
       "      <th>733</th>\n",
       "      <td>med</td>\n",
       "      <td>medicine</td>\n",
       "      <td>0.38600</td>\n",
       "    </tr>\n",
       "    <tr>\n",
       "      <th>122</th>\n",
       "      <td>d/c</td>\n",
       "      <td>discharge</td>\n",
       "      <td>0.88400</td>\n",
       "    </tr>\n",
       "    <tr>\n",
       "      <th>113</th>\n",
       "      <td>na</td>\n",
       "      <td>normal axis</td>\n",
       "      <td>0.02002</td>\n",
       "    </tr>\n",
       "  </tbody>\n",
       "</table>\n",
       "</div>"
      ],
      "text/plain": [
       "      SF           LF  Frequency\n",
       "733  med     medicine    0.38600\n",
       "122  d/c    discharge    0.88400\n",
       "113   na  normal axis    0.02002"
      ]
     },
     "execution_count": 45,
     "metadata": {},
     "output_type": "execute_result"
    }
   ],
   "source": [
    "clean(stet_db)\n",
    "stet_db.sample(3, random_state=0)"
   ]
  },
  {
   "cell_type": "markdown",
   "metadata": {
    "colab_type": "text",
    "id": "n7kb10n0bVO8"
   },
   "source": [
    "#### Populate Output Frame"
   ]
  },
  {
   "cell_type": "code",
   "execution_count": 46,
   "metadata": {
    "colab": {},
    "colab_type": "code",
    "id": "EXfaclkabZqB"
   },
   "outputs": [],
   "source": [
    "stet_out = out_db.copy()\n",
    "stet_out['SF'] = stet_db['SF']\n",
    "stet_out['LF'] = stet_db['LF']\n",
    "stet_out['Source'] = 'Stetson'\n",
    "stet_out['Frequency'] = stet_db['Frequency']"
   ]
  },
  {
   "cell_type": "code",
   "execution_count": 47,
   "metadata": {
    "colab": {
     "base_uri": "https://localhost:8080/",
     "height": 136
    },
    "colab_type": "code",
    "id": "iDTDjyVQcSew",
    "outputId": "3fd131d5-e7d4-4dda-c8b0-7533f9e003f6"
   },
   "outputs": [
    {
     "data": {
      "text/html": [
       "<div>\n",
       "<style scoped>\n",
       "    .dataframe tbody tr th:only-of-type {\n",
       "        vertical-align: middle;\n",
       "    }\n",
       "\n",
       "    .dataframe tbody tr th {\n",
       "        vertical-align: top;\n",
       "    }\n",
       "\n",
       "    .dataframe thead th {\n",
       "        text-align: right;\n",
       "    }\n",
       "</style>\n",
       "<table border=\"1\" class=\"dataframe\">\n",
       "  <thead>\n",
       "    <tr style=\"text-align: right;\">\n",
       "      <th></th>\n",
       "      <th>GroupID</th>\n",
       "      <th>EntryID</th>\n",
       "      <th>SF</th>\n",
       "      <th>SFUI</th>\n",
       "      <th>NormSF</th>\n",
       "      <th>PrefSF</th>\n",
       "      <th>LF</th>\n",
       "      <th>LFUI</th>\n",
       "      <th>NormLF</th>\n",
       "      <th>PrefLF</th>\n",
       "      <th>Source</th>\n",
       "      <th>SFEUI</th>\n",
       "      <th>LFEUI</th>\n",
       "      <th>Type</th>\n",
       "      <th>Score</th>\n",
       "      <th>Count</th>\n",
       "      <th>Frequency</th>\n",
       "      <th>UMLS.CUI</th>\n",
       "    </tr>\n",
       "  </thead>\n",
       "  <tbody>\n",
       "    <tr>\n",
       "      <th>733</th>\n",
       "      <td>NaN</td>\n",
       "      <td>NaN</td>\n",
       "      <td>med</td>\n",
       "      <td>NaN</td>\n",
       "      <td>NaN</td>\n",
       "      <td>NaN</td>\n",
       "      <td>medicine</td>\n",
       "      <td>NaN</td>\n",
       "      <td>NaN</td>\n",
       "      <td>NaN</td>\n",
       "      <td>Stetson</td>\n",
       "      <td>NaN</td>\n",
       "      <td>NaN</td>\n",
       "      <td>NaN</td>\n",
       "      <td>NaN</td>\n",
       "      <td>NaN</td>\n",
       "      <td>0.38600</td>\n",
       "      <td>NaN</td>\n",
       "    </tr>\n",
       "    <tr>\n",
       "      <th>122</th>\n",
       "      <td>NaN</td>\n",
       "      <td>NaN</td>\n",
       "      <td>d/c</td>\n",
       "      <td>NaN</td>\n",
       "      <td>NaN</td>\n",
       "      <td>NaN</td>\n",
       "      <td>discharge</td>\n",
       "      <td>NaN</td>\n",
       "      <td>NaN</td>\n",
       "      <td>NaN</td>\n",
       "      <td>Stetson</td>\n",
       "      <td>NaN</td>\n",
       "      <td>NaN</td>\n",
       "      <td>NaN</td>\n",
       "      <td>NaN</td>\n",
       "      <td>NaN</td>\n",
       "      <td>0.88400</td>\n",
       "      <td>NaN</td>\n",
       "    </tr>\n",
       "    <tr>\n",
       "      <th>113</th>\n",
       "      <td>NaN</td>\n",
       "      <td>NaN</td>\n",
       "      <td>na</td>\n",
       "      <td>NaN</td>\n",
       "      <td>NaN</td>\n",
       "      <td>NaN</td>\n",
       "      <td>normal axis</td>\n",
       "      <td>NaN</td>\n",
       "      <td>NaN</td>\n",
       "      <td>NaN</td>\n",
       "      <td>Stetson</td>\n",
       "      <td>NaN</td>\n",
       "      <td>NaN</td>\n",
       "      <td>NaN</td>\n",
       "      <td>NaN</td>\n",
       "      <td>NaN</td>\n",
       "      <td>0.02002</td>\n",
       "      <td>NaN</td>\n",
       "    </tr>\n",
       "  </tbody>\n",
       "</table>\n",
       "</div>"
      ],
      "text/plain": [
       "    GroupID EntryID   SF SFUI NormSF PrefSF           LF LFUI NormLF PrefLF  \\\n",
       "733     NaN     NaN  med  NaN    NaN    NaN     medicine  NaN    NaN    NaN   \n",
       "122     NaN     NaN  d/c  NaN    NaN    NaN    discharge  NaN    NaN    NaN   \n",
       "113     NaN     NaN   na  NaN    NaN    NaN  normal axis  NaN    NaN    NaN   \n",
       "\n",
       "      Source SFEUI LFEUI Type Score Count  Frequency UMLS.CUI  \n",
       "733  Stetson   NaN   NaN  NaN   NaN   NaN    0.38600      NaN  \n",
       "122  Stetson   NaN   NaN  NaN   NaN   NaN    0.88400      NaN  \n",
       "113  Stetson   NaN   NaN  NaN   NaN   NaN    0.02002      NaN  "
      ]
     },
     "execution_count": 47,
     "metadata": {},
     "output_type": "execute_result"
    }
   ],
   "source": [
    "stet_out.sample(3, random_state=0)"
   ]
  },
  {
   "cell_type": "markdown",
   "metadata": {
    "colab_type": "text",
    "id": "NSML37baccHD"
   },
   "source": [
    "#### Append Output"
   ]
  },
  {
   "cell_type": "code",
   "execution_count": 48,
   "metadata": {
    "colab": {},
    "colab_type": "code",
    "id": "jII-qJEtcbWt"
   },
   "outputs": [],
   "source": [
    "out_list.append(stet_out)"
   ]
  },
  {
   "cell_type": "markdown",
   "metadata": {
    "colab_type": "text",
    "id": "CKHHXhcrzRql"
   },
   "source": [
    "## Source #7: Columbia"
   ]
  },
  {
   "cell_type": "markdown",
   "metadata": {
    "colab_type": "text",
    "id": "QB9sqBPIdzT-"
   },
   "source": [
    "#### Load Columbia"
   ]
  },
  {
   "cell_type": "code",
   "execution_count": 49,
   "metadata": {
    "colab": {},
    "colab_type": "code",
    "id": "XksuqLy9DuoJ"
   },
   "outputs": [],
   "source": [
    "colm_db = pd.read_csv('https://raw.githubusercontent.com/lisavirginia/clinical-abbreviations/master/sources/7-columbia/obgyn.txt',\n",
    "                      header=None,\n",
    "                      names=['SF_LF'],\n",
    "                      na_filter=False,\n",
    "                      index_col=False)"
   ]
  },
  {
   "cell_type": "code",
   "execution_count": 50,
   "metadata": {
    "colab": {
     "base_uri": "https://localhost:8080/",
     "height": 136
    },
    "colab_type": "code",
    "id": "npg5FarIGE2Z",
    "outputId": "ffcaf56b-e1a5-45d8-82ab-d62eb611d2df"
   },
   "outputs": [
    {
     "data": {
      "text/html": [
       "<div>\n",
       "<style scoped>\n",
       "    .dataframe tbody tr th:only-of-type {\n",
       "        vertical-align: middle;\n",
       "    }\n",
       "\n",
       "    .dataframe tbody tr th {\n",
       "        vertical-align: top;\n",
       "    }\n",
       "\n",
       "    .dataframe thead th {\n",
       "        text-align: right;\n",
       "    }\n",
       "</style>\n",
       "<table border=\"1\" class=\"dataframe\">\n",
       "  <thead>\n",
       "    <tr style=\"text-align: right;\">\n",
       "      <th></th>\n",
       "      <th>SF_LF</th>\n",
       "    </tr>\n",
       "  </thead>\n",
       "  <tbody>\n",
       "    <tr>\n",
       "      <th>152</th>\n",
       "      <td>P/N/F Pooling/nitrazine/ferning</td>\n",
       "    </tr>\n",
       "    <tr>\n",
       "      <th>74</th>\n",
       "      <td>FHT Fetal heart tones</td>\n",
       "    </tr>\n",
       "    <tr>\n",
       "      <th>71</th>\n",
       "      <td>FAVD Forceps assisted vaginal delivery</td>\n",
       "    </tr>\n",
       "  </tbody>\n",
       "</table>\n",
       "</div>"
      ],
      "text/plain": [
       "                                      SF_LF\n",
       "152         P/N/F Pooling/nitrazine/ferning\n",
       "74                    FHT Fetal heart tones\n",
       "71   FAVD Forceps assisted vaginal delivery"
      ]
     },
     "execution_count": 50,
     "metadata": {},
     "output_type": "execute_result"
    }
   ],
   "source": [
    "clean(colm_db)\n",
    "colm_db.sample(3, random_state=0)"
   ]
  },
  {
   "cell_type": "markdown",
   "metadata": {
    "colab_type": "text",
    "id": "jwfa7TMVGQ21"
   },
   "source": [
    "#### Split Column"
   ]
  },
  {
   "cell_type": "code",
   "execution_count": 51,
   "metadata": {
    "colab": {},
    "colab_type": "code",
    "id": "31m3moA7GTPT"
   },
   "outputs": [],
   "source": [
    "temp = colm_db[\"SF_LF\"].str.split(\" \", n=1, expand=True)\n",
    "colm_db[\"SF\"] = temp[0]\n",
    "colm_db[\"LF\"] = temp[1]"
   ]
  },
  {
   "cell_type": "code",
   "execution_count": 52,
   "metadata": {
    "colab": {
     "base_uri": "https://localhost:8080/",
     "height": 136
    },
    "colab_type": "code",
    "id": "5ikzSsaLGq6i",
    "outputId": "2ec1bb33-9316-403a-edf2-d020ca0c6394"
   },
   "outputs": [
    {
     "data": {
      "text/html": [
       "<div>\n",
       "<style scoped>\n",
       "    .dataframe tbody tr th:only-of-type {\n",
       "        vertical-align: middle;\n",
       "    }\n",
       "\n",
       "    .dataframe tbody tr th {\n",
       "        vertical-align: top;\n",
       "    }\n",
       "\n",
       "    .dataframe thead th {\n",
       "        text-align: right;\n",
       "    }\n",
       "</style>\n",
       "<table border=\"1\" class=\"dataframe\">\n",
       "  <thead>\n",
       "    <tr style=\"text-align: right;\">\n",
       "      <th></th>\n",
       "      <th>SF_LF</th>\n",
       "      <th>SF</th>\n",
       "      <th>LF</th>\n",
       "    </tr>\n",
       "  </thead>\n",
       "  <tbody>\n",
       "    <tr>\n",
       "      <th>152</th>\n",
       "      <td>P/N/F Pooling/nitrazine/ferning</td>\n",
       "      <td>P/N/F</td>\n",
       "      <td>Pooling/nitrazine/ferning</td>\n",
       "    </tr>\n",
       "    <tr>\n",
       "      <th>74</th>\n",
       "      <td>FHT Fetal heart tones</td>\n",
       "      <td>FHT</td>\n",
       "      <td>Fetal heart tones</td>\n",
       "    </tr>\n",
       "    <tr>\n",
       "      <th>71</th>\n",
       "      <td>FAVD Forceps assisted vaginal delivery</td>\n",
       "      <td>FAVD</td>\n",
       "      <td>Forceps assisted vaginal delivery</td>\n",
       "    </tr>\n",
       "  </tbody>\n",
       "</table>\n",
       "</div>"
      ],
      "text/plain": [
       "                                      SF_LF     SF  \\\n",
       "152         P/N/F Pooling/nitrazine/ferning  P/N/F   \n",
       "74                    FHT Fetal heart tones    FHT   \n",
       "71   FAVD Forceps assisted vaginal delivery   FAVD   \n",
       "\n",
       "                                    LF  \n",
       "152          Pooling/nitrazine/ferning  \n",
       "74                   Fetal heart tones  \n",
       "71   Forceps assisted vaginal delivery  "
      ]
     },
     "execution_count": 52,
     "metadata": {},
     "output_type": "execute_result"
    }
   ],
   "source": [
    "colm_db.sample(3, random_state=0)"
   ]
  },
  {
   "cell_type": "markdown",
   "metadata": {
    "colab_type": "text",
    "id": "i-pwzN_HGxH-"
   },
   "source": [
    "#### Populate Output Frame"
   ]
  },
  {
   "cell_type": "code",
   "execution_count": 53,
   "metadata": {
    "colab": {},
    "colab_type": "code",
    "id": "Q36iNJ5dGz-I"
   },
   "outputs": [],
   "source": [
    "colm_out = out_db.copy()\n",
    "colm_out['SF'] = colm_db['SF']\n",
    "colm_out['LF'] = colm_db['LF']\n",
    "colm_out['Source'] = 'Columbia'"
   ]
  },
  {
   "cell_type": "code",
   "execution_count": 54,
   "metadata": {
    "colab": {
     "base_uri": "https://localhost:8080/",
     "height": 136
    },
    "colab_type": "code",
    "id": "BwCipF-QHIYj",
    "outputId": "fc9bec46-088e-454b-b0e8-e4d2a11bf0f5"
   },
   "outputs": [
    {
     "data": {
      "text/html": [
       "<div>\n",
       "<style scoped>\n",
       "    .dataframe tbody tr th:only-of-type {\n",
       "        vertical-align: middle;\n",
       "    }\n",
       "\n",
       "    .dataframe tbody tr th {\n",
       "        vertical-align: top;\n",
       "    }\n",
       "\n",
       "    .dataframe thead th {\n",
       "        text-align: right;\n",
       "    }\n",
       "</style>\n",
       "<table border=\"1\" class=\"dataframe\">\n",
       "  <thead>\n",
       "    <tr style=\"text-align: right;\">\n",
       "      <th></th>\n",
       "      <th>GroupID</th>\n",
       "      <th>EntryID</th>\n",
       "      <th>SF</th>\n",
       "      <th>SFUI</th>\n",
       "      <th>NormSF</th>\n",
       "      <th>PrefSF</th>\n",
       "      <th>LF</th>\n",
       "      <th>LFUI</th>\n",
       "      <th>NormLF</th>\n",
       "      <th>PrefLF</th>\n",
       "      <th>Source</th>\n",
       "      <th>SFEUI</th>\n",
       "      <th>LFEUI</th>\n",
       "      <th>Type</th>\n",
       "      <th>Score</th>\n",
       "      <th>Count</th>\n",
       "      <th>Frequency</th>\n",
       "      <th>UMLS.CUI</th>\n",
       "    </tr>\n",
       "  </thead>\n",
       "  <tbody>\n",
       "    <tr>\n",
       "      <th>152</th>\n",
       "      <td>NaN</td>\n",
       "      <td>NaN</td>\n",
       "      <td>P/N/F</td>\n",
       "      <td>NaN</td>\n",
       "      <td>NaN</td>\n",
       "      <td>NaN</td>\n",
       "      <td>Pooling/nitrazine/ferning</td>\n",
       "      <td>NaN</td>\n",
       "      <td>NaN</td>\n",
       "      <td>NaN</td>\n",
       "      <td>Columbia</td>\n",
       "      <td>NaN</td>\n",
       "      <td>NaN</td>\n",
       "      <td>NaN</td>\n",
       "      <td>NaN</td>\n",
       "      <td>NaN</td>\n",
       "      <td>NaN</td>\n",
       "      <td>NaN</td>\n",
       "    </tr>\n",
       "    <tr>\n",
       "      <th>74</th>\n",
       "      <td>NaN</td>\n",
       "      <td>NaN</td>\n",
       "      <td>FHT</td>\n",
       "      <td>NaN</td>\n",
       "      <td>NaN</td>\n",
       "      <td>NaN</td>\n",
       "      <td>Fetal heart tones</td>\n",
       "      <td>NaN</td>\n",
       "      <td>NaN</td>\n",
       "      <td>NaN</td>\n",
       "      <td>Columbia</td>\n",
       "      <td>NaN</td>\n",
       "      <td>NaN</td>\n",
       "      <td>NaN</td>\n",
       "      <td>NaN</td>\n",
       "      <td>NaN</td>\n",
       "      <td>NaN</td>\n",
       "      <td>NaN</td>\n",
       "    </tr>\n",
       "    <tr>\n",
       "      <th>71</th>\n",
       "      <td>NaN</td>\n",
       "      <td>NaN</td>\n",
       "      <td>FAVD</td>\n",
       "      <td>NaN</td>\n",
       "      <td>NaN</td>\n",
       "      <td>NaN</td>\n",
       "      <td>Forceps assisted vaginal delivery</td>\n",
       "      <td>NaN</td>\n",
       "      <td>NaN</td>\n",
       "      <td>NaN</td>\n",
       "      <td>Columbia</td>\n",
       "      <td>NaN</td>\n",
       "      <td>NaN</td>\n",
       "      <td>NaN</td>\n",
       "      <td>NaN</td>\n",
       "      <td>NaN</td>\n",
       "      <td>NaN</td>\n",
       "      <td>NaN</td>\n",
       "    </tr>\n",
       "  </tbody>\n",
       "</table>\n",
       "</div>"
      ],
      "text/plain": [
       "    GroupID EntryID     SF SFUI NormSF PrefSF  \\\n",
       "152     NaN     NaN  P/N/F  NaN    NaN    NaN   \n",
       "74      NaN     NaN    FHT  NaN    NaN    NaN   \n",
       "71      NaN     NaN   FAVD  NaN    NaN    NaN   \n",
       "\n",
       "                                    LF LFUI NormLF PrefLF    Source SFEUI  \\\n",
       "152          Pooling/nitrazine/ferning  NaN    NaN    NaN  Columbia   NaN   \n",
       "74                   Fetal heart tones  NaN    NaN    NaN  Columbia   NaN   \n",
       "71   Forceps assisted vaginal delivery  NaN    NaN    NaN  Columbia   NaN   \n",
       "\n",
       "    LFEUI Type Score Count Frequency UMLS.CUI  \n",
       "152   NaN  NaN   NaN   NaN       NaN      NaN  \n",
       "74    NaN  NaN   NaN   NaN       NaN      NaN  \n",
       "71    NaN  NaN   NaN   NaN       NaN      NaN  "
      ]
     },
     "execution_count": 54,
     "metadata": {},
     "output_type": "execute_result"
    }
   ],
   "source": [
    "colm_out.sample(3, random_state=0)"
   ]
  },
  {
   "cell_type": "markdown",
   "metadata": {
    "colab_type": "text",
    "id": "F-hb4oaHHH5N"
   },
   "source": [
    "#### Append Output"
   ]
  },
  {
   "cell_type": "code",
   "execution_count": 55,
   "metadata": {
    "colab": {},
    "colab_type": "code",
    "id": "CE4sjPUCHQCM"
   },
   "outputs": [],
   "source": [
    "out_list.append(colm_out)"
   ]
  },
  {
   "cell_type": "markdown",
   "metadata": {
    "colab_type": "text",
    "id": "3gr0Qlv80Auf"
   },
   "source": [
    "## Merge Sources"
   ]
  },
  {
   "cell_type": "markdown",
   "metadata": {
    "colab_type": "text",
    "id": "_BAtdll2eJU6"
   },
   "source": [
    "#### Double-Check List"
   ]
  },
  {
   "cell_type": "code",
   "execution_count": 56,
   "metadata": {
    "colab": {
     "base_uri": "https://localhost:8080/",
     "height": 140
    },
    "colab_type": "code",
    "id": "rgbQM3vAIRqP",
    "outputId": "6034e4e9-1f97-433a-a27b-0aed7394d33a"
   },
   "outputs": [
    {
     "name": "stdout",
     "output_type": "stream",
     "text": [
      "umls_out (294484, 18)\n",
      "adam_out (94657, 18)\n",
      "berm_out (12088, 18)\n",
      "vand_out (8800, 18)\n",
      "wiki_out (2952, 18)\n",
      "stet_out (765, 18)\n",
      "colm_out (219, 18)\n"
     ]
    }
   ],
   "source": [
    "for item in out_list:\n",
    "  name = [x for x in globals() if globals()[x] is item][0]\n",
    "  print(name, item.shape)"
   ]
  },
  {
   "cell_type": "markdown",
   "metadata": {
    "colab_type": "text",
    "id": "bQSmIHfAeMD7"
   },
   "source": [
    "#### Conduct Merge"
   ]
  },
  {
   "cell_type": "code",
   "execution_count": 57,
   "metadata": {
    "colab": {
     "base_uri": "https://localhost:8080/",
     "height": 34
    },
    "colab_type": "code",
    "id": "C54-CcZzePoW",
    "outputId": "6e4aba27-6a24-4329-9bb4-d0925e3b7b1c"
   },
   "outputs": [
    {
     "data": {
      "text/plain": [
       "(413965, 18)"
      ]
     },
     "execution_count": 57,
     "metadata": {},
     "output_type": "execute_result"
    }
   ],
   "source": [
    "db = pd.concat(out_list)\n",
    "db.shape"
   ]
  },
  {
   "cell_type": "markdown",
   "metadata": {
    "colab_type": "text",
    "id": "VoCNsAi5e7kz"
   },
   "source": [
    "## Export"
   ]
  },
  {
   "cell_type": "code",
   "execution_count": 58,
   "metadata": {
    "colab": {},
    "colab_type": "code",
    "id": "m1dZcalgfOr7"
   },
   "outputs": [],
   "source": [
    "db.to_csv('Step1Output_Clinical_Abbreviation_Acronym_Crosswalk.csv',\n",
    "          index=False,\n",
    "          header=True,\n",
    "          sep='|')"
   ]
  }
 ],
 "metadata": {
  "colab": {
   "collapsed_sections": [],
   "name": "Step1_Preprocessing.ipynb",
   "provenance": []
  },
  "kernelspec": {
   "display_name": "Python 3",
   "language": "python",
   "name": "python3"
  },
  "language_info": {
   "codemirror_mode": {
    "name": "ipython",
    "version": 3
   },
   "file_extension": ".py",
   "mimetype": "text/x-python",
   "name": "python",
   "nbconvert_exporter": "python",
   "pygments_lexer": "ipython3",
   "version": "3.7.4"
  }
 },
 "nbformat": 4,
 "nbformat_minor": 1
}
