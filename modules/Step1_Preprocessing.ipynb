{
  "nbformat": 4,
  "nbformat_minor": 0,
  "metadata": {
    "colab": {
      "name": "Step1_Preprocessing.ipynb",
      "provenance": [],
      "collapsed_sections": []
    },
    "kernelspec": {
      "name": "python3",
      "display_name": "Python 3"
    }
  },
  "cells": [
    {
      "cell_type": "markdown",
      "metadata": {
        "id": "3hFkPIiTNygE",
        "colab_type": "text"
      },
      "source": [
        "# Step 1: Preprocessing"
      ]
    },
    {
      "cell_type": "markdown",
      "metadata": {
        "id": "Lr5P3lz5N2my",
        "colab_type": "text"
      },
      "source": [
        "## Setup"
      ]
    },
    {
      "cell_type": "code",
      "metadata": {
        "id": "E9-w0vjtOQQ2",
        "colab_type": "code",
        "colab": {}
      },
      "source": [
        "import pandas as pd\n",
        "from google.colab import files"
      ],
      "execution_count": 0,
      "outputs": []
    },
    {
      "cell_type": "markdown",
      "metadata": {
        "id": "vA4LZ7C7PvBE",
        "colab_type": "text"
      },
      "source": [
        "#### Import Master Functions"
      ]
    },
    {
      "cell_type": "code",
      "metadata": {
        "id": "9YTJiBdURlX9",
        "colab_type": "code",
        "colab": {}
      },
      "source": [
        "!wget https://raw.githubusercontent.com/lisavirginia/clinical-abbreviations/master/modules/master_functions.py\n",
        "from master_functions import *"
      ],
      "execution_count": 0,
      "outputs": []
    },
    {
      "cell_type": "markdown",
      "metadata": {
        "id": "4cV7r8vf8dE4",
        "colab_type": "text"
      },
      "source": [
        "#### Instantiate Output Frame"
      ]
    },
    {
      "cell_type": "markdown",
      "metadata": {
        "id": "pZAc7XurEDRZ",
        "colab_type": "text"
      },
      "source": [
        "This is the common data model for formatting all sources."
      ]
    },
    {
      "cell_type": "code",
      "metadata": {
        "id": "bX1OMt7g8fuF",
        "colab_type": "code",
        "colab": {}
      },
      "source": [
        "out_db = pd.DataFrame(columns=['GroupID', 'SF', 'SFUI', 'NormSF', 'PrefSF',\n",
        "                               'LF', 'LFUI', 'NormLF', 'PrefLF', 'Source', \n",
        "                               'SFEUI', 'LFEUI', 'Type', 'Score', 'Count', \n",
        "                               'Frequency', 'UMLS CUI', 'MetaMap CUI'])"
      ],
      "execution_count": 0,
      "outputs": []
    },
    {
      "cell_type": "markdown",
      "metadata": {
        "id": "_rtFrFiHvsD7",
        "colab_type": "text"
      },
      "source": [
        "## Source #1: UMLS"
      ]
    },
    {
      "cell_type": "markdown",
      "metadata": {
        "id": "6uBJpCLv0dOj",
        "colab_type": "text"
      },
      "source": [
        "#### Load UMLS"
      ]
    },
    {
      "cell_type": "code",
      "metadata": {
        "id": "eMGtZ2Z80bpa",
        "colab_type": "code",
        "colab": {}
      },
      "source": [
        "umls_db = pd.read_csv('https://raw.githubusercontent.com/lisavirginia/clinical-abbreviations/master/sources/1-umls/LRABR',\n",
        "                      sep='|',\n",
        "                      header=None,\n",
        "                      names=['SFEUI', 'SF', 'Type', 'LFEUI', 'LF'],\n",
        "                      na_filter=False,\n",
        "                      index_col=False)"
      ],
      "execution_count": 0,
      "outputs": []
    },
    {
      "cell_type": "code",
      "metadata": {
        "id": "JAHmmH_81kPl",
        "colab_type": "code",
        "outputId": "a843ea9c-9cc0-48df-f4d9-8c74a25a1012",
        "colab": {
          "base_uri": "https://localhost:8080/",
          "height": 136
        }
      },
      "source": [
        "clean(umls_db)\n",
        "umls_db.sample(3, random_state=0)"
      ],
      "execution_count": 5,
      "outputs": [
        {
          "output_type": "execute_result",
          "data": {
            "text/html": [
              "<div>\n",
              "<style scoped>\n",
              "    .dataframe tbody tr th:only-of-type {\n",
              "        vertical-align: middle;\n",
              "    }\n",
              "\n",
              "    .dataframe tbody tr th {\n",
              "        vertical-align: top;\n",
              "    }\n",
              "\n",
              "    .dataframe thead th {\n",
              "        text-align: right;\n",
              "    }\n",
              "</style>\n",
              "<table border=\"1\" class=\"dataframe\">\n",
              "  <thead>\n",
              "    <tr style=\"text-align: right;\">\n",
              "      <th></th>\n",
              "      <th>SFEUI</th>\n",
              "      <th>SF</th>\n",
              "      <th>Type</th>\n",
              "      <th>LFEUI</th>\n",
              "      <th>LF</th>\n",
              "    </tr>\n",
              "  </thead>\n",
              "  <tbody>\n",
              "    <tr>\n",
              "      <th>233514</th>\n",
              "      <td>E0740167</td>\n",
              "      <td>αSMA-expressing</td>\n",
              "      <td>acronym</td>\n",
              "      <td>E0740166</td>\n",
              "      <td>α-smooth muscle actin-expressing</td>\n",
              "    </tr>\n",
              "    <tr>\n",
              "      <th>96448</th>\n",
              "      <td>E0637109</td>\n",
              "      <td>β site APP cleaving enzyme-2</td>\n",
              "      <td>acronym</td>\n",
              "      <td>E0637108</td>\n",
              "      <td>beta site amyloid precursor protein cleaving e...</td>\n",
              "    </tr>\n",
              "    <tr>\n",
              "      <th>43480</th>\n",
              "      <td>E0456071</td>\n",
              "      <td>A. sinensis</td>\n",
              "      <td>abbreviation</td>\n",
              "      <td>E0352266</td>\n",
              "      <td>Anopheles sinensis</td>\n",
              "    </tr>\n",
              "  </tbody>\n",
              "</table>\n",
              "</div>"
            ],
            "text/plain": [
              "           SFEUI  ...                                                 LF\n",
              "233514  E0740167  ...                   α-smooth muscle actin-expressing\n",
              "96448   E0637109  ...  beta site amyloid precursor protein cleaving e...\n",
              "43480   E0456071  ...                                 Anopheles sinensis\n",
              "\n",
              "[3 rows x 5 columns]"
            ]
          },
          "metadata": {
            "tags": []
          },
          "execution_count": 5
        }
      ]
    },
    {
      "cell_type": "markdown",
      "metadata": {
        "id": "87j1877J1Xci",
        "colab_type": "text"
      },
      "source": [
        "#### Populate Output Frame"
      ]
    },
    {
      "cell_type": "code",
      "metadata": {
        "id": "HLxoH6oi1amk",
        "colab_type": "code",
        "colab": {}
      },
      "source": [
        "umls_out = out_db.copy()\n",
        "umls_out['SF'] = umls_db['SF']\n",
        "umls_out['LF'] = umls_db['LF']\n",
        "umls_out['Source'] = 'UMLS'\n",
        "umls_out['SFEUI'] = umls_db['SFEUI']\n",
        "umls_out['LFEUI'] = umls_db['LFEUI']\n",
        "umls_out['Type'] = umls_db['Type']"
      ],
      "execution_count": 0,
      "outputs": []
    },
    {
      "cell_type": "code",
      "metadata": {
        "id": "blYWwfF-2fNZ",
        "colab_type": "code",
        "outputId": "9c965e55-4cb2-4899-c5e9-6e471651973e",
        "colab": {
          "base_uri": "https://localhost:8080/",
          "height": 186
        }
      },
      "source": [
        "umls_out.sample(3, random_state=0)"
      ],
      "execution_count": 7,
      "outputs": [
        {
          "output_type": "execute_result",
          "data": {
            "text/html": [
              "<div>\n",
              "<style scoped>\n",
              "    .dataframe tbody tr th:only-of-type {\n",
              "        vertical-align: middle;\n",
              "    }\n",
              "\n",
              "    .dataframe tbody tr th {\n",
              "        vertical-align: top;\n",
              "    }\n",
              "\n",
              "    .dataframe thead th {\n",
              "        text-align: right;\n",
              "    }\n",
              "</style>\n",
              "<table border=\"1\" class=\"dataframe\">\n",
              "  <thead>\n",
              "    <tr style=\"text-align: right;\">\n",
              "      <th></th>\n",
              "      <th>GroupID</th>\n",
              "      <th>SF</th>\n",
              "      <th>SFUI</th>\n",
              "      <th>NormSF</th>\n",
              "      <th>PrefSF</th>\n",
              "      <th>LF</th>\n",
              "      <th>LFUI</th>\n",
              "      <th>NormLF</th>\n",
              "      <th>PrefLF</th>\n",
              "      <th>Source</th>\n",
              "      <th>SFEUI</th>\n",
              "      <th>LFEUI</th>\n",
              "      <th>Type</th>\n",
              "      <th>Score</th>\n",
              "      <th>Count</th>\n",
              "      <th>Frequency</th>\n",
              "      <th>UMLS CUI</th>\n",
              "      <th>MetaMap CUI</th>\n",
              "    </tr>\n",
              "  </thead>\n",
              "  <tbody>\n",
              "    <tr>\n",
              "      <th>233514</th>\n",
              "      <td>NaN</td>\n",
              "      <td>αSMA-expressing</td>\n",
              "      <td>NaN</td>\n",
              "      <td>NaN</td>\n",
              "      <td>NaN</td>\n",
              "      <td>α-smooth muscle actin-expressing</td>\n",
              "      <td>NaN</td>\n",
              "      <td>NaN</td>\n",
              "      <td>NaN</td>\n",
              "      <td>UMLS</td>\n",
              "      <td>E0740167</td>\n",
              "      <td>E0740166</td>\n",
              "      <td>acronym</td>\n",
              "      <td>NaN</td>\n",
              "      <td>NaN</td>\n",
              "      <td>NaN</td>\n",
              "      <td>NaN</td>\n",
              "      <td>NaN</td>\n",
              "    </tr>\n",
              "    <tr>\n",
              "      <th>96448</th>\n",
              "      <td>NaN</td>\n",
              "      <td>β site APP cleaving enzyme-2</td>\n",
              "      <td>NaN</td>\n",
              "      <td>NaN</td>\n",
              "      <td>NaN</td>\n",
              "      <td>beta site amyloid precursor protein cleaving e...</td>\n",
              "      <td>NaN</td>\n",
              "      <td>NaN</td>\n",
              "      <td>NaN</td>\n",
              "      <td>UMLS</td>\n",
              "      <td>E0637109</td>\n",
              "      <td>E0637108</td>\n",
              "      <td>acronym</td>\n",
              "      <td>NaN</td>\n",
              "      <td>NaN</td>\n",
              "      <td>NaN</td>\n",
              "      <td>NaN</td>\n",
              "      <td>NaN</td>\n",
              "    </tr>\n",
              "    <tr>\n",
              "      <th>43480</th>\n",
              "      <td>NaN</td>\n",
              "      <td>A. sinensis</td>\n",
              "      <td>NaN</td>\n",
              "      <td>NaN</td>\n",
              "      <td>NaN</td>\n",
              "      <td>Anopheles sinensis</td>\n",
              "      <td>NaN</td>\n",
              "      <td>NaN</td>\n",
              "      <td>NaN</td>\n",
              "      <td>UMLS</td>\n",
              "      <td>E0456071</td>\n",
              "      <td>E0352266</td>\n",
              "      <td>abbreviation</td>\n",
              "      <td>NaN</td>\n",
              "      <td>NaN</td>\n",
              "      <td>NaN</td>\n",
              "      <td>NaN</td>\n",
              "      <td>NaN</td>\n",
              "    </tr>\n",
              "  </tbody>\n",
              "</table>\n",
              "</div>"
            ],
            "text/plain": [
              "       GroupID                            SF  ... UMLS CUI MetaMap CUI\n",
              "233514     NaN               αSMA-expressing  ...      NaN         NaN\n",
              "96448      NaN  β site APP cleaving enzyme-2  ...      NaN         NaN\n",
              "43480      NaN                   A. sinensis  ...      NaN         NaN\n",
              "\n",
              "[3 rows x 18 columns]"
            ]
          },
          "metadata": {
            "tags": []
          },
          "execution_count": 7
        }
      ]
    },
    {
      "cell_type": "markdown",
      "metadata": {
        "id": "zZBdmCbG29sF",
        "colab_type": "text"
      },
      "source": [
        "#### Append Output"
      ]
    },
    {
      "cell_type": "code",
      "metadata": {
        "id": "lYbxHN423BGM",
        "colab_type": "code",
        "colab": {}
      },
      "source": [
        "out_list = []\n",
        "out_list.append(umls_out)"
      ],
      "execution_count": 0,
      "outputs": []
    },
    {
      "cell_type": "markdown",
      "metadata": {
        "id": "OxyKLRisOUL4",
        "colab_type": "text"
      },
      "source": [
        "## Source #2: ADAM"
      ]
    },
    {
      "cell_type": "markdown",
      "metadata": {
        "id": "UvIsUU2rP4bM",
        "colab_type": "text"
      },
      "source": [
        "#### Load ADAM"
      ]
    },
    {
      "cell_type": "code",
      "metadata": {
        "id": "AmHK7co_OZlX",
        "colab_type": "code",
        "colab": {}
      },
      "source": [
        "adam_db = pd.read_csv('https://raw.githubusercontent.com/lisavirginia/clinical-abbreviations/master/sources/2-adam/adam_database',\n",
        "                      sep='\\t',\n",
        "                      skiprows=38,  # skips readme portion\n",
        "                      header=None,\n",
        "                      names=['Pref_SF', 'Alt_SF', 'All_LF', 'Score', 'Count'],\n",
        "                      na_filter=False,\n",
        "                      index_col=False)"
      ],
      "execution_count": 0,
      "outputs": []
    },
    {
      "cell_type": "code",
      "metadata": {
        "id": "i9BVTY15te2Y",
        "colab_type": "code",
        "outputId": "f72f3280-e331-4070-f812-f6d016094267",
        "colab": {
          "base_uri": "https://localhost:8080/",
          "height": 136
        }
      },
      "source": [
        "clean(adam_db)\n",
        "adam_db.sample(3, random_state=0)"
      ],
      "execution_count": 10,
      "outputs": [
        {
          "output_type": "execute_result",
          "data": {
            "text/html": [
              "<div>\n",
              "<style scoped>\n",
              "    .dataframe tbody tr th:only-of-type {\n",
              "        vertical-align: middle;\n",
              "    }\n",
              "\n",
              "    .dataframe tbody tr th {\n",
              "        vertical-align: top;\n",
              "    }\n",
              "\n",
              "    .dataframe thead th {\n",
              "        text-align: right;\n",
              "    }\n",
              "</style>\n",
              "<table border=\"1\" class=\"dataframe\">\n",
              "  <thead>\n",
              "    <tr style=\"text-align: right;\">\n",
              "      <th></th>\n",
              "      <th>Pref_SF</th>\n",
              "      <th>Alt_SF</th>\n",
              "      <th>All_LF</th>\n",
              "      <th>Score</th>\n",
              "      <th>Count</th>\n",
              "    </tr>\n",
              "  </thead>\n",
              "  <tbody>\n",
              "    <tr>\n",
              "      <th>13054</th>\n",
              "      <td>DMN</td>\n",
              "      <td>DMN:15</td>\n",
              "      <td>dysplastic melanocytic nevi:15:0.8045</td>\n",
              "      <td>0.8045</td>\n",
              "      <td>15</td>\n",
              "    </tr>\n",
              "    <tr>\n",
              "      <th>5739</th>\n",
              "      <td>BM</td>\n",
              "      <td>BM:8|Bm:1</td>\n",
              "      <td>bicuculline methiodide:9:0.6794</td>\n",
              "      <td>0.6794</td>\n",
              "      <td>9</td>\n",
              "    </tr>\n",
              "    <tr>\n",
              "      <th>19192</th>\n",
              "      <td>GISSI-2</td>\n",
              "      <td>GISSI-2:10</td>\n",
              "      <td>Gruppo Italiano per lo Studio della Sopravvive...</td>\n",
              "      <td>0.5470</td>\n",
              "      <td>10</td>\n",
              "    </tr>\n",
              "  </tbody>\n",
              "</table>\n",
              "</div>"
            ],
            "text/plain": [
              "       Pref_SF      Alt_SF  ...   Score  Count\n",
              "13054      DMN      DMN:15  ...  0.8045     15\n",
              "5739        BM   BM:8|Bm:1  ...  0.6794      9\n",
              "19192  GISSI-2  GISSI-2:10  ...  0.5470     10\n",
              "\n",
              "[3 rows x 5 columns]"
            ]
          },
          "metadata": {
            "tags": []
          },
          "execution_count": 10
        }
      ]
    },
    {
      "cell_type": "markdown",
      "metadata": {
        "id": "4KC4ajlfc4s_",
        "colab_type": "text"
      },
      "source": [
        "#### Populate Output Frame"
      ]
    },
    {
      "cell_type": "code",
      "metadata": {
        "id": "2iY2iB7fgxUQ",
        "colab_type": "code",
        "colab": {}
      },
      "source": [
        "adam_out = out_db.copy()\n",
        "adam_out['SF'] = adam_db['Alt_SF']\n",
        "adam_out['LF'] = adam_db['All_LF']\n",
        "adam_out['Source'] = 'ADAM'\n",
        "adam_out['PSF'] = adam_db['Pref_SF']"
      ],
      "execution_count": 0,
      "outputs": []
    },
    {
      "cell_type": "code",
      "metadata": {
        "id": "GKNFTv-8kKd5",
        "colab_type": "code",
        "outputId": "16454b54-2f96-4103-e5d0-f7d3b73c6986",
        "colab": {
          "base_uri": "https://localhost:8080/",
          "height": 170
        }
      },
      "source": [
        "adam_out.sample(3, random_state=0)"
      ],
      "execution_count": 12,
      "outputs": [
        {
          "output_type": "execute_result",
          "data": {
            "text/html": [
              "<div>\n",
              "<style scoped>\n",
              "    .dataframe tbody tr th:only-of-type {\n",
              "        vertical-align: middle;\n",
              "    }\n",
              "\n",
              "    .dataframe tbody tr th {\n",
              "        vertical-align: top;\n",
              "    }\n",
              "\n",
              "    .dataframe thead th {\n",
              "        text-align: right;\n",
              "    }\n",
              "</style>\n",
              "<table border=\"1\" class=\"dataframe\">\n",
              "  <thead>\n",
              "    <tr style=\"text-align: right;\">\n",
              "      <th></th>\n",
              "      <th>GroupID</th>\n",
              "      <th>SF</th>\n",
              "      <th>SFUI</th>\n",
              "      <th>NormSF</th>\n",
              "      <th>PrefSF</th>\n",
              "      <th>LF</th>\n",
              "      <th>LFUI</th>\n",
              "      <th>NormLF</th>\n",
              "      <th>PrefLF</th>\n",
              "      <th>Source</th>\n",
              "      <th>SFEUI</th>\n",
              "      <th>LFEUI</th>\n",
              "      <th>Type</th>\n",
              "      <th>Score</th>\n",
              "      <th>Count</th>\n",
              "      <th>Frequency</th>\n",
              "      <th>UMLS CUI</th>\n",
              "      <th>MetaMap CUI</th>\n",
              "      <th>PSF</th>\n",
              "    </tr>\n",
              "  </thead>\n",
              "  <tbody>\n",
              "    <tr>\n",
              "      <th>13054</th>\n",
              "      <td>NaN</td>\n",
              "      <td>DMN:15</td>\n",
              "      <td>NaN</td>\n",
              "      <td>NaN</td>\n",
              "      <td>NaN</td>\n",
              "      <td>dysplastic melanocytic nevi:15:0.8045</td>\n",
              "      <td>NaN</td>\n",
              "      <td>NaN</td>\n",
              "      <td>NaN</td>\n",
              "      <td>ADAM</td>\n",
              "      <td>NaN</td>\n",
              "      <td>NaN</td>\n",
              "      <td>NaN</td>\n",
              "      <td>NaN</td>\n",
              "      <td>NaN</td>\n",
              "      <td>NaN</td>\n",
              "      <td>NaN</td>\n",
              "      <td>NaN</td>\n",
              "      <td>DMN</td>\n",
              "    </tr>\n",
              "    <tr>\n",
              "      <th>5739</th>\n",
              "      <td>NaN</td>\n",
              "      <td>BM:8|Bm:1</td>\n",
              "      <td>NaN</td>\n",
              "      <td>NaN</td>\n",
              "      <td>NaN</td>\n",
              "      <td>bicuculline methiodide:9:0.6794</td>\n",
              "      <td>NaN</td>\n",
              "      <td>NaN</td>\n",
              "      <td>NaN</td>\n",
              "      <td>ADAM</td>\n",
              "      <td>NaN</td>\n",
              "      <td>NaN</td>\n",
              "      <td>NaN</td>\n",
              "      <td>NaN</td>\n",
              "      <td>NaN</td>\n",
              "      <td>NaN</td>\n",
              "      <td>NaN</td>\n",
              "      <td>NaN</td>\n",
              "      <td>BM</td>\n",
              "    </tr>\n",
              "    <tr>\n",
              "      <th>19192</th>\n",
              "      <td>NaN</td>\n",
              "      <td>GISSI-2:10</td>\n",
              "      <td>NaN</td>\n",
              "      <td>NaN</td>\n",
              "      <td>NaN</td>\n",
              "      <td>Gruppo Italiano per lo Studio della Sopravvive...</td>\n",
              "      <td>NaN</td>\n",
              "      <td>NaN</td>\n",
              "      <td>NaN</td>\n",
              "      <td>ADAM</td>\n",
              "      <td>NaN</td>\n",
              "      <td>NaN</td>\n",
              "      <td>NaN</td>\n",
              "      <td>NaN</td>\n",
              "      <td>NaN</td>\n",
              "      <td>NaN</td>\n",
              "      <td>NaN</td>\n",
              "      <td>NaN</td>\n",
              "      <td>GISSI-2</td>\n",
              "    </tr>\n",
              "  </tbody>\n",
              "</table>\n",
              "</div>"
            ],
            "text/plain": [
              "      GroupID          SF SFUI NormSF  ... Frequency UMLS CUI MetaMap CUI      PSF\n",
              "13054     NaN      DMN:15  NaN    NaN  ...       NaN      NaN         NaN      DMN\n",
              "5739      NaN   BM:8|Bm:1  NaN    NaN  ...       NaN      NaN         NaN       BM\n",
              "19192     NaN  GISSI-2:10  NaN    NaN  ...       NaN      NaN         NaN  GISSI-2\n",
              "\n",
              "[3 rows x 19 columns]"
            ]
          },
          "metadata": {
            "tags": []
          },
          "execution_count": 12
        }
      ]
    },
    {
      "cell_type": "markdown",
      "metadata": {
        "id": "j4_QqzmItTZi",
        "colab_type": "text"
      },
      "source": [
        "#### Unnest SF & LF Columns"
      ]
    },
    {
      "cell_type": "code",
      "metadata": {
        "id": "dqIXaAq6tag-",
        "colab_type": "code",
        "colab": {}
      },
      "source": [
        "adam_out = expand_col(adam_out, 'SF')\n",
        "adam_out = expand_col(adam_out, 'LF')\n",
        "adam_out.drop_duplicates(inplace=True)"
      ],
      "execution_count": 0,
      "outputs": []
    },
    {
      "cell_type": "code",
      "metadata": {
        "id": "hK82T3ZSne1j",
        "colab_type": "code",
        "outputId": "7f139e07-3248-4c8d-a238-4116ac9be8cc",
        "colab": {
          "base_uri": "https://localhost:8080/",
          "height": 136
        }
      },
      "source": [
        "adam_out.sample(3, random_state=0)"
      ],
      "execution_count": 14,
      "outputs": [
        {
          "output_type": "execute_result",
          "data": {
            "text/html": [
              "<div>\n",
              "<style scoped>\n",
              "    .dataframe tbody tr th:only-of-type {\n",
              "        vertical-align: middle;\n",
              "    }\n",
              "\n",
              "    .dataframe tbody tr th {\n",
              "        vertical-align: top;\n",
              "    }\n",
              "\n",
              "    .dataframe thead th {\n",
              "        text-align: right;\n",
              "    }\n",
              "</style>\n",
              "<table border=\"1\" class=\"dataframe\">\n",
              "  <thead>\n",
              "    <tr style=\"text-align: right;\">\n",
              "      <th></th>\n",
              "      <th>GroupID</th>\n",
              "      <th>SFUI</th>\n",
              "      <th>NormSF</th>\n",
              "      <th>PrefSF</th>\n",
              "      <th>LFUI</th>\n",
              "      <th>NormLF</th>\n",
              "      <th>PrefLF</th>\n",
              "      <th>Source</th>\n",
              "      <th>SFEUI</th>\n",
              "      <th>LFEUI</th>\n",
              "      <th>Type</th>\n",
              "      <th>Score</th>\n",
              "      <th>Count</th>\n",
              "      <th>Frequency</th>\n",
              "      <th>UMLS CUI</th>\n",
              "      <th>MetaMap CUI</th>\n",
              "      <th>PSF</th>\n",
              "      <th>SF</th>\n",
              "      <th>LF</th>\n",
              "    </tr>\n",
              "  </thead>\n",
              "  <tbody>\n",
              "    <tr>\n",
              "      <th>2789</th>\n",
              "      <td>NaN</td>\n",
              "      <td>NaN</td>\n",
              "      <td>NaN</td>\n",
              "      <td>NaN</td>\n",
              "      <td>NaN</td>\n",
              "      <td>NaN</td>\n",
              "      <td>NaN</td>\n",
              "      <td>ADAM</td>\n",
              "      <td>NaN</td>\n",
              "      <td>NaN</td>\n",
              "      <td>NaN</td>\n",
              "      <td>NaN</td>\n",
              "      <td>NaN</td>\n",
              "      <td>NaN</td>\n",
              "      <td>NaN</td>\n",
              "      <td>NaN</td>\n",
              "      <td>ANF</td>\n",
              "      <td>ANF:19</td>\n",
              "      <td>atrial natriuretic peptide:19:0.7658</td>\n",
              "    </tr>\n",
              "    <tr>\n",
              "      <th>12925</th>\n",
              "      <td>NaN</td>\n",
              "      <td>NaN</td>\n",
              "      <td>NaN</td>\n",
              "      <td>NaN</td>\n",
              "      <td>NaN</td>\n",
              "      <td>NaN</td>\n",
              "      <td>NaN</td>\n",
              "      <td>ADAM</td>\n",
              "      <td>NaN</td>\n",
              "      <td>NaN</td>\n",
              "      <td>NaN</td>\n",
              "      <td>NaN</td>\n",
              "      <td>NaN</td>\n",
              "      <td>NaN</td>\n",
              "      <td>NaN</td>\n",
              "      <td>NaN</td>\n",
              "      <td>DLS</td>\n",
              "      <td>DLS:159</td>\n",
              "      <td>dynamic light scattering:150:0.9220</td>\n",
              "    </tr>\n",
              "    <tr>\n",
              "      <th>23483</th>\n",
              "      <td>NaN</td>\n",
              "      <td>NaN</td>\n",
              "      <td>NaN</td>\n",
              "      <td>NaN</td>\n",
              "      <td>NaN</td>\n",
              "      <td>NaN</td>\n",
              "      <td>NaN</td>\n",
              "      <td>ADAM</td>\n",
              "      <td>NaN</td>\n",
              "      <td>NaN</td>\n",
              "      <td>NaN</td>\n",
              "      <td>NaN</td>\n",
              "      <td>NaN</td>\n",
              "      <td>NaN</td>\n",
              "      <td>NaN</td>\n",
              "      <td>NaN</td>\n",
              "      <td>Ids</td>\n",
              "      <td>ids:1</td>\n",
              "      <td>idiotypes:14:0.0378</td>\n",
              "    </tr>\n",
              "  </tbody>\n",
              "</table>\n",
              "</div>"
            ],
            "text/plain": [
              "      GroupID SFUI NormSF  ...  PSF       SF                                    LF\n",
              "2789      NaN  NaN    NaN  ...  ANF   ANF:19  atrial natriuretic peptide:19:0.7658\n",
              "12925     NaN  NaN    NaN  ...  DLS  DLS:159   dynamic light scattering:150:0.9220\n",
              "23483     NaN  NaN    NaN  ...  Ids    ids:1                   idiotypes:14:0.0378\n",
              "\n",
              "[3 rows x 19 columns]"
            ]
          },
          "metadata": {
            "tags": []
          },
          "execution_count": 14
        }
      ]
    },
    {
      "cell_type": "markdown",
      "metadata": {
        "id": "17DOPMQOupY2",
        "colab_type": "text"
      },
      "source": [
        "#### Assign Count Information"
      ]
    },
    {
      "cell_type": "code",
      "metadata": {
        "id": "mmeqc09Ru5XE",
        "colab_type": "code",
        "colab": {}
      },
      "source": [
        "temp = adam_out[\"SF\"].str.split(\":\", expand=True)\n",
        "adam_out[\"SF\"] = temp[0]\n",
        "adam_out[\"Count\"] = temp[1] "
      ],
      "execution_count": 0,
      "outputs": []
    },
    {
      "cell_type": "markdown",
      "metadata": {
        "id": "h5twPB9oqIde",
        "colab_type": "text"
      },
      "source": [
        "#### Assign Score Information"
      ]
    },
    {
      "cell_type": "code",
      "metadata": {
        "id": "43agTw0zqKyF",
        "colab_type": "code",
        "colab": {}
      },
      "source": [
        "temp = adam_out[\"LF\"].str.split(\":\", expand=True)\n",
        "adam_out[\"LF\"] = temp[0]\n",
        "adam_out[\"Score\"] = temp[2]"
      ],
      "execution_count": 0,
      "outputs": []
    },
    {
      "cell_type": "markdown",
      "metadata": {
        "id": "QAynxjNeqhuy",
        "colab_type": "text"
      },
      "source": [
        "#### Reorder Columns"
      ]
    },
    {
      "cell_type": "code",
      "metadata": {
        "id": "B7OL_Jceqjph",
        "colab_type": "code",
        "outputId": "5c4e5cdd-6d5c-4160-d826-0c5d843ffd8c",
        "colab": {
          "base_uri": "https://localhost:8080/",
          "height": 136
        }
      },
      "source": [
        "adam_out = adam_out[out_db.columns]\n",
        "adam_out.sample(3, random_state=0)"
      ],
      "execution_count": 17,
      "outputs": [
        {
          "output_type": "execute_result",
          "data": {
            "text/html": [
              "<div>\n",
              "<style scoped>\n",
              "    .dataframe tbody tr th:only-of-type {\n",
              "        vertical-align: middle;\n",
              "    }\n",
              "\n",
              "    .dataframe tbody tr th {\n",
              "        vertical-align: top;\n",
              "    }\n",
              "\n",
              "    .dataframe thead th {\n",
              "        text-align: right;\n",
              "    }\n",
              "</style>\n",
              "<table border=\"1\" class=\"dataframe\">\n",
              "  <thead>\n",
              "    <tr style=\"text-align: right;\">\n",
              "      <th></th>\n",
              "      <th>GroupID</th>\n",
              "      <th>SF</th>\n",
              "      <th>SFUI</th>\n",
              "      <th>NormSF</th>\n",
              "      <th>PrefSF</th>\n",
              "      <th>LF</th>\n",
              "      <th>LFUI</th>\n",
              "      <th>NormLF</th>\n",
              "      <th>PrefLF</th>\n",
              "      <th>Source</th>\n",
              "      <th>SFEUI</th>\n",
              "      <th>LFEUI</th>\n",
              "      <th>Type</th>\n",
              "      <th>Score</th>\n",
              "      <th>Count</th>\n",
              "      <th>Frequency</th>\n",
              "      <th>UMLS CUI</th>\n",
              "      <th>MetaMap CUI</th>\n",
              "    </tr>\n",
              "  </thead>\n",
              "  <tbody>\n",
              "    <tr>\n",
              "      <th>2789</th>\n",
              "      <td>NaN</td>\n",
              "      <td>ANF</td>\n",
              "      <td>NaN</td>\n",
              "      <td>NaN</td>\n",
              "      <td>NaN</td>\n",
              "      <td>atrial natriuretic peptide</td>\n",
              "      <td>NaN</td>\n",
              "      <td>NaN</td>\n",
              "      <td>NaN</td>\n",
              "      <td>ADAM</td>\n",
              "      <td>NaN</td>\n",
              "      <td>NaN</td>\n",
              "      <td>NaN</td>\n",
              "      <td>0.7658</td>\n",
              "      <td>19</td>\n",
              "      <td>NaN</td>\n",
              "      <td>NaN</td>\n",
              "      <td>NaN</td>\n",
              "    </tr>\n",
              "    <tr>\n",
              "      <th>12925</th>\n",
              "      <td>NaN</td>\n",
              "      <td>DLS</td>\n",
              "      <td>NaN</td>\n",
              "      <td>NaN</td>\n",
              "      <td>NaN</td>\n",
              "      <td>dynamic light scattering</td>\n",
              "      <td>NaN</td>\n",
              "      <td>NaN</td>\n",
              "      <td>NaN</td>\n",
              "      <td>ADAM</td>\n",
              "      <td>NaN</td>\n",
              "      <td>NaN</td>\n",
              "      <td>NaN</td>\n",
              "      <td>0.9220</td>\n",
              "      <td>159</td>\n",
              "      <td>NaN</td>\n",
              "      <td>NaN</td>\n",
              "      <td>NaN</td>\n",
              "    </tr>\n",
              "    <tr>\n",
              "      <th>23483</th>\n",
              "      <td>NaN</td>\n",
              "      <td>ids</td>\n",
              "      <td>NaN</td>\n",
              "      <td>NaN</td>\n",
              "      <td>NaN</td>\n",
              "      <td>idiotypes</td>\n",
              "      <td>NaN</td>\n",
              "      <td>NaN</td>\n",
              "      <td>NaN</td>\n",
              "      <td>ADAM</td>\n",
              "      <td>NaN</td>\n",
              "      <td>NaN</td>\n",
              "      <td>NaN</td>\n",
              "      <td>0.0378</td>\n",
              "      <td>1</td>\n",
              "      <td>NaN</td>\n",
              "      <td>NaN</td>\n",
              "      <td>NaN</td>\n",
              "    </tr>\n",
              "  </tbody>\n",
              "</table>\n",
              "</div>"
            ],
            "text/plain": [
              "      GroupID   SF SFUI NormSF  ... Count Frequency UMLS CUI MetaMap CUI\n",
              "2789      NaN  ANF  NaN    NaN  ...    19       NaN      NaN         NaN\n",
              "12925     NaN  DLS  NaN    NaN  ...   159       NaN      NaN         NaN\n",
              "23483     NaN  ids  NaN    NaN  ...     1       NaN      NaN         NaN\n",
              "\n",
              "[3 rows x 18 columns]"
            ]
          },
          "metadata": {
            "tags": []
          },
          "execution_count": 17
        }
      ]
    },
    {
      "cell_type": "markdown",
      "metadata": {
        "id": "waxo-XgavEwM",
        "colab_type": "text"
      },
      "source": [
        "#### Append Output"
      ]
    },
    {
      "cell_type": "code",
      "metadata": {
        "id": "iXdOCyPyvg-U",
        "colab_type": "code",
        "colab": {}
      },
      "source": [
        "out_list.append(adam_out)"
      ],
      "execution_count": 0,
      "outputs": []
    },
    {
      "cell_type": "markdown",
      "metadata": {
        "id": "n4meicpUvzrC",
        "colab_type": "text"
      },
      "source": [
        "## Source #3: Berman"
      ]
    },
    {
      "cell_type": "markdown",
      "metadata": {
        "id": "rjrwiii37Xwo",
        "colab_type": "text"
      },
      "source": [
        "#### Load Berman"
      ]
    },
    {
      "cell_type": "code",
      "metadata": {
        "id": "qG3hLOXu7bpy",
        "colab_type": "code",
        "colab": {}
      },
      "source": [
        "berm_db = pd.read_csv('https://raw.githubusercontent.com/lisavirginia/clinical-abbreviations/master/sources/3-berman/12000_pathology_abbreviations.txt',\n",
        "                      sep='=',\n",
        "                      header=None,\n",
        "                      names=['SF', 'LF'],\n",
        "                      na_filter=False,\n",
        "                      index_col=False)"
      ],
      "execution_count": 0,
      "outputs": []
    },
    {
      "cell_type": "code",
      "metadata": {
        "id": "EYJl2Hwy8KZZ",
        "colab_type": "code",
        "outputId": "b5249d45-a7cd-4638-e577-e083f9279a7e",
        "colab": {
          "base_uri": "https://localhost:8080/",
          "height": 136
        }
      },
      "source": [
        "clean(berm_db)\n",
        "berm_db.sample(3, random_state=0)"
      ],
      "execution_count": 20,
      "outputs": [
        {
          "output_type": "execute_result",
          "data": {
            "text/html": [
              "<div>\n",
              "<style scoped>\n",
              "    .dataframe tbody tr th:only-of-type {\n",
              "        vertical-align: middle;\n",
              "    }\n",
              "\n",
              "    .dataframe tbody tr th {\n",
              "        vertical-align: top;\n",
              "    }\n",
              "\n",
              "    .dataframe thead th {\n",
              "        text-align: right;\n",
              "    }\n",
              "</style>\n",
              "<table border=\"1\" class=\"dataframe\">\n",
              "  <thead>\n",
              "    <tr style=\"text-align: right;\">\n",
              "      <th></th>\n",
              "      <th>SF</th>\n",
              "      <th>LF</th>\n",
              "    </tr>\n",
              "  </thead>\n",
              "  <tbody>\n",
              "    <tr>\n",
              "      <th>10083</th>\n",
              "      <td>pf</td>\n",
              "      <td>push fluids</td>\n",
              "    </tr>\n",
              "    <tr>\n",
              "      <th>3706</th>\n",
              "      <td>npo</td>\n",
              "      <td>nothing by mouth</td>\n",
              "    </tr>\n",
              "    <tr>\n",
              "      <th>3234</th>\n",
              "      <td>mdm</td>\n",
              "      <td>mid diastolic murmur</td>\n",
              "    </tr>\n",
              "  </tbody>\n",
              "</table>\n",
              "</div>"
            ],
            "text/plain": [
              "        SF                    LF\n",
              "10083   pf           push fluids\n",
              "3706   npo      nothing by mouth\n",
              "3234   mdm  mid diastolic murmur"
            ]
          },
          "metadata": {
            "tags": []
          },
          "execution_count": 20
        }
      ]
    },
    {
      "cell_type": "markdown",
      "metadata": {
        "id": "cliOb0gH8Pf3",
        "colab_type": "text"
      },
      "source": [
        "#### Populate Output Frame"
      ]
    },
    {
      "cell_type": "code",
      "metadata": {
        "id": "UUA1mQfr9N0c",
        "colab_type": "code",
        "colab": {}
      },
      "source": [
        "berm_out = out_db.copy()\n",
        "berm_out['SF'] = berm_db['SF']\n",
        "berm_out['LF'] = berm_db['LF']\n",
        "berm_out['Source'] = 'Berman'"
      ],
      "execution_count": 0,
      "outputs": []
    },
    {
      "cell_type": "code",
      "metadata": {
        "id": "W7ZLxNb5YW50",
        "colab_type": "code",
        "outputId": "7cccfa04-fcbf-436e-a2af-c9b2d00fcb06",
        "colab": {
          "base_uri": "https://localhost:8080/",
          "height": 136
        }
      },
      "source": [
        "berm_out.sample(3, random_state=0)"
      ],
      "execution_count": 22,
      "outputs": [
        {
          "output_type": "execute_result",
          "data": {
            "text/html": [
              "<div>\n",
              "<style scoped>\n",
              "    .dataframe tbody tr th:only-of-type {\n",
              "        vertical-align: middle;\n",
              "    }\n",
              "\n",
              "    .dataframe tbody tr th {\n",
              "        vertical-align: top;\n",
              "    }\n",
              "\n",
              "    .dataframe thead th {\n",
              "        text-align: right;\n",
              "    }\n",
              "</style>\n",
              "<table border=\"1\" class=\"dataframe\">\n",
              "  <thead>\n",
              "    <tr style=\"text-align: right;\">\n",
              "      <th></th>\n",
              "      <th>GroupID</th>\n",
              "      <th>SF</th>\n",
              "      <th>SFUI</th>\n",
              "      <th>NormSF</th>\n",
              "      <th>PrefSF</th>\n",
              "      <th>LF</th>\n",
              "      <th>LFUI</th>\n",
              "      <th>NormLF</th>\n",
              "      <th>PrefLF</th>\n",
              "      <th>Source</th>\n",
              "      <th>SFEUI</th>\n",
              "      <th>LFEUI</th>\n",
              "      <th>Type</th>\n",
              "      <th>Score</th>\n",
              "      <th>Count</th>\n",
              "      <th>Frequency</th>\n",
              "      <th>UMLS CUI</th>\n",
              "      <th>MetaMap CUI</th>\n",
              "    </tr>\n",
              "  </thead>\n",
              "  <tbody>\n",
              "    <tr>\n",
              "      <th>10083</th>\n",
              "      <td>NaN</td>\n",
              "      <td>pf</td>\n",
              "      <td>NaN</td>\n",
              "      <td>NaN</td>\n",
              "      <td>NaN</td>\n",
              "      <td>push fluids</td>\n",
              "      <td>NaN</td>\n",
              "      <td>NaN</td>\n",
              "      <td>NaN</td>\n",
              "      <td>Berman</td>\n",
              "      <td>NaN</td>\n",
              "      <td>NaN</td>\n",
              "      <td>NaN</td>\n",
              "      <td>NaN</td>\n",
              "      <td>NaN</td>\n",
              "      <td>NaN</td>\n",
              "      <td>NaN</td>\n",
              "      <td>NaN</td>\n",
              "    </tr>\n",
              "    <tr>\n",
              "      <th>3706</th>\n",
              "      <td>NaN</td>\n",
              "      <td>npo</td>\n",
              "      <td>NaN</td>\n",
              "      <td>NaN</td>\n",
              "      <td>NaN</td>\n",
              "      <td>nothing by mouth</td>\n",
              "      <td>NaN</td>\n",
              "      <td>NaN</td>\n",
              "      <td>NaN</td>\n",
              "      <td>Berman</td>\n",
              "      <td>NaN</td>\n",
              "      <td>NaN</td>\n",
              "      <td>NaN</td>\n",
              "      <td>NaN</td>\n",
              "      <td>NaN</td>\n",
              "      <td>NaN</td>\n",
              "      <td>NaN</td>\n",
              "      <td>NaN</td>\n",
              "    </tr>\n",
              "    <tr>\n",
              "      <th>3234</th>\n",
              "      <td>NaN</td>\n",
              "      <td>mdm</td>\n",
              "      <td>NaN</td>\n",
              "      <td>NaN</td>\n",
              "      <td>NaN</td>\n",
              "      <td>mid diastolic murmur</td>\n",
              "      <td>NaN</td>\n",
              "      <td>NaN</td>\n",
              "      <td>NaN</td>\n",
              "      <td>Berman</td>\n",
              "      <td>NaN</td>\n",
              "      <td>NaN</td>\n",
              "      <td>NaN</td>\n",
              "      <td>NaN</td>\n",
              "      <td>NaN</td>\n",
              "      <td>NaN</td>\n",
              "      <td>NaN</td>\n",
              "      <td>NaN</td>\n",
              "    </tr>\n",
              "  </tbody>\n",
              "</table>\n",
              "</div>"
            ],
            "text/plain": [
              "      GroupID   SF SFUI NormSF  ... Count Frequency UMLS CUI MetaMap CUI\n",
              "10083     NaN   pf  NaN    NaN  ...   NaN       NaN      NaN         NaN\n",
              "3706      NaN  npo  NaN    NaN  ...   NaN       NaN      NaN         NaN\n",
              "3234      NaN  mdm  NaN    NaN  ...   NaN       NaN      NaN         NaN\n",
              "\n",
              "[3 rows x 18 columns]"
            ]
          },
          "metadata": {
            "tags": []
          },
          "execution_count": 22
        }
      ]
    },
    {
      "cell_type": "markdown",
      "metadata": {
        "id": "rooXPiYJYYSw",
        "colab_type": "text"
      },
      "source": [
        "#### Append Output"
      ]
    },
    {
      "cell_type": "code",
      "metadata": {
        "id": "FfTeNhetYXzg",
        "colab_type": "code",
        "colab": {}
      },
      "source": [
        "out_list.append(berm_out)"
      ],
      "execution_count": 0,
      "outputs": []
    },
    {
      "cell_type": "markdown",
      "metadata": {
        "id": "iSq-DLNrv2Zt",
        "colab_type": "text"
      },
      "source": [
        "## Source #4: Vanderbilt"
      ]
    },
    {
      "cell_type": "markdown",
      "metadata": {
        "id": "eGSMSFaPtN3I",
        "colab_type": "text"
      },
      "source": [
        "#### Load Vanderbilt"
      ]
    },
    {
      "cell_type": "code",
      "metadata": {
        "id": "dYdWt-qatRX4",
        "colab_type": "code",
        "colab": {}
      },
      "source": [
        "vcln_db = pd.read_csv('https://raw.githubusercontent.com/lisavirginia/clinical-abbreviations/master/sources/4-vanderbilt/vanderbilt_clinic_notes.txt',\n",
        "                      sep='\\t',\n",
        "                      na_filter=False,\n",
        "                      index_col=False)"
      ],
      "execution_count": 0,
      "outputs": []
    },
    {
      "cell_type": "code",
      "metadata": {
        "id": "LdpcsSz7u9FR",
        "colab_type": "code",
        "outputId": "b3e7868a-f607-4697-c226-c6f29cc69342",
        "colab": {
          "base_uri": "https://localhost:8080/",
          "height": 136
        }
      },
      "source": [
        "clean(vcln_db)\n",
        "vcln_db.sample(3, random_state=0)"
      ],
      "execution_count": 25,
      "outputs": [
        {
          "output_type": "execute_result",
          "data": {
            "text/html": [
              "<div>\n",
              "<style scoped>\n",
              "    .dataframe tbody tr th:only-of-type {\n",
              "        vertical-align: middle;\n",
              "    }\n",
              "\n",
              "    .dataframe tbody tr th {\n",
              "        vertical-align: top;\n",
              "    }\n",
              "\n",
              "    .dataframe thead th {\n",
              "        text-align: right;\n",
              "    }\n",
              "</style>\n",
              "<table border=\"1\" class=\"dataframe\">\n",
              "  <thead>\n",
              "    <tr style=\"text-align: right;\">\n",
              "      <th></th>\n",
              "      <th>abbreviation</th>\n",
              "      <th>sense</th>\n",
              "      <th>variation</th>\n",
              "      <th>CUI</th>\n",
              "      <th>frequency</th>\n",
              "    </tr>\n",
              "  </thead>\n",
              "  <tbody>\n",
              "    <tr>\n",
              "      <th>563</th>\n",
              "      <td>cmt</td>\n",
              "      <td>charcot-marie-tooth</td>\n",
              "      <td>CMT_6</td>\n",
              "      <td>c0007959</td>\n",
              "      <td>0.014</td>\n",
              "    </tr>\n",
              "    <tr>\n",
              "      <th>824</th>\n",
              "      <td>xray</td>\n",
              "      <td>energetic high-frequency electromagnetic radia...</td>\n",
              "      <td>Xray_5|xray_13|XRay_2</td>\n",
              "      <td>c0337030</td>\n",
              "      <td>1.000</td>\n",
              "    </tr>\n",
              "    <tr>\n",
              "      <th>436</th>\n",
              "      <td>gtt</td>\n",
              "      <td>glucose tolerance test</td>\n",
              "      <td>GTT_2</td>\n",
              "      <td>c0017741</td>\n",
              "      <td>0.005</td>\n",
              "    </tr>\n",
              "  </tbody>\n",
              "</table>\n",
              "</div>"
            ],
            "text/plain": [
              "    abbreviation  ... frequency\n",
              "563          cmt  ...     0.014\n",
              "824         xray  ...     1.000\n",
              "436          gtt  ...     0.005\n",
              "\n",
              "[3 rows x 5 columns]"
            ]
          },
          "metadata": {
            "tags": []
          },
          "execution_count": 25
        }
      ]
    },
    {
      "cell_type": "code",
      "metadata": {
        "id": "Vl6jBPmiu-ek",
        "colab_type": "code",
        "colab": {}
      },
      "source": [
        "vdis_db = pd.read_csv('https://raw.githubusercontent.com/lisavirginia/clinical-abbreviations/master/sources/4-vanderbilt/vanderbilt_discharge_sums.txt',\n",
        "                      sep='\\t',\n",
        "                      na_filter=False,\n",
        "                      index_col=False)"
      ],
      "execution_count": 0,
      "outputs": []
    },
    {
      "cell_type": "code",
      "metadata": {
        "id": "clINhbk_u-LL",
        "colab_type": "code",
        "outputId": "bd5e8d8a-303b-4a89-bf2b-83edae37a9d1",
        "colab": {
          "base_uri": "https://localhost:8080/",
          "height": 136
        }
      },
      "source": [
        "clean(vdis_db)\n",
        "vdis_db.sample(3, random_state=0)"
      ],
      "execution_count": 27,
      "outputs": [
        {
          "output_type": "execute_result",
          "data": {
            "text/html": [
              "<div>\n",
              "<style scoped>\n",
              "    .dataframe tbody tr th:only-of-type {\n",
              "        vertical-align: middle;\n",
              "    }\n",
              "\n",
              "    .dataframe tbody tr th {\n",
              "        vertical-align: top;\n",
              "    }\n",
              "\n",
              "    .dataframe thead th {\n",
              "        text-align: right;\n",
              "    }\n",
              "</style>\n",
              "<table border=\"1\" class=\"dataframe\">\n",
              "  <thead>\n",
              "    <tr style=\"text-align: right;\">\n",
              "      <th></th>\n",
              "      <th>abbreviation</th>\n",
              "      <th>sense</th>\n",
              "      <th>variation</th>\n",
              "      <th>CUI</th>\n",
              "      <th>frequency</th>\n",
              "    </tr>\n",
              "  </thead>\n",
              "  <tbody>\n",
              "    <tr>\n",
              "      <th>979</th>\n",
              "      <td>q</td>\n",
              "      <td>22q (chromosome)</td>\n",
              "      <td>q_1</td>\n",
              "      <td>c1521100</td>\n",
              "      <td>0.003</td>\n",
              "    </tr>\n",
              "    <tr>\n",
              "      <th>984</th>\n",
              "      <td>q2</td>\n",
              "      <td>every two hours</td>\n",
              "      <td>q2_4</td>\n",
              "      <td>c0585322</td>\n",
              "      <td>1.000</td>\n",
              "    </tr>\n",
              "    <tr>\n",
              "      <th>746</th>\n",
              "      <td>nabs</td>\n",
              "      <td>normal active bowel sounds</td>\n",
              "      <td>nabs_2|NAbs_1|NABS_16|NABS._1</td>\n",
              "      <td>c0278005</td>\n",
              "      <td>1.000</td>\n",
              "    </tr>\n",
              "  </tbody>\n",
              "</table>\n",
              "</div>"
            ],
            "text/plain": [
              "    abbreviation                       sense  ...       CUI frequency\n",
              "979            q            22q (chromosome)  ...  c1521100     0.003\n",
              "984           q2             every two hours  ...  c0585322     1.000\n",
              "746         nabs  normal active bowel sounds  ...  c0278005     1.000\n",
              "\n",
              "[3 rows x 5 columns]"
            ]
          },
          "metadata": {
            "tags": []
          },
          "execution_count": 27
        }
      ]
    },
    {
      "cell_type": "markdown",
      "metadata": {
        "id": "8xRF0vJ2wGOy",
        "colab_type": "text"
      },
      "source": [
        "#### Populate Output Frames"
      ]
    },
    {
      "cell_type": "markdown",
      "metadata": {
        "id": "sVrj4y0u0aTm",
        "colab_type": "text"
      },
      "source": [
        "Please note that the 'abbreviation' column contains a normalized version of the abbreviation. \n",
        "\n",
        "We have not carried forward this column because we will conduct our own normalization."
      ]
    },
    {
      "cell_type": "code",
      "metadata": {
        "id": "71-mTSjzwIwP",
        "colab_type": "code",
        "colab": {}
      },
      "source": [
        "vcln_out = out_db.copy()\n",
        "vcln_out['SF'] = vcln_db['variation']\n",
        "vcln_out['LF'] = vcln_db['sense']\n",
        "vcln_out['Source'] = 'Vanderbilt Clinic Notes'\n",
        "vcln_out['Frequency'] = vcln_db['frequency']\n",
        "vcln_out['UMLS CUI'] = vcln_db['CUI']"
      ],
      "execution_count": 0,
      "outputs": []
    },
    {
      "cell_type": "code",
      "metadata": {
        "id": "ZbiPR8h0w3b1",
        "colab_type": "code",
        "outputId": "446d6bd4-9cc1-425f-ae8b-ebd24a5f807c",
        "colab": {
          "base_uri": "https://localhost:8080/",
          "height": 203
        }
      },
      "source": [
        "vcln_out.sample(3, random_state=0)"
      ],
      "execution_count": 29,
      "outputs": [
        {
          "output_type": "execute_result",
          "data": {
            "text/html": [
              "<div>\n",
              "<style scoped>\n",
              "    .dataframe tbody tr th:only-of-type {\n",
              "        vertical-align: middle;\n",
              "    }\n",
              "\n",
              "    .dataframe tbody tr th {\n",
              "        vertical-align: top;\n",
              "    }\n",
              "\n",
              "    .dataframe thead th {\n",
              "        text-align: right;\n",
              "    }\n",
              "</style>\n",
              "<table border=\"1\" class=\"dataframe\">\n",
              "  <thead>\n",
              "    <tr style=\"text-align: right;\">\n",
              "      <th></th>\n",
              "      <th>GroupID</th>\n",
              "      <th>SF</th>\n",
              "      <th>SFUI</th>\n",
              "      <th>NormSF</th>\n",
              "      <th>PrefSF</th>\n",
              "      <th>LF</th>\n",
              "      <th>LFUI</th>\n",
              "      <th>NormLF</th>\n",
              "      <th>PrefLF</th>\n",
              "      <th>Source</th>\n",
              "      <th>SFEUI</th>\n",
              "      <th>LFEUI</th>\n",
              "      <th>Type</th>\n",
              "      <th>Score</th>\n",
              "      <th>Count</th>\n",
              "      <th>Frequency</th>\n",
              "      <th>UMLS CUI</th>\n",
              "      <th>MetaMap CUI</th>\n",
              "    </tr>\n",
              "  </thead>\n",
              "  <tbody>\n",
              "    <tr>\n",
              "      <th>563</th>\n",
              "      <td>NaN</td>\n",
              "      <td>CMT_6</td>\n",
              "      <td>NaN</td>\n",
              "      <td>NaN</td>\n",
              "      <td>NaN</td>\n",
              "      <td>charcot-marie-tooth</td>\n",
              "      <td>NaN</td>\n",
              "      <td>NaN</td>\n",
              "      <td>NaN</td>\n",
              "      <td>Vanderbilt Clinic Notes</td>\n",
              "      <td>NaN</td>\n",
              "      <td>NaN</td>\n",
              "      <td>NaN</td>\n",
              "      <td>NaN</td>\n",
              "      <td>NaN</td>\n",
              "      <td>0.014</td>\n",
              "      <td>c0007959</td>\n",
              "      <td>NaN</td>\n",
              "    </tr>\n",
              "    <tr>\n",
              "      <th>824</th>\n",
              "      <td>NaN</td>\n",
              "      <td>Xray_5|xray_13|XRay_2</td>\n",
              "      <td>NaN</td>\n",
              "      <td>NaN</td>\n",
              "      <td>NaN</td>\n",
              "      <td>energetic high-frequency electromagnetic radia...</td>\n",
              "      <td>NaN</td>\n",
              "      <td>NaN</td>\n",
              "      <td>NaN</td>\n",
              "      <td>Vanderbilt Clinic Notes</td>\n",
              "      <td>NaN</td>\n",
              "      <td>NaN</td>\n",
              "      <td>NaN</td>\n",
              "      <td>NaN</td>\n",
              "      <td>NaN</td>\n",
              "      <td>1.000</td>\n",
              "      <td>c0337030</td>\n",
              "      <td>NaN</td>\n",
              "    </tr>\n",
              "    <tr>\n",
              "      <th>436</th>\n",
              "      <td>NaN</td>\n",
              "      <td>GTT_2</td>\n",
              "      <td>NaN</td>\n",
              "      <td>NaN</td>\n",
              "      <td>NaN</td>\n",
              "      <td>glucose tolerance test</td>\n",
              "      <td>NaN</td>\n",
              "      <td>NaN</td>\n",
              "      <td>NaN</td>\n",
              "      <td>Vanderbilt Clinic Notes</td>\n",
              "      <td>NaN</td>\n",
              "      <td>NaN</td>\n",
              "      <td>NaN</td>\n",
              "      <td>NaN</td>\n",
              "      <td>NaN</td>\n",
              "      <td>0.005</td>\n",
              "      <td>c0017741</td>\n",
              "      <td>NaN</td>\n",
              "    </tr>\n",
              "  </tbody>\n",
              "</table>\n",
              "</div>"
            ],
            "text/plain": [
              "    GroupID                     SF SFUI  ... Frequency  UMLS CUI MetaMap CUI\n",
              "563     NaN                  CMT_6  NaN  ...     0.014  c0007959         NaN\n",
              "824     NaN  Xray_5|xray_13|XRay_2  NaN  ...     1.000  c0337030         NaN\n",
              "436     NaN                  GTT_2  NaN  ...     0.005  c0017741         NaN\n",
              "\n",
              "[3 rows x 18 columns]"
            ]
          },
          "metadata": {
            "tags": []
          },
          "execution_count": 29
        }
      ]
    },
    {
      "cell_type": "code",
      "metadata": {
        "id": "FrCUf6F_1lX2",
        "colab_type": "code",
        "colab": {}
      },
      "source": [
        "vdis_out = out_db.copy()\n",
        "vdis_out['SF'] = vdis_db['variation']\n",
        "vdis_out['LF'] = vdis_db['sense']\n",
        "vdis_out['Source'] = 'Vanderbilt Discharge Sums'\n",
        "vdis_out['Frequency'] = vdis_db['frequency']\n",
        "vdis_out['UMLS CUI'] = vdis_db['CUI']"
      ],
      "execution_count": 0,
      "outputs": []
    },
    {
      "cell_type": "code",
      "metadata": {
        "id": "Isc0igmN1l5S",
        "colab_type": "code",
        "outputId": "7cb6d091-5406-4991-8c14-5d4cb9ccd930",
        "colab": {
          "base_uri": "https://localhost:8080/",
          "height": 254
        }
      },
      "source": [
        "vdis_out.sample(3, random_state=0)"
      ],
      "execution_count": 31,
      "outputs": [
        {
          "output_type": "execute_result",
          "data": {
            "text/html": [
              "<div>\n",
              "<style scoped>\n",
              "    .dataframe tbody tr th:only-of-type {\n",
              "        vertical-align: middle;\n",
              "    }\n",
              "\n",
              "    .dataframe tbody tr th {\n",
              "        vertical-align: top;\n",
              "    }\n",
              "\n",
              "    .dataframe thead th {\n",
              "        text-align: right;\n",
              "    }\n",
              "</style>\n",
              "<table border=\"1\" class=\"dataframe\">\n",
              "  <thead>\n",
              "    <tr style=\"text-align: right;\">\n",
              "      <th></th>\n",
              "      <th>GroupID</th>\n",
              "      <th>SF</th>\n",
              "      <th>SFUI</th>\n",
              "      <th>NormSF</th>\n",
              "      <th>PrefSF</th>\n",
              "      <th>LF</th>\n",
              "      <th>LFUI</th>\n",
              "      <th>NormLF</th>\n",
              "      <th>PrefLF</th>\n",
              "      <th>Source</th>\n",
              "      <th>SFEUI</th>\n",
              "      <th>LFEUI</th>\n",
              "      <th>Type</th>\n",
              "      <th>Score</th>\n",
              "      <th>Count</th>\n",
              "      <th>Frequency</th>\n",
              "      <th>UMLS CUI</th>\n",
              "      <th>MetaMap CUI</th>\n",
              "    </tr>\n",
              "  </thead>\n",
              "  <tbody>\n",
              "    <tr>\n",
              "      <th>979</th>\n",
              "      <td>NaN</td>\n",
              "      <td>q_1</td>\n",
              "      <td>NaN</td>\n",
              "      <td>NaN</td>\n",
              "      <td>NaN</td>\n",
              "      <td>22q (chromosome)</td>\n",
              "      <td>NaN</td>\n",
              "      <td>NaN</td>\n",
              "      <td>NaN</td>\n",
              "      <td>Vanderbilt Discharge Sums</td>\n",
              "      <td>NaN</td>\n",
              "      <td>NaN</td>\n",
              "      <td>NaN</td>\n",
              "      <td>NaN</td>\n",
              "      <td>NaN</td>\n",
              "      <td>0.003</td>\n",
              "      <td>c1521100</td>\n",
              "      <td>NaN</td>\n",
              "    </tr>\n",
              "    <tr>\n",
              "      <th>984</th>\n",
              "      <td>NaN</td>\n",
              "      <td>q2_4</td>\n",
              "      <td>NaN</td>\n",
              "      <td>NaN</td>\n",
              "      <td>NaN</td>\n",
              "      <td>every two hours</td>\n",
              "      <td>NaN</td>\n",
              "      <td>NaN</td>\n",
              "      <td>NaN</td>\n",
              "      <td>Vanderbilt Discharge Sums</td>\n",
              "      <td>NaN</td>\n",
              "      <td>NaN</td>\n",
              "      <td>NaN</td>\n",
              "      <td>NaN</td>\n",
              "      <td>NaN</td>\n",
              "      <td>1.000</td>\n",
              "      <td>c0585322</td>\n",
              "      <td>NaN</td>\n",
              "    </tr>\n",
              "    <tr>\n",
              "      <th>746</th>\n",
              "      <td>NaN</td>\n",
              "      <td>nabs_2|NAbs_1|NABS_16|NABS._1</td>\n",
              "      <td>NaN</td>\n",
              "      <td>NaN</td>\n",
              "      <td>NaN</td>\n",
              "      <td>normal active bowel sounds</td>\n",
              "      <td>NaN</td>\n",
              "      <td>NaN</td>\n",
              "      <td>NaN</td>\n",
              "      <td>Vanderbilt Discharge Sums</td>\n",
              "      <td>NaN</td>\n",
              "      <td>NaN</td>\n",
              "      <td>NaN</td>\n",
              "      <td>NaN</td>\n",
              "      <td>NaN</td>\n",
              "      <td>1.000</td>\n",
              "      <td>c0278005</td>\n",
              "      <td>NaN</td>\n",
              "    </tr>\n",
              "  </tbody>\n",
              "</table>\n",
              "</div>"
            ],
            "text/plain": [
              "    GroupID                             SF  ...  UMLS CUI MetaMap CUI\n",
              "979     NaN                            q_1  ...  c1521100         NaN\n",
              "984     NaN                           q2_4  ...  c0585322         NaN\n",
              "746     NaN  nabs_2|NAbs_1|NABS_16|NABS._1  ...  c0278005         NaN\n",
              "\n",
              "[3 rows x 18 columns]"
            ]
          },
          "metadata": {
            "tags": []
          },
          "execution_count": 31
        }
      ]
    },
    {
      "cell_type": "markdown",
      "metadata": {
        "id": "uuj0KZJaxGVz",
        "colab_type": "text"
      },
      "source": [
        "#### Merge Frames"
      ]
    },
    {
      "cell_type": "code",
      "metadata": {
        "id": "rxyypj9TxFUi",
        "colab_type": "code",
        "outputId": "f336172d-6cc9-4793-cc38-cdfc4bf839d0",
        "colab": {
          "base_uri": "https://localhost:8080/",
          "height": 34
        }
      },
      "source": [
        "vand_out = vcln_out.append(vdis_out)\n",
        "vand_out.shape"
      ],
      "execution_count": 32,
      "outputs": [
        {
          "output_type": "execute_result",
          "data": {
            "text/plain": [
              "(2827, 18)"
            ]
          },
          "metadata": {
            "tags": []
          },
          "execution_count": 32
        }
      ]
    },
    {
      "cell_type": "markdown",
      "metadata": {
        "id": "0nRr0XHw2p6T",
        "colab_type": "text"
      },
      "source": [
        "#### Unnest SF Column"
      ]
    },
    {
      "cell_type": "code",
      "metadata": {
        "id": "xtV0fRK-2rsi",
        "colab_type": "code",
        "outputId": "ca74b165-0b81-4b5e-b9cc-24d436d52c91",
        "colab": {
          "base_uri": "https://localhost:8080/",
          "height": 136
        }
      },
      "source": [
        "vand_out = expand_col(vand_out, 'SF')\n",
        "vand_out.sample(3, random_state=0)"
      ],
      "execution_count": 33,
      "outputs": [
        {
          "output_type": "execute_result",
          "data": {
            "text/html": [
              "<div>\n",
              "<style scoped>\n",
              "    .dataframe tbody tr th:only-of-type {\n",
              "        vertical-align: middle;\n",
              "    }\n",
              "\n",
              "    .dataframe tbody tr th {\n",
              "        vertical-align: top;\n",
              "    }\n",
              "\n",
              "    .dataframe thead th {\n",
              "        text-align: right;\n",
              "    }\n",
              "</style>\n",
              "<table border=\"1\" class=\"dataframe\">\n",
              "  <thead>\n",
              "    <tr style=\"text-align: right;\">\n",
              "      <th></th>\n",
              "      <th>GroupID</th>\n",
              "      <th>SFUI</th>\n",
              "      <th>NormSF</th>\n",
              "      <th>PrefSF</th>\n",
              "      <th>LF</th>\n",
              "      <th>LFUI</th>\n",
              "      <th>NormLF</th>\n",
              "      <th>PrefLF</th>\n",
              "      <th>Source</th>\n",
              "      <th>SFEUI</th>\n",
              "      <th>LFEUI</th>\n",
              "      <th>Type</th>\n",
              "      <th>Score</th>\n",
              "      <th>Count</th>\n",
              "      <th>Frequency</th>\n",
              "      <th>UMLS CUI</th>\n",
              "      <th>MetaMap CUI</th>\n",
              "      <th>SF</th>\n",
              "    </tr>\n",
              "  </thead>\n",
              "  <tbody>\n",
              "    <tr>\n",
              "      <th>1016</th>\n",
              "      <td>NaN</td>\n",
              "      <td>NaN</td>\n",
              "      <td>NaN</td>\n",
              "      <td>NaN</td>\n",
              "      <td>high-density lipoprotein</td>\n",
              "      <td>NaN</td>\n",
              "      <td>NaN</td>\n",
              "      <td>NaN</td>\n",
              "      <td>Vanderbilt Clinic Notes</td>\n",
              "      <td>NaN</td>\n",
              "      <td>NaN</td>\n",
              "      <td>NaN</td>\n",
              "      <td>NaN</td>\n",
              "      <td>NaN</td>\n",
              "      <td>1.0000</td>\n",
              "      <td>c0023821</td>\n",
              "      <td>NaN</td>\n",
              "      <td>HDL_13</td>\n",
              "    </tr>\n",
              "    <tr>\n",
              "      <th>687</th>\n",
              "      <td>NaN</td>\n",
              "      <td>NaN</td>\n",
              "      <td>NaN</td>\n",
              "      <td>NaN</td>\n",
              "      <td>medical doctor</td>\n",
              "      <td>NaN</td>\n",
              "      <td>NaN</td>\n",
              "      <td>NaN</td>\n",
              "      <td>Vanderbilt Discharge Sums</td>\n",
              "      <td>NaN</td>\n",
              "      <td>NaN</td>\n",
              "      <td>NaN</td>\n",
              "      <td>NaN</td>\n",
              "      <td>NaN</td>\n",
              "      <td>0.9620</td>\n",
              "      <td>c0031831</td>\n",
              "      <td>NaN</td>\n",
              "      <td>EMLA_8</td>\n",
              "    </tr>\n",
              "    <tr>\n",
              "      <th>261</th>\n",
              "      <td>NaN</td>\n",
              "      <td>NaN</td>\n",
              "      <td>NaN</td>\n",
              "      <td>NaN</td>\n",
              "      <td>cerebral palsy</td>\n",
              "      <td>NaN</td>\n",
              "      <td>NaN</td>\n",
              "      <td>NaN</td>\n",
              "      <td>Vanderbilt Discharge Sums</td>\n",
              "      <td>NaN</td>\n",
              "      <td>NaN</td>\n",
              "      <td>NaN</td>\n",
              "      <td>NaN</td>\n",
              "      <td>NaN</td>\n",
              "      <td>0.7986</td>\n",
              "      <td>c0007789</td>\n",
              "      <td>NaN</td>\n",
              "      <td>CP_8</td>\n",
              "    </tr>\n",
              "  </tbody>\n",
              "</table>\n",
              "</div>"
            ],
            "text/plain": [
              "     GroupID SFUI NormSF PrefSF  ... Frequency  UMLS CUI MetaMap CUI      SF\n",
              "1016     NaN  NaN    NaN    NaN  ...    1.0000  c0023821         NaN  HDL_13\n",
              "687      NaN  NaN    NaN    NaN  ...    0.9620  c0031831         NaN  EMLA_8\n",
              "261      NaN  NaN    NaN    NaN  ...    0.7986  c0007789         NaN    CP_8\n",
              "\n",
              "[3 rows x 18 columns]"
            ]
          },
          "metadata": {
            "tags": []
          },
          "execution_count": 33
        }
      ]
    },
    {
      "cell_type": "markdown",
      "metadata": {
        "id": "uIpHCsEv2wPk",
        "colab_type": "text"
      },
      "source": [
        "#### Assign Count Information"
      ]
    },
    {
      "cell_type": "code",
      "metadata": {
        "id": "lDiTed46206u",
        "colab_type": "code",
        "colab": {}
      },
      "source": [
        "temp = vand_out[\"SF\"].str.split(\"_\", expand=True)\n",
        "vand_out[\"SF\"] = temp[0]\n",
        "vand_out[\"Count\"] = temp[1] "
      ],
      "execution_count": 0,
      "outputs": []
    },
    {
      "cell_type": "markdown",
      "metadata": {
        "id": "RO3D7GRJ3IlW",
        "colab_type": "text"
      },
      "source": [
        "#### Reorder Columns"
      ]
    },
    {
      "cell_type": "code",
      "metadata": {
        "id": "ImQa58ks3KRd",
        "colab_type": "code",
        "outputId": "ce709b1f-d258-4f95-cddd-1ebe523b23c0",
        "colab": {
          "base_uri": "https://localhost:8080/",
          "height": 136
        }
      },
      "source": [
        "vand_out = vand_out[out_db.columns]\n",
        "vand_out.sample(3, random_state=0)"
      ],
      "execution_count": 35,
      "outputs": [
        {
          "output_type": "execute_result",
          "data": {
            "text/html": [
              "<div>\n",
              "<style scoped>\n",
              "    .dataframe tbody tr th:only-of-type {\n",
              "        vertical-align: middle;\n",
              "    }\n",
              "\n",
              "    .dataframe tbody tr th {\n",
              "        vertical-align: top;\n",
              "    }\n",
              "\n",
              "    .dataframe thead th {\n",
              "        text-align: right;\n",
              "    }\n",
              "</style>\n",
              "<table border=\"1\" class=\"dataframe\">\n",
              "  <thead>\n",
              "    <tr style=\"text-align: right;\">\n",
              "      <th></th>\n",
              "      <th>GroupID</th>\n",
              "      <th>SF</th>\n",
              "      <th>SFUI</th>\n",
              "      <th>NormSF</th>\n",
              "      <th>PrefSF</th>\n",
              "      <th>LF</th>\n",
              "      <th>LFUI</th>\n",
              "      <th>NormLF</th>\n",
              "      <th>PrefLF</th>\n",
              "      <th>Source</th>\n",
              "      <th>SFEUI</th>\n",
              "      <th>LFEUI</th>\n",
              "      <th>Type</th>\n",
              "      <th>Score</th>\n",
              "      <th>Count</th>\n",
              "      <th>Frequency</th>\n",
              "      <th>UMLS CUI</th>\n",
              "      <th>MetaMap CUI</th>\n",
              "    </tr>\n",
              "  </thead>\n",
              "  <tbody>\n",
              "    <tr>\n",
              "      <th>1016</th>\n",
              "      <td>NaN</td>\n",
              "      <td>HDL</td>\n",
              "      <td>NaN</td>\n",
              "      <td>NaN</td>\n",
              "      <td>NaN</td>\n",
              "      <td>high-density lipoprotein</td>\n",
              "      <td>NaN</td>\n",
              "      <td>NaN</td>\n",
              "      <td>NaN</td>\n",
              "      <td>Vanderbilt Clinic Notes</td>\n",
              "      <td>NaN</td>\n",
              "      <td>NaN</td>\n",
              "      <td>NaN</td>\n",
              "      <td>NaN</td>\n",
              "      <td>13</td>\n",
              "      <td>1.0000</td>\n",
              "      <td>c0023821</td>\n",
              "      <td>NaN</td>\n",
              "    </tr>\n",
              "    <tr>\n",
              "      <th>687</th>\n",
              "      <td>NaN</td>\n",
              "      <td>EMLA</td>\n",
              "      <td>NaN</td>\n",
              "      <td>NaN</td>\n",
              "      <td>NaN</td>\n",
              "      <td>medical doctor</td>\n",
              "      <td>NaN</td>\n",
              "      <td>NaN</td>\n",
              "      <td>NaN</td>\n",
              "      <td>Vanderbilt Discharge Sums</td>\n",
              "      <td>NaN</td>\n",
              "      <td>NaN</td>\n",
              "      <td>NaN</td>\n",
              "      <td>NaN</td>\n",
              "      <td>8</td>\n",
              "      <td>0.9620</td>\n",
              "      <td>c0031831</td>\n",
              "      <td>NaN</td>\n",
              "    </tr>\n",
              "    <tr>\n",
              "      <th>261</th>\n",
              "      <td>NaN</td>\n",
              "      <td>CP</td>\n",
              "      <td>NaN</td>\n",
              "      <td>NaN</td>\n",
              "      <td>NaN</td>\n",
              "      <td>cerebral palsy</td>\n",
              "      <td>NaN</td>\n",
              "      <td>NaN</td>\n",
              "      <td>NaN</td>\n",
              "      <td>Vanderbilt Discharge Sums</td>\n",
              "      <td>NaN</td>\n",
              "      <td>NaN</td>\n",
              "      <td>NaN</td>\n",
              "      <td>NaN</td>\n",
              "      <td>8</td>\n",
              "      <td>0.7986</td>\n",
              "      <td>c0007789</td>\n",
              "      <td>NaN</td>\n",
              "    </tr>\n",
              "  </tbody>\n",
              "</table>\n",
              "</div>"
            ],
            "text/plain": [
              "     GroupID    SF SFUI NormSF  ... Count Frequency  UMLS CUI MetaMap CUI\n",
              "1016     NaN   HDL  NaN    NaN  ...    13    1.0000  c0023821         NaN\n",
              "687      NaN  EMLA  NaN    NaN  ...     8    0.9620  c0031831         NaN\n",
              "261      NaN    CP  NaN    NaN  ...     8    0.7986  c0007789         NaN\n",
              "\n",
              "[3 rows x 18 columns]"
            ]
          },
          "metadata": {
            "tags": []
          },
          "execution_count": 35
        }
      ]
    },
    {
      "cell_type": "markdown",
      "metadata": {
        "id": "8qSgDDnU2tZz",
        "colab_type": "text"
      },
      "source": [
        "#### Append Output"
      ]
    },
    {
      "cell_type": "code",
      "metadata": {
        "id": "q3KEz9C92vba",
        "colab_type": "code",
        "colab": {}
      },
      "source": [
        "out_list.append(vand_out)"
      ],
      "execution_count": 0,
      "outputs": []
    },
    {
      "cell_type": "markdown",
      "metadata": {
        "id": "Tts4uR1YzC6I",
        "colab_type": "text"
      },
      "source": [
        "## Source #5: Wikipedia"
      ]
    },
    {
      "cell_type": "markdown",
      "metadata": {
        "id": "qrZFTkz2Cgdr",
        "colab_type": "text"
      },
      "source": [
        "#### Load Wikipedia"
      ]
    },
    {
      "cell_type": "code",
      "metadata": {
        "id": "LGg3QWwTCZ6M",
        "colab_type": "code",
        "colab": {}
      },
      "source": [
        "wabr_db = pd.read_csv('https://raw.githubusercontent.com/lisavirginia/clinical-abbreviations/master/sources/5-wikipedia/wikipedia_abbreviation_database.csv',\n",
        "                      sep=',',\n",
        "                      na_filter=False,\n",
        "                      index_col=False)"
      ],
      "execution_count": 0,
      "outputs": []
    },
    {
      "cell_type": "code",
      "metadata": {
        "id": "jHJvX8fisRU6",
        "colab_type": "code",
        "outputId": "c1603631-27d4-4716-ad89-9abbac8c027e",
        "colab": {
          "base_uri": "https://localhost:8080/",
          "height": 136
        }
      },
      "source": [
        "clean(wabr_db)\n",
        "wabr_db.sample(3, random_state=0)"
      ],
      "execution_count": 38,
      "outputs": [
        {
          "output_type": "execute_result",
          "data": {
            "text/html": [
              "<div>\n",
              "<style scoped>\n",
              "    .dataframe tbody tr th:only-of-type {\n",
              "        vertical-align: middle;\n",
              "    }\n",
              "\n",
              "    .dataframe tbody tr th {\n",
              "        vertical-align: top;\n",
              "    }\n",
              "\n",
              "    .dataframe thead th {\n",
              "        text-align: right;\n",
              "    }\n",
              "</style>\n",
              "<table border=\"1\" class=\"dataframe\">\n",
              "  <thead>\n",
              "    <tr style=\"text-align: right;\">\n",
              "      <th></th>\n",
              "      <th>abr</th>\n",
              "      <th>long_form</th>\n",
              "    </tr>\n",
              "  </thead>\n",
              "  <tbody>\n",
              "    <tr>\n",
              "      <th>346</th>\n",
              "      <td>BEP</td>\n",
              "      <td>bleomycin, etoposide, and cisplatin</td>\n",
              "    </tr>\n",
              "    <tr>\n",
              "      <th>1355</th>\n",
              "      <td>I&amp;O</td>\n",
              "      <td>inputs and outputs</td>\n",
              "    </tr>\n",
              "    <tr>\n",
              "      <th>1261</th>\n",
              "      <td>HSM</td>\n",
              "      <td>hepatosplenomegaly</td>\n",
              "    </tr>\n",
              "  </tbody>\n",
              "</table>\n",
              "</div>"
            ],
            "text/plain": [
              "      abr                            long_form\n",
              "346   BEP  bleomycin, etoposide, and cisplatin\n",
              "1355  I&O                   inputs and outputs\n",
              "1261  HSM                   hepatosplenomegaly"
            ]
          },
          "metadata": {
            "tags": []
          },
          "execution_count": 38
        }
      ]
    },
    {
      "cell_type": "code",
      "metadata": {
        "id": "BYDatvIqDsk3",
        "colab_type": "code",
        "colab": {}
      },
      "source": [
        "wtrl_db = pd.read_csv('https://raw.githubusercontent.com/lisavirginia/clinical-abbreviations/master/sources/5-wikipedia/wikipedia_clinical_trials.txt',\n",
        "                      sep=':',\n",
        "                      header=None,\n",
        "                      names=['abr', 'long_form'],\n",
        "                      na_filter=False,\n",
        "                      index_col=False,\n",
        "                      skipinitialspace=True)"
      ],
      "execution_count": 0,
      "outputs": []
    },
    {
      "cell_type": "code",
      "metadata": {
        "id": "PS-BAlIkD8Km",
        "colab_type": "code",
        "outputId": "a768a67d-eb24-4328-d126-341f63785264",
        "colab": {
          "base_uri": "https://localhost:8080/",
          "height": 136
        }
      },
      "source": [
        "clean(wtrl_db)\n",
        "wtrl_db.sample(3, random_state=0)"
      ],
      "execution_count": 40,
      "outputs": [
        {
          "output_type": "execute_result",
          "data": {
            "text/html": [
              "<div>\n",
              "<style scoped>\n",
              "    .dataframe tbody tr th:only-of-type {\n",
              "        vertical-align: middle;\n",
              "    }\n",
              "\n",
              "    .dataframe tbody tr th {\n",
              "        vertical-align: top;\n",
              "    }\n",
              "\n",
              "    .dataframe thead th {\n",
              "        text-align: right;\n",
              "    }\n",
              "</style>\n",
              "<table border=\"1\" class=\"dataframe\">\n",
              "  <thead>\n",
              "    <tr style=\"text-align: right;\">\n",
              "      <th></th>\n",
              "      <th>abr</th>\n",
              "      <th>long_form</th>\n",
              "    </tr>\n",
              "  </thead>\n",
              "  <tbody>\n",
              "    <tr>\n",
              "      <th>252</th>\n",
              "      <td>SURTAVI</td>\n",
              "      <td>Safety and Efficacy Study of the Medtronic Cor...</td>\n",
              "    </tr>\n",
              "    <tr>\n",
              "      <th>111</th>\n",
              "      <td>EVEREST</td>\n",
              "      <td>Efficacy of Vasopressin Antagonism in Heart Fa...</td>\n",
              "    </tr>\n",
              "    <tr>\n",
              "      <th>226</th>\n",
              "      <td>CYTO-PV</td>\n",
              "      <td>Cytoreductive Therapy in Polycythemia Vera</td>\n",
              "    </tr>\n",
              "  </tbody>\n",
              "</table>\n",
              "</div>"
            ],
            "text/plain": [
              "         abr                                          long_form\n",
              "252  SURTAVI  Safety and Efficacy Study of the Medtronic Cor...\n",
              "111  EVEREST  Efficacy of Vasopressin Antagonism in Heart Fa...\n",
              "226  CYTO-PV         Cytoreductive Therapy in Polycythemia Vera"
            ]
          },
          "metadata": {
            "tags": []
          },
          "execution_count": 40
        }
      ]
    },
    {
      "cell_type": "markdown",
      "metadata": {
        "id": "dtnOzVK-IEPp",
        "colab_type": "text"
      },
      "source": [
        "#### Merge Frames"
      ]
    },
    {
      "cell_type": "code",
      "metadata": {
        "id": "Pp5q3NyFIF3A",
        "colab_type": "code",
        "outputId": "681fd085-5183-47fd-ad76-3ec7a7a3418f",
        "colab": {
          "base_uri": "https://localhost:8080/",
          "height": 34
        }
      },
      "source": [
        "wiki_db = wabr_db.append(wtrl_db)\n",
        "wiki_db.shape"
      ],
      "execution_count": 41,
      "outputs": [
        {
          "output_type": "execute_result",
          "data": {
            "text/plain": [
              "(2952, 2)"
            ]
          },
          "metadata": {
            "tags": []
          },
          "execution_count": 41
        }
      ]
    },
    {
      "cell_type": "markdown",
      "metadata": {
        "id": "sDVSFpWfIchI",
        "colab_type": "text"
      },
      "source": [
        "#### Populate Output Frame"
      ]
    },
    {
      "cell_type": "code",
      "metadata": {
        "id": "5R1v7W-YIeWg",
        "colab_type": "code",
        "colab": {}
      },
      "source": [
        "wiki_out = out_db.copy()\n",
        "wiki_out['SF'] = wiki_db['abr']\n",
        "wiki_out['LF'] = wiki_db['long_form']\n",
        "wiki_out['Source'] = 'Wikipedia'"
      ],
      "execution_count": 0,
      "outputs": []
    },
    {
      "cell_type": "code",
      "metadata": {
        "id": "2j05ZfdUIpEa",
        "colab_type": "code",
        "outputId": "5ec3ca5c-1e2f-4324-c60e-1ac8096c2485",
        "colab": {
          "base_uri": "https://localhost:8080/",
          "height": 136
        }
      },
      "source": [
        "wiki_out.sample(3, random_state=0)"
      ],
      "execution_count": 43,
      "outputs": [
        {
          "output_type": "execute_result",
          "data": {
            "text/html": [
              "<div>\n",
              "<style scoped>\n",
              "    .dataframe tbody tr th:only-of-type {\n",
              "        vertical-align: middle;\n",
              "    }\n",
              "\n",
              "    .dataframe tbody tr th {\n",
              "        vertical-align: top;\n",
              "    }\n",
              "\n",
              "    .dataframe thead th {\n",
              "        text-align: right;\n",
              "    }\n",
              "</style>\n",
              "<table border=\"1\" class=\"dataframe\">\n",
              "  <thead>\n",
              "    <tr style=\"text-align: right;\">\n",
              "      <th></th>\n",
              "      <th>GroupID</th>\n",
              "      <th>SF</th>\n",
              "      <th>SFUI</th>\n",
              "      <th>NormSF</th>\n",
              "      <th>PrefSF</th>\n",
              "      <th>LF</th>\n",
              "      <th>LFUI</th>\n",
              "      <th>NormLF</th>\n",
              "      <th>PrefLF</th>\n",
              "      <th>Source</th>\n",
              "      <th>SFEUI</th>\n",
              "      <th>LFEUI</th>\n",
              "      <th>Type</th>\n",
              "      <th>Score</th>\n",
              "      <th>Count</th>\n",
              "      <th>Frequency</th>\n",
              "      <th>UMLS CUI</th>\n",
              "      <th>MetaMap CUI</th>\n",
              "    </tr>\n",
              "  </thead>\n",
              "  <tbody>\n",
              "    <tr>\n",
              "      <th>1301</th>\n",
              "      <td>NaN</td>\n",
              "      <td>ICCU</td>\n",
              "      <td>NaN</td>\n",
              "      <td>NaN</td>\n",
              "      <td>NaN</td>\n",
              "      <td>intensive cardiac care unit</td>\n",
              "      <td>NaN</td>\n",
              "      <td>NaN</td>\n",
              "      <td>NaN</td>\n",
              "      <td>Wikipedia</td>\n",
              "      <td>NaN</td>\n",
              "      <td>NaN</td>\n",
              "      <td>NaN</td>\n",
              "      <td>NaN</td>\n",
              "      <td>NaN</td>\n",
              "      <td>NaN</td>\n",
              "      <td>NaN</td>\n",
              "      <td>NaN</td>\n",
              "    </tr>\n",
              "    <tr>\n",
              "      <th>95</th>\n",
              "      <td>NaN</td>\n",
              "      <td>TRICC</td>\n",
              "      <td>NaN</td>\n",
              "      <td>NaN</td>\n",
              "      <td>NaN</td>\n",
              "      <td>Transfusion Requirements in Critical Care</td>\n",
              "      <td>NaN</td>\n",
              "      <td>NaN</td>\n",
              "      <td>NaN</td>\n",
              "      <td>Wikipedia</td>\n",
              "      <td>NaN</td>\n",
              "      <td>NaN</td>\n",
              "      <td>NaN</td>\n",
              "      <td>NaN</td>\n",
              "      <td>NaN</td>\n",
              "      <td>NaN</td>\n",
              "      <td>NaN</td>\n",
              "      <td>NaN</td>\n",
              "    </tr>\n",
              "    <tr>\n",
              "      <th>2286</th>\n",
              "      <td>NaN</td>\n",
              "      <td>SGB</td>\n",
              "      <td>NaN</td>\n",
              "      <td>NaN</td>\n",
              "      <td>NaN</td>\n",
              "      <td>stellate ganglion block</td>\n",
              "      <td>NaN</td>\n",
              "      <td>NaN</td>\n",
              "      <td>NaN</td>\n",
              "      <td>Wikipedia</td>\n",
              "      <td>NaN</td>\n",
              "      <td>NaN</td>\n",
              "      <td>NaN</td>\n",
              "      <td>NaN</td>\n",
              "      <td>NaN</td>\n",
              "      <td>NaN</td>\n",
              "      <td>NaN</td>\n",
              "      <td>NaN</td>\n",
              "    </tr>\n",
              "  </tbody>\n",
              "</table>\n",
              "</div>"
            ],
            "text/plain": [
              "     GroupID     SF SFUI NormSF  ... Count Frequency UMLS CUI MetaMap CUI\n",
              "1301     NaN   ICCU  NaN    NaN  ...   NaN       NaN      NaN         NaN\n",
              "95       NaN  TRICC  NaN    NaN  ...   NaN       NaN      NaN         NaN\n",
              "2286     NaN    SGB  NaN    NaN  ...   NaN       NaN      NaN         NaN\n",
              "\n",
              "[3 rows x 18 columns]"
            ]
          },
          "metadata": {
            "tags": []
          },
          "execution_count": 43
        }
      ]
    },
    {
      "cell_type": "markdown",
      "metadata": {
        "id": "YjtXpcBBI2oZ",
        "colab_type": "text"
      },
      "source": [
        "#### Append Output"
      ]
    },
    {
      "cell_type": "code",
      "metadata": {
        "id": "weFb-OCAI4WY",
        "colab_type": "code",
        "colab": {}
      },
      "source": [
        "out_list.append(wiki_out)"
      ],
      "execution_count": 0,
      "outputs": []
    },
    {
      "cell_type": "markdown",
      "metadata": {
        "id": "6cLdJ9ZDzeF2",
        "colab_type": "text"
      },
      "source": [
        "## Source #6: Stetson"
      ]
    },
    {
      "cell_type": "markdown",
      "metadata": {
        "id": "5UAw_wJIaI3J",
        "colab_type": "text"
      },
      "source": [
        "#### Load Stetson"
      ]
    },
    {
      "cell_type": "code",
      "metadata": {
        "id": "IYaeQ3iTaKqW",
        "colab_type": "code",
        "colab": {}
      },
      "source": [
        "stet_db = pd.read_csv('https://raw.githubusercontent.com/lisavirginia/clinical-abbreviations/master/sources/6-stetson/sense_distribution_448.txt',\n",
        "                      sep='\\t',\n",
        "                      header=None,\n",
        "                      names=['SF', 'LF', 'Frequency'],\n",
        "                      na_filter=False,\n",
        "                      index_col=False)"
      ],
      "execution_count": 0,
      "outputs": []
    },
    {
      "cell_type": "code",
      "metadata": {
        "id": "PZsUI6yIa003",
        "colab_type": "code",
        "outputId": "4f2a6aa0-9cb9-4131-dd2d-8729e7da25dd",
        "colab": {
          "base_uri": "https://localhost:8080/",
          "height": 136
        }
      },
      "source": [
        "clean(stet_db)\n",
        "stet_db.sample(3, random_state=0)"
      ],
      "execution_count": 46,
      "outputs": [
        {
          "output_type": "execute_result",
          "data": {
            "text/html": [
              "<div>\n",
              "<style scoped>\n",
              "    .dataframe tbody tr th:only-of-type {\n",
              "        vertical-align: middle;\n",
              "    }\n",
              "\n",
              "    .dataframe tbody tr th {\n",
              "        vertical-align: top;\n",
              "    }\n",
              "\n",
              "    .dataframe thead th {\n",
              "        text-align: right;\n",
              "    }\n",
              "</style>\n",
              "<table border=\"1\" class=\"dataframe\">\n",
              "  <thead>\n",
              "    <tr style=\"text-align: right;\">\n",
              "      <th></th>\n",
              "      <th>SF</th>\n",
              "      <th>LF</th>\n",
              "      <th>Frequency</th>\n",
              "    </tr>\n",
              "  </thead>\n",
              "  <tbody>\n",
              "    <tr>\n",
              "      <th>733</th>\n",
              "      <td>med</td>\n",
              "      <td>medicine</td>\n",
              "      <td>0.38600</td>\n",
              "    </tr>\n",
              "    <tr>\n",
              "      <th>122</th>\n",
              "      <td>d/c</td>\n",
              "      <td>discharge</td>\n",
              "      <td>0.88400</td>\n",
              "    </tr>\n",
              "    <tr>\n",
              "      <th>113</th>\n",
              "      <td>na</td>\n",
              "      <td>normal axis</td>\n",
              "      <td>0.02002</td>\n",
              "    </tr>\n",
              "  </tbody>\n",
              "</table>\n",
              "</div>"
            ],
            "text/plain": [
              "      SF           LF  Frequency\n",
              "733  med     medicine    0.38600\n",
              "122  d/c    discharge    0.88400\n",
              "113   na  normal axis    0.02002"
            ]
          },
          "metadata": {
            "tags": []
          },
          "execution_count": 46
        }
      ]
    },
    {
      "cell_type": "markdown",
      "metadata": {
        "id": "n7kb10n0bVO8",
        "colab_type": "text"
      },
      "source": [
        "#### Populate Output Frame"
      ]
    },
    {
      "cell_type": "code",
      "metadata": {
        "id": "EXfaclkabZqB",
        "colab_type": "code",
        "colab": {}
      },
      "source": [
        "stet_out = out_db.copy()\n",
        "stet_out['SF'] = stet_db['SF']\n",
        "stet_out['LF'] = stet_db['LF']\n",
        "stet_out['Source'] = 'Stetson'\n",
        "stet_out['Frequency'] = stet_db['Frequency']"
      ],
      "execution_count": 0,
      "outputs": []
    },
    {
      "cell_type": "code",
      "metadata": {
        "id": "iDTDjyVQcSew",
        "colab_type": "code",
        "outputId": "28dc399f-a22d-4b4d-931b-8c174ed63f0a",
        "colab": {
          "base_uri": "https://localhost:8080/",
          "height": 136
        }
      },
      "source": [
        "stet_out.sample(3, random_state=0)"
      ],
      "execution_count": 48,
      "outputs": [
        {
          "output_type": "execute_result",
          "data": {
            "text/html": [
              "<div>\n",
              "<style scoped>\n",
              "    .dataframe tbody tr th:only-of-type {\n",
              "        vertical-align: middle;\n",
              "    }\n",
              "\n",
              "    .dataframe tbody tr th {\n",
              "        vertical-align: top;\n",
              "    }\n",
              "\n",
              "    .dataframe thead th {\n",
              "        text-align: right;\n",
              "    }\n",
              "</style>\n",
              "<table border=\"1\" class=\"dataframe\">\n",
              "  <thead>\n",
              "    <tr style=\"text-align: right;\">\n",
              "      <th></th>\n",
              "      <th>GroupID</th>\n",
              "      <th>SF</th>\n",
              "      <th>SFUI</th>\n",
              "      <th>NormSF</th>\n",
              "      <th>PrefSF</th>\n",
              "      <th>LF</th>\n",
              "      <th>LFUI</th>\n",
              "      <th>NormLF</th>\n",
              "      <th>PrefLF</th>\n",
              "      <th>Source</th>\n",
              "      <th>SFEUI</th>\n",
              "      <th>LFEUI</th>\n",
              "      <th>Type</th>\n",
              "      <th>Score</th>\n",
              "      <th>Count</th>\n",
              "      <th>Frequency</th>\n",
              "      <th>UMLS CUI</th>\n",
              "      <th>MetaMap CUI</th>\n",
              "    </tr>\n",
              "  </thead>\n",
              "  <tbody>\n",
              "    <tr>\n",
              "      <th>733</th>\n",
              "      <td>NaN</td>\n",
              "      <td>med</td>\n",
              "      <td>NaN</td>\n",
              "      <td>NaN</td>\n",
              "      <td>NaN</td>\n",
              "      <td>medicine</td>\n",
              "      <td>NaN</td>\n",
              "      <td>NaN</td>\n",
              "      <td>NaN</td>\n",
              "      <td>Stetson</td>\n",
              "      <td>NaN</td>\n",
              "      <td>NaN</td>\n",
              "      <td>NaN</td>\n",
              "      <td>NaN</td>\n",
              "      <td>NaN</td>\n",
              "      <td>0.38600</td>\n",
              "      <td>NaN</td>\n",
              "      <td>NaN</td>\n",
              "    </tr>\n",
              "    <tr>\n",
              "      <th>122</th>\n",
              "      <td>NaN</td>\n",
              "      <td>d/c</td>\n",
              "      <td>NaN</td>\n",
              "      <td>NaN</td>\n",
              "      <td>NaN</td>\n",
              "      <td>discharge</td>\n",
              "      <td>NaN</td>\n",
              "      <td>NaN</td>\n",
              "      <td>NaN</td>\n",
              "      <td>Stetson</td>\n",
              "      <td>NaN</td>\n",
              "      <td>NaN</td>\n",
              "      <td>NaN</td>\n",
              "      <td>NaN</td>\n",
              "      <td>NaN</td>\n",
              "      <td>0.88400</td>\n",
              "      <td>NaN</td>\n",
              "      <td>NaN</td>\n",
              "    </tr>\n",
              "    <tr>\n",
              "      <th>113</th>\n",
              "      <td>NaN</td>\n",
              "      <td>na</td>\n",
              "      <td>NaN</td>\n",
              "      <td>NaN</td>\n",
              "      <td>NaN</td>\n",
              "      <td>normal axis</td>\n",
              "      <td>NaN</td>\n",
              "      <td>NaN</td>\n",
              "      <td>NaN</td>\n",
              "      <td>Stetson</td>\n",
              "      <td>NaN</td>\n",
              "      <td>NaN</td>\n",
              "      <td>NaN</td>\n",
              "      <td>NaN</td>\n",
              "      <td>NaN</td>\n",
              "      <td>0.02002</td>\n",
              "      <td>NaN</td>\n",
              "      <td>NaN</td>\n",
              "    </tr>\n",
              "  </tbody>\n",
              "</table>\n",
              "</div>"
            ],
            "text/plain": [
              "    GroupID   SF SFUI NormSF PrefSF  ... Score Count Frequency UMLS CUI MetaMap CUI\n",
              "733     NaN  med  NaN    NaN    NaN  ...   NaN   NaN   0.38600      NaN         NaN\n",
              "122     NaN  d/c  NaN    NaN    NaN  ...   NaN   NaN   0.88400      NaN         NaN\n",
              "113     NaN   na  NaN    NaN    NaN  ...   NaN   NaN   0.02002      NaN         NaN\n",
              "\n",
              "[3 rows x 18 columns]"
            ]
          },
          "metadata": {
            "tags": []
          },
          "execution_count": 48
        }
      ]
    },
    {
      "cell_type": "markdown",
      "metadata": {
        "id": "NSML37baccHD",
        "colab_type": "text"
      },
      "source": [
        "#### Append Output"
      ]
    },
    {
      "cell_type": "code",
      "metadata": {
        "id": "jII-qJEtcbWt",
        "colab_type": "code",
        "colab": {}
      },
      "source": [
        "out_list.append(stet_out)"
      ],
      "execution_count": 0,
      "outputs": []
    },
    {
      "cell_type": "markdown",
      "metadata": {
        "id": "CKHHXhcrzRql",
        "colab_type": "text"
      },
      "source": [
        "## Source #7: Columbia"
      ]
    },
    {
      "cell_type": "markdown",
      "metadata": {
        "id": "QB9sqBPIdzT-",
        "colab_type": "text"
      },
      "source": [
        "#### Load Columbia"
      ]
    },
    {
      "cell_type": "code",
      "metadata": {
        "id": "XksuqLy9DuoJ",
        "colab_type": "code",
        "colab": {}
      },
      "source": [
        "colm_db = pd.read_csv('https://raw.githubusercontent.com/lisavirginia/clinical-abbreviations/master/sources/7-columbia/obgyn.txt',\n",
        "                      header=None,\n",
        "                      names=['SF_LF'],\n",
        "                      na_filter=False,\n",
        "                      index_col=False)"
      ],
      "execution_count": 0,
      "outputs": []
    },
    {
      "cell_type": "code",
      "metadata": {
        "id": "npg5FarIGE2Z",
        "colab_type": "code",
        "outputId": "db829567-dc96-4da2-a8be-d28363f6fd1b",
        "colab": {
          "base_uri": "https://localhost:8080/",
          "height": 136
        }
      },
      "source": [
        "clean(colm_db)\n",
        "colm_db.sample(3, random_state=0)"
      ],
      "execution_count": 51,
      "outputs": [
        {
          "output_type": "execute_result",
          "data": {
            "text/html": [
              "<div>\n",
              "<style scoped>\n",
              "    .dataframe tbody tr th:only-of-type {\n",
              "        vertical-align: middle;\n",
              "    }\n",
              "\n",
              "    .dataframe tbody tr th {\n",
              "        vertical-align: top;\n",
              "    }\n",
              "\n",
              "    .dataframe thead th {\n",
              "        text-align: right;\n",
              "    }\n",
              "</style>\n",
              "<table border=\"1\" class=\"dataframe\">\n",
              "  <thead>\n",
              "    <tr style=\"text-align: right;\">\n",
              "      <th></th>\n",
              "      <th>SF_LF</th>\n",
              "    </tr>\n",
              "  </thead>\n",
              "  <tbody>\n",
              "    <tr>\n",
              "      <th>152</th>\n",
              "      <td>P/N/F Pooling/nitrazine/ferning</td>\n",
              "    </tr>\n",
              "    <tr>\n",
              "      <th>74</th>\n",
              "      <td>FHT Fetal heart tones</td>\n",
              "    </tr>\n",
              "    <tr>\n",
              "      <th>71</th>\n",
              "      <td>FAVD Forceps assisted vaginal delivery</td>\n",
              "    </tr>\n",
              "  </tbody>\n",
              "</table>\n",
              "</div>"
            ],
            "text/plain": [
              "                                      SF_LF\n",
              "152         P/N/F Pooling/nitrazine/ferning\n",
              "74                    FHT Fetal heart tones\n",
              "71   FAVD Forceps assisted vaginal delivery"
            ]
          },
          "metadata": {
            "tags": []
          },
          "execution_count": 51
        }
      ]
    },
    {
      "cell_type": "markdown",
      "metadata": {
        "id": "jwfa7TMVGQ21",
        "colab_type": "text"
      },
      "source": [
        "#### Split Column"
      ]
    },
    {
      "cell_type": "code",
      "metadata": {
        "id": "31m3moA7GTPT",
        "colab_type": "code",
        "colab": {}
      },
      "source": [
        "temp = colm_db[\"SF_LF\"].str.split(\" \", n=1, expand=True)\n",
        "colm_db[\"SF\"] = temp[0]\n",
        "colm_db[\"LF\"] = temp[1]"
      ],
      "execution_count": 0,
      "outputs": []
    },
    {
      "cell_type": "code",
      "metadata": {
        "id": "5ikzSsaLGq6i",
        "colab_type": "code",
        "outputId": "ff817940-76d0-4a9e-b37e-fe22763a3c58",
        "colab": {
          "base_uri": "https://localhost:8080/",
          "height": 136
        }
      },
      "source": [
        "colm_db.sample(3, random_state=0)"
      ],
      "execution_count": 53,
      "outputs": [
        {
          "output_type": "execute_result",
          "data": {
            "text/html": [
              "<div>\n",
              "<style scoped>\n",
              "    .dataframe tbody tr th:only-of-type {\n",
              "        vertical-align: middle;\n",
              "    }\n",
              "\n",
              "    .dataframe tbody tr th {\n",
              "        vertical-align: top;\n",
              "    }\n",
              "\n",
              "    .dataframe thead th {\n",
              "        text-align: right;\n",
              "    }\n",
              "</style>\n",
              "<table border=\"1\" class=\"dataframe\">\n",
              "  <thead>\n",
              "    <tr style=\"text-align: right;\">\n",
              "      <th></th>\n",
              "      <th>SF_LF</th>\n",
              "      <th>SF</th>\n",
              "      <th>LF</th>\n",
              "    </tr>\n",
              "  </thead>\n",
              "  <tbody>\n",
              "    <tr>\n",
              "      <th>152</th>\n",
              "      <td>P/N/F Pooling/nitrazine/ferning</td>\n",
              "      <td>P/N/F</td>\n",
              "      <td>Pooling/nitrazine/ferning</td>\n",
              "    </tr>\n",
              "    <tr>\n",
              "      <th>74</th>\n",
              "      <td>FHT Fetal heart tones</td>\n",
              "      <td>FHT</td>\n",
              "      <td>Fetal heart tones</td>\n",
              "    </tr>\n",
              "    <tr>\n",
              "      <th>71</th>\n",
              "      <td>FAVD Forceps assisted vaginal delivery</td>\n",
              "      <td>FAVD</td>\n",
              "      <td>Forceps assisted vaginal delivery</td>\n",
              "    </tr>\n",
              "  </tbody>\n",
              "</table>\n",
              "</div>"
            ],
            "text/plain": [
              "                                      SF_LF  ...                                 LF\n",
              "152         P/N/F Pooling/nitrazine/ferning  ...          Pooling/nitrazine/ferning\n",
              "74                    FHT Fetal heart tones  ...                  Fetal heart tones\n",
              "71   FAVD Forceps assisted vaginal delivery  ...  Forceps assisted vaginal delivery\n",
              "\n",
              "[3 rows x 3 columns]"
            ]
          },
          "metadata": {
            "tags": []
          },
          "execution_count": 53
        }
      ]
    },
    {
      "cell_type": "markdown",
      "metadata": {
        "id": "i-pwzN_HGxH-",
        "colab_type": "text"
      },
      "source": [
        "#### Populate Output Frame"
      ]
    },
    {
      "cell_type": "code",
      "metadata": {
        "id": "Q36iNJ5dGz-I",
        "colab_type": "code",
        "colab": {}
      },
      "source": [
        "colm_out = out_db.copy()\n",
        "colm_out['SF'] = colm_db['SF']\n",
        "colm_out['LF'] = colm_db['LF']\n",
        "colm_out['Source'] = 'Columbia'"
      ],
      "execution_count": 0,
      "outputs": []
    },
    {
      "cell_type": "code",
      "metadata": {
        "id": "BwCipF-QHIYj",
        "colab_type": "code",
        "outputId": "71d67b68-1b6a-40c6-ca27-c938e356dcb9",
        "colab": {
          "base_uri": "https://localhost:8080/",
          "height": 136
        }
      },
      "source": [
        "colm_out.sample(3, random_state=0)"
      ],
      "execution_count": 55,
      "outputs": [
        {
          "output_type": "execute_result",
          "data": {
            "text/html": [
              "<div>\n",
              "<style scoped>\n",
              "    .dataframe tbody tr th:only-of-type {\n",
              "        vertical-align: middle;\n",
              "    }\n",
              "\n",
              "    .dataframe tbody tr th {\n",
              "        vertical-align: top;\n",
              "    }\n",
              "\n",
              "    .dataframe thead th {\n",
              "        text-align: right;\n",
              "    }\n",
              "</style>\n",
              "<table border=\"1\" class=\"dataframe\">\n",
              "  <thead>\n",
              "    <tr style=\"text-align: right;\">\n",
              "      <th></th>\n",
              "      <th>GroupID</th>\n",
              "      <th>SF</th>\n",
              "      <th>SFUI</th>\n",
              "      <th>NormSF</th>\n",
              "      <th>PrefSF</th>\n",
              "      <th>LF</th>\n",
              "      <th>LFUI</th>\n",
              "      <th>NormLF</th>\n",
              "      <th>PrefLF</th>\n",
              "      <th>Source</th>\n",
              "      <th>SFEUI</th>\n",
              "      <th>LFEUI</th>\n",
              "      <th>Type</th>\n",
              "      <th>Score</th>\n",
              "      <th>Count</th>\n",
              "      <th>Frequency</th>\n",
              "      <th>UMLS CUI</th>\n",
              "      <th>MetaMap CUI</th>\n",
              "    </tr>\n",
              "  </thead>\n",
              "  <tbody>\n",
              "    <tr>\n",
              "      <th>152</th>\n",
              "      <td>NaN</td>\n",
              "      <td>P/N/F</td>\n",
              "      <td>NaN</td>\n",
              "      <td>NaN</td>\n",
              "      <td>NaN</td>\n",
              "      <td>Pooling/nitrazine/ferning</td>\n",
              "      <td>NaN</td>\n",
              "      <td>NaN</td>\n",
              "      <td>NaN</td>\n",
              "      <td>Columbia</td>\n",
              "      <td>NaN</td>\n",
              "      <td>NaN</td>\n",
              "      <td>NaN</td>\n",
              "      <td>NaN</td>\n",
              "      <td>NaN</td>\n",
              "      <td>NaN</td>\n",
              "      <td>NaN</td>\n",
              "      <td>NaN</td>\n",
              "    </tr>\n",
              "    <tr>\n",
              "      <th>74</th>\n",
              "      <td>NaN</td>\n",
              "      <td>FHT</td>\n",
              "      <td>NaN</td>\n",
              "      <td>NaN</td>\n",
              "      <td>NaN</td>\n",
              "      <td>Fetal heart tones</td>\n",
              "      <td>NaN</td>\n",
              "      <td>NaN</td>\n",
              "      <td>NaN</td>\n",
              "      <td>Columbia</td>\n",
              "      <td>NaN</td>\n",
              "      <td>NaN</td>\n",
              "      <td>NaN</td>\n",
              "      <td>NaN</td>\n",
              "      <td>NaN</td>\n",
              "      <td>NaN</td>\n",
              "      <td>NaN</td>\n",
              "      <td>NaN</td>\n",
              "    </tr>\n",
              "    <tr>\n",
              "      <th>71</th>\n",
              "      <td>NaN</td>\n",
              "      <td>FAVD</td>\n",
              "      <td>NaN</td>\n",
              "      <td>NaN</td>\n",
              "      <td>NaN</td>\n",
              "      <td>Forceps assisted vaginal delivery</td>\n",
              "      <td>NaN</td>\n",
              "      <td>NaN</td>\n",
              "      <td>NaN</td>\n",
              "      <td>Columbia</td>\n",
              "      <td>NaN</td>\n",
              "      <td>NaN</td>\n",
              "      <td>NaN</td>\n",
              "      <td>NaN</td>\n",
              "      <td>NaN</td>\n",
              "      <td>NaN</td>\n",
              "      <td>NaN</td>\n",
              "      <td>NaN</td>\n",
              "    </tr>\n",
              "  </tbody>\n",
              "</table>\n",
              "</div>"
            ],
            "text/plain": [
              "    GroupID     SF SFUI NormSF  ... Count Frequency UMLS CUI MetaMap CUI\n",
              "152     NaN  P/N/F  NaN    NaN  ...   NaN       NaN      NaN         NaN\n",
              "74      NaN    FHT  NaN    NaN  ...   NaN       NaN      NaN         NaN\n",
              "71      NaN   FAVD  NaN    NaN  ...   NaN       NaN      NaN         NaN\n",
              "\n",
              "[3 rows x 18 columns]"
            ]
          },
          "metadata": {
            "tags": []
          },
          "execution_count": 55
        }
      ]
    },
    {
      "cell_type": "markdown",
      "metadata": {
        "id": "F-hb4oaHHH5N",
        "colab_type": "text"
      },
      "source": [
        "#### Append Output"
      ]
    },
    {
      "cell_type": "code",
      "metadata": {
        "id": "CE4sjPUCHQCM",
        "colab_type": "code",
        "colab": {}
      },
      "source": [
        "out_list.append(colm_out)"
      ],
      "execution_count": 0,
      "outputs": []
    },
    {
      "cell_type": "markdown",
      "metadata": {
        "id": "3gr0Qlv80Auf",
        "colab_type": "text"
      },
      "source": [
        "## Merge Sources"
      ]
    },
    {
      "cell_type": "markdown",
      "metadata": {
        "id": "_BAtdll2eJU6",
        "colab_type": "text"
      },
      "source": [
        "#### Double-Check List"
      ]
    },
    {
      "cell_type": "code",
      "metadata": {
        "id": "rgbQM3vAIRqP",
        "colab_type": "code",
        "outputId": "11feb864-ce50-4290-8fe1-9f08df46836b",
        "colab": {
          "base_uri": "https://localhost:8080/",
          "height": 140
        }
      },
      "source": [
        "for item in out_list:\n",
        "  name = [x for x in globals() if globals()[x] is item][0]\n",
        "  print(name, item.shape)"
      ],
      "execution_count": 57,
      "outputs": [
        {
          "output_type": "stream",
          "text": [
            "umls_out (261389, 18)\n",
            "adam_out (94657, 18)\n",
            "berm_out (12088, 18)\n",
            "vand_out (8800, 18)\n",
            "wiki_out (2952, 18)\n",
            "stet_out (765, 18)\n",
            "colm_out (219, 18)\n"
          ],
          "name": "stdout"
        }
      ]
    },
    {
      "cell_type": "markdown",
      "metadata": {
        "id": "bQSmIHfAeMD7",
        "colab_type": "text"
      },
      "source": [
        "#### Conduct Merge"
      ]
    },
    {
      "cell_type": "code",
      "metadata": {
        "id": "C54-CcZzePoW",
        "colab_type": "code",
        "outputId": "2961c58d-9043-4de0-beee-b5f6f85b8218",
        "colab": {
          "base_uri": "https://localhost:8080/",
          "height": 34
        }
      },
      "source": [
        "db = pd.concat(out_list)\n",
        "db.shape"
      ],
      "execution_count": 58,
      "outputs": [
        {
          "output_type": "execute_result",
          "data": {
            "text/plain": [
              "(380870, 18)"
            ]
          },
          "metadata": {
            "tags": []
          },
          "execution_count": 58
        }
      ]
    },
    {
      "cell_type": "markdown",
      "metadata": {
        "id": "VoCNsAi5e7kz",
        "colab_type": "text"
      },
      "source": [
        "## Export"
      ]
    },
    {
      "cell_type": "code",
      "metadata": {
        "id": "m1dZcalgfOr7",
        "colab_type": "code",
        "colab": {}
      },
      "source": [
        "db.to_csv('Clinical_Abbreviation_Acronym_Crosswalk_Preliminary1.csv',\n",
        "          index=False,\n",
        "          header=True,\n",
        "          sep='|')\n",
        "\n",
        "files.download('Clinical_Abbreviation_Acronym_Crosswalk_Preliminary1.csv')"
      ],
      "execution_count": 0,
      "outputs": []
    }
  ]
}