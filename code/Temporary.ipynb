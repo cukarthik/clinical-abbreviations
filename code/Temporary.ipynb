{
 "cells": [
  {
   "cell_type": "code",
   "execution_count": 2,
   "metadata": {},
   "outputs": [],
   "source": [
    "import pandas as pd\n",
    "from master_functions import *\n",
    "import os"
   ]
  },
  {
   "cell_type": "code",
   "execution_count": 3,
   "metadata": {},
   "outputs": [],
   "source": [
    "df = pd.read_csv('https://raw.githubusercontent.com/lisavirginia/clinical-abbreviations/master/code/Step2Output_Clinical_Abbreviation_Acronym_Crosswalk.csv',\n",
    "                 sep='|',\n",
    "                 header=0,\n",
    "                 index_col=False,\n",
    "                 na_filter=False,\n",
    "                 dtype=object)"
   ]
  },
  {
   "cell_type": "code",
   "execution_count": 25,
   "metadata": {},
   "outputs": [
    {
     "data": {
      "text/html": [
       "<div>\n",
       "<style scoped>\n",
       "    .dataframe tbody tr th:only-of-type {\n",
       "        vertical-align: middle;\n",
       "    }\n",
       "\n",
       "    .dataframe tbody tr th {\n",
       "        vertical-align: top;\n",
       "    }\n",
       "\n",
       "    .dataframe thead th {\n",
       "        text-align: right;\n",
       "    }\n",
       "</style>\n",
       "<table border=\"1\" class=\"dataframe\">\n",
       "  <thead>\n",
       "    <tr style=\"text-align: right;\">\n",
       "      <th></th>\n",
       "      <th>GroupID</th>\n",
       "      <th>RecordID</th>\n",
       "      <th>SF</th>\n",
       "      <th>SFUI</th>\n",
       "      <th>NormSF</th>\n",
       "      <th>LF</th>\n",
       "      <th>LFUI</th>\n",
       "      <th>NormLF</th>\n",
       "      <th>Source</th>\n",
       "      <th>SFEUI</th>\n",
       "      <th>LFEUI</th>\n",
       "      <th>Type</th>\n",
       "      <th>PrefSF</th>\n",
       "      <th>Score</th>\n",
       "      <th>Count</th>\n",
       "      <th>Frequency</th>\n",
       "      <th>UMLS.CUI</th>\n",
       "    </tr>\n",
       "  </thead>\n",
       "  <tbody>\n",
       "    <tr>\n",
       "      <th>0</th>\n",
       "      <td></td>\n",
       "      <td>R000001</td>\n",
       "      <td>AA</td>\n",
       "      <td>S003081</td>\n",
       "      <td>aa</td>\n",
       "      <td>achievement age</td>\n",
       "      <td>L037913</td>\n",
       "      <td>achievement age</td>\n",
       "      <td>UMLS</td>\n",
       "      <td>E0000048</td>\n",
       "      <td>E0006859</td>\n",
       "      <td>acronym</td>\n",
       "      <td></td>\n",
       "      <td></td>\n",
       "      <td></td>\n",
       "      <td></td>\n",
       "      <td></td>\n",
       "    </tr>\n",
       "    <tr>\n",
       "      <th>1</th>\n",
       "      <td></td>\n",
       "      <td>R000002</td>\n",
       "      <td>AA</td>\n",
       "      <td>S003081</td>\n",
       "      <td>aa</td>\n",
       "      <td>Alcoholics Anonymous</td>\n",
       "      <td>L004250</td>\n",
       "      <td></td>\n",
       "      <td>UMLS</td>\n",
       "      <td>E0000048</td>\n",
       "      <td>E0000204</td>\n",
       "      <td>acronym</td>\n",
       "      <td></td>\n",
       "      <td></td>\n",
       "      <td></td>\n",
       "      <td></td>\n",
       "      <td></td>\n",
       "    </tr>\n",
       "    <tr>\n",
       "      <th>2</th>\n",
       "      <td></td>\n",
       "      <td>R000003</td>\n",
       "      <td>AA</td>\n",
       "      <td>S003081</td>\n",
       "      <td>aa</td>\n",
       "      <td>alcohol abuse</td>\n",
       "      <td>L040702</td>\n",
       "      <td>alcohol abuse</td>\n",
       "      <td>UMLS</td>\n",
       "      <td>E0000048</td>\n",
       "      <td>E0356324</td>\n",
       "      <td>acronym</td>\n",
       "      <td></td>\n",
       "      <td></td>\n",
       "      <td></td>\n",
       "      <td></td>\n",
       "      <td></td>\n",
       "    </tr>\n",
       "  </tbody>\n",
       "</table>\n",
       "</div>"
      ],
      "text/plain": [
       "  GroupID RecordID  SF     SFUI NormSF                    LF     LFUI  \\\n",
       "0          R000001  AA  S003081     aa       achievement age  L037913   \n",
       "1          R000002  AA  S003081     aa  Alcoholics Anonymous  L004250   \n",
       "2          R000003  AA  S003081     aa         alcohol abuse  L040702   \n",
       "\n",
       "            NormLF Source     SFEUI     LFEUI     Type PrefSF Score Count  \\\n",
       "0  achievement age   UMLS  E0000048  E0006859  acronym                      \n",
       "1                    UMLS  E0000048  E0000204  acronym                      \n",
       "2    alcohol abuse   UMLS  E0000048  E0356324  acronym                      \n",
       "\n",
       "  Frequency UMLS.CUI  \n",
       "0                     \n",
       "1                     \n",
       "2                     "
      ]
     },
     "execution_count": 25,
     "metadata": {},
     "output_type": "execute_result"
    }
   ],
   "source": [
    "df.head(3)\n",
    "# df.sample(10, random_state=0)"
   ]
  },
  {
   "cell_type": "code",
   "execution_count": 8,
   "metadata": {},
   "outputs": [],
   "source": [
    "df = df.rename(columns={\"EntryID\": \"RecordID\"})"
   ]
  },
  {
   "cell_type": "code",
   "execution_count": 10,
   "metadata": {},
   "outputs": [],
   "source": [
    "df = df.drop(['NSFUI', 'PrefLF'], axis=1)"
   ]
  },
  {
   "cell_type": "code",
   "execution_count": 18,
   "metadata": {},
   "outputs": [],
   "source": [
    "df['RecordID'] = df['RecordID'].str.replace('E','R')"
   ]
  },
  {
   "cell_type": "code",
   "execution_count": 12,
   "metadata": {},
   "outputs": [],
   "source": [
    "df = df[['GroupID', 'RecordID', 'SF', 'SFUI', 'NormSF', 'LF', 'LFUI', 'NormLF', 'Source', \n",
    "          # Auxiliary data fields\n",
    "          'SFEUI', 'LFEUI', 'Type', 'PrefSF', 'Score', 'Count', 'Frequency', 'UMLS.CUI']]"
   ]
  },
  {
   "cell_type": "code",
   "execution_count": 20,
   "metadata": {},
   "outputs": [],
   "source": [
    "tm = pd.read_csv('https://raw.githubusercontent.com/lisavirginia/clinical-abbreviations/master/code/Step1Output_Clinical_Abbreviation_Acronym_Crosswalk.csv',\n",
    "                 sep='|',\n",
    "                 header=0,\n",
    "                 index_col=False,\n",
    "                 na_filter=False,\n",
    "                 dtype=object)"
   ]
  },
  {
   "cell_type": "code",
   "execution_count": 23,
   "metadata": {},
   "outputs": [],
   "source": [
    "df['PrefSF'] = tm['PrefSF']"
   ]
  },
  {
   "cell_type": "code",
   "execution_count": 26,
   "metadata": {},
   "outputs": [],
   "source": [
    "df.to_csv('Step2Output_Clinical_Abbreviation_Acronym_Crosswalk.csv',\n",
    "          index=False,\n",
    "          header=True,\n",
    "          sep='|')"
   ]
  }
 ],
 "metadata": {
  "kernelspec": {
   "display_name": "Python 3 (venv_py37_full)",
   "language": "python",
   "name": "myenv"
  },
  "language_info": {
   "codemirror_mode": {
    "name": "ipython",
    "version": 3
   },
   "file_extension": ".py",
   "mimetype": "text/x-python",
   "name": "python",
   "nbconvert_exporter": "python",
   "pygments_lexer": "ipython3",
   "version": "3.6.8"
  }
 },
 "nbformat": 4,
 "nbformat_minor": 2
}
