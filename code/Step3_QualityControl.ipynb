{
 "cells": [
  {
   "cell_type": "markdown",
   "metadata": {},
   "source": [
    "# Step 3: Quality Check"
   ]
  },
  {
   "cell_type": "markdown",
   "metadata": {},
   "source": [
    "## Setup"
   ]
  },
  {
   "cell_type": "code",
   "execution_count": 1,
   "metadata": {},
   "outputs": [],
   "source": [
    "import re\n",
    "import pandas as pd\n",
    "import numpy as np\n",
    "from spellchecker import SpellChecker\n",
    "from master_functions import *"
   ]
  },
  {
   "cell_type": "code",
   "execution_count": 2,
   "metadata": {},
   "outputs": [],
   "source": [
    "# Suppress false positive warnings\n",
    "import warnings\n",
    "warnings.filterwarnings(\"ignore\")"
   ]
  },
  {
   "cell_type": "markdown",
   "metadata": {},
   "source": [
    "#### Load Datasets"
   ]
  },
  {
   "cell_type": "code",
   "execution_count": 3,
   "metadata": {},
   "outputs": [],
   "source": [
    "df = pd.read_csv('https://raw.githubusercontent.com/lisavirginia/clinical-abbreviations/master/code/Step2Output_Clinical_Abbreviation_Acronym_Crosswalk.csv',\n",
    "                 sep='|',\n",
    "                 header=0,\n",
    "                 index_col=False,\n",
    "                 na_filter=False,\n",
    "                 dtype=object)"
   ]
  },
  {
   "cell_type": "code",
   "execution_count": 4,
   "metadata": {},
   "outputs": [
    {
     "data": {
      "text/html": [
       "<div>\n",
       "<style scoped>\n",
       "    .dataframe tbody tr th:only-of-type {\n",
       "        vertical-align: middle;\n",
       "    }\n",
       "\n",
       "    .dataframe tbody tr th {\n",
       "        vertical-align: top;\n",
       "    }\n",
       "\n",
       "    .dataframe thead th {\n",
       "        text-align: right;\n",
       "    }\n",
       "</style>\n",
       "<table border=\"1\" class=\"dataframe\">\n",
       "  <thead>\n",
       "    <tr style=\"text-align: right;\">\n",
       "      <th></th>\n",
       "      <th>GroupID</th>\n",
       "      <th>EntryID</th>\n",
       "      <th>SF</th>\n",
       "      <th>SFUI</th>\n",
       "      <th>NormSF</th>\n",
       "      <th>NSFUI</th>\n",
       "      <th>PrefSF</th>\n",
       "      <th>LF</th>\n",
       "      <th>LFUI</th>\n",
       "      <th>NormLF</th>\n",
       "      <th>PrefLF</th>\n",
       "      <th>Source</th>\n",
       "      <th>SFEUI</th>\n",
       "      <th>LFEUI</th>\n",
       "      <th>Type</th>\n",
       "      <th>Score</th>\n",
       "      <th>Count</th>\n",
       "      <th>Frequency</th>\n",
       "      <th>UMLS.CUI</th>\n",
       "    </tr>\n",
       "  </thead>\n",
       "  <tbody>\n",
       "    <tr>\n",
       "      <th>368728</th>\n",
       "      <td></td>\n",
       "      <td>E368729</td>\n",
       "      <td>T-ALL</td>\n",
       "      <td>S068102</td>\n",
       "      <td>t_all</td>\n",
       "      <td>N067915</td>\n",
       "      <td></td>\n",
       "      <td>T cell acute lymphoblastic leukemias</td>\n",
       "      <td>L032523</td>\n",
       "      <td>T cell acute lymphoblastic leukemia</td>\n",
       "      <td></td>\n",
       "      <td>ADAM</td>\n",
       "      <td></td>\n",
       "      <td></td>\n",
       "      <td></td>\n",
       "      <td>0.7357</td>\n",
       "      <td>193</td>\n",
       "      <td></td>\n",
       "      <td></td>\n",
       "    </tr>\n",
       "    <tr>\n",
       "      <th>320521</th>\n",
       "      <td></td>\n",
       "      <td>E320522</td>\n",
       "      <td>Emax</td>\n",
       "      <td>S023535</td>\n",
       "      <td>emax</td>\n",
       "      <td>N022914</td>\n",
       "      <td></td>\n",
       "      <td>maximal responses</td>\n",
       "      <td>L107849</td>\n",
       "      <td></td>\n",
       "      <td></td>\n",
       "      <td>ADAM</td>\n",
       "      <td></td>\n",
       "      <td></td>\n",
       "      <td></td>\n",
       "      <td>0.2113</td>\n",
       "      <td>24</td>\n",
       "      <td></td>\n",
       "      <td></td>\n",
       "    </tr>\n",
       "    <tr>\n",
       "      <th>311671</th>\n",
       "      <td></td>\n",
       "      <td>E311672</td>\n",
       "      <td>CTG</td>\n",
       "      <td>S015579</td>\n",
       "      <td>ctg</td>\n",
       "      <td>N017580</td>\n",
       "      <td></td>\n",
       "      <td>connective tissue graft</td>\n",
       "      <td>L060880</td>\n",
       "      <td>connective tissue graft</td>\n",
       "      <td></td>\n",
       "      <td>ADAM</td>\n",
       "      <td></td>\n",
       "      <td></td>\n",
       "      <td></td>\n",
       "      <td>0.7103</td>\n",
       "      <td>10</td>\n",
       "      <td></td>\n",
       "      <td></td>\n",
       "    </tr>\n",
       "  </tbody>\n",
       "</table>\n",
       "</div>"
      ],
      "text/plain": [
       "       GroupID  EntryID     SF     SFUI NormSF    NSFUI PrefSF  \\\n",
       "368728          E368729  T-ALL  S068102  t_all  N067915          \n",
       "320521          E320522   Emax  S023535   emax  N022914          \n",
       "311671          E311672    CTG  S015579    ctg  N017580          \n",
       "\n",
       "                                          LF     LFUI  \\\n",
       "368728  T cell acute lymphoblastic leukemias  L032523   \n",
       "320521                     maximal responses  L107849   \n",
       "311671               connective tissue graft  L060880   \n",
       "\n",
       "                                     NormLF PrefLF Source SFEUI LFEUI Type  \\\n",
       "368728  T cell acute lymphoblastic leukemia          ADAM                    \n",
       "320521                                               ADAM                    \n",
       "311671              connective tissue graft          ADAM                    \n",
       "\n",
       "         Score Count Frequency UMLS.CUI  \n",
       "368728  0.7357   193                     \n",
       "320521  0.2113    24                     \n",
       "311671  0.7103    10                     "
      ]
     },
     "execution_count": 4,
     "metadata": {},
     "output_type": "execute_result"
    }
   ],
   "source": [
    "df.sample(3, random_state=0)"
   ]
  },
  {
   "cell_type": "code",
   "execution_count": 5,
   "metadata": {},
   "outputs": [
    {
     "data": {
      "text/plain": [
       "(409668, 19)"
      ]
     },
     "execution_count": 5,
     "metadata": {},
     "output_type": "execute_result"
    }
   ],
   "source": [
    "df.shape"
   ]
  },
  {
   "cell_type": "markdown",
   "metadata": {},
   "source": [
    "## Identify Errors"
   ]
  },
  {
   "cell_type": "markdown",
   "metadata": {},
   "source": [
    "#### Heuristic 1: Duplicates"
   ]
  },
  {
   "cell_type": "markdown",
   "metadata": {},
   "source": [
    "Identify which entries exactly duplicate another entry from the same source. "
   ]
  },
  {
   "cell_type": "code",
   "execution_count": 6,
   "metadata": {},
   "outputs": [
    {
     "data": {
      "text/plain": [
       "(3933, 19)"
      ]
     },
     "execution_count": 6,
     "metadata": {},
     "output_type": "execute_result"
    }
   ],
   "source": [
    "Extract1 = df[df.duplicated(['SF', 'LF', 'Source']) == True]\n",
    "Extract1.shape"
   ]
  },
  {
   "cell_type": "markdown",
   "metadata": {},
   "source": [
    "#### Heuristic 2: Punctuation"
   ]
  },
  {
   "cell_type": "markdown",
   "metadata": {},
   "source": [
    "Identify excess punctuation in the long form (e.g. \"nitric oxide;\")."
   ]
  },
  {
   "cell_type": "code",
   "execution_count": 7,
   "metadata": {},
   "outputs": [
    {
     "data": {
      "text/plain": [
       "(55, 19)"
      ]
     },
     "execution_count": 7,
     "metadata": {},
     "output_type": "execute_result"
    }
   ],
   "source": [
    "# Punctuation after LF (excludes .+%()[])\n",
    "Extract2_1 = df[df['LF'].str.contains('.*[,\\/#!\\$\\^&@\\?<>\\*:;{}=\\-_\\'~\\\"]$') == True]\n",
    "Extract2_1.shape"
   ]
  },
  {
   "cell_type": "code",
   "execution_count": 8,
   "metadata": {},
   "outputs": [
    {
     "data": {
      "text/plain": [
       "(7, 19)"
      ]
     },
     "execution_count": 8,
     "metadata": {},
     "output_type": "execute_result"
    }
   ],
   "source": [
    "# Punctuation before LF (excludes .+%()[])\n",
    "Extract2_2 = df[df['LF'].str.contains('^[,\\/#!\\$\\^&@\\?<>\\*:;{}=\\-_\\'~\\\"].*') == True]\n",
    "Extract2_2.shape"
   ]
  },
  {
   "cell_type": "markdown",
   "metadata": {},
   "source": [
    "Identify excess punctuation in the short form (e.g. \"..IVF\")."
   ]
  },
  {
   "cell_type": "code",
   "execution_count": 9,
   "metadata": {},
   "outputs": [
    {
     "data": {
      "text/plain": [
       "(76, 19)"
      ]
     },
     "execution_count": 9,
     "metadata": {},
     "output_type": "execute_result"
    }
   ],
   "source": [
    "# Excess periods before SF\n",
    "Extract2_3 = df[df['SF'].str.contains('^[\\.]+.*') == True]\n",
    "Extract2_3.shape"
   ]
  },
  {
   "cell_type": "markdown",
   "metadata": {},
   "source": [
    "#### Heuristic 3: Spelling"
   ]
  },
  {
   "cell_type": "markdown",
   "metadata": {},
   "source": [
    "The long form contains spelling errors (e.g. \"cncer\")."
   ]
  },
  {
   "cell_type": "code",
   "execution_count": 10,
   "metadata": {},
   "outputs": [],
   "source": [
    "# Set spell checker parameters\n",
    "spell = SpellChecker(distance=1)\n",
    "\n",
    "# Add medical word corpus (UMLS Metathesaurus)\n",
    "spell.word_frequency.load_text_file('Data/ClinSpell.txt')\n",
    "\n",
    "# Exclude UMLS and ADAM\n",
    "subset = df[(df['Source'] != 'UMLS') & \n",
    "            (df['Source'] != 'ADAM')]\n",
    "\n",
    "# Instantiate output\n",
    "misspelled_rows = []\n",
    "misspelled_data = []"
   ]
  },
  {
   "cell_type": "code",
   "execution_count": 11,
   "metadata": {},
   "outputs": [],
   "source": [
    "# Iterate over subset\n",
    "for index, row in subset.iterrows():\n",
    "    \n",
    "    # Format LF for spellchecker\n",
    "    pre_token = re.sub('[^A-Za-z\\s\\-]+', '', row['LF']).lower()\n",
    "    token = list(filter(None, re.split(r'[\\s\\-]+', pre_token)))\n",
    "    \n",
    "    # Identify misspelled LFs\n",
    "    misspelled = spell.unknown(token)\n",
    "    if len(misspelled) > 0:\n",
    "        misspelled_rows.append(row['EntryID'])\n",
    "        misspelled_data.append(misspelled)"
   ]
  },
  {
   "cell_type": "code",
   "execution_count": 12,
   "metadata": {},
   "outputs": [
    {
     "data": {
      "text/plain": [
       "(350, 19)"
      ]
     },
     "execution_count": 12,
     "metadata": {},
     "output_type": "execute_result"
    }
   ],
   "source": [
    "# Extract misspelled LFs\n",
    "Extract3 = df[df['EntryID'].isin(misspelled_rows)]\n",
    "Extract3.shape"
   ]
  },
  {
   "cell_type": "markdown",
   "metadata": {},
   "source": [
    "#### Heuristic 4: Content"
   ]
  },
  {
   "cell_type": "markdown",
   "metadata": {},
   "source": [
    "The alphabetic characters in the short form don't occur anywhere in the long form."
   ]
  },
  {
   "cell_type": "code",
   "execution_count": 13,
   "metadata": {},
   "outputs": [],
   "source": [
    "# Exclude UMLS and ADAM\n",
    "subset = df[(df['Source'] == 'Vanderbilt Clinic Notes') | \n",
    "            (df['Source'] == 'Vanderbilt Discharge Sums')]\n",
    "\n",
    "# Instantiate output\n",
    "missing_character = []\n",
    "missing_char_data = []"
   ]
  },
  {
   "cell_type": "code",
   "execution_count": 14,
   "metadata": {},
   "outputs": [],
   "source": [
    "# Iterate over dataframe\n",
    "for index, row in subset.iterrows():\n",
    "    \n",
    "    # Extract alphabetic characters\n",
    "    alph_SF = set(re.sub('[^A-Za-z]+', '', row['SF']).lower())\n",
    "    alph_LF = set(re.sub('[^A-Za-z]+', '', row['LF']).lower())\n",
    "    \n",
    "    if alph_SF.issubset(alph_LF) == False:\n",
    "        if (alph_SF - alph_LF) != {'x'}:\n",
    "            missing_character.append(row['EntryID'])\n",
    "            missing_char_data.append(alph_SF - alph_LF)"
   ]
  },
  {
   "cell_type": "code",
   "execution_count": 15,
   "metadata": {},
   "outputs": [
    {
     "data": {
      "text/plain": [
       "(217, 19)"
      ]
     },
     "execution_count": 15,
     "metadata": {},
     "output_type": "execute_result"
    }
   ],
   "source": [
    "# Extract LFs missing characters\n",
    "Extract4 = df[df['EntryID'].isin(missing_character)]\n",
    "Extract4.shape"
   ]
  },
  {
   "cell_type": "markdown",
   "metadata": {},
   "source": [
    "#### Heuristic 5: User-Identified"
   ]
  },
  {
   "cell_type": "code",
   "execution_count": 16,
   "metadata": {},
   "outputs": [
    {
     "data": {
      "text/plain": [
       "(49, 19)"
      ]
     },
     "execution_count": 16,
     "metadata": {},
     "output_type": "execute_result"
    }
   ],
   "source": [
    "Extract5 = df[(df['LF'].str.contains(\"#000066\") |\n",
    "              df['LF'].str.contains(\"typo\") |\n",
    "              df['LF'].str.contains(\"not an abbreviation\") | \n",
    "              df['LF'].str.contains(\"not an acronym\"))]\n",
    "Extract5.shape"
   ]
  },
  {
   "cell_type": "markdown",
   "metadata": {},
   "source": [
    "## Format"
   ]
  },
  {
   "cell_type": "markdown",
   "metadata": {},
   "source": [
    "#### Add Columns"
   ]
  },
  {
   "cell_type": "code",
   "execution_count": 17,
   "metadata": {},
   "outputs": [],
   "source": [
    "# Error type, decision, modification\n",
    "Extract1['error'], Extract1['action'] = [\"duplicate\", \"retire\"]\n",
    "Extract2_1['error'], Extract2_1['action'] = [\"punctuation after LF\", \"modify\"]\n",
    "Extract2_2['error'], Extract2_2['action'] = [\"punctuation before LF\", \"modify\"]\n",
    "Extract2_3['error'], Extract2_3['action'] = [\"punctuation before SF\", \"modify\"]\n",
    "Extract3['error'], Extract3['action'] = [misspelled_data, \"modify\"]\n",
    "Extract4['error'], Extract4['action'] = [missing_char_data, \"modify\"]\n",
    "Extract5['error'], Extract5['action'] = [\"user identified\", \"retire\"]"
   ]
  },
  {
   "cell_type": "markdown",
   "metadata": {},
   "source": [
    "#### Merge"
   ]
  },
  {
   "cell_type": "code",
   "execution_count": 18,
   "metadata": {},
   "outputs": [
    {
     "data": {
      "text/plain": [
       "(4687, 21)"
      ]
     },
     "execution_count": 18,
     "metadata": {},
     "output_type": "execute_result"
    }
   ],
   "source": [
    "errors = pd.concat([Extract1, Extract2_1, Extract2_2, Extract2_3, Extract3, Extract4, Extract5])\n",
    "errors.shape"
   ]
  },
  {
   "cell_type": "code",
   "execution_count": 19,
   "metadata": {},
   "outputs": [
    {
     "data": {
      "text/plain": [
       "(4672, 21)"
      ]
     },
     "execution_count": 19,
     "metadata": {},
     "output_type": "execute_result"
    }
   ],
   "source": [
    "errors = errors.drop_duplicates(subset=\"EntryID\")\n",
    "errors.shape"
   ]
  },
  {
   "cell_type": "markdown",
   "metadata": {},
   "source": [
    "#### Export"
   ]
  },
  {
   "cell_type": "code",
   "execution_count": 20,
   "metadata": {},
   "outputs": [],
   "source": [
    "errors.to_csv('Data/Errors_Automated.csv',\n",
    "              index=False,\n",
    "              header=True,\n",
    "              sep='|')"
   ]
  },
  {
   "cell_type": "markdown",
   "metadata": {},
   "source": [
    "## Import Errors"
   ]
  },
  {
   "cell_type": "markdown",
   "metadata": {},
   "source": [
    "#### Import Annotated"
   ]
  },
  {
   "cell_type": "code",
   "execution_count": 21,
   "metadata": {},
   "outputs": [],
   "source": [
    "errors = pd.read_csv('Data/Errors_Annotated.csv',\n",
    "                     sep='|',\n",
    "                     header=0,\n",
    "                     index_col=False,\n",
    "                     na_filter=False,\n",
    "                     dtype=object)"
   ]
  },
  {
   "cell_type": "code",
   "execution_count": 22,
   "metadata": {},
   "outputs": [
    {
     "data": {
      "text/html": [
       "<div>\n",
       "<style scoped>\n",
       "    .dataframe tbody tr th:only-of-type {\n",
       "        vertical-align: middle;\n",
       "    }\n",
       "\n",
       "    .dataframe tbody tr th {\n",
       "        vertical-align: top;\n",
       "    }\n",
       "\n",
       "    .dataframe thead th {\n",
       "        text-align: right;\n",
       "    }\n",
       "</style>\n",
       "<table border=\"1\" class=\"dataframe\">\n",
       "  <thead>\n",
       "    <tr style=\"text-align: right;\">\n",
       "      <th></th>\n",
       "      <th>GroupID</th>\n",
       "      <th>EntryID</th>\n",
       "      <th>SF</th>\n",
       "      <th>SFUI</th>\n",
       "      <th>NormSF</th>\n",
       "      <th>NSFUI</th>\n",
       "      <th>PrefSF</th>\n",
       "      <th>LF</th>\n",
       "      <th>LFUI</th>\n",
       "      <th>NormLF</th>\n",
       "      <th>...</th>\n",
       "      <th>Source</th>\n",
       "      <th>SFEUI</th>\n",
       "      <th>LFEUI</th>\n",
       "      <th>Type</th>\n",
       "      <th>Score</th>\n",
       "      <th>Count</th>\n",
       "      <th>Frequency</th>\n",
       "      <th>UMLS.CUI</th>\n",
       "      <th>error</th>\n",
       "      <th>action</th>\n",
       "    </tr>\n",
       "  </thead>\n",
       "  <tbody>\n",
       "    <tr>\n",
       "      <th>1364</th>\n",
       "      <td></td>\n",
       "      <td>E157554</td>\n",
       "      <td>RTE</td>\n",
       "      <td>S061215</td>\n",
       "      <td>rte</td>\n",
       "      <td>N061480</td>\n",
       "      <td></td>\n",
       "      <td>trans-epithelial resistance</td>\n",
       "      <td>L159051</td>\n",
       "      <td></td>\n",
       "      <td>...</td>\n",
       "      <td>UMLS</td>\n",
       "      <td>E0692002</td>\n",
       "      <td>E0691991</td>\n",
       "      <td>acronym</td>\n",
       "      <td></td>\n",
       "      <td></td>\n",
       "      <td></td>\n",
       "      <td></td>\n",
       "      <td>duplicate</td>\n",
       "      <td>retire</td>\n",
       "    </tr>\n",
       "    <tr>\n",
       "      <th>2263</th>\n",
       "      <td></td>\n",
       "      <td>E187545</td>\n",
       "      <td>NOK</td>\n",
       "      <td>S049019</td>\n",
       "      <td>nok</td>\n",
       "      <td>N048752</td>\n",
       "      <td></td>\n",
       "      <td>next-of-kin</td>\n",
       "      <td>L117292</td>\n",
       "      <td></td>\n",
       "      <td>...</td>\n",
       "      <td>UMLS</td>\n",
       "      <td>E0700030</td>\n",
       "      <td>E0700026</td>\n",
       "      <td>acronym</td>\n",
       "      <td></td>\n",
       "      <td></td>\n",
       "      <td></td>\n",
       "      <td></td>\n",
       "      <td>duplicate</td>\n",
       "      <td>retire</td>\n",
       "    </tr>\n",
       "    <tr>\n",
       "      <th>2962</th>\n",
       "      <td></td>\n",
       "      <td>E219691</td>\n",
       "      <td>Vp1</td>\n",
       "      <td>S075865</td>\n",
       "      <td>vp1</td>\n",
       "      <td>N074314</td>\n",
       "      <td></td>\n",
       "      <td>Viviparous-1</td>\n",
       "      <td>L035785</td>\n",
       "      <td></td>\n",
       "      <td>...</td>\n",
       "      <td>UMLS</td>\n",
       "      <td>E0720795</td>\n",
       "      <td>E0720793</td>\n",
       "      <td>acronym</td>\n",
       "      <td></td>\n",
       "      <td></td>\n",
       "      <td></td>\n",
       "      <td></td>\n",
       "      <td>duplicate</td>\n",
       "      <td>retire</td>\n",
       "    </tr>\n",
       "  </tbody>\n",
       "</table>\n",
       "<p>3 rows × 21 columns</p>\n",
       "</div>"
      ],
      "text/plain": [
       "     GroupID  EntryID   SF     SFUI NormSF    NSFUI PrefSF  \\\n",
       "1364          E157554  RTE  S061215    rte  N061480          \n",
       "2263          E187545  NOK  S049019    nok  N048752          \n",
       "2962          E219691  Vp1  S075865    vp1  N074314          \n",
       "\n",
       "                               LF     LFUI NormLF  ... Source     SFEUI  \\\n",
       "1364  trans-epithelial resistance  L159051         ...   UMLS  E0692002   \n",
       "2263                  next-of-kin  L117292         ...   UMLS  E0700030   \n",
       "2962                 Viviparous-1  L035785         ...   UMLS  E0720795   \n",
       "\n",
       "         LFEUI     Type Score Count Frequency UMLS.CUI      error  action  \n",
       "1364  E0691991  acronym                                 duplicate  retire  \n",
       "2263  E0700026  acronym                                 duplicate  retire  \n",
       "2962  E0720793  acronym                                 duplicate  retire  \n",
       "\n",
       "[3 rows x 21 columns]"
      ]
     },
     "execution_count": 22,
     "metadata": {},
     "output_type": "execute_result"
    }
   ],
   "source": [
    "errors.sample(3, random_state=0)"
   ]
  },
  {
   "cell_type": "code",
   "execution_count": 23,
   "metadata": {},
   "outputs": [
    {
     "data": {
      "text/plain": [
       "(4474, 21)"
      ]
     },
     "execution_count": 23,
     "metadata": {},
     "output_type": "execute_result"
    }
   ],
   "source": [
    "errors.shape"
   ]
  },
  {
   "cell_type": "code",
   "execution_count": 24,
   "metadata": {},
   "outputs": [
    {
     "data": {
      "text/plain": [
       "retire    4018\n",
       "modify     292\n",
       "none       164\n",
       "Name: action, dtype: int64"
      ]
     },
     "execution_count": 24,
     "metadata": {},
     "output_type": "execute_result"
    }
   ],
   "source": [
    "errors['action'].value_counts()"
   ]
  },
  {
   "cell_type": "markdown",
   "metadata": {},
   "source": [
    "#### Remove None"
   ]
  },
  {
   "cell_type": "code",
   "execution_count": 25,
   "metadata": {},
   "outputs": [
    {
     "data": {
      "text/plain": [
       "(4310, 21)"
      ]
     },
     "execution_count": 25,
     "metadata": {},
     "output_type": "execute_result"
    }
   ],
   "source": [
    "errors = errors[(errors['action'] != 'none')]\n",
    "errors.shape"
   ]
  },
  {
   "cell_type": "markdown",
   "metadata": {},
   "source": [
    "#### Subset Crosswalk"
   ]
  },
  {
   "cell_type": "code",
   "execution_count": 26,
   "metadata": {},
   "outputs": [
    {
     "data": {
      "text/plain": [
       "(405358, 19)"
      ]
     },
     "execution_count": 26,
     "metadata": {},
     "output_type": "execute_result"
    }
   ],
   "source": [
    "df_all = df # Keep unsubsetted version\n",
    "df = df[~df['EntryID'].isin(errors['EntryID'])]\n",
    "df.shape"
   ]
  },
  {
   "cell_type": "markdown",
   "metadata": {},
   "source": [
    "#### Subset Errors"
   ]
  },
  {
   "cell_type": "code",
   "execution_count": 27,
   "metadata": {},
   "outputs": [
    {
     "data": {
      "text/plain": [
       "(4018, 19)"
      ]
     },
     "execution_count": 27,
     "metadata": {},
     "output_type": "execute_result"
    }
   ],
   "source": [
    "retire = df_all[df_all['EntryID'].isin(errors[(errors['action'] == 'retire')]['EntryID'])]\n",
    "retire.shape"
   ]
  },
  {
   "cell_type": "code",
   "execution_count": 28,
   "metadata": {},
   "outputs": [
    {
     "data": {
      "text/plain": [
       "(292, 19)"
      ]
     },
     "execution_count": 28,
     "metadata": {},
     "output_type": "execute_result"
    }
   ],
   "source": [
    "modify = errors[(errors['action'] == 'modify')].iloc[:, 0:19]\n",
    "modify.shape"
   ]
  },
  {
   "cell_type": "markdown",
   "metadata": {},
   "source": [
    "## Modify"
   ]
  },
  {
   "cell_type": "markdown",
   "metadata": {},
   "source": [
    "#### Retire Duplicates"
   ]
  },
  {
   "cell_type": "code",
   "execution_count": 29,
   "metadata": {},
   "outputs": [
    {
     "data": {
      "text/plain": [
       "(107, 19)"
      ]
     },
     "execution_count": 29,
     "metadata": {},
     "output_type": "execute_result"
    }
   ],
   "source": [
    "# Identify duplicates\n",
    "dups = pd.concat([df, modify])\n",
    "dups = dups[dups.duplicated(['SF', 'LF', 'Source']) == True]\n",
    "dups.shape"
   ]
  },
  {
   "cell_type": "code",
   "execution_count": 30,
   "metadata": {},
   "outputs": [
    {
     "data": {
      "text/plain": [
       "(185, 19)"
      ]
     },
     "execution_count": 30,
     "metadata": {},
     "output_type": "execute_result"
    }
   ],
   "source": [
    "# Remove from modify\n",
    "modify = modify[~modify['EntryID'].isin(dups['EntryID'])]\n",
    "modify = modify.reset_index(drop=True)\n",
    "modify.shape"
   ]
  },
  {
   "cell_type": "code",
   "execution_count": 31,
   "metadata": {},
   "outputs": [
    {
     "data": {
      "text/plain": [
       "(4125, 19)"
      ]
     },
     "execution_count": 31,
     "metadata": {},
     "output_type": "execute_result"
    }
   ],
   "source": [
    "# Add to retire\n",
    "retire = pd.concat([retire, df_all[df_all['EntryID'].isin(dups['EntryID'])]])\n",
    "retire = retire.reset_index(drop=True)\n",
    "retire.shape"
   ]
  },
  {
   "cell_type": "markdown",
   "metadata": {},
   "source": [
    "#### Strip Source Data"
   ]
  },
  {
   "cell_type": "markdown",
   "metadata": {},
   "source": [
    "This is done as the source data is potentially no longer valid."
   ]
  },
  {
   "cell_type": "code",
   "execution_count": 32,
   "metadata": {},
   "outputs": [],
   "source": [
    "modify['SFUI'], modify['NormSF'], modify['NSFUI'], modify['PrefSF'] = ['', '', '', '']\n",
    "modify['LFUI'], modify['NormLF'], modify['PrefLF'], modify['SFEUI'] = ['', '', '', '']\n",
    "modify['LFEUI'], modify['Type'], modify['Score'], modify['Count'] = ['', '', '', '']\n",
    "modify['Frequency'], modify['UMLS.CUI'] = ['', '']"
   ]
  },
  {
   "cell_type": "code",
   "execution_count": 33,
   "metadata": {},
   "outputs": [
    {
     "data": {
      "text/html": [
       "<div>\n",
       "<style scoped>\n",
       "    .dataframe tbody tr th:only-of-type {\n",
       "        vertical-align: middle;\n",
       "    }\n",
       "\n",
       "    .dataframe tbody tr th {\n",
       "        vertical-align: top;\n",
       "    }\n",
       "\n",
       "    .dataframe thead th {\n",
       "        text-align: right;\n",
       "    }\n",
       "</style>\n",
       "<table border=\"1\" class=\"dataframe\">\n",
       "  <thead>\n",
       "    <tr style=\"text-align: right;\">\n",
       "      <th></th>\n",
       "      <th>GroupID</th>\n",
       "      <th>EntryID</th>\n",
       "      <th>SF</th>\n",
       "      <th>SFUI</th>\n",
       "      <th>NormSF</th>\n",
       "      <th>NSFUI</th>\n",
       "      <th>PrefSF</th>\n",
       "      <th>LF</th>\n",
       "      <th>LFUI</th>\n",
       "      <th>NormLF</th>\n",
       "      <th>PrefLF</th>\n",
       "      <th>Source</th>\n",
       "      <th>SFEUI</th>\n",
       "      <th>LFEUI</th>\n",
       "      <th>Type</th>\n",
       "      <th>Score</th>\n",
       "      <th>Count</th>\n",
       "      <th>Frequency</th>\n",
       "      <th>UMLS.CUI</th>\n",
       "    </tr>\n",
       "  </thead>\n",
       "  <tbody>\n",
       "    <tr>\n",
       "      <th>33</th>\n",
       "      <td></td>\n",
       "      <td>E390742</td>\n",
       "      <td>ectr</td>\n",
       "      <td></td>\n",
       "      <td></td>\n",
       "      <td></td>\n",
       "      <td></td>\n",
       "      <td>endoscopic carpal tunnel release</td>\n",
       "      <td></td>\n",
       "      <td></td>\n",
       "      <td></td>\n",
       "      <td>Berman</td>\n",
       "      <td></td>\n",
       "      <td></td>\n",
       "      <td></td>\n",
       "      <td></td>\n",
       "      <td></td>\n",
       "      <td></td>\n",
       "      <td></td>\n",
       "    </tr>\n",
       "    <tr>\n",
       "      <th>125</th>\n",
       "      <td></td>\n",
       "      <td>E402784</td>\n",
       "      <td>po</td>\n",
       "      <td></td>\n",
       "      <td></td>\n",
       "      <td></td>\n",
       "      <td></td>\n",
       "      <td>per os</td>\n",
       "      <td></td>\n",
       "      <td></td>\n",
       "      <td></td>\n",
       "      <td>Vanderbilt Clinic Notes</td>\n",
       "      <td></td>\n",
       "      <td></td>\n",
       "      <td></td>\n",
       "      <td></td>\n",
       "      <td></td>\n",
       "      <td></td>\n",
       "      <td></td>\n",
       "    </tr>\n",
       "    <tr>\n",
       "      <th>173</th>\n",
       "      <td></td>\n",
       "      <td>E409135</td>\n",
       "      <td>e</td>\n",
       "      <td></td>\n",
       "      <td></td>\n",
       "      <td></td>\n",
       "      <td></td>\n",
       "      <td>exempli gratia</td>\n",
       "      <td></td>\n",
       "      <td></td>\n",
       "      <td></td>\n",
       "      <td>Stetson</td>\n",
       "      <td></td>\n",
       "      <td></td>\n",
       "      <td></td>\n",
       "      <td></td>\n",
       "      <td></td>\n",
       "      <td></td>\n",
       "      <td></td>\n",
       "    </tr>\n",
       "  </tbody>\n",
       "</table>\n",
       "</div>"
      ],
      "text/plain": [
       "    GroupID  EntryID    SF SFUI NormSF NSFUI PrefSF  \\\n",
       "33           E390742  ectr                            \n",
       "125          E402784    po                            \n",
       "173          E409135     e                            \n",
       "\n",
       "                                   LF LFUI NormLF PrefLF  \\\n",
       "33   endoscopic carpal tunnel release                      \n",
       "125                            per os                      \n",
       "173                    exempli gratia                      \n",
       "\n",
       "                      Source SFEUI LFEUI Type Score Count Frequency UMLS.CUI  \n",
       "33                    Berman                                                  \n",
       "125  Vanderbilt Clinic Notes                                                  \n",
       "173                  Stetson                                                  "
      ]
     },
     "execution_count": 33,
     "metadata": {},
     "output_type": "execute_result"
    }
   ],
   "source": [
    "modify.sample(3, random_state=0)"
   ]
  },
  {
   "cell_type": "markdown",
   "metadata": {},
   "source": [
    "#### Reassign Norm_SF"
   ]
  },
  {
   "cell_type": "code",
   "execution_count": 34,
   "metadata": {},
   "outputs": [],
   "source": [
    "modify['NormSF'] = modify['SF'].apply(normalized_short_form)"
   ]
  },
  {
   "cell_type": "code",
   "execution_count": 35,
   "metadata": {},
   "outputs": [
    {
     "data": {
      "text/html": [
       "<div>\n",
       "<style scoped>\n",
       "    .dataframe tbody tr th:only-of-type {\n",
       "        vertical-align: middle;\n",
       "    }\n",
       "\n",
       "    .dataframe tbody tr th {\n",
       "        vertical-align: top;\n",
       "    }\n",
       "\n",
       "    .dataframe thead th {\n",
       "        text-align: right;\n",
       "    }\n",
       "</style>\n",
       "<table border=\"1\" class=\"dataframe\">\n",
       "  <thead>\n",
       "    <tr style=\"text-align: right;\">\n",
       "      <th></th>\n",
       "      <th>GroupID</th>\n",
       "      <th>EntryID</th>\n",
       "      <th>SF</th>\n",
       "      <th>SFUI</th>\n",
       "      <th>NormSF</th>\n",
       "      <th>NSFUI</th>\n",
       "      <th>PrefSF</th>\n",
       "      <th>LF</th>\n",
       "      <th>LFUI</th>\n",
       "      <th>NormLF</th>\n",
       "      <th>PrefLF</th>\n",
       "      <th>Source</th>\n",
       "      <th>SFEUI</th>\n",
       "      <th>LFEUI</th>\n",
       "      <th>Type</th>\n",
       "      <th>Score</th>\n",
       "      <th>Count</th>\n",
       "      <th>Frequency</th>\n",
       "      <th>UMLS.CUI</th>\n",
       "    </tr>\n",
       "  </thead>\n",
       "  <tbody>\n",
       "    <tr>\n",
       "      <th>33</th>\n",
       "      <td></td>\n",
       "      <td>E390742</td>\n",
       "      <td>ectr</td>\n",
       "      <td></td>\n",
       "      <td>ectr</td>\n",
       "      <td></td>\n",
       "      <td></td>\n",
       "      <td>endoscopic carpal tunnel release</td>\n",
       "      <td></td>\n",
       "      <td></td>\n",
       "      <td></td>\n",
       "      <td>Berman</td>\n",
       "      <td></td>\n",
       "      <td></td>\n",
       "      <td></td>\n",
       "      <td></td>\n",
       "      <td></td>\n",
       "      <td></td>\n",
       "      <td></td>\n",
       "    </tr>\n",
       "    <tr>\n",
       "      <th>125</th>\n",
       "      <td></td>\n",
       "      <td>E402784</td>\n",
       "      <td>po</td>\n",
       "      <td></td>\n",
       "      <td>po</td>\n",
       "      <td></td>\n",
       "      <td></td>\n",
       "      <td>per os</td>\n",
       "      <td></td>\n",
       "      <td></td>\n",
       "      <td></td>\n",
       "      <td>Vanderbilt Clinic Notes</td>\n",
       "      <td></td>\n",
       "      <td></td>\n",
       "      <td></td>\n",
       "      <td></td>\n",
       "      <td></td>\n",
       "      <td></td>\n",
       "      <td></td>\n",
       "    </tr>\n",
       "    <tr>\n",
       "      <th>173</th>\n",
       "      <td></td>\n",
       "      <td>E409135</td>\n",
       "      <td>e</td>\n",
       "      <td></td>\n",
       "      <td>e</td>\n",
       "      <td></td>\n",
       "      <td></td>\n",
       "      <td>exempli gratia</td>\n",
       "      <td></td>\n",
       "      <td></td>\n",
       "      <td></td>\n",
       "      <td>Stetson</td>\n",
       "      <td></td>\n",
       "      <td></td>\n",
       "      <td></td>\n",
       "      <td></td>\n",
       "      <td></td>\n",
       "      <td></td>\n",
       "      <td></td>\n",
       "    </tr>\n",
       "  </tbody>\n",
       "</table>\n",
       "</div>"
      ],
      "text/plain": [
       "    GroupID  EntryID    SF SFUI NormSF NSFUI PrefSF  \\\n",
       "33           E390742  ectr        ectr                \n",
       "125          E402784    po          po                \n",
       "173          E409135     e           e                \n",
       "\n",
       "                                   LF LFUI NormLF PrefLF  \\\n",
       "33   endoscopic carpal tunnel release                      \n",
       "125                            per os                      \n",
       "173                    exempli gratia                      \n",
       "\n",
       "                      Source SFEUI LFEUI Type Score Count Frequency UMLS.CUI  \n",
       "33                    Berman                                                  \n",
       "125  Vanderbilt Clinic Notes                                                  \n",
       "173                  Stetson                                                  "
      ]
     },
     "execution_count": 35,
     "metadata": {},
     "output_type": "execute_result"
    }
   ],
   "source": [
    "modify.sample(3, random_state=0)"
   ]
  },
  {
   "cell_type": "markdown",
   "metadata": {},
   "source": [
    "#### Reassign SFUI"
   ]
  },
  {
   "cell_type": "code",
   "execution_count": 36,
   "metadata": {},
   "outputs": [],
   "source": [
    "# Search existing SFUIs\n",
    "for index, row in modify.iterrows():\n",
    "    temp = df_all[(df_all['SF'] == modify['SF'].iat[index])]\n",
    "    if temp.empty:\n",
    "        modify['SFUI'].iat[index] = ''\n",
    "    else:\n",
    "        modify['SFUI'].iat[index] = temp.iloc[0]['SFUI']"
   ]
  },
  {
   "cell_type": "code",
   "execution_count": 37,
   "metadata": {},
   "outputs": [
    {
     "data": {
      "text/html": [
       "<div>\n",
       "<style scoped>\n",
       "    .dataframe tbody tr th:only-of-type {\n",
       "        vertical-align: middle;\n",
       "    }\n",
       "\n",
       "    .dataframe tbody tr th {\n",
       "        vertical-align: top;\n",
       "    }\n",
       "\n",
       "    .dataframe thead th {\n",
       "        text-align: right;\n",
       "    }\n",
       "</style>\n",
       "<table border=\"1\" class=\"dataframe\">\n",
       "  <thead>\n",
       "    <tr style=\"text-align: right;\">\n",
       "      <th></th>\n",
       "      <th>GroupID</th>\n",
       "      <th>EntryID</th>\n",
       "      <th>SF</th>\n",
       "      <th>SFUI</th>\n",
       "      <th>NormSF</th>\n",
       "      <th>NSFUI</th>\n",
       "      <th>PrefSF</th>\n",
       "      <th>LF</th>\n",
       "      <th>LFUI</th>\n",
       "      <th>NormLF</th>\n",
       "      <th>PrefLF</th>\n",
       "      <th>Source</th>\n",
       "      <th>SFEUI</th>\n",
       "      <th>LFEUI</th>\n",
       "      <th>Type</th>\n",
       "      <th>Score</th>\n",
       "      <th>Count</th>\n",
       "      <th>Frequency</th>\n",
       "      <th>UMLS.CUI</th>\n",
       "    </tr>\n",
       "  </thead>\n",
       "  <tbody>\n",
       "    <tr>\n",
       "      <th>33</th>\n",
       "      <td></td>\n",
       "      <td>E390765</td>\n",
       "      <td>ees</td>\n",
       "      <td>S085737</td>\n",
       "      <td>ees</td>\n",
       "      <td></td>\n",
       "      <td></td>\n",
       "      <td>erythromycin ethylsuccinate</td>\n",
       "      <td></td>\n",
       "      <td></td>\n",
       "      <td></td>\n",
       "      <td>Berman</td>\n",
       "      <td></td>\n",
       "      <td></td>\n",
       "      <td></td>\n",
       "      <td></td>\n",
       "      <td></td>\n",
       "      <td></td>\n",
       "      <td></td>\n",
       "    </tr>\n",
       "    <tr>\n",
       "      <th>125</th>\n",
       "      <td></td>\n",
       "      <td>E402785</td>\n",
       "      <td>P.O</td>\n",
       "      <td>S052990</td>\n",
       "      <td>po</td>\n",
       "      <td></td>\n",
       "      <td></td>\n",
       "      <td>per os</td>\n",
       "      <td></td>\n",
       "      <td></td>\n",
       "      <td></td>\n",
       "      <td>Vanderbilt Clinic Notes</td>\n",
       "      <td></td>\n",
       "      <td></td>\n",
       "      <td></td>\n",
       "      <td></td>\n",
       "      <td></td>\n",
       "      <td></td>\n",
       "      <td></td>\n",
       "    </tr>\n",
       "    <tr>\n",
       "      <th>173</th>\n",
       "      <td></td>\n",
       "      <td>E409172</td>\n",
       "      <td>lee</td>\n",
       "      <td>S090443</td>\n",
       "      <td>lee</td>\n",
       "      <td></td>\n",
       "      <td></td>\n",
       "      <td>lower extremity edema</td>\n",
       "      <td></td>\n",
       "      <td></td>\n",
       "      <td></td>\n",
       "      <td>Stetson</td>\n",
       "      <td></td>\n",
       "      <td></td>\n",
       "      <td></td>\n",
       "      <td></td>\n",
       "      <td></td>\n",
       "      <td></td>\n",
       "      <td></td>\n",
       "    </tr>\n",
       "  </tbody>\n",
       "</table>\n",
       "</div>"
      ],
      "text/plain": [
       "    GroupID  EntryID   SF     SFUI NormSF NSFUI PrefSF  \\\n",
       "33           E390765  ees  S085737    ees                \n",
       "125          E402785  P.O  S052990     po                \n",
       "173          E409172  lee  S090443    lee                \n",
       "\n",
       "                              LF LFUI NormLF PrefLF                   Source  \\\n",
       "33   erythromycin ethylsuccinate                                      Berman   \n",
       "125                       per os                     Vanderbilt Clinic Notes   \n",
       "173        lower extremity edema                                     Stetson   \n",
       "\n",
       "    SFEUI LFEUI Type Score Count Frequency UMLS.CUI  \n",
       "33                                                   \n",
       "125                                                  \n",
       "173                                                  "
      ]
     },
     "execution_count": 37,
     "metadata": {},
     "output_type": "execute_result"
    }
   ],
   "source": [
    "# If none, add SFUI\n",
    "modify = add_new_SFUI(modify)\n",
    "modify.sample(3, random_state=0)"
   ]
  },
  {
   "cell_type": "markdown",
   "metadata": {},
   "source": [
    "#### Reassign LFUI"
   ]
  },
  {
   "cell_type": "code",
   "execution_count": 38,
   "metadata": {},
   "outputs": [],
   "source": [
    "# Search existing LFUIs\n",
    "for index, row in modify.iterrows():\n",
    "    temp = df_all[(df_all['LF'] == modify['LF'].iat[index])]\n",
    "    if temp.empty:\n",
    "        modify['LFUI'].iat[index] = ''\n",
    "    else:\n",
    "        modify['LFUI'].iat[index] = temp.iloc[0]['LFUI']"
   ]
  },
  {
   "cell_type": "code",
   "execution_count": 39,
   "metadata": {},
   "outputs": [
    {
     "data": {
      "text/html": [
       "<div>\n",
       "<style scoped>\n",
       "    .dataframe tbody tr th:only-of-type {\n",
       "        vertical-align: middle;\n",
       "    }\n",
       "\n",
       "    .dataframe tbody tr th {\n",
       "        vertical-align: top;\n",
       "    }\n",
       "\n",
       "    .dataframe thead th {\n",
       "        text-align: right;\n",
       "    }\n",
       "</style>\n",
       "<table border=\"1\" class=\"dataframe\">\n",
       "  <thead>\n",
       "    <tr style=\"text-align: right;\">\n",
       "      <th></th>\n",
       "      <th>GroupID</th>\n",
       "      <th>EntryID</th>\n",
       "      <th>SF</th>\n",
       "      <th>SFUI</th>\n",
       "      <th>NormSF</th>\n",
       "      <th>NSFUI</th>\n",
       "      <th>PrefSF</th>\n",
       "      <th>LF</th>\n",
       "      <th>LFUI</th>\n",
       "      <th>NormLF</th>\n",
       "      <th>PrefLF</th>\n",
       "      <th>Source</th>\n",
       "      <th>SFEUI</th>\n",
       "      <th>LFEUI</th>\n",
       "      <th>Type</th>\n",
       "      <th>Score</th>\n",
       "      <th>Count</th>\n",
       "      <th>Frequency</th>\n",
       "      <th>UMLS.CUI</th>\n",
       "    </tr>\n",
       "  </thead>\n",
       "  <tbody>\n",
       "    <tr>\n",
       "      <th>33</th>\n",
       "      <td></td>\n",
       "      <td>E395988</td>\n",
       "      <td>mect</td>\n",
       "      <td>S091844</td>\n",
       "      <td>mect</td>\n",
       "      <td></td>\n",
       "      <td></td>\n",
       "      <td>multiple-monitored electroconvulsive therapy</td>\n",
       "      <td>L114103</td>\n",
       "      <td></td>\n",
       "      <td></td>\n",
       "      <td>Berman</td>\n",
       "      <td></td>\n",
       "      <td></td>\n",
       "      <td></td>\n",
       "      <td></td>\n",
       "      <td></td>\n",
       "      <td></td>\n",
       "      <td></td>\n",
       "    </tr>\n",
       "    <tr>\n",
       "      <th>125</th>\n",
       "      <td></td>\n",
       "      <td>E408683</td>\n",
       "      <td>ODYSSEY LONG TERM</td>\n",
       "      <td>S051007</td>\n",
       "      <td>odyssey long term</td>\n",
       "      <td></td>\n",
       "      <td></td>\n",
       "      <td>Long-term Safety and Tolerability of Alirocuma...</td>\n",
       "      <td>L170578</td>\n",
       "      <td></td>\n",
       "      <td></td>\n",
       "      <td>Wikipedia</td>\n",
       "      <td></td>\n",
       "      <td></td>\n",
       "      <td></td>\n",
       "      <td></td>\n",
       "      <td></td>\n",
       "      <td></td>\n",
       "      <td></td>\n",
       "    </tr>\n",
       "    <tr>\n",
       "      <th>173</th>\n",
       "      <td></td>\n",
       "      <td>E401143</td>\n",
       "      <td>pc</td>\n",
       "      <td>S095391</td>\n",
       "      <td>pc</td>\n",
       "      <td></td>\n",
       "      <td></td>\n",
       "      <td>pectus carinatum</td>\n",
       "      <td>L170623</td>\n",
       "      <td></td>\n",
       "      <td></td>\n",
       "      <td>Berman</td>\n",
       "      <td></td>\n",
       "      <td></td>\n",
       "      <td></td>\n",
       "      <td></td>\n",
       "      <td></td>\n",
       "      <td></td>\n",
       "      <td></td>\n",
       "    </tr>\n",
       "  </tbody>\n",
       "</table>\n",
       "</div>"
      ],
      "text/plain": [
       "    GroupID  EntryID                 SF     SFUI             NormSF NSFUI  \\\n",
       "33           E395988               mect  S091844               mect         \n",
       "125          E408683  ODYSSEY LONG TERM  S051007  odyssey long term         \n",
       "173          E401143                 pc  S095391                 pc         \n",
       "\n",
       "    PrefSF                                                 LF     LFUI NormLF  \\\n",
       "33               multiple-monitored electroconvulsive therapy  L114103          \n",
       "125         Long-term Safety and Tolerability of Alirocuma...  L170578          \n",
       "173                                          pectus carinatum  L170623          \n",
       "\n",
       "    PrefLF     Source SFEUI LFEUI Type Score Count Frequency UMLS.CUI  \n",
       "33             Berman                                                  \n",
       "125         Wikipedia                                                  \n",
       "173            Berman                                                  "
      ]
     },
     "execution_count": 39,
     "metadata": {},
     "output_type": "execute_result"
    }
   ],
   "source": [
    "# If none, add LFUI\n",
    "modify = add_new_LFUI(modify)\n",
    "modify.sample(3, random_state=0)"
   ]
  },
  {
   "cell_type": "markdown",
   "metadata": {},
   "source": [
    "#### Reassign NSFUI"
   ]
  },
  {
   "cell_type": "code",
   "execution_count": 40,
   "metadata": {},
   "outputs": [],
   "source": [
    "# Search existing NSFUIs\n",
    "for index, row in modify.iterrows():\n",
    "    temp = df_all[(df_all['NormSF'] == modify['NormSF'].iat[index])]\n",
    "    if temp.empty:\n",
    "        modify['NSFUI'].iat[index] = ''\n",
    "    else:\n",
    "        modify['NSFUI'].iat[index] = temp.iloc[0]['NSFUI']"
   ]
  },
  {
   "cell_type": "code",
   "execution_count": 41,
   "metadata": {},
   "outputs": [
    {
     "data": {
      "text/html": [
       "<div>\n",
       "<style scoped>\n",
       "    .dataframe tbody tr th:only-of-type {\n",
       "        vertical-align: middle;\n",
       "    }\n",
       "\n",
       "    .dataframe tbody tr th {\n",
       "        vertical-align: top;\n",
       "    }\n",
       "\n",
       "    .dataframe thead th {\n",
       "        text-align: right;\n",
       "    }\n",
       "</style>\n",
       "<table border=\"1\" class=\"dataframe\">\n",
       "  <thead>\n",
       "    <tr style=\"text-align: right;\">\n",
       "      <th></th>\n",
       "      <th>GroupID</th>\n",
       "      <th>EntryID</th>\n",
       "      <th>SF</th>\n",
       "      <th>SFUI</th>\n",
       "      <th>NormSF</th>\n",
       "      <th>NSFUI</th>\n",
       "      <th>PrefSF</th>\n",
       "      <th>LF</th>\n",
       "      <th>LFUI</th>\n",
       "      <th>NormLF</th>\n",
       "      <th>PrefLF</th>\n",
       "      <th>Source</th>\n",
       "      <th>SFEUI</th>\n",
       "      <th>LFEUI</th>\n",
       "      <th>Type</th>\n",
       "      <th>Score</th>\n",
       "      <th>Count</th>\n",
       "      <th>Frequency</th>\n",
       "      <th>UMLS.CUI</th>\n",
       "    </tr>\n",
       "  </thead>\n",
       "  <tbody>\n",
       "    <tr>\n",
       "      <th>33</th>\n",
       "      <td></td>\n",
       "      <td>E395988</td>\n",
       "      <td>mect</td>\n",
       "      <td>S091844</td>\n",
       "      <td>mect</td>\n",
       "      <td>N043368</td>\n",
       "      <td></td>\n",
       "      <td>multiple-monitored electroconvulsive therapy</td>\n",
       "      <td>L114103</td>\n",
       "      <td></td>\n",
       "      <td></td>\n",
       "      <td>Berman</td>\n",
       "      <td></td>\n",
       "      <td></td>\n",
       "      <td></td>\n",
       "      <td></td>\n",
       "      <td></td>\n",
       "      <td></td>\n",
       "      <td></td>\n",
       "    </tr>\n",
       "    <tr>\n",
       "      <th>125</th>\n",
       "      <td></td>\n",
       "      <td>E408683</td>\n",
       "      <td>ODYSSEY LONG TERM</td>\n",
       "      <td>S051007</td>\n",
       "      <td>odyssey long term</td>\n",
       "      <td>N050128</td>\n",
       "      <td></td>\n",
       "      <td>Long-term Safety and Tolerability of Alirocuma...</td>\n",
       "      <td>L170578</td>\n",
       "      <td></td>\n",
       "      <td></td>\n",
       "      <td>Wikipedia</td>\n",
       "      <td></td>\n",
       "      <td></td>\n",
       "      <td></td>\n",
       "      <td></td>\n",
       "      <td></td>\n",
       "      <td></td>\n",
       "      <td></td>\n",
       "    </tr>\n",
       "    <tr>\n",
       "      <th>173</th>\n",
       "      <td></td>\n",
       "      <td>E401143</td>\n",
       "      <td>pc</td>\n",
       "      <td>S095391</td>\n",
       "      <td>pc</td>\n",
       "      <td>N053077</td>\n",
       "      <td></td>\n",
       "      <td>pectus carinatum</td>\n",
       "      <td>L170623</td>\n",
       "      <td></td>\n",
       "      <td></td>\n",
       "      <td>Berman</td>\n",
       "      <td></td>\n",
       "      <td></td>\n",
       "      <td></td>\n",
       "      <td></td>\n",
       "      <td></td>\n",
       "      <td></td>\n",
       "      <td></td>\n",
       "    </tr>\n",
       "  </tbody>\n",
       "</table>\n",
       "</div>"
      ],
      "text/plain": [
       "    GroupID  EntryID                 SF     SFUI             NormSF    NSFUI  \\\n",
       "33           E395988               mect  S091844               mect  N043368   \n",
       "125          E408683  ODYSSEY LONG TERM  S051007  odyssey long term  N050128   \n",
       "173          E401143                 pc  S095391                 pc  N053077   \n",
       "\n",
       "    PrefSF                                                 LF     LFUI NormLF  \\\n",
       "33               multiple-monitored electroconvulsive therapy  L114103          \n",
       "125         Long-term Safety and Tolerability of Alirocuma...  L170578          \n",
       "173                                          pectus carinatum  L170623          \n",
       "\n",
       "    PrefLF     Source SFEUI LFEUI Type Score Count Frequency UMLS.CUI  \n",
       "33             Berman                                                  \n",
       "125         Wikipedia                                                  \n",
       "173            Berman                                                  "
      ]
     },
     "execution_count": 41,
     "metadata": {},
     "output_type": "execute_result"
    }
   ],
   "source": [
    "# If none, add NSFUI\n",
    "modify = add_new_NSFUI(modify)\n",
    "modify.sample(3, random_state=0)"
   ]
  },
  {
   "cell_type": "markdown",
   "metadata": {},
   "source": [
    "#### Add \"Modified\" Column"
   ]
  },
  {
   "cell_type": "code",
   "execution_count": 42,
   "metadata": {},
   "outputs": [],
   "source": [
    "modify[\"Modified\"] = \"Modified\"\n",
    "df[\"Modified\"] = \"\""
   ]
  },
  {
   "cell_type": "markdown",
   "metadata": {},
   "source": [
    "#### Append to Crosswalk"
   ]
  },
  {
   "cell_type": "code",
   "execution_count": 43,
   "metadata": {},
   "outputs": [
    {
     "data": {
      "text/plain": [
       "(405543, 20)"
      ]
     },
     "execution_count": 43,
     "metadata": {},
     "output_type": "execute_result"
    }
   ],
   "source": [
    "df = pd.concat([df, modify])\n",
    "df = df.sort_values(by=['EntryID'])\n",
    "df = df.reset_index(drop=True)\n",
    "df.shape"
   ]
  },
  {
   "cell_type": "markdown",
   "metadata": {},
   "source": [
    "## Export"
   ]
  },
  {
   "cell_type": "markdown",
   "metadata": {},
   "source": [
    "#### Export Modify"
   ]
  },
  {
   "cell_type": "code",
   "execution_count": 44,
   "metadata": {},
   "outputs": [
    {
     "data": {
      "text/plain": [
       "(185, 19)"
      ]
     },
     "execution_count": 44,
     "metadata": {},
     "output_type": "execute_result"
    }
   ],
   "source": [
    "# Get original rows\n",
    "modify = df_all[df_all['EntryID'].isin(modify['EntryID'])]\n",
    "modify.shape"
   ]
  },
  {
   "cell_type": "code",
   "execution_count": 45,
   "metadata": {},
   "outputs": [],
   "source": [
    "modify.to_csv('Final/Modified.csv',\n",
    "              index=False,\n",
    "              header=True,\n",
    "              sep='|')"
   ]
  },
  {
   "cell_type": "markdown",
   "metadata": {},
   "source": [
    "#### Export Retire"
   ]
  },
  {
   "cell_type": "code",
   "execution_count": 46,
   "metadata": {},
   "outputs": [],
   "source": [
    "retire.to_csv('Final/Retired.csv',\n",
    "              index=False,\n",
    "              header=True,\n",
    "              sep='|')"
   ]
  },
  {
   "cell_type": "markdown",
   "metadata": {},
   "source": [
    "#### Export Crosswalk"
   ]
  },
  {
   "cell_type": "code",
   "execution_count": 47,
   "metadata": {},
   "outputs": [],
   "source": [
    "df.to_csv('Step3Output_Clinical_Abbreviation_Acronym_Crosswalk.csv',\n",
    "          index=False,\n",
    "          header=True,\n",
    "          sep='|')"
   ]
  }
 ],
 "metadata": {
  "kernelspec": {
   "display_name": "Python 3 (venv_py37_full)",
   "language": "python",
   "name": "myenv"
  },
  "language_info": {
   "codemirror_mode": {
    "name": "ipython",
    "version": 3
   },
   "file_extension": ".py",
   "mimetype": "text/x-python",
   "name": "python",
   "nbconvert_exporter": "python",
   "pygments_lexer": "ipython3",
   "version": "3.6.8"
  }
 },
 "nbformat": 4,
 "nbformat_minor": 2
}
